{
 "cells": [
  {
   "cell_type": "code",
   "execution_count": 8,
   "id": "d45862d0-c1dd-4a6e-956c-83426b0a9ff4",
   "metadata": {},
   "outputs": [
    {
     "data": {
      "text/html": [
       "<pre>✔️ 0 ns (2022-06-29T09:48:37/2022-06-29T09:48:37)</pre>"
      ],
      "text/plain": [
       "<IPython.core.display.HTML object>"
      ]
     },
     "metadata": {},
     "output_type": "display_data"
    }
   ],
   "source": [
    "%load_ext autotime"
   ]
  },
  {
   "cell_type": "code",
   "execution_count": 9,
   "id": "41c645fa-967b-4127-a8e7-9ec2658554d4",
   "metadata": {},
   "outputs": [
    {
     "data": {
      "text/html": [
       "<pre>✔️ 47 ms (2022-06-29T09:48:37/2022-06-29T09:48:38)</pre>"
      ],
      "text/plain": [
       "<IPython.core.display.HTML object>"
      ]
     },
     "metadata": {},
     "output_type": "display_data"
    }
   ],
   "source": [
    "from selenium import webdriver\n",
    "\n",
    "from tqdm import tqdm\n",
    "import time\n",
    "import os\n",
    "import glob\n",
    "import datetime\n",
    "import pandas as pd\n",
    "import re\n",
    "import warnings\n",
    "warnings.filterwarnings('ignore')"
   ]
  },
  {
   "cell_type": "code",
   "execution_count": 10,
   "id": "37647723-69ec-401a-b915-8800bbabaeea",
   "metadata": {},
   "outputs": [
    {
     "data": {
      "text/html": [
       "<pre>✔️ 0 ns (2022-06-29T09:48:38/2022-06-29T09:48:38)</pre>"
      ],
      "text/plain": [
       "<IPython.core.display.HTML object>"
      ]
     },
     "metadata": {},
     "output_type": "display_data"
    }
   ],
   "source": [
    "pswd = '8mzcr9rm7tmx'\n",
    "usrn = 'nq9ky5k48'"
   ]
  },
  {
   "cell_type": "code",
   "execution_count": 11,
   "id": "f2773988-0748-499f-b7d9-dae4f2c88c6d",
   "metadata": {},
   "outputs": [
    {
     "data": {
      "text/html": [
       "<pre>✔️ 0 ns (2022-06-29T09:48:38/2022-06-29T09:48:38)</pre>"
      ],
      "text/plain": [
       "<IPython.core.display.HTML object>"
      ]
     },
     "metadata": {},
     "output_type": "display_data"
    }
   ],
   "source": [
    "url=\"https://vip.netvideogirls.com/members/\"\n",
    "\n",
    "# drivesL = [\"H:\\\\NVG\", \"Y:\\\\NVG2\",\"E:\\\\NVG3\",\"I:\\\\NVG4\"]\n",
    "drivesL = [\"N:\\\\VIDEO_APP\\\\assets\"]\n",
    "\n",
    "img_path = r\"N:/VIDEO_APP/assets/imgs\"\n",
    "download_path = drivesL[0]\n",
    "remote_path = r\"N:/VIDEO_APP\""
   ]
  },
  {
   "cell_type": "code",
   "execution_count": 12,
   "id": "1144efe1-745a-49aa-8898-afc88809e3ff",
   "metadata": {},
   "outputs": [
    {
     "data": {
      "text/html": [
       "<pre>✔️ 3.08 s (2022-06-29T09:48:38/2022-06-29T09:48:41)</pre>"
      ],
      "text/plain": [
       "<IPython.core.display.HTML object>"
      ]
     },
     "metadata": {},
     "output_type": "display_data"
    }
   ],
   "source": [
    "options = webdriver.EdgeOptions()\n",
    "\n",
    "prefs = {\n",
    "      \"download.default_directory\": download_path,\n",
    "      \"download.directory_upgrade\": True,\n",
    "      # \"download.prompt_for_download\": False,\n",
    "}\n",
    "\n",
    "options.add_experimental_option('prefs', prefs)\n",
    "options.use_chromium = True\n",
    "# options.add_argument('headless')\n",
    "options.add_argument('disable-gpu')\n",
    "\n",
    "edge_path = remote_path+'/edgedriver_win64/msedgedriver.exe'\n",
    "\n",
    "driver = webdriver.Edge(executable_path=edge_path,\n",
    "                          options=options)"
   ]
  },
  {
   "cell_type": "code",
   "execution_count": 13,
   "id": "ba094cba-14ba-4afa-b5c6-d654b4105c61",
   "metadata": {},
   "outputs": [
    {
     "data": {
      "text/html": [
       "<pre>✔️ 937 ms (2022-06-29T09:48:41/2022-06-29T09:48:42)</pre>"
      ],
      "text/plain": [
       "<IPython.core.display.HTML object>"
      ]
     },
     "metadata": {},
     "output_type": "display_data"
    }
   ],
   "source": [
    "def login(url,usernameId='username', username=usrn, passwordId='password', pswd=pswd, submit_buttonId='Sign In'):\n",
    "    driver.get(url)\n",
    "    driver.find_element_by_id(usernameId).send_keys(username)\n",
    "    driver.find_element_by_id(passwordId).send_keys(pswd)\n",
    "    driver.find_element_by_class_name('btn').click()\n",
    "login(url=\"https://vip.netvideogirls.com/members/\")"
   ]
  },
  {
   "cell_type": "code",
   "execution_count": 14,
   "id": "45d84e61",
   "metadata": {},
   "outputs": [
    {
     "data": {
      "text/html": [
       "<pre>✔️ 0 ns (2022-06-29T09:48:42/2022-06-29T09:48:42)</pre>"
      ],
      "text/plain": [
       "<IPython.core.display.HTML object>"
      ]
     },
     "metadata": {},
     "output_type": "display_data"
    }
   ],
   "source": [
    "def with_moviepy(filename):\n",
    "    from moviepy.editor import VideoFileClip\n",
    "    clip = VideoFileClip(filename)\n",
    "    duration       = clip.duration\n",
    "    fps            = clip.fps\n",
    "    width, height  = clip.size\n",
    "    return duration, fps, width, height"
   ]
  },
  {
   "cell_type": "code",
   "execution_count": 15,
   "id": "f0465411-2109-4b28-9eff-9e581a3c28a2",
   "metadata": {
    "tags": []
   },
   "outputs": [
    {
     "data": {
      "text/html": [
       "<pre>✔️ 141 ms (2022-06-29T09:48:43/2022-06-29T09:48:43)</pre>"
      ],
      "text/plain": [
       "<IPython.core.display.HTML object>"
      ]
     },
     "metadata": {},
     "output_type": "display_data"
    },
    {
     "name": "stderr",
     "output_type": "stream",
     "text": [
      "\n",
      "  8%|▊         | 4/50 [00:00<00:00, 46.47it/s]\n"
     ]
    },
    {
     "ename": "NoSuchWindowException",
     "evalue": "Message: no such window: target window already closed\nfrom unknown error: web view not found\n  (Session info: MicrosoftEdge=103.0.1264.37)\nStacktrace:\nBacktrace:\n\tMicrosoft::Applications::Events::EventProperties::unpack [0x00007FF76D0F3712+24578]\n\tMicrosoft::Applications::Events::time_ticks_t::time_ticks_t [0x00007FF76D02E282+563682]\n\tOrdinal0 [0x00007FF76CB30FB5+659381]\n\tOrdinal0 [0x00007FF76CB10FBB+528315]\n\tOrdinal0 [0x00007FF76CB8A314+1024788]\n\tOrdinal0 [0x00007FF76CB9B0E2+1093858]\n\tOrdinal0 [0x00007FF76CB875C3+1013187]\n\tOrdinal0 [0x00007FF76CB5E4E0+845024]\n\tOrdinal0 [0x00007FF76CB5F8D8+850136]\n\tMicrosoft::Applications::Events::EventProperty::EventProperty [0x00007FF76CDE4EB8+119992]\n\tMicrosoft::Applications::Events::EventProperty::EventProperty [0x00007FF76CDD09C7+36807]\n\tMicrosoft::Applications::Events::EventProperty::EventProperty [0x00007FF76CDD3B5C+49500]\n\tMicrosoft::Applications::Events::EventProperty::to_string [0x00007FF76CC2F606+20582]\n\tMicrosoft::Applications::Events::time_ticks_t::time_ticks_t [0x00007FF76D0356EB+593483]\n\tMicrosoft::Applications::Events::time_ticks_t::time_ticks_t [0x00007FF76D03AC24+615300]\n\tMicrosoft::Applications::Events::time_ticks_t::time_ticks_t [0x00007FF76D03AD7D+615645]\n\tMicrosoft::Applications::Events::time_ticks_t::time_ticks_t [0x00007FF76D04598E+659694]\n\tBaseThreadInitThunk [0x00007FF9C38654E0+16]\n\tRtlUserThreadStart [0x00007FF9C412485B+43]\n",
     "output_type": "error",
     "traceback": [
      "\u001b[1;31m---------------------------------------------------------------------------\u001b[0m",
      "\u001b[1;31mNoSuchWindowException\u001b[0m                     Traceback (most recent call last)",
      "\u001b[1;32m~\\AppData\\Local\\Temp\\ipykernel_29628\\656395777.py\u001b[0m in \u001b[0;36m<cell line: 5>\u001b[1;34m()\u001b[0m\n\u001b[0;32m     16\u001b[0m     \u001b[1;31m############ GO TO VIDEO ############\u001b[0m\u001b[1;33m\u001b[0m\u001b[1;33m\u001b[0m\u001b[0m\n\u001b[0;32m     17\u001b[0m     \u001b[0murl\u001b[0m \u001b[1;33m=\u001b[0m \u001b[1;34m\"https://vip.netvideogirls.com/members/video/{}\"\u001b[0m\u001b[1;33m.\u001b[0m\u001b[0mformat\u001b[0m\u001b[1;33m(\u001b[0m\u001b[0mvid_no\u001b[0m\u001b[1;33m)\u001b[0m\u001b[1;33m\u001b[0m\u001b[1;33m\u001b[0m\u001b[0m\n\u001b[1;32m---> 18\u001b[1;33m     \u001b[0mdriver\u001b[0m\u001b[1;33m.\u001b[0m\u001b[0mget\u001b[0m\u001b[1;33m(\u001b[0m\u001b[0murl\u001b[0m\u001b[1;33m)\u001b[0m\u001b[1;33m\u001b[0m\u001b[1;33m\u001b[0m\u001b[0m\n\u001b[0m\u001b[0;32m     19\u001b[0m     \u001b[0mprint\u001b[0m\u001b[1;33m(\u001b[0m\u001b[0murl\u001b[0m\u001b[1;33m)\u001b[0m\u001b[1;33m\u001b[0m\u001b[1;33m\u001b[0m\u001b[0m\n\u001b[0;32m     20\u001b[0m \u001b[1;33m\u001b[0m\u001b[0m\n",
      "\u001b[1;32mc:\\ProgramData\\Anaconda3\\envs\\req\\lib\\site-packages\\selenium\\webdriver\\remote\\webdriver.py\u001b[0m in \u001b[0;36mget\u001b[1;34m(self, url)\u001b[0m\n\u001b[0;32m    440\u001b[0m         \u001b[0mLoads\u001b[0m \u001b[0ma\u001b[0m \u001b[0mweb\u001b[0m \u001b[0mpage\u001b[0m \u001b[1;32min\u001b[0m \u001b[0mthe\u001b[0m \u001b[0mcurrent\u001b[0m \u001b[0mbrowser\u001b[0m \u001b[0msession\u001b[0m\u001b[1;33m.\u001b[0m\u001b[1;33m\u001b[0m\u001b[1;33m\u001b[0m\u001b[0m\n\u001b[0;32m    441\u001b[0m         \"\"\"\n\u001b[1;32m--> 442\u001b[1;33m         \u001b[0mself\u001b[0m\u001b[1;33m.\u001b[0m\u001b[0mexecute\u001b[0m\u001b[1;33m(\u001b[0m\u001b[0mCommand\u001b[0m\u001b[1;33m.\u001b[0m\u001b[0mGET\u001b[0m\u001b[1;33m,\u001b[0m \u001b[1;33m{\u001b[0m\u001b[1;34m'url'\u001b[0m\u001b[1;33m:\u001b[0m \u001b[0murl\u001b[0m\u001b[1;33m}\u001b[0m\u001b[1;33m)\u001b[0m\u001b[1;33m\u001b[0m\u001b[1;33m\u001b[0m\u001b[0m\n\u001b[0m\u001b[0;32m    443\u001b[0m \u001b[1;33m\u001b[0m\u001b[0m\n\u001b[0;32m    444\u001b[0m     \u001b[1;33m@\u001b[0m\u001b[0mproperty\u001b[0m\u001b[1;33m\u001b[0m\u001b[1;33m\u001b[0m\u001b[0m\n",
      "\u001b[1;32mc:\\ProgramData\\Anaconda3\\envs\\req\\lib\\site-packages\\selenium\\webdriver\\remote\\webdriver.py\u001b[0m in \u001b[0;36mexecute\u001b[1;34m(self, driver_command, params)\u001b[0m\n\u001b[0;32m    428\u001b[0m         \u001b[0mresponse\u001b[0m \u001b[1;33m=\u001b[0m \u001b[0mself\u001b[0m\u001b[1;33m.\u001b[0m\u001b[0mcommand_executor\u001b[0m\u001b[1;33m.\u001b[0m\u001b[0mexecute\u001b[0m\u001b[1;33m(\u001b[0m\u001b[0mdriver_command\u001b[0m\u001b[1;33m,\u001b[0m \u001b[0mparams\u001b[0m\u001b[1;33m)\u001b[0m\u001b[1;33m\u001b[0m\u001b[1;33m\u001b[0m\u001b[0m\n\u001b[0;32m    429\u001b[0m         \u001b[1;32mif\u001b[0m \u001b[0mresponse\u001b[0m\u001b[1;33m:\u001b[0m\u001b[1;33m\u001b[0m\u001b[1;33m\u001b[0m\u001b[0m\n\u001b[1;32m--> 430\u001b[1;33m             \u001b[0mself\u001b[0m\u001b[1;33m.\u001b[0m\u001b[0merror_handler\u001b[0m\u001b[1;33m.\u001b[0m\u001b[0mcheck_response\u001b[0m\u001b[1;33m(\u001b[0m\u001b[0mresponse\u001b[0m\u001b[1;33m)\u001b[0m\u001b[1;33m\u001b[0m\u001b[1;33m\u001b[0m\u001b[0m\n\u001b[0m\u001b[0;32m    431\u001b[0m             response['value'] = self._unwrap_value(\n\u001b[0;32m    432\u001b[0m                 response.get('value', None))\n",
      "\u001b[1;32mc:\\ProgramData\\Anaconda3\\envs\\req\\lib\\site-packages\\selenium\\webdriver\\remote\\errorhandler.py\u001b[0m in \u001b[0;36mcheck_response\u001b[1;34m(self, response)\u001b[0m\n\u001b[0;32m    245\u001b[0m                 \u001b[0malert_text\u001b[0m \u001b[1;33m=\u001b[0m \u001b[0mvalue\u001b[0m\u001b[1;33m[\u001b[0m\u001b[1;34m'alert'\u001b[0m\u001b[1;33m]\u001b[0m\u001b[1;33m.\u001b[0m\u001b[0mget\u001b[0m\u001b[1;33m(\u001b[0m\u001b[1;34m'text'\u001b[0m\u001b[1;33m)\u001b[0m\u001b[1;33m\u001b[0m\u001b[1;33m\u001b[0m\u001b[0m\n\u001b[0;32m    246\u001b[0m             \u001b[1;32mraise\u001b[0m \u001b[0mexception_class\u001b[0m\u001b[1;33m(\u001b[0m\u001b[0mmessage\u001b[0m\u001b[1;33m,\u001b[0m \u001b[0mscreen\u001b[0m\u001b[1;33m,\u001b[0m \u001b[0mstacktrace\u001b[0m\u001b[1;33m,\u001b[0m \u001b[0malert_text\u001b[0m\u001b[1;33m)\u001b[0m  \u001b[1;31m# type: ignore[call-arg]  # mypy is not smart enough here\u001b[0m\u001b[1;33m\u001b[0m\u001b[1;33m\u001b[0m\u001b[0m\n\u001b[1;32m--> 247\u001b[1;33m         \u001b[1;32mraise\u001b[0m \u001b[0mexception_class\u001b[0m\u001b[1;33m(\u001b[0m\u001b[0mmessage\u001b[0m\u001b[1;33m,\u001b[0m \u001b[0mscreen\u001b[0m\u001b[1;33m,\u001b[0m \u001b[0mstacktrace\u001b[0m\u001b[1;33m)\u001b[0m\u001b[1;33m\u001b[0m\u001b[1;33m\u001b[0m\u001b[0m\n\u001b[0m\u001b[0;32m    248\u001b[0m \u001b[1;33m\u001b[0m\u001b[0m\n\u001b[0;32m    249\u001b[0m     \u001b[1;32mdef\u001b[0m \u001b[0m_value_or_default\u001b[0m\u001b[1;33m(\u001b[0m\u001b[0mself\u001b[0m\u001b[1;33m,\u001b[0m \u001b[0mobj\u001b[0m\u001b[1;33m:\u001b[0m \u001b[0mMapping\u001b[0m\u001b[1;33m[\u001b[0m\u001b[0m_KT\u001b[0m\u001b[1;33m,\u001b[0m \u001b[0m_VT\u001b[0m\u001b[1;33m]\u001b[0m\u001b[1;33m,\u001b[0m \u001b[0mkey\u001b[0m\u001b[1;33m:\u001b[0m \u001b[0m_KT\u001b[0m\u001b[1;33m,\u001b[0m \u001b[0mdefault\u001b[0m\u001b[1;33m:\u001b[0m \u001b[0m_VT\u001b[0m\u001b[1;33m)\u001b[0m \u001b[1;33m->\u001b[0m \u001b[0m_VT\u001b[0m\u001b[1;33m:\u001b[0m\u001b[1;33m\u001b[0m\u001b[1;33m\u001b[0m\u001b[0m\n",
      "\u001b[1;31mNoSuchWindowException\u001b[0m: Message: no such window: target window already closed\nfrom unknown error: web view not found\n  (Session info: MicrosoftEdge=103.0.1264.37)\nStacktrace:\nBacktrace:\n\tMicrosoft::Applications::Events::EventProperties::unpack [0x00007FF76D0F3712+24578]\n\tMicrosoft::Applications::Events::time_ticks_t::time_ticks_t [0x00007FF76D02E282+563682]\n\tOrdinal0 [0x00007FF76CB30FB5+659381]\n\tOrdinal0 [0x00007FF76CB10FBB+528315]\n\tOrdinal0 [0x00007FF76CB8A314+1024788]\n\tOrdinal0 [0x00007FF76CB9B0E2+1093858]\n\tOrdinal0 [0x00007FF76CB875C3+1013187]\n\tOrdinal0 [0x00007FF76CB5E4E0+845024]\n\tOrdinal0 [0x00007FF76CB5F8D8+850136]\n\tMicrosoft::Applications::Events::EventProperty::EventProperty [0x00007FF76CDE4EB8+119992]\n\tMicrosoft::Applications::Events::EventProperty::EventProperty [0x00007FF76CDD09C7+36807]\n\tMicrosoft::Applications::Events::EventProperty::EventProperty [0x00007FF76CDD3B5C+49500]\n\tMicrosoft::Applications::Events::EventProperty::to_string [0x00007FF76CC2F606+20582]\n\tMicrosoft::Applications::Events::time_ticks_t::time_ticks_t [0x00007FF76D0356EB+593483]\n\tMicrosoft::Applications::Events::time_ticks_t::time_ticks_t [0x00007FF76D03AC24+615300]\n\tMicrosoft::Applications::Events::time_ticks_t::time_ticks_t [0x00007FF76D03AD7D+615645]\n\tMicrosoft::Applications::Events::time_ticks_t::time_ticks_t [0x00007FF76D04598E+659694]\n\tBaseThreadInitThunk [0x00007FF9C38654E0+16]\n\tRtlUserThreadStart [0x00007FF9C412485B+43]\n"
     ]
    },
    {
     "name": "stderr",
     "output_type": "stream",
     "text": []
    }
   ],
   "source": [
    "vid_df = pd.DataFrame([], columns=['vid_id', 'url', 'g_id', 'g_name', 'tag_id', 'tag_name', 'date', 'year','cite',\n",
    "                                        'vid_file', 'base_file', 'file_url','duration', 'fps', 'width', 'height'])\n",
    "\n",
    "\n",
    "for vid_no in tqdm(range(2250, 2300)):\n",
    "    \n",
    "    ############ Skip If Already Exists ############\n",
    "    video_nos = []\n",
    "    for d_path in drivesL:\n",
    "        video_nos += [int(re.findall(string=file, pattern=r'\\\\([0-9]+)-.*.mp4')[0]) for file in \\\n",
    "                 glob.glob(d_path+ '/*/*.mp4')]\n",
    "    \n",
    "    if vid_no in video_nos:\n",
    "        continue\n",
    "    \n",
    "    ############ GO TO VIDEO ############\n",
    "    url = \"https://vip.netvideogirls.com/members/video/{}\".format(vid_no)  \n",
    "    driver.get(url) \n",
    "    print(url)\n",
    "    \n",
    "    # Wait 5 seconds for page to load\n",
    "    time.sleep(5)\n",
    "    \n",
    "    ########### OPEN DROPDOWN ############\n",
    "    try:\n",
    "        driver.find_element_by_class_name('icon-download').click()\n",
    "    except:\n",
    "        print(\"File Not Available\")\n",
    "        continue\n",
    "    \n",
    "    ########### Download File ############\n",
    "    item_els = driver.find_elements_by_class_name('item')\n",
    "    hd_link = [x for x in item_els if 'HD' in x.text]\n",
    "    sd_link = [x for x in item_els if 'SD' in x.text]\n",
    "    \n",
    "    if len(hd_link) > 0:\n",
    "        hd_link[0].click()\n",
    "    elif len(sd_link) > 0:\n",
    "        sd_link[0].click()\n",
    "    else:\n",
    "        print('No MP4 file')\n",
    "        break\n",
    "    \n",
    "    ############ GET YEAR ############\n",
    "    spans = driver.find_elements_by_tag_name('span')\n",
    "    for span in spans:\n",
    "\n",
    "        date_str = span.text\n",
    "        try:\n",
    "            date = datetime.datetime.strptime(date_str, '%b %d, %Y')\n",
    "            year = date.year\n",
    "            # print(year)\n",
    "        except:\n",
    "            continue\n",
    "    \n",
    "    ############ GET LINKS ############\n",
    "    linkL = driver.find_elements_by_tag_name('a')\n",
    "\n",
    "    ############ GET NAMES ############\n",
    "    namesL = driver.find_elements_by_class_name('list_box')[0].text.split('\\n')[1:]\n",
    "    g_linkL = [link for link in linkL if 'https://vip.netvideogirls.com/members/girl/' in link.get_attribute(\"href\")][:len(namesL)]\n",
    "    hrefL = [link.get_attribute(\"href\") for link in g_linkL]\n",
    "    g_dict = {link.split('/')[-1]:link.split('/')[-2] for link in hrefL}\n",
    "\n",
    "    ############ GET CITE ############\n",
    "    cite = driver.find_elements_by_class_name('subname')[0].find_element_by_tag_name('a').text\n",
    "\n",
    "    ############ GET TAGS ############\n",
    "    tagL = driver.find_elements_by_class_name('tag_box')[0].find_elements_by_tag_name('a')\n",
    "    tag_linkL = [link.get_attribute(\"href\") for link in tagL if '/members/tag/' in link.get_attribute(\"href\")]\n",
    "    tag_dict = {link.split('/')[-1]:link.split('/')[-2] for link in tag_linkL}\n",
    "\n",
    "    #################################\n",
    "    ######### GET IMG POSTER ########\n",
    "    #################################\n",
    "    file_name = 'vid_posters/vid-' + str(vid_no) + '-poster.jpg'\n",
    "    full_file_name = \"../assets/imgs/\" + file_name\n",
    "\n",
    "    ############ GO TO IMAGE ############\n",
    "    img_url = driver.find_elements_by_class_name(\"react-player__preview\")[0].value_of_css_property('background-image').lstrip('url(\"').rstrip('\")')\n",
    "    driver.get(img_url)\n",
    "    time.sleep(5)\n",
    "    imgs = driver.find_elements_by_tag_name('img')\n",
    "\n",
    "    ############ TAKE SCREENSHOT ############\n",
    "    imgs[0].screenshot(full_file_name)\n",
    "\n",
    "    #################################\n",
    "    ############ GET G POSTER #######\n",
    "    #################################\n",
    "    for g_id, g_name in g_dict.items():\n",
    "        url = \"https://vip.netvideogirls.com/members/girl/\" + g_name + \"/\" + str(g_id)\n",
    "        driver.get(url)\n",
    "        time.sleep(2)\n",
    "\n",
    "        ############ GET G IMG NAME ############\n",
    "        file_name =  'g_posters/g-' + g_id + '-poster.jpg'\n",
    "        full_file_name = \"../assets/imgs/\" + file_name\n",
    "\n",
    "        ############ GO TO IMAGE ############\n",
    "        img_urlL = [x.find_element_by_tag_name('img').get_attribute('src') for x in driver.find_elements_by_class_name(\"avatar\")]\n",
    "        img_url = [x for x in img_urlL if str(g_id) in str(x)][0]\n",
    "        \n",
    "        driver.get(img_url)\n",
    "        time.sleep(2)\n",
    "        ########### FIND IMAGE SCREENSHOT ###\n",
    "        imgs = driver.find_elements_by_tag_name('img')\n",
    "\n",
    "        ############ TAKE SCREENSHOT ############\n",
    "        imgs[0].screenshot(full_file_name)\n",
    "\n",
    "\n",
    "    ########### Move to Folder ############\n",
    "    files = glob.glob(download_path + '/*.mp4')\n",
    "    file = [x for x in files if '\\\\' + str(vid_no)+'-' in x]\n",
    "    \n",
    "    while len(file) == 0:\n",
    "        time.sleep(15)\n",
    "        files = glob.glob(download_path + '/*.mp4')\n",
    "        file = [x for x in files if '\\\\' + str(vid_no)+'-' in x]\n",
    "    file = file[0]\n",
    "    \n",
    "    new_folder = download_path+'/'+str(year)\n",
    "    new_file = download_path+'/'+str(year)+'/'+ os.path.basename(file)\n",
    "    \n",
    "    try:\n",
    "        os.mkdir(download_path+'/'+str(year))\n",
    "    except:\n",
    "        pass\n",
    "    os.replace(file, new_file)\n",
    "\n",
    "    ############# GET VIDEO INFO ##############\n",
    "    video_info = with_moviepy(new_file)\n",
    "\n",
    "    ######### ADD TO DATAFRAME #########\n",
    "    vid_df = pd.DataFrame([], columns=['vid_id', 'url', 'g_id', 'g_name', 'tag_id', 'tag_name', 'date', 'year','cite',\n",
    "                                        'vid_file', 'base_file', 'file_url','duration', 'fps', 'width', 'height'])\n",
    "    for g_id, g_name in g_dict.items():\n",
    "        for tag_id, tag_name in tag_dict.items():\n",
    "            vid_df = pd.concat([vid_df, pd.DataFrame.from_dict({'vid_id':vid_no, \n",
    "                                                                  'url':url, \n",
    "                                                                  'g_id':g_id, \n",
    "                                                                  'g_name':g_name,\n",
    "                                                                  'tag_id':tag_id,\n",
    "                                                                  'tag_name':tag_name, \n",
    "                                                                  'date':date, \n",
    "                                                                  'year':year,\n",
    "                                                                  'cite':cite,\n",
    "                                                                  'vid_file':file.replace(os.path.basename(file), '{year}\\\\'.format(year=str(year)) + os.path.basename(file)),\n",
    "                                                                  'base_file':str(year)+'/'+os.path.basename(file),\n",
    "                                                                  'file_url':'assets/'+str(year)+'/'+os.path.basename(file),\n",
    "                                                                  'duration':video_info[0],\n",
    "                                                                  'fps':video_info[1],\n",
    "                                                                  'width':video_info[2],\n",
    "                                                                  'height':video_info[3]}, orient='index'\n",
    "                                                                ).T]).reset_index(drop=True)\n",
    "            \n",
    "        vid_df.to_csv('../info_files/vid_info_all.csv', mode='a', index=False, header=False)\n",
    "\n",
    "\n",
    "\n",
    "    "
   ]
  },
  {
   "cell_type": "code",
   "execution_count": null,
   "id": "8fbc0e17",
   "metadata": {},
   "outputs": [],
   "source": []
  }
 ],
 "metadata": {
  "kernelspec": {
   "display_name": "Python 3.9.12 ('req')",
   "language": "python",
   "name": "python3"
  },
  "language_info": {
   "codemirror_mode": {
    "name": "ipython",
    "version": 3
   },
   "file_extension": ".py",
   "mimetype": "text/x-python",
   "name": "python",
   "nbconvert_exporter": "python",
   "pygments_lexer": "ipython3",
   "version": "3.9.12"
  },
  "vscode": {
   "interpreter": {
    "hash": "aa6e90642d8372b7b7f6278fcb0ce90064217fe41ce8c987768926691b0a0eb1"
   }
  }
 },
 "nbformat": 4,
 "nbformat_minor": 5
}
