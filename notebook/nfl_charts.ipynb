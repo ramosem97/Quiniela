{
 "cells": [
  {
   "cell_type": "markdown",
   "metadata": {},
   "source": [
    "# NFL API and Prediction Charts for Quiniela"
   ]
  },
  {
   "cell_type": "markdown",
   "metadata": {},
   "source": [
    "## Config"
   ]
  },
  {
   "cell_type": "code",
   "execution_count": 107,
   "metadata": {},
   "outputs": [
    {
     "data": {
      "text/html": [
       "<pre>✔️ 0 ns (2022-07-13T11:32:42/2022-07-13T11:32:42)</pre>"
      ],
      "text/plain": [
       "<IPython.core.display.HTML object>"
      ]
     },
     "metadata": {},
     "output_type": "display_data"
    },
    {
     "name": "stdout",
     "output_type": "stream",
     "text": [
      "The autotime extension is already loaded. To reload it, use:\n",
      "  %reload_ext autotime\n"
     ]
    }
   ],
   "source": [
    "%load_ext autotime"
   ]
  },
  {
   "cell_type": "code",
   "execution_count": 108,
   "metadata": {
    "collapsed": false,
    "jupyter": {
     "outputs_hidden": false
    }
   },
   "outputs": [
    {
     "data": {
      "text/html": [
       "<pre>✔️ 0 ns (2022-07-13T11:32:43/2022-07-13T11:32:43)</pre>"
      ],
      "text/plain": [
       "<IPython.core.display.HTML object>"
      ]
     },
     "metadata": {},
     "output_type": "display_data"
    }
   ],
   "source": [
    "import pandas as pd\n",
    "import numpy as np\n",
    "import matplotlib.pyplot as plt\n",
    "import seaborn as sns\n",
    "import plotly.express as px\n",
    "import nflapi\n",
    "from datetime import datetime\n",
    "\n",
    "from dash import dash_table\n",
    "import plotly.graph_objects as go\n",
    "from jupyter_dash import JupyterDash\n",
    "from dash import dcc\n",
    "from dash import html\n",
    "from dash.dependencies import Input, Output"
   ]
  },
  {
   "cell_type": "markdown",
   "metadata": {},
   "source": [
    "## Read in Data"
   ]
  },
  {
   "cell_type": "code",
   "execution_count": 109,
   "metadata": {},
   "outputs": [
    {
     "data": {
      "text/html": [
       "<pre>✔️ 0 ns (2022-07-13T11:32:43/2022-07-13T11:32:43)</pre>"
      ],
      "text/plain": [
       "<IPython.core.display.HTML object>"
      ]
     },
     "metadata": {},
     "output_type": "display_data"
    }
   ],
   "source": [
    "nfl = nflapi.NFL(ua=\"nflapi\")"
   ]
  },
  {
   "cell_type": "code",
   "execution_count": 110,
   "metadata": {
    "collapsed": false,
    "jupyter": {
     "outputs_hidden": false
    }
   },
   "outputs": [
    {
     "data": {
      "text/html": [
       "<pre>✔️ 16 ms (2022-07-13T11:32:43/2022-07-13T11:32:43)</pre>"
      ],
      "text/plain": [
       "<IPython.core.display.HTML object>"
      ]
     },
     "metadata": {},
     "output_type": "display_data"
    },
    {
     "name": "stdout",
     "output_type": "stream",
     "text": [
      "['ARI' 'ATL' 'BAL' 'BUF' 'CAR' 'CHI' 'CIN' 'CLE' 'DAL' 'DEN' 'DET' 'GB'\n",
      " 'HOU' 'IND' 'JAX' 'KC' 'LA' 'LAC' 'LV' 'MIA' 'MIN' 'NE' 'NO' 'NYG' 'NYJ'\n",
      " 'PHI' 'PIT' 'SEA' 'SF' 'TB' 'TEN' 'WAS']\n",
      "32\n"
     ]
    },
    {
     "data": {
      "text/html": [
       "<div>\n",
       "<style scoped>\n",
       "    .dataframe tbody tr th:only-of-type {\n",
       "        vertical-align: middle;\n",
       "    }\n",
       "\n",
       "    .dataframe tbody tr th {\n",
       "        vertical-align: top;\n",
       "    }\n",
       "\n",
       "    .dataframe thead th {\n",
       "        text-align: right;\n",
       "    }\n",
       "</style>\n",
       "<table border=\"1\" class=\"dataframe\">\n",
       "  <thead>\n",
       "    <tr style=\"text-align: right;\">\n",
       "      <th></th>\n",
       "      <th>season</th>\n",
       "      <th>week</th>\n",
       "      <th>away_team</th>\n",
       "      <th>home_team</th>\n",
       "      <th>Gel</th>\n",
       "      <th>Hector</th>\n",
       "      <th>Emilio</th>\n",
       "      <th>Sonny</th>\n",
       "    </tr>\n",
       "  </thead>\n",
       "  <tbody>\n",
       "    <tr>\n",
       "      <th>0</th>\n",
       "      <td>2003</td>\n",
       "      <td>1</td>\n",
       "      <td>ATL</td>\n",
       "      <td>DAL</td>\n",
       "      <td>DAL</td>\n",
       "      <td>ATL</td>\n",
       "      <td>DAL</td>\n",
       "      <td>DAL</td>\n",
       "    </tr>\n",
       "    <tr>\n",
       "      <th>1</th>\n",
       "      <td>2003</td>\n",
       "      <td>1</td>\n",
       "      <td>NE</td>\n",
       "      <td>BUF</td>\n",
       "      <td>BUF</td>\n",
       "      <td>BUF</td>\n",
       "      <td>NE</td>\n",
       "      <td>BUF</td>\n",
       "    </tr>\n",
       "    <tr>\n",
       "      <th>2</th>\n",
       "      <td>2003</td>\n",
       "      <td>1</td>\n",
       "      <td>JAX</td>\n",
       "      <td>CAR</td>\n",
       "      <td>JAX</td>\n",
       "      <td>JAX</td>\n",
       "      <td>JAX</td>\n",
       "      <td>CAR</td>\n",
       "    </tr>\n",
       "    <tr>\n",
       "      <th>3</th>\n",
       "      <td>2003</td>\n",
       "      <td>1</td>\n",
       "      <td>DEN</td>\n",
       "      <td>CIN</td>\n",
       "      <td>DEN</td>\n",
       "      <td>DEN</td>\n",
       "      <td>DEN</td>\n",
       "      <td>DEN</td>\n",
       "    </tr>\n",
       "    <tr>\n",
       "      <th>4</th>\n",
       "      <td>2003</td>\n",
       "      <td>1</td>\n",
       "      <td>ARI</td>\n",
       "      <td>DET</td>\n",
       "      <td>DET</td>\n",
       "      <td>ARI</td>\n",
       "      <td>DET</td>\n",
       "      <td>ARI</td>\n",
       "    </tr>\n",
       "  </tbody>\n",
       "</table>\n",
       "</div>"
      ],
      "text/plain": [
       "   season  week away_team home_team  Gel Hector Emilio Sonny\n",
       "0    2003     1       ATL       DAL  DAL    ATL    DAL   DAL\n",
       "1    2003     1        NE       BUF  BUF    BUF     NE   BUF\n",
       "2    2003     1       JAX       CAR  JAX    JAX    JAX   CAR\n",
       "3    2003     1       DEN       CIN  DEN    DEN    DEN   DEN\n",
       "4    2003     1       ARI       DET  DET    ARI    DET   ARI"
      ]
     },
     "execution_count": 110,
     "metadata": {},
     "output_type": "execute_result"
    }
   ],
   "source": [
    "preds = pd.read_csv('../data/quiniela_res.csv').sort_values(['season', 'week'], ascending=True)\n",
    "preds['season'] = preds['season'].astype(int)\n",
    "preds['week'] = preds['week'].astype(int)\n",
    "preds = preds.rename(columns={'Home Team': 'home_team', 'Away Team':'away_team'})\n",
    "\n",
    "teamsL = np.unique(preds['away_team'].unique().tolist() + preds['home_team'].unique().tolist())\n",
    "print(np.sort(teamsL))\n",
    "print(len(teamsL))\n",
    "preds.head()"
   ]
  },
  {
   "cell_type": "code",
   "execution_count": 111,
   "metadata": {},
   "outputs": [
    {
     "data": {
      "text/html": [
       "<pre>✔️ 16 ms (2022-07-13T11:32:43/2022-07-13T11:32:43)</pre>"
      ],
      "text/plain": [
       "<IPython.core.display.HTML object>"
      ]
     },
     "metadata": {},
     "output_type": "display_data"
    },
    {
     "data": {
      "text/html": [
       "<div>\n",
       "<style scoped>\n",
       "    .dataframe tbody tr th:only-of-type {\n",
       "        vertical-align: middle;\n",
       "    }\n",
       "\n",
       "    .dataframe tbody tr th {\n",
       "        vertical-align: top;\n",
       "    }\n",
       "\n",
       "    .dataframe thead th {\n",
       "        text-align: right;\n",
       "    }\n",
       "</style>\n",
       "<table border=\"1\" class=\"dataframe\">\n",
       "  <thead>\n",
       "    <tr style=\"text-align: right;\">\n",
       "      <th></th>\n",
       "      <th>abbreviation</th>\n",
       "      <th>full_name</th>\n",
       "      <th>nick_name</th>\n",
       "      <th>conference</th>\n",
       "      <th>division</th>\n",
       "      <th>city_state_region</th>\n",
       "      <th>season</th>\n",
       "      <th>venue</th>\n",
       "      <th>logo</th>\n",
       "    </tr>\n",
       "  </thead>\n",
       "  <tbody>\n",
       "    <tr>\n",
       "      <th>0</th>\n",
       "      <td>WAS</td>\n",
       "      <td>Washington Redskins</td>\n",
       "      <td>Redskins</td>\n",
       "      <td>NFC</td>\n",
       "      <td>NFC_EASTERN</td>\n",
       "      <td>Washington</td>\n",
       "      <td>2003</td>\n",
       "      <td>NaN</td>\n",
       "      <td>WAS_logo_old.png</td>\n",
       "    </tr>\n",
       "    <tr>\n",
       "      <th>1</th>\n",
       "      <td>TB</td>\n",
       "      <td>Tampa Bay Buccaneers</td>\n",
       "      <td>Buccaneers</td>\n",
       "      <td>NFC</td>\n",
       "      <td>NFC_SOUTH</td>\n",
       "      <td>Tampa Bay</td>\n",
       "      <td>2003</td>\n",
       "      <td>NaN</td>\n",
       "      <td>TB_logo_old.png</td>\n",
       "    </tr>\n",
       "    <tr>\n",
       "      <th>2</th>\n",
       "      <td>SEA</td>\n",
       "      <td>Seattle Seahawks</td>\n",
       "      <td>Seahawks</td>\n",
       "      <td>NFC</td>\n",
       "      <td>NFC_WESTERN</td>\n",
       "      <td>Seattle</td>\n",
       "      <td>2003</td>\n",
       "      <td>NaN</td>\n",
       "      <td>SEA_logo_old.png</td>\n",
       "    </tr>\n",
       "    <tr>\n",
       "      <th>3</th>\n",
       "      <td>SF</td>\n",
       "      <td>San Francisco 49ers</td>\n",
       "      <td>49ers</td>\n",
       "      <td>NFC</td>\n",
       "      <td>NFC_WESTERN</td>\n",
       "      <td>San Francisco</td>\n",
       "      <td>2003</td>\n",
       "      <td>NaN</td>\n",
       "      <td>SF_logo.webp</td>\n",
       "    </tr>\n",
       "    <tr>\n",
       "      <th>4</th>\n",
       "      <td>LAC</td>\n",
       "      <td>San Diego Chargers</td>\n",
       "      <td>Chargers</td>\n",
       "      <td>AFC</td>\n",
       "      <td>AFC_WESTERN</td>\n",
       "      <td>San Diego</td>\n",
       "      <td>2003</td>\n",
       "      <td>NaN</td>\n",
       "      <td>LAC_logo.webp</td>\n",
       "    </tr>\n",
       "  </tbody>\n",
       "</table>\n",
       "</div>"
      ],
      "text/plain": [
       "  abbreviation             full_name   nick_name conference     division  \\\n",
       "0          WAS   Washington Redskins    Redskins        NFC  NFC_EASTERN   \n",
       "1           TB  Tampa Bay Buccaneers  Buccaneers        NFC    NFC_SOUTH   \n",
       "2          SEA      Seattle Seahawks    Seahawks        NFC  NFC_WESTERN   \n",
       "3           SF   San Francisco 49ers       49ers        NFC  NFC_WESTERN   \n",
       "4          LAC    San Diego Chargers    Chargers        AFC  AFC_WESTERN   \n",
       "\n",
       "  city_state_region  season venue              logo  \n",
       "0        Washington    2003   NaN  WAS_logo_old.png  \n",
       "1         Tampa Bay    2003   NaN   TB_logo_old.png  \n",
       "2           Seattle    2003   NaN  SEA_logo_old.png  \n",
       "3     San Francisco    2003   NaN      SF_logo.webp  \n",
       "4         San Diego    2003   NaN     LAC_logo.webp  "
      ]
     },
     "execution_count": 111,
     "metadata": {},
     "output_type": "execute_result"
    }
   ],
   "source": [
    "teams = pd.read_csv('../data/nfl_team_info_all.csv', index_col=0)\n",
    "teams['season'] = teams['season'].astype(int)\n",
    "team_dec = teams.groupby(['full_name', 'abbreviation']).size().reset_index(drop=False).set_index(['full_name'])['abbreviation'].to_dict()\n",
    "teams.head()"
   ]
  },
  {
   "cell_type": "code",
   "execution_count": 123,
   "metadata": {},
   "outputs": [
    {
     "data": {
      "text/html": [
       "<pre>✔️ 47 ms (2022-07-13T11:35:24/2022-07-13T11:35:24)</pre>"
      ],
      "text/plain": [
       "<IPython.core.display.HTML object>"
      ]
     },
     "metadata": {},
     "output_type": "display_data"
    },
    {
     "data": {
      "text/html": [
       "<div>\n",
       "<style scoped>\n",
       "    .dataframe tbody tr th:only-of-type {\n",
       "        vertical-align: middle;\n",
       "    }\n",
       "\n",
       "    .dataframe tbody tr th {\n",
       "        vertical-align: top;\n",
       "    }\n",
       "\n",
       "    .dataframe thead th {\n",
       "        text-align: right;\n",
       "    }\n",
       "</style>\n",
       "<table border=\"1\" class=\"dataframe\">\n",
       "  <thead>\n",
       "    <tr style=\"text-align: right;\">\n",
       "      <th></th>\n",
       "      <th>season</th>\n",
       "      <th>week</th>\n",
       "      <th>week_type</th>\n",
       "      <th>game_id</th>\n",
       "      <th>game_details_id</th>\n",
       "      <th>game_time</th>\n",
       "      <th>game_date</th>\n",
       "      <th>home_team</th>\n",
       "      <th>away_team</th>\n",
       "      <th>home_team_score</th>\n",
       "      <th>...</th>\n",
       "      <th>visitor_passing_yards</th>\n",
       "      <th>visitor_passing_touchdowns</th>\n",
       "      <th>visitor_rushing_yards</th>\n",
       "      <th>visitor_rushing_touchdowns</th>\n",
       "      <th>phase</th>\n",
       "      <th>winner</th>\n",
       "      <th>total_home_score</th>\n",
       "      <th>total_away_score</th>\n",
       "      <th>home_total_yards</th>\n",
       "      <th>away_total_yards</th>\n",
       "    </tr>\n",
       "  </thead>\n",
       "  <tbody>\n",
       "    <tr>\n",
       "      <th>0</th>\n",
       "      <td>2003</td>\n",
       "      <td>1</td>\n",
       "      <td>REG</td>\n",
       "      <td>10012003-0904-00a6-ff62-12e477623f1a</td>\n",
       "      <td>10160000-0264-94ab-68f5-9ff371a986a3</td>\n",
       "      <td>2003-09-04 09:00:00+00:00</td>\n",
       "      <td>2003-09-04</td>\n",
       "      <td>WAS</td>\n",
       "      <td>NYJ</td>\n",
       "      <td>16.0</td>\n",
       "      <td>...</td>\n",
       "      <td>101.0</td>\n",
       "      <td>0.0</td>\n",
       "      <td>57.0</td>\n",
       "      <td>1.0</td>\n",
       "      <td>FINAL</td>\n",
       "      <td>WAS</td>\n",
       "      <td>16.0</td>\n",
       "      <td>13.0</td>\n",
       "      <td>327.0</td>\n",
       "      <td>158.0</td>\n",
       "    </tr>\n",
       "    <tr>\n",
       "      <th>1</th>\n",
       "      <td>2003</td>\n",
       "      <td>1</td>\n",
       "      <td>REG</td>\n",
       "      <td>10012003-0907-0075-30bd-8e1167d1c6ac</td>\n",
       "      <td>10160000-0264-997c-6c87-72c644130bbf</td>\n",
       "      <td>2003-09-07 09:00:00+00:00</td>\n",
       "      <td>2003-09-07</td>\n",
       "      <td>DET</td>\n",
       "      <td>ARI</td>\n",
       "      <td>42.0</td>\n",
       "      <td>...</td>\n",
       "      <td>339.0</td>\n",
       "      <td>3.0</td>\n",
       "      <td>95.0</td>\n",
       "      <td>0.0</td>\n",
       "      <td>FINAL</td>\n",
       "      <td>DET</td>\n",
       "      <td>42.0</td>\n",
       "      <td>24.0</td>\n",
       "      <td>261.0</td>\n",
       "      <td>434.0</td>\n",
       "    </tr>\n",
       "    <tr>\n",
       "      <th>2</th>\n",
       "      <td>2003</td>\n",
       "      <td>1</td>\n",
       "      <td>REG</td>\n",
       "      <td>10012003-0907-0126-f566-a59e19a70a3a</td>\n",
       "      <td>10160000-0264-97a8-19af-9168b28ada0a</td>\n",
       "      <td>2003-09-07 09:00:00+00:00</td>\n",
       "      <td>2003-09-07</td>\n",
       "      <td>CIN</td>\n",
       "      <td>DEN</td>\n",
       "      <td>10.0</td>\n",
       "      <td>...</td>\n",
       "      <td>109.0</td>\n",
       "      <td>0.0</td>\n",
       "      <td>184.0</td>\n",
       "      <td>2.0</td>\n",
       "      <td>FINAL</td>\n",
       "      <td>DEN</td>\n",
       "      <td>10.0</td>\n",
       "      <td>30.0</td>\n",
       "      <td>294.0</td>\n",
       "      <td>293.0</td>\n",
       "    </tr>\n",
       "    <tr>\n",
       "      <th>3</th>\n",
       "      <td>2003</td>\n",
       "      <td>1</td>\n",
       "      <td>REG</td>\n",
       "      <td>10012003-0907-0277-e7c6-41b36cc4a1ce</td>\n",
       "      <td>10160000-0264-9839-6579-47a20841e644</td>\n",
       "      <td>2003-09-07 09:00:00+00:00</td>\n",
       "      <td>2003-09-07</td>\n",
       "      <td>CLE</td>\n",
       "      <td>IND</td>\n",
       "      <td>6.0</td>\n",
       "      <td>...</td>\n",
       "      <td>204.0</td>\n",
       "      <td>0.0</td>\n",
       "      <td>67.0</td>\n",
       "      <td>0.0</td>\n",
       "      <td>FINAL</td>\n",
       "      <td>IND</td>\n",
       "      <td>6.0</td>\n",
       "      <td>9.0</td>\n",
       "      <td>280.0</td>\n",
       "      <td>271.0</td>\n",
       "    </tr>\n",
       "    <tr>\n",
       "      <th>4</th>\n",
       "      <td>2003</td>\n",
       "      <td>1</td>\n",
       "      <td>REG</td>\n",
       "      <td>10012003-0907-0388-64cf-dd9886d18dde</td>\n",
       "      <td>10160000-0265-04d2-fd24-f2f5b0964d49</td>\n",
       "      <td>2003-09-07 09:00:00+00:00</td>\n",
       "      <td>2003-09-07</td>\n",
       "      <td>PIT</td>\n",
       "      <td>BAL</td>\n",
       "      <td>34.0</td>\n",
       "      <td>...</td>\n",
       "      <td>143.0</td>\n",
       "      <td>1.0</td>\n",
       "      <td>88.0</td>\n",
       "      <td>1.0</td>\n",
       "      <td>FINAL</td>\n",
       "      <td>PIT</td>\n",
       "      <td>34.0</td>\n",
       "      <td>15.0</td>\n",
       "      <td>339.0</td>\n",
       "      <td>231.0</td>\n",
       "    </tr>\n",
       "  </tbody>\n",
       "</table>\n",
       "<p>5 rows × 35 columns</p>\n",
       "</div>"
      ],
      "text/plain": [
       "   season  week week_type                               game_id  \\\n",
       "0    2003     1       REG  10012003-0904-00a6-ff62-12e477623f1a   \n",
       "1    2003     1       REG  10012003-0907-0075-30bd-8e1167d1c6ac   \n",
       "2    2003     1       REG  10012003-0907-0126-f566-a59e19a70a3a   \n",
       "3    2003     1       REG  10012003-0907-0277-e7c6-41b36cc4a1ce   \n",
       "4    2003     1       REG  10012003-0907-0388-64cf-dd9886d18dde   \n",
       "\n",
       "                        game_details_id                  game_time  \\\n",
       "0  10160000-0264-94ab-68f5-9ff371a986a3  2003-09-04 09:00:00+00:00   \n",
       "1  10160000-0264-997c-6c87-72c644130bbf  2003-09-07 09:00:00+00:00   \n",
       "2  10160000-0264-97a8-19af-9168b28ada0a  2003-09-07 09:00:00+00:00   \n",
       "3  10160000-0264-9839-6579-47a20841e644  2003-09-07 09:00:00+00:00   \n",
       "4  10160000-0265-04d2-fd24-f2f5b0964d49  2003-09-07 09:00:00+00:00   \n",
       "\n",
       "    game_date home_team away_team  home_team_score  ...  \\\n",
       "0  2003-09-04       WAS       NYJ             16.0  ...   \n",
       "1  2003-09-07       DET       ARI             42.0  ...   \n",
       "2  2003-09-07       CIN       DEN             10.0  ...   \n",
       "3  2003-09-07       CLE       IND              6.0  ...   \n",
       "4  2003-09-07       PIT       BAL             34.0  ...   \n",
       "\n",
       "   visitor_passing_yards  visitor_passing_touchdowns  visitor_rushing_yards  \\\n",
       "0                  101.0                         0.0                   57.0   \n",
       "1                  339.0                         3.0                   95.0   \n",
       "2                  109.0                         0.0                  184.0   \n",
       "3                  204.0                         0.0                   67.0   \n",
       "4                  143.0                         1.0                   88.0   \n",
       "\n",
       "   visitor_rushing_touchdowns  phase  winner  total_home_score  \\\n",
       "0                         1.0  FINAL     WAS              16.0   \n",
       "1                         0.0  FINAL     DET              42.0   \n",
       "2                         2.0  FINAL     DEN              10.0   \n",
       "3                         0.0  FINAL     IND               6.0   \n",
       "4                         1.0  FINAL     PIT              34.0   \n",
       "\n",
       "   total_away_score  home_total_yards  away_total_yards  \n",
       "0              13.0             327.0             158.0  \n",
       "1              24.0             261.0             434.0  \n",
       "2              30.0             294.0             293.0  \n",
       "3               9.0             280.0             271.0  \n",
       "4              15.0             339.0             231.0  \n",
       "\n",
       "[5 rows x 35 columns]"
      ]
     },
     "execution_count": 123,
     "metadata": {},
     "output_type": "execute_result"
    }
   ],
   "source": [
    "scores = pd.read_csv('../data/nfl_scores_all.csv', index_col=0)\n",
    "scores['season'] = scores['season'].astype(int)\n",
    "scores['week'] = scores['week'].astype(int)\n",
    "scores['home_team'] = scores['home_team'].apply(lambda x: team_dec[x])\n",
    "scores['away_team'] = scores['away_team'].apply(lambda x: team_dec[x])\n",
    "scores['winner'] = [home_team if home_score + home_ot_score > away_score + away_ot_score else \\\n",
    "                    away_team if away_score + away_ot_score > home_score + home_ot_score else \\\n",
    "                    'TIE' for home_ot_score, away_ot_score, home_score, away_score, home_team, away_team in \\\n",
    "                    scores[['home_team_score', 'away_team_score', \n",
    "                            'home_points_overtime_total', 'visitor_points_overtime_total', \n",
    "                            'home_team', 'away_team']].values]\n",
    "scores['total_home_score'] = scores['home_team_score'] + scores['home_points_overtime_total']\n",
    "scores['total_away_score'] = scores['away_team_score'] + scores['visitor_points_overtime_total']\n",
    "scores['home_total_yards'] = scores['home_passing_yards'] + scores['home_rushing_yards']\n",
    "scores['away_total_yards'] = scores['visitor_passing_yards'] + scores['visitor_rushing_yards']\n",
    "\n",
    "scores.head()"
   ]
  },
  {
   "cell_type": "code",
   "execution_count": 124,
   "metadata": {},
   "outputs": [
    {
     "data": {
      "text/html": [
       "<pre>✔️ 312 ms (2022-07-13T11:35:25/2022-07-13T11:35:25)</pre>"
      ],
      "text/plain": [
       "<IPython.core.display.HTML object>"
      ]
     },
     "metadata": {},
     "output_type": "display_data"
    },
    {
     "name": "stdout",
     "output_type": "stream",
     "text": [
      "['season', 'week', 'week_type', 'game_id', 'game_details_id', 'game_time', 'game_date', 'home_team', 'away_team', 'home_team_score', 'away_team_score', 'home_points_overtime_total', 'visitor_points_overtime_total', 'home_points_q1', 'home_points_q2', 'home_points_q3', 'home_points_q4', 'home_passing_yards', 'home_passing_touchdowns', 'home_rushing_yards', 'home_rushing_touchdowns', 'visitor_points_q1', 'visitor_points_q2', 'visitor_points_q3', 'visitor_points_q4', 'visitor_passing_yards', 'visitor_passing_touchdowns', 'visitor_rushing_yards', 'visitor_rushing_touchdowns', 'phase', 'winner', 'total_home_score', 'total_away_score', 'home_total_yards', 'away_total_yards', 'abbreviation_home', 'full_name_home', 'nick_name_home', 'conference_home', 'division_home', 'city_state_region_home', 'venue_home', 'logo_home', 'abbreviation_away', 'full_name_away', 'nick_name_away', 'conference_away', 'division_away', 'city_state_region_away', 'venue_away', 'logo_away', 'week_type_ord', 'week_num', 'week_quin', 'Gel', 'Hector', 'Emilio', 'Sonny']\n"
     ]
    },
    {
     "data": {
      "text/html": [
       "<div>\n",
       "<style scoped>\n",
       "    .dataframe tbody tr th:only-of-type {\n",
       "        vertical-align: middle;\n",
       "    }\n",
       "\n",
       "    .dataframe tbody tr th {\n",
       "        vertical-align: top;\n",
       "    }\n",
       "\n",
       "    .dataframe thead th {\n",
       "        text-align: right;\n",
       "    }\n",
       "</style>\n",
       "<table border=\"1\" class=\"dataframe\">\n",
       "  <thead>\n",
       "    <tr style=\"text-align: right;\">\n",
       "      <th></th>\n",
       "      <th>season</th>\n",
       "      <th>week</th>\n",
       "      <th>week_type</th>\n",
       "      <th>game_id</th>\n",
       "      <th>game_details_id</th>\n",
       "      <th>game_time</th>\n",
       "      <th>game_date</th>\n",
       "      <th>home_team</th>\n",
       "      <th>away_team</th>\n",
       "      <th>home_team_score</th>\n",
       "      <th>...</th>\n",
       "      <th>city_state_region_away</th>\n",
       "      <th>venue_away</th>\n",
       "      <th>logo_away</th>\n",
       "      <th>week_type_ord</th>\n",
       "      <th>week_num</th>\n",
       "      <th>week_quin</th>\n",
       "      <th>Gel</th>\n",
       "      <th>Hector</th>\n",
       "      <th>Emilio</th>\n",
       "      <th>Sonny</th>\n",
       "    </tr>\n",
       "  </thead>\n",
       "  <tbody>\n",
       "    <tr>\n",
       "      <th>0</th>\n",
       "      <td>2003</td>\n",
       "      <td>1</td>\n",
       "      <td>REG</td>\n",
       "      <td>10012003-0904-00a6-ff62-12e477623f1a</td>\n",
       "      <td>10160000-0264-94ab-68f5-9ff371a986a3</td>\n",
       "      <td>2003-09-04 09:00:00+00:00</td>\n",
       "      <td>2003-09-04</td>\n",
       "      <td>WAS</td>\n",
       "      <td>NYJ</td>\n",
       "      <td>16.0</td>\n",
       "      <td>...</td>\n",
       "      <td>New York Jets</td>\n",
       "      <td>NaN</td>\n",
       "      <td>NYJ_logo_old.png</td>\n",
       "      <td>1</td>\n",
       "      <td>1</td>\n",
       "      <td>1.0</td>\n",
       "      <td>WAS</td>\n",
       "      <td>WAS</td>\n",
       "      <td>NYJ</td>\n",
       "      <td>WAS</td>\n",
       "    </tr>\n",
       "    <tr>\n",
       "      <th>1</th>\n",
       "      <td>2003</td>\n",
       "      <td>1</td>\n",
       "      <td>REG</td>\n",
       "      <td>10012003-0907-0075-30bd-8e1167d1c6ac</td>\n",
       "      <td>10160000-0264-997c-6c87-72c644130bbf</td>\n",
       "      <td>2003-09-07 09:00:00+00:00</td>\n",
       "      <td>2003-09-07</td>\n",
       "      <td>DET</td>\n",
       "      <td>ARI</td>\n",
       "      <td>42.0</td>\n",
       "      <td>...</td>\n",
       "      <td>Arizona</td>\n",
       "      <td>NaN</td>\n",
       "      <td>ARI_logo.webp</td>\n",
       "      <td>1</td>\n",
       "      <td>1</td>\n",
       "      <td>1.0</td>\n",
       "      <td>DET</td>\n",
       "      <td>ARI</td>\n",
       "      <td>DET</td>\n",
       "      <td>ARI</td>\n",
       "    </tr>\n",
       "    <tr>\n",
       "      <th>2</th>\n",
       "      <td>2003</td>\n",
       "      <td>1</td>\n",
       "      <td>REG</td>\n",
       "      <td>10012003-0907-0126-f566-a59e19a70a3a</td>\n",
       "      <td>10160000-0264-97a8-19af-9168b28ada0a</td>\n",
       "      <td>2003-09-07 09:00:00+00:00</td>\n",
       "      <td>2003-09-07</td>\n",
       "      <td>CIN</td>\n",
       "      <td>DEN</td>\n",
       "      <td>10.0</td>\n",
       "      <td>...</td>\n",
       "      <td>Denver</td>\n",
       "      <td>NaN</td>\n",
       "      <td>DEN_logo.webp</td>\n",
       "      <td>1</td>\n",
       "      <td>1</td>\n",
       "      <td>1.0</td>\n",
       "      <td>DEN</td>\n",
       "      <td>DEN</td>\n",
       "      <td>DEN</td>\n",
       "      <td>DEN</td>\n",
       "    </tr>\n",
       "    <tr>\n",
       "      <th>3</th>\n",
       "      <td>2003</td>\n",
       "      <td>1</td>\n",
       "      <td>REG</td>\n",
       "      <td>10012003-0907-0277-e7c6-41b36cc4a1ce</td>\n",
       "      <td>10160000-0264-9839-6579-47a20841e644</td>\n",
       "      <td>2003-09-07 09:00:00+00:00</td>\n",
       "      <td>2003-09-07</td>\n",
       "      <td>CLE</td>\n",
       "      <td>IND</td>\n",
       "      <td>6.0</td>\n",
       "      <td>...</td>\n",
       "      <td>Indianapolis</td>\n",
       "      <td>NaN</td>\n",
       "      <td>IND_logo.webp</td>\n",
       "      <td>1</td>\n",
       "      <td>1</td>\n",
       "      <td>1.0</td>\n",
       "      <td>IND</td>\n",
       "      <td>CLE</td>\n",
       "      <td>IND</td>\n",
       "      <td>CLE</td>\n",
       "    </tr>\n",
       "    <tr>\n",
       "      <th>4</th>\n",
       "      <td>2003</td>\n",
       "      <td>1</td>\n",
       "      <td>REG</td>\n",
       "      <td>10012003-0907-0388-64cf-dd9886d18dde</td>\n",
       "      <td>10160000-0265-04d2-fd24-f2f5b0964d49</td>\n",
       "      <td>2003-09-07 09:00:00+00:00</td>\n",
       "      <td>2003-09-07</td>\n",
       "      <td>PIT</td>\n",
       "      <td>BAL</td>\n",
       "      <td>34.0</td>\n",
       "      <td>...</td>\n",
       "      <td>Baltimore</td>\n",
       "      <td>NaN</td>\n",
       "      <td>BAL_logo.webp</td>\n",
       "      <td>1</td>\n",
       "      <td>1</td>\n",
       "      <td>1.0</td>\n",
       "      <td>PIT</td>\n",
       "      <td>PIT</td>\n",
       "      <td>PIT</td>\n",
       "      <td>PIT</td>\n",
       "    </tr>\n",
       "  </tbody>\n",
       "</table>\n",
       "<p>5 rows × 58 columns</p>\n",
       "</div>"
      ],
      "text/plain": [
       "   season  week week_type                               game_id  \\\n",
       "0    2003     1       REG  10012003-0904-00a6-ff62-12e477623f1a   \n",
       "1    2003     1       REG  10012003-0907-0075-30bd-8e1167d1c6ac   \n",
       "2    2003     1       REG  10012003-0907-0126-f566-a59e19a70a3a   \n",
       "3    2003     1       REG  10012003-0907-0277-e7c6-41b36cc4a1ce   \n",
       "4    2003     1       REG  10012003-0907-0388-64cf-dd9886d18dde   \n",
       "\n",
       "                        game_details_id                  game_time  \\\n",
       "0  10160000-0264-94ab-68f5-9ff371a986a3  2003-09-04 09:00:00+00:00   \n",
       "1  10160000-0264-997c-6c87-72c644130bbf  2003-09-07 09:00:00+00:00   \n",
       "2  10160000-0264-97a8-19af-9168b28ada0a  2003-09-07 09:00:00+00:00   \n",
       "3  10160000-0264-9839-6579-47a20841e644  2003-09-07 09:00:00+00:00   \n",
       "4  10160000-0265-04d2-fd24-f2f5b0964d49  2003-09-07 09:00:00+00:00   \n",
       "\n",
       "    game_date home_team away_team  home_team_score  ...  \\\n",
       "0  2003-09-04       WAS       NYJ             16.0  ...   \n",
       "1  2003-09-07       DET       ARI             42.0  ...   \n",
       "2  2003-09-07       CIN       DEN             10.0  ...   \n",
       "3  2003-09-07       CLE       IND              6.0  ...   \n",
       "4  2003-09-07       PIT       BAL             34.0  ...   \n",
       "\n",
       "   city_state_region_away  venue_away         logo_away  week_type_ord  \\\n",
       "0           New York Jets         NaN  NYJ_logo_old.png              1   \n",
       "1                 Arizona         NaN     ARI_logo.webp              1   \n",
       "2                  Denver         NaN     DEN_logo.webp              1   \n",
       "3            Indianapolis         NaN     IND_logo.webp              1   \n",
       "4               Baltimore         NaN     BAL_logo.webp              1   \n",
       "\n",
       "   week_num  week_quin  Gel  Hector  Emilio  Sonny  \n",
       "0         1        1.0  WAS     WAS     NYJ    WAS  \n",
       "1         1        1.0  DET     ARI     DET    ARI  \n",
       "2         1        1.0  DEN     DEN     DEN    DEN  \n",
       "3         1        1.0  IND     CLE     IND    CLE  \n",
       "4         1        1.0  PIT     PIT     PIT    PIT  \n",
       "\n",
       "[5 rows x 58 columns]"
      ]
     },
     "execution_count": 124,
     "metadata": {},
     "output_type": "execute_result"
    }
   ],
   "source": [
    "## Merge Home Team Info\n",
    "df = scores.merge(teams.rename(columns={x:x+'_home' for x in teams.columns if x != 'season'}),\n",
    "                    left_on=['home_team', 'season'], \n",
    "                    right_on=['abbreviation_home', 'season'], \n",
    "                    suffixes=['', '_home'],\n",
    "                    how='left')\n",
    "\n",
    "## Merge Away Team Info\n",
    "df = df.merge(teams.rename(columns={x:x+'_away' for x in teams.columns if x != 'season'}), \n",
    "                    left_on=['away_team', 'season'], \n",
    "                    right_on=['abbreviation_away', 'season'], \n",
    "                    suffixes=['', '_away'],\n",
    "                    how='left')\n",
    "\n",
    "## Create New Week Num Column\n",
    "week_type_order = {'REG':1, 'WC':2, 'DIV':3, 'CONF':4, 'SB':5}\n",
    "df['week_type_ord'] = df['week_type'].apply(lambda x: week_type_order[x])\n",
    "week_dec = df.sort_values(['game_date', 'week_type_ord', 'season'], ascending=True).reset_index(drop=True).groupby(['season', 'week_type_ord', 'week']).size().reset_index(drop=False)\n",
    "week_dec['week_num'] = week_dec.groupby(['season'])['season'].cumcount()+1\n",
    "df = df.merge(week_dec.drop(0, axis=1), \n",
    "                    left_on=['season', 'week', 'week_type_ord'],\n",
    "                    right_on=['season', 'week', 'week_type_ord'],\n",
    "                    how='left')\n",
    "\n",
    "\n",
    "## Merge Users Pred Info\n",
    "# df = df.merge(preds.drop(['week'], axis=1), \n",
    "df = df.merge(preds, \n",
    "                    left_on=['home_team', 'away_team', 'season'], \n",
    "                    right_on=['home_team', 'away_team', 'season'],\n",
    "                    how='left',\n",
    "                    suffixes=['', '_quin'])\n",
    "\n",
    "## Remove Duplicate Entries\n",
    "dup_games = scores.groupby(['home_team', 'away_team', 'season']).size()\n",
    "dup_games = dup_games[dup_games>1].reset_index(drop=False)\n",
    "drop_idxL = []\n",
    "for idx, dup_game in dup_games.iterrows():\n",
    "    temp_dup = df.loc[((df['home_team'] == dup_game['home_team']) & (df['away_team'] == dup_game['away_team']) &  (df['season'] == dup_game['season']))].reset_index(drop=False)\n",
    "    temp_dup['week_num_diff'] = abs(temp_dup['week_quin'] - temp_dup['week_num'])\n",
    "    drop_idxL = drop_idxL + temp_dup.sort_values(['week_num_diff'], ascending=False).drop_duplicates(['game_id'], keep='first')['index'].values.tolist()\n",
    "df = df.loc[~df.index.isin(drop_idxL)].reset_index(drop=True)\n",
    "\n",
    "## Add Other Cols\n",
    "## Get Total Score\n",
    "df['total_home_score'] = df['home_team_score'] + df['home_points_overtime_total']\n",
    "df['total_away_score'] = df['away_team_score'] + df['visitor_points_overtime_total']\n",
    "\n",
    "## Preview Data\n",
    "print(df.columns.tolist())\n",
    "df.head()"
   ]
  },
  {
   "cell_type": "code",
   "execution_count": 125,
   "metadata": {},
   "outputs": [
    {
     "data": {
      "text/html": [
       "<pre>✔️ 109 ms (2022-07-13T11:35:26/2022-07-13T11:35:26)</pre>"
      ],
      "text/plain": [
       "<IPython.core.display.HTML object>"
      ]
     },
     "metadata": {},
     "output_type": "display_data"
    }
   ],
   "source": [
    "df.to_csv('../data/full_data.csv', index=False)"
   ]
  },
  {
   "cell_type": "markdown",
   "metadata": {},
   "source": [
    "## Team Statistics"
   ]
  },
  {
   "cell_type": "code",
   "execution_count": 126,
   "metadata": {},
   "outputs": [
    {
     "data": {
      "text/html": [
       "<pre>✔️ 16 ms (2022-07-13T11:35:27/2022-07-13T11:35:27)</pre>"
      ],
      "text/plain": [
       "<IPython.core.display.HTML object>"
      ]
     },
     "metadata": {},
     "output_type": "display_data"
    }
   ],
   "source": [
    "HOME_COLS = {}\n",
    "HOME_COLS['id'] = ['home_team', 'abbreviation_home', 'nick_name_home',\n",
    "       'full_name_home', 'conference_home', 'division_home', 'city_state_region_home', 'venue_home','logo_home', ]\n",
    "HOME_COLS['val_for'] =  ['home_points_q1', 'home_points_q2',\n",
    "       'home_points_q3', 'home_points_q4', 'home_points_overtime_total', 'home_team_score', 'home_passing_yards',\n",
    "       'home_passing_touchdowns', 'home_rushing_yards',\n",
    "       'home_rushing_touchdowns', 'home_total_score', 'home_total_yards']"
   ]
  },
  {
   "cell_type": "code",
   "execution_count": 127,
   "metadata": {},
   "outputs": [
    {
     "data": {
      "text/html": [
       "<pre>✔️ 0 ns (2022-07-13T11:35:27/2022-07-13T11:35:27)</pre>"
      ],
      "text/plain": [
       "<IPython.core.display.HTML object>"
      ]
     },
     "metadata": {},
     "output_type": "display_data"
    }
   ],
   "source": [
    "AWAY_COLS = {}\n",
    "AWAY_COLS['id'] = ['away_team', 'abbreviation_away','nick_name_away',\n",
    "       'full_name_away', 'conference_away', 'division_away', 'city_state_region_away', 'venue_away','logo_away',]\n",
    "AWAY_COLS['val'] = ['visitor_points_q1', 'visitor_points_q2',\n",
    "       'visitor_points_q3', 'visitor_points_q4', 'visitor_points_overtime_total',  'away_team_score', \n",
    "       'visitor_passing_yards', 'visitor_passing_touchdowns',\n",
    "        'visitor_rushing_yards','visitor_rushing_touchdowns', 'away_total_score', 'away_total_yards']"
   ]
  },
  {
   "cell_type": "code",
   "execution_count": 213,
   "metadata": {},
   "outputs": [
    {
     "data": {
      "text/html": [
       "<pre>✔️ 62 ms (2022-07-13T12:06:31/2022-07-13T12:06:31)</pre>"
      ],
      "text/plain": [
       "<IPython.core.display.HTML object>"
      ]
     },
     "metadata": {},
     "output_type": "display_data"
    },
    {
     "data": {
      "text/html": [
       "<div>\n",
       "<style scoped>\n",
       "    .dataframe tbody tr th:only-of-type {\n",
       "        vertical-align: middle;\n",
       "    }\n",
       "\n",
       "    .dataframe tbody tr th {\n",
       "        vertical-align: top;\n",
       "    }\n",
       "\n",
       "    .dataframe thead th {\n",
       "        text-align: right;\n",
       "    }\n",
       "</style>\n",
       "<table border=\"1\" class=\"dataframe\">\n",
       "  <thead>\n",
       "    <tr style=\"text-align: right;\">\n",
       "      <th></th>\n",
       "      <th>season</th>\n",
       "      <th>week</th>\n",
       "      <th>week_type</th>\n",
       "      <th>game_id</th>\n",
       "      <th>game_details_id</th>\n",
       "      <th>game_time</th>\n",
       "      <th>game_date</th>\n",
       "      <th>team</th>\n",
       "      <th>against_team</th>\n",
       "      <th>team_score</th>\n",
       "      <th>...</th>\n",
       "      <th>week_type_ord</th>\n",
       "      <th>week_num</th>\n",
       "      <th>week_quin</th>\n",
       "      <th>Gel</th>\n",
       "      <th>Hector</th>\n",
       "      <th>Emilio</th>\n",
       "      <th>Sonny</th>\n",
       "      <th>home_or_away</th>\n",
       "      <th>div_game</th>\n",
       "      <th>conf_game</th>\n",
       "    </tr>\n",
       "  </thead>\n",
       "  <tbody>\n",
       "    <tr>\n",
       "      <th>0</th>\n",
       "      <td>2003</td>\n",
       "      <td>1</td>\n",
       "      <td>REG</td>\n",
       "      <td>10012003-0904-00a6-ff62-12e477623f1a</td>\n",
       "      <td>10160000-0264-94ab-68f5-9ff371a986a3</td>\n",
       "      <td>2003-09-04 09:00:00+00:00</td>\n",
       "      <td>2003-09-04</td>\n",
       "      <td>WAS</td>\n",
       "      <td>NYJ</td>\n",
       "      <td>16.0</td>\n",
       "      <td>...</td>\n",
       "      <td>1</td>\n",
       "      <td>1</td>\n",
       "      <td>1.0</td>\n",
       "      <td>WAS</td>\n",
       "      <td>WAS</td>\n",
       "      <td>NYJ</td>\n",
       "      <td>WAS</td>\n",
       "      <td>home</td>\n",
       "      <td>0</td>\n",
       "      <td>0</td>\n",
       "    </tr>\n",
       "    <tr>\n",
       "      <th>1</th>\n",
       "      <td>2003</td>\n",
       "      <td>1</td>\n",
       "      <td>REG</td>\n",
       "      <td>10012003-0904-00a6-ff62-12e477623f1a</td>\n",
       "      <td>10160000-0264-94ab-68f5-9ff371a986a3</td>\n",
       "      <td>2003-09-04 09:00:00+00:00</td>\n",
       "      <td>2003-09-04</td>\n",
       "      <td>NYJ</td>\n",
       "      <td>WAS</td>\n",
       "      <td>13.0</td>\n",
       "      <td>...</td>\n",
       "      <td>1</td>\n",
       "      <td>1</td>\n",
       "      <td>1.0</td>\n",
       "      <td>WAS</td>\n",
       "      <td>WAS</td>\n",
       "      <td>NYJ</td>\n",
       "      <td>WAS</td>\n",
       "      <td>away</td>\n",
       "      <td>0</td>\n",
       "      <td>0</td>\n",
       "    </tr>\n",
       "    <tr>\n",
       "      <th>2</th>\n",
       "      <td>2003</td>\n",
       "      <td>1</td>\n",
       "      <td>REG</td>\n",
       "      <td>10012003-0907-0075-30bd-8e1167d1c6ac</td>\n",
       "      <td>10160000-0264-997c-6c87-72c644130bbf</td>\n",
       "      <td>2003-09-07 09:00:00+00:00</td>\n",
       "      <td>2003-09-07</td>\n",
       "      <td>DET</td>\n",
       "      <td>ARI</td>\n",
       "      <td>42.0</td>\n",
       "      <td>...</td>\n",
       "      <td>1</td>\n",
       "      <td>1</td>\n",
       "      <td>1.0</td>\n",
       "      <td>DET</td>\n",
       "      <td>ARI</td>\n",
       "      <td>DET</td>\n",
       "      <td>ARI</td>\n",
       "      <td>home</td>\n",
       "      <td>0</td>\n",
       "      <td>1</td>\n",
       "    </tr>\n",
       "    <tr>\n",
       "      <th>3</th>\n",
       "      <td>2003</td>\n",
       "      <td>1</td>\n",
       "      <td>REG</td>\n",
       "      <td>10012003-0907-0126-f566-a59e19a70a3a</td>\n",
       "      <td>10160000-0264-97a8-19af-9168b28ada0a</td>\n",
       "      <td>2003-09-07 09:00:00+00:00</td>\n",
       "      <td>2003-09-07</td>\n",
       "      <td>CIN</td>\n",
       "      <td>DEN</td>\n",
       "      <td>10.0</td>\n",
       "      <td>...</td>\n",
       "      <td>1</td>\n",
       "      <td>1</td>\n",
       "      <td>1.0</td>\n",
       "      <td>DEN</td>\n",
       "      <td>DEN</td>\n",
       "      <td>DEN</td>\n",
       "      <td>DEN</td>\n",
       "      <td>home</td>\n",
       "      <td>0</td>\n",
       "      <td>1</td>\n",
       "    </tr>\n",
       "    <tr>\n",
       "      <th>4</th>\n",
       "      <td>2003</td>\n",
       "      <td>1</td>\n",
       "      <td>REG</td>\n",
       "      <td>10012003-0907-0277-e7c6-41b36cc4a1ce</td>\n",
       "      <td>10160000-0264-9839-6579-47a20841e644</td>\n",
       "      <td>2003-09-07 09:00:00+00:00</td>\n",
       "      <td>2003-09-07</td>\n",
       "      <td>CLE</td>\n",
       "      <td>IND</td>\n",
       "      <td>6.0</td>\n",
       "      <td>...</td>\n",
       "      <td>1</td>\n",
       "      <td>1</td>\n",
       "      <td>1.0</td>\n",
       "      <td>IND</td>\n",
       "      <td>CLE</td>\n",
       "      <td>IND</td>\n",
       "      <td>CLE</td>\n",
       "      <td>home</td>\n",
       "      <td>0</td>\n",
       "      <td>1</td>\n",
       "    </tr>\n",
       "  </tbody>\n",
       "</table>\n",
       "<p>5 rows × 60 columns</p>\n",
       "</div>"
      ],
      "text/plain": [
       "   season  week week_type                               game_id  \\\n",
       "0    2003     1       REG  10012003-0904-00a6-ff62-12e477623f1a   \n",
       "1    2003     1       REG  10012003-0904-00a6-ff62-12e477623f1a   \n",
       "2    2003     1       REG  10012003-0907-0075-30bd-8e1167d1c6ac   \n",
       "3    2003     1       REG  10012003-0907-0126-f566-a59e19a70a3a   \n",
       "4    2003     1       REG  10012003-0907-0277-e7c6-41b36cc4a1ce   \n",
       "\n",
       "                        game_details_id                  game_time  \\\n",
       "0  10160000-0264-94ab-68f5-9ff371a986a3  2003-09-04 09:00:00+00:00   \n",
       "1  10160000-0264-94ab-68f5-9ff371a986a3  2003-09-04 09:00:00+00:00   \n",
       "2  10160000-0264-997c-6c87-72c644130bbf  2003-09-07 09:00:00+00:00   \n",
       "3  10160000-0264-97a8-19af-9168b28ada0a  2003-09-07 09:00:00+00:00   \n",
       "4  10160000-0264-9839-6579-47a20841e644  2003-09-07 09:00:00+00:00   \n",
       "\n",
       "    game_date team against_team  team_score  ...  week_type_ord  week_num  \\\n",
       "0  2003-09-04  WAS          NYJ        16.0  ...              1         1   \n",
       "1  2003-09-04  NYJ          WAS        13.0  ...              1         1   \n",
       "2  2003-09-07  DET          ARI        42.0  ...              1         1   \n",
       "3  2003-09-07  CIN          DEN        10.0  ...              1         1   \n",
       "4  2003-09-07  CLE          IND         6.0  ...              1         1   \n",
       "\n",
       "   week_quin  Gel  Hector  Emilio  Sonny  home_or_away  div_game  conf_game  \n",
       "0        1.0  WAS     WAS     NYJ    WAS          home         0          0  \n",
       "1        1.0  WAS     WAS     NYJ    WAS          away         0          0  \n",
       "2        1.0  DET     ARI     DET    ARI          home         0          1  \n",
       "3        1.0  DEN     DEN     DEN    DEN          home         0          1  \n",
       "4        1.0  IND     CLE     IND    CLE          home         0          1  \n",
       "\n",
       "[5 rows x 60 columns]"
      ]
     },
     "execution_count": 213,
     "metadata": {},
     "output_type": "execute_result"
    }
   ],
   "source": [
    "df_home = df.copy()\n",
    "\n",
    "df_home = df_home.drop([x for x in AWAY_COLS['id'] if x != 'away_team'][0], axis=1)\n",
    "df_home = df_home.rename(columns={x:x.replace('visitor', 'against').replace('away', 'against').replace('_home', '').replace('home_', '') for x in df_home.columns})\n",
    "df_home['home_or_away'] = 'home'\n",
    "\n",
    "df_away = df.copy()\n",
    "df_away = df_away.drop([x for x in HOME_COLS['id'] if x != 'home_team'][0], axis=1)\n",
    "df_away = df_away.rename(columns={x:x.replace('home', 'against').replace('_away', '').replace('away_', '').replace('visitor_', '') \\\n",
    "    for x in df_away.columns})\n",
    "df_away['home_or_away'] = 'away'\n",
    "\n",
    "df_teams = pd.concat([df_home, df_away]).sort_values(['season', 'week', 'game_time']).reset_index(drop=True)\n",
    "\n",
    "## Get Division and Conference Wins\n",
    "# df_teams['div_winner'] = [1 if ((x==y) & (team == win)) else 0 for x,y,team, win in df_teams[['division', 'division_against', 'team','winner']].values]\n",
    "# df_teams['conf_winner'] = [1 if ((x==y) & (team == win)) else 0 for x,y,team, win in df_teams[['conference', 'conference_against', 'team', 'winner']].values]\n",
    "df_teams['div_game'] = [1 if (x==y) else 0 for x,y in df_teams[['division', 'division_against']].values]\n",
    "df_teams['conf_game'] = [1 if (x==y) else 0 for x,y in df_teams[['conference', 'conference_against']].values]\n",
    "df_teams.head()\n"
   ]
  },
  {
   "cell_type": "code",
   "execution_count": 197,
   "metadata": {},
   "outputs": [
    {
     "data": {
      "text/html": [
       "<pre>✔️ 15 ms (2022-07-13T12:00:41/2022-07-13T12:00:41)</pre>"
      ],
      "text/plain": [
       "<IPython.core.display.HTML object>"
      ]
     },
     "metadata": {},
     "output_type": "display_data"
    },
    {
     "data": {
      "text/plain": [
       "[P('Last Games:'),\n",
       " P('2019 REG - Week 3 CHI\\t 31 at 15 WAS'),\n",
       " P('2019 REG - Week 2 DAL\\t 31 at 21 WAS'),\n",
       " P('2019 REG - Week 1 WAS\\t 27 at 32 PHI'),\n",
       " P('Streak: LLL')]"
      ]
     },
     "execution_count": 197,
     "metadata": {},
     "output_type": "execute_result"
    }
   ],
   "source": [
    "def team_stats(team, season=None, week=None, df_teams=df_teams):\n",
    "\n",
    "    loc = 1\n",
    "    if week==1:\n",
    "        season=season-1\n",
    "        week = df_teams.loc[df_teams['season']==season].week_num.max()\n",
    "        loc = 0\n",
    "\n",
    "    team_df = df_teams.loc[df_teams['team']==team].reset_index(drop=True)\n",
    "\n",
    "    if len(team_df) > 0:\n",
    "        team_df = team_df.loc[team_df['season']==season].reset_index(drop=True)\n",
    "\n",
    "    if len(team_df) > 0:\n",
    "        team_df = team_df.loc[team_df['week_num']<=week].reset_index(drop=True)\n",
    "\n",
    "    ## Previous Three Games\n",
    "    last_3_games = team_df.sort_values(['game_time'], ascending=False).iloc[loc:].head(3)[['week_type', 'week_num', 'against_team', 'team', 'team_score', 'against_team_score', 'points_overtime_total','against_points_overtime_total', 'home_or_away']]\n",
    "    last_3_gamesL = [html.P('Last Games:')]\n",
    "    for idx, game in last_3_games.iterrows():\n",
    "        if game['home_or_away'] == 'home':\n",
    "            last_3_gamesL.append(html.P(\"{} {} - Week {} \".format(season, game['week_type'], str(game['week_num']))  + \\\n",
    "                game['against_team'] + \\\n",
    "                '\\t {} at {} '.format(int(game['against_team_score']+game['against_points_overtime_total']), \n",
    "                int(game['team_score']+game['points_overtime_total'])) + game['team']))\n",
    "        else:\n",
    "            last_3_gamesL.append(html.P(\"{} {} - Week {} \".format(season, game['week_type'], str(game['week_num'])) + \\\n",
    "                game['team'] + \\\n",
    "                '\\t {} at {} '.format(int(game['team_score']+game['points_overtime_total']), \n",
    "                int(game['against_team_score']+game['against_points_overtime_total'])) + game['against_team']))\n",
    "\n",
    "    ## Win Streak\n",
    "    last_5_games = team_df.sort_values(['game_time'], ascending=False).iloc[loc:].head(5)[['against_team', 'team', 'winner', 'home_or_away']]\n",
    "    win_streak = \"Streak: \"\n",
    "    for idx, game in last_5_games.iterrows():\n",
    "        if game['winner'] == game['team']:\n",
    "            win_streak += 'W'\n",
    "        else:\n",
    "            win_streak += 'L'\n",
    "\n",
    "    ## Off. Yard Rank\n",
    "    ## Def. Yard Rank\n",
    "\n",
    "    # return team_df.groupby(['team']).sum().reset_index(drop=False).drop(['season', 'week', 'week_num', 'week_type_ord',\n",
    "    #                                                                     'week_quin'], axis=1)\n",
    "\n",
    "    return last_3_gamesL +   [html.P(win_streak)]\n",
    "\n",
    "res = team_stats(team='WAS', season=2019, week=4, df_teams=df_teams)\n",
    "res"
   ]
  },
  {
   "cell_type": "code",
   "execution_count": 198,
   "metadata": {},
   "outputs": [
    {
     "data": {
      "text/html": [
       "<pre>✔️ 16 ms (2022-07-13T12:00:42/2022-07-13T12:00:42)</pre>"
      ],
      "text/plain": [
       "<IPython.core.display.HTML object>"
      ]
     },
     "metadata": {},
     "output_type": "display_data"
    }
   ],
   "source": [
    "season=2019\n",
    "week=5\n",
    "team='WAS'\n",
    "\n",
    "loc = 1\n",
    "if week==1:\n",
    "    season=season-1\n",
    "    week = df_teams.loc[df_teams['season']==season].week_num.max()\n",
    "    loc = 0\n",
    "\n",
    "team_df = df_teams.loc[df_teams['team']==team].reset_index(drop=True)\n",
    "\n",
    "if len(team_df) > 0:\n",
    "    team_df = team_df.loc[team_df['season']==season].reset_index(drop=True)\n",
    "\n",
    "if len(team_df) > 0:\n",
    "    team_df = team_df.loc[team_df['week_num']<=week].reset_index(drop=True)\n",
    "\n",
    "## Previous Three Games\n",
    "last_3_games = team_df.sort_values(['game_time'], ascending=False).iloc[loc:].head(3)[['week_type', 'week_num', 'against_team', 'team', 'team_score', 'against_team_score', 'points_overtime_total','against_points_overtime_total', 'home_or_away']]\n",
    "last_3_gamesL = [html.P('Last Games:')]\n",
    "for idx, game in last_3_games.iterrows():\n",
    "    if game['home_or_away'] == 'home':\n",
    "        last_3_gamesL.append(html.P(\"{} {} - Week {} \".format(season, game['week_type'], str(game['week_num']))  + \\\n",
    "            game['against_team'] + \\\n",
    "            '\\t {} at {} '.format(int(game['against_team_score']+game['against_points_overtime_total']), \n",
    "            int(game['team_score']+game['points_overtime_total'])) + game['team']))\n",
    "    else:\n",
    "        last_3_gamesL.append(html.P(\"{} {} - Week {} \".format(season, game['week_type'], str(game['week_num'])) + \\\n",
    "            game['team'] + \\\n",
    "            '\\t {} at {} '.format(int(game['team_score']+game['points_overtime_total']), \n",
    "            int(game['against_team_score']+game['against_points_overtime_total'])) + game['against_team']))\n",
    "\n",
    "## Win Streak\n",
    "last_5_games = team_df.sort_values(['game_time'], ascending=False).iloc[loc:].head(5)[['against_team', 'team', 'winner', 'home_or_away']]\n",
    "win_streak = \"Streak: \"\n",
    "for idx, game in last_5_games.iterrows():\n",
    "    if game['winner'] == game['team']:\n",
    "        win_streak += 'W'\n",
    "    else:\n",
    "        win_streak += 'L'\n",
    "\n"
   ]
  },
  {
   "cell_type": "markdown",
   "metadata": {},
   "source": [
    "## Users Statistics"
   ]
  },
  {
   "cell_type": "code",
   "execution_count": 199,
   "metadata": {},
   "outputs": [
    {
     "data": {
      "text/html": [
       "<pre>✔️ 0 ns (2022-07-13T12:00:42/2022-07-13T12:00:42)</pre>"
      ],
      "text/plain": [
       "<IPython.core.display.HTML object>"
      ]
     },
     "metadata": {},
     "output_type": "display_data"
    }
   ],
   "source": [
    "USER_LIST = ['Gel','Hector','Emilio','Sonny']\n",
    "def user_stats(userL=USER_LIST, season=None, week=None, df=df):\n",
    "\n",
    "    user_df = df.copy()\n",
    "\n",
    "    if pd.notnull(season):\n",
    "        user_df = user_df.loc[user_df['season']==season].reset_index(drop=True)\n",
    "\n",
    "    if pd.notnull(week):\n",
    "        user_df = user_df.loc[user_df['week_num']<=week].reset_index(drop=True)\n",
    "\n",
    "    for user in userL:\n",
    "\n",
    "        user_df.loc[user_df[user] == user_df['winner'], user+'_correct'] = 1\n",
    "        user_df.loc[user_df[user] != user_df['winner'], user+'_correct'] = 0\n",
    "\n",
    "    user_df = user_df.groupby(['season', 'week_num'])[[x+'_correct' for x in userL]].sum()\n",
    "    user_df[[x+'_score' for x in userL]] = user_df.groupby(['season', 'week_num'])[[x+'_correct' for x in userL]].sum().cumsum()\n",
    "\n",
    "\n",
    "    return user_df"
   ]
  },
  {
   "cell_type": "code",
   "execution_count": 200,
   "metadata": {},
   "outputs": [
    {
     "data": {
      "text/html": [
       "<pre>✔️ 16 ms (2022-07-13T12:00:42/2022-07-13T12:00:42)</pre>"
      ],
      "text/plain": [
       "<IPython.core.display.HTML object>"
      ]
     },
     "metadata": {},
     "output_type": "display_data"
    }
   ],
   "source": [
    "USER_LIST = ['Gel','Hector','Emilio','Sonny']\n",
    "userL=USER_LIST\n",
    "\n",
    "user_df = df.copy()[USER_LIST+['winner', 'season', 'week_num']]\n",
    "\n",
    "for user in userL:\n",
    "\n",
    "    user_df.loc[user_df[user] == user_df['winner'], user+'_correct'] = 1\n",
    "    user_df.loc[user_df[user] != user_df['winner'], user+'_correct'] = 0\n",
    "\n",
    "user_df = user_df.groupby(['season', 'week_num'])[[x+'_correct' for x in userL]].sum()\n",
    "user_df[[x+'_score' for x in userL]] = user_df.groupby(['season'])[[x+'_correct' for x in userL]].cumsum()\n",
    "user_df = user_df.reset_index(drop=False)"
   ]
  },
  {
   "cell_type": "code",
   "execution_count": 201,
   "metadata": {},
   "outputs": [
    {
     "data": {
      "text/html": [
       "<pre>✔️ 16 ms (2022-07-13T12:00:42/2022-07-13T12:00:43)</pre>"
      ],
      "text/plain": [
       "<IPython.core.display.HTML object>"
      ]
     },
     "metadata": {},
     "output_type": "display_data"
    },
    {
     "data": {
      "text/html": [
       "<div>\n",
       "<style scoped>\n",
       "    .dataframe tbody tr th:only-of-type {\n",
       "        vertical-align: middle;\n",
       "    }\n",
       "\n",
       "    .dataframe tbody tr th {\n",
       "        vertical-align: top;\n",
       "    }\n",
       "\n",
       "    .dataframe thead th {\n",
       "        text-align: right;\n",
       "    }\n",
       "</style>\n",
       "<table border=\"1\" class=\"dataframe\">\n",
       "  <thead>\n",
       "    <tr style=\"text-align: right;\">\n",
       "      <th></th>\n",
       "      <th></th>\n",
       "      <th>Gel</th>\n",
       "      <th>Hector</th>\n",
       "      <th>Emilio</th>\n",
       "      <th>Sonny</th>\n",
       "    </tr>\n",
       "  </thead>\n",
       "  <tbody>\n",
       "    <tr>\n",
       "      <th>0</th>\n",
       "      <td>Week Score</td>\n",
       "      <td>1.0</td>\n",
       "      <td>1.0</td>\n",
       "      <td>1.0</td>\n",
       "      <td>1.0</td>\n",
       "    </tr>\n",
       "    <tr>\n",
       "      <th>1</th>\n",
       "      <td>Season Score</td>\n",
       "      <td>165.0</td>\n",
       "      <td>168.0</td>\n",
       "      <td>159.0</td>\n",
       "      <td>159.0</td>\n",
       "    </tr>\n",
       "  </tbody>\n",
       "</table>\n",
       "</div>"
      ],
      "text/plain": [
       "                   Gel  Hector  Emilio  Sonny\n",
       "0    Week Score    1.0     1.0     1.0    1.0\n",
       "1  Season Score  165.0   168.0   159.0  159.0"
      ]
     },
     "execution_count": 201,
     "metadata": {},
     "output_type": "execute_result"
    }
   ],
   "source": [
    "season=2019\n",
    "week=18\n",
    "curr_user = user_df.loc[((user_df.season==season) & (user_df.week_num==week))]\n",
    "\n",
    "curr_user = pd.concat([\n",
    "            curr_user[[x+'_correct' for x in USER_LIST]].rename(columns={x+'_correct':x for x in USER_LIST}).T,\n",
    "            curr_user[[x+'_score' for x in USER_LIST]].rename(columns={x+'_score':x for x in USER_LIST}).T,\n",
    "        ], axis=1)\n",
    "curr_user.columns = ['Week Score', 'Season Score']\n",
    "curr_user = curr_user.T.reset_index(drop=False)\n",
    "curr_user = curr_user.rename(columns={'index':''})\n",
    "curr_user"
   ]
  },
  {
   "cell_type": "code",
   "execution_count": 202,
   "metadata": {},
   "outputs": [
    {
     "data": {
      "text/html": [
       "<pre>✔️ 0 ns (2022-07-13T12:00:43/2022-07-13T12:00:43)</pre>"
      ],
      "text/plain": [
       "<IPython.core.display.HTML object>"
      ]
     },
     "metadata": {},
     "output_type": "display_data"
    }
   ],
   "source": [
    "curr_table = go.Table(\n",
    "                    header = dict(values=curr_user.columns.tolist()),\n",
    "                    cells = dict(\n",
    "                        values= [\n",
    "                            curr_user[col].astype(int).values.tolist() if col != '' \\\n",
    "                                else curr_user[col].values.tolist() \\\n",
    "                                    for col in curr_user.columns\n",
    "                        ]\n",
    "                    ),\n",
    "            )\n",
    "\n",
    "fig = go.Figure(data=[curr_table])"
   ]
  },
  {
   "cell_type": "code",
   "execution_count": 203,
   "metadata": {},
   "outputs": [
    {
     "data": {
      "text/html": [
       "<pre>✔️ 16 ms (2022-07-13T12:00:43/2022-07-13T12:00:43)</pre>"
      ],
      "text/plain": [
       "<IPython.core.display.HTML object>"
      ]
     },
     "metadata": {},
     "output_type": "display_data"
    },
    {
     "data": {
      "text/plain": [
       "[{'label': '1 - REG', 'value': 1},\n",
       " {'label': '2 - REG', 'value': 2},\n",
       " {'label': '3 - REG', 'value': 3},\n",
       " {'label': '4 - REG', 'value': 4},\n",
       " {'label': '5 - REG', 'value': 5},\n",
       " {'label': '6 - REG', 'value': 6},\n",
       " {'label': '7 - REG', 'value': 7},\n",
       " {'label': '8 - REG', 'value': 8},\n",
       " {'label': '9 - REG', 'value': 9},\n",
       " {'label': '10 - REG', 'value': 10},\n",
       " {'label': '11 - REG', 'value': 11},\n",
       " {'label': '12 - REG', 'value': 12},\n",
       " {'label': '13 - REG', 'value': 13},\n",
       " {'label': '14 - REG', 'value': 14},\n",
       " {'label': '15 - REG', 'value': 15},\n",
       " {'label': '16 - REG', 'value': 16},\n",
       " {'label': '17 - REG', 'value': 17},\n",
       " {'label': '18 - REG', 'value': 18},\n",
       " {'label': '1 - WC', 'value': 1},\n",
       " {'label': '2 - DIV', 'value': 2},\n",
       " {'label': '3 - CONF', 'value': 3},\n",
       " {'label': '4 - SB', 'value': 4}]"
      ]
     },
     "execution_count": 203,
     "metadata": {},
     "output_type": "execute_result"
    }
   ],
   "source": [
    "[{'label':\"{week} - {week_type}\".format(week=week, week_type=week_type), 'value':week} for week_num, week, week_type in df.loc[df['season']==preds['season'].max()]\\\n",
    "                            .sort_values('week_num', ascending=True).groupby(['week_num', 'week', 'week_type']).size()\\\n",
    "                                .reset_index(drop=False)[['week_num', 'week', 'week_type']].values]"
   ]
  },
  {
   "cell_type": "markdown",
   "metadata": {},
   "source": [
    "## User Team Stats"
   ]
  },
  {
   "cell_type": "code",
   "execution_count": 204,
   "metadata": {},
   "outputs": [
    {
     "data": {
      "text/html": [
       "<pre>✔️ 31 ms (2022-07-13T12:00:43/2022-07-13T12:00:43)</pre>"
      ],
      "text/plain": [
       "<IPython.core.display.HTML object>"
      ]
     },
     "metadata": {},
     "output_type": "display_data"
    },
    {
     "data": {
      "text/plain": [
       "['team home  total  tn  fp  fn  tp   acc',\n",
       " '  GB away      5   3   0   2   0 FTFTT',\n",
       " '  GB home      5   2   0   3   0 FTTFF',\n",
       " '  TB away      5   3   0   2   0 TTTFF',\n",
       " '  TB home      5   0   1   2   2 FTFFT']"
      ]
     },
     "execution_count": 204,
     "metadata": {},
     "output_type": "execute_result"
    }
   ],
   "source": [
    "user='Emilio'\n",
    "home_team = 'GB'\n",
    "away_team = 'TB'\n",
    "season = 2020\n",
    "week = 1\n",
    "\n",
    "def user_team_stats(user, home_team, away_team, season, week):\n",
    "\n",
    "    from sklearn.metrics import confusion_matrix\n",
    "\n",
    "    min_date = df_teams.loc[df_teams['season']== season].loc[df_teams['week'] == week].game_date.min()\n",
    "    curr_teams = df_teams.loc[df_teams['team'].isin([home_team, away_team])].loc[df_teams['game_date']<min_date].reset_index(drop=False)\n",
    "\n",
    "    user_acc = pd.DataFrame([], columns=['team', 'home', 'total', 'tn', 'fp', 'fn', 'tp', 'acc'])\n",
    "\n",
    "    count = 0\n",
    "    for (team, hw), vals in curr_teams.groupby(['team', 'home_or_away'])[[user, 'winner', 'game_date']]:\n",
    "\n",
    "        vals = vals.sort_values(['game_date']).head(5)\n",
    "\n",
    "        actual = [x if x == team else 'other' for x in vals['winner']]\n",
    "        user_pred = [x if x == team else 'other' for x in vals[user]]\n",
    "\n",
    "        cm = confusion_matrix(actual, user_pred).ravel()\n",
    "\n",
    "        if len(cm) == 1:\n",
    "            if np.unique(actual)[0] == 'other':\n",
    "                tn, fp, fn, tp = len(actual),0,0,0\n",
    "            else:\n",
    "                tn, fp, fn, tp = 0,0,0,len(actual)\n",
    "        else:\n",
    "            tn, fp, fn, tp = cm\n",
    "\n",
    "        acc = \"\"\n",
    "        for act, pred in zip(actual, user_pred):\n",
    "            if act == pred:\n",
    "                acc += 'T'\n",
    "            else:\n",
    "                acc += 'F'\n",
    "\n",
    "        user_acc.loc[count] = [team, hw, len(vals), tn, fp, fn, tp, acc]\n",
    "\n",
    "        count += 1       \n",
    "\n",
    "    return user_acc\n",
    "\n",
    "user_team_stats(user, home_team, away_team, season, week).to_string(index=False).split('\\n')"
   ]
  },
  {
   "cell_type": "markdown",
   "metadata": {},
   "source": [
    "## Team Stats"
   ]
  },
  {
   "cell_type": "code",
   "execution_count": 276,
   "metadata": {},
   "outputs": [
    {
     "data": {
      "text/html": [
       "<pre>✔️ 0 ns (2022-07-13T12:42:29/2022-07-13T12:42:29)</pre>"
      ],
      "text/plain": [
       "<IPython.core.display.HTML object>"
      ]
     },
     "metadata": {},
     "output_type": "display_data"
    },
    {
     "data": {
      "text/plain": [
       "Index(['season', 'week', 'week_type', 'game_id', 'game_details_id',\n",
       "       'game_time', 'game_date', 'team', 'against_team', 'team_score',\n",
       "       'against_team_score', 'points_overtime_total',\n",
       "       'against_points_overtime_total', 'points_q1', 'points_q2', 'points_q3',\n",
       "       'points_q4', 'passing_yards', 'passing_touchdowns', 'rushing_yards',\n",
       "       'rushing_touchdowns', 'against_points_q1', 'against_points_q2',\n",
       "       'against_points_q3', 'against_points_q4', 'against_passing_yards',\n",
       "       'against_passing_touchdowns', 'against_rushing_yards',\n",
       "       'against_rushing_touchdowns', 'phase', 'winner', 'total_score',\n",
       "       'total_against_score', 'total_yards', 'against_total_yards',\n",
       "       'abbreviation', 'full_name', 'nick_name', 'conference', 'division',\n",
       "       'city_state_region', 'venue', 'logo', 'full_name_against',\n",
       "       'nick_name_against', 'conference_against', 'division_against',\n",
       "       'city_state_region_against', 'venue_against', 'logo_against',\n",
       "       'week_type_ord', 'week_num', 'week_quin', 'Gel', 'Hector', 'Emilio',\n",
       "       'Sonny', 'home_or_away', 'div_game', 'conf_game'],\n",
       "      dtype='object')"
      ]
     },
     "execution_count": 276,
     "metadata": {},
     "output_type": "execute_result"
    }
   ],
   "source": [
    "df_teams.columns"
   ]
  },
  {
   "cell_type": "code",
   "execution_count": 277,
   "metadata": {},
   "outputs": [
    {
     "data": {
      "text/html": [
       "<pre>✔️ 16 ms (2022-07-13T12:44:58/2022-07-13T12:44:58)</pre>"
      ],
      "text/plain": [
       "<IPython.core.display.HTML object>"
      ]
     },
     "metadata": {},
     "output_type": "display_data"
    }
   ],
   "source": [
    "def team_rankings(df_teams, week, season):\n",
    "\n",
    "    ## Get Data For Current Week and Season\n",
    "    curr_teams = df_teams.loc[df_teams['season']==season].loc[df_teams['week_num']<=week].reset_index(drop=True)\n",
    "\n",
    "    ## Against Cols\n",
    "    # against_cols = ['against_passing_yards','against_passing_touchdowns', 'against_rushing_yards','against_rushing_touchdowns', 'total_against_score', 'against_total_yards']\n",
    "    against_cols = ['total_against_score', 'against_total_yards']\n",
    "\n",
    "    ## For Cols\n",
    "    # for_cols = ['passing_yards', 'passing_touchdowns', 'rushing_yards', 'rushing_touchdowns', 'total_score', 'total_yards']\n",
    "    for_cols = ['total_score', 'total_yards']\n",
    "\n",
    "    ## Div or Conf Cols\n",
    "    curr_teams['game'] = 1\n",
    "    curr_teams['win'] = [1 if x==y else 0 for x,y in curr_teams[['team', 'winner']].values]\n",
    "    other_cols = ['win', 'game', 'conf_game', 'div_game']\n",
    "\n",
    "    ## Team Overall Summary\n",
    "    team_summ = curr_teams.groupby(['team', 'division', 'conference'])[against_cols + for_cols + other_cols].sum().reset_index(drop=False)\n",
    "\n",
    "    ########## Rankings ###############\n",
    "    rankings = {}\n",
    "\n",
    "    ## Division Ranking\n",
    "    rankings['div'] = pd.concat([\n",
    "                            team_summ[['team', 'div_game', 'win']], \n",
    "                            team_summ.groupby(['division'])[for_cols + ['win']].rank(ascending=False, method='min').rename(columns={'win':'RANK'}),\n",
    "                            team_summ.groupby(['division'])[against_cols].rank(ascending=True, method='min'), \n",
    "                            ], axis=1).rename(columns={'div_game':'game'})\n",
    "    rankings['div']['SET'] = 'DIV'\n",
    "\n",
    "\n",
    "    ## Conference Ranking\n",
    "    rankings['conf'] = pd.concat([\n",
    "                            team_summ[['team', 'conf_game', 'win']], \n",
    "                            team_summ.groupby(['conference'])[for_cols + ['win']].rank(ascending=False, method='min').rename(columns={'win':'RANK'}),\n",
    "                            team_summ.groupby(['conference'])[against_cols].rank(ascending=True, method='min'), \n",
    "                    ], axis=1).rename(columns={'conf_game':'game'})\n",
    "    rankings['conf']['SET'] = 'CONF'\n",
    "\n",
    "\n",
    "    ## Overall Ranking\n",
    "    rankings['all'] = pd.concat([\n",
    "                            team_summ[['team', 'game', 'win']], \n",
    "                            team_summ[for_cols + ['win']].rank(ascending=False, method='min').rename(columns={'win':'RANK'}),\n",
    "                            team_summ[against_cols].rank(ascending=True, method='min'), \n",
    "                            ], axis=1)\n",
    "    rankings['all']['SET'] = 'ALL'\n",
    "\n",
    "    ## Concat \n",
    "    rankings = pd.concat(rankings.values())\n",
    "    rankings.columns = ['TEAM', 'GP', 'W', 'OFF-PTS', 'OFF-YRDS','RANK', 'DEF-PTS', 'DEF-YRDS', 'SET']\n",
    "    for col in ['GP', 'W', 'DEF-PTS', 'DEF-YRDS', 'OFF-PTS', 'OFF-YRDS', 'RANK']:\n",
    "        rankings[col] = rankings[col].astype(int)\n",
    "    rankings = rankings[['TEAM', 'SET', 'RANK', 'GP', 'W', 'OFF-PTS', 'OFF-YRDS', 'DEF-PTS', 'DEF-YRDS']]\n",
    "\n",
    "    ########## AVG YARD AND SCORE ###############\n",
    "    team_avg = curr_teams.groupby(['team'])[against_cols + for_cols].mean().reset_index(drop=False)\n",
    "    team_avg.columns = ['TEAM', 'OFF-PTS', 'OFF-YRDS', 'DEF-PTS', 'DEF-YRDS',]\n",
    "\n",
    "    return rankings, team_avg"
   ]
  },
  {
   "cell_type": "code",
   "execution_count": 302,
   "metadata": {},
   "outputs": [
    {
     "data": {
      "text/html": [
       "<pre>✔️ 16 ms (2022-07-13T13:25:55/2022-07-13T13:25:55)</pre>"
      ],
      "text/plain": [
       "<IPython.core.display.HTML object>"
      ]
     },
     "metadata": {},
     "output_type": "display_data"
    }
   ],
   "source": [
    "rankings, team_summ = team_rankings(df_teams, week=5, season=2019)"
   ]
  },
  {
   "cell_type": "code",
   "execution_count": 303,
   "metadata": {},
   "outputs": [
    {
     "data": {
      "text/html": [
       "<pre>✔️ 0 ns (2022-07-13T13:25:55/2022-07-13T13:25:55)</pre>"
      ],
      "text/plain": [
       "<IPython.core.display.HTML object>"
      ]
     },
     "metadata": {},
     "output_type": "display_data"
    },
    {
     "data": {
      "text/html": [
       "<div>\n",
       "<style scoped>\n",
       "    .dataframe tbody tr th:only-of-type {\n",
       "        vertical-align: middle;\n",
       "    }\n",
       "\n",
       "    .dataframe tbody tr th {\n",
       "        vertical-align: top;\n",
       "    }\n",
       "\n",
       "    .dataframe thead th {\n",
       "        text-align: right;\n",
       "    }\n",
       "</style>\n",
       "<table border=\"1\" class=\"dataframe\">\n",
       "  <thead>\n",
       "    <tr style=\"text-align: right;\">\n",
       "      <th></th>\n",
       "      <th>RANK</th>\n",
       "      <th>GP</th>\n",
       "      <th>W</th>\n",
       "      <th>OFF-PTS</th>\n",
       "      <th>OFF-YRDS</th>\n",
       "      <th>DEF-PTS</th>\n",
       "      <th>DEF-YRDS</th>\n",
       "    </tr>\n",
       "    <tr>\n",
       "      <th>SET</th>\n",
       "      <th></th>\n",
       "      <th></th>\n",
       "      <th></th>\n",
       "      <th></th>\n",
       "      <th></th>\n",
       "      <th></th>\n",
       "      <th></th>\n",
       "    </tr>\n",
       "  </thead>\n",
       "  <tbody>\n",
       "    <tr>\n",
       "      <th>DIV</th>\n",
       "      <td>4</td>\n",
       "      <td>3</td>\n",
       "      <td>0</td>\n",
       "      <td>4</td>\n",
       "      <td>4</td>\n",
       "      <td>4</td>\n",
       "      <td>3</td>\n",
       "    </tr>\n",
       "    <tr>\n",
       "      <th>CONF</th>\n",
       "      <td>16</td>\n",
       "      <td>4</td>\n",
       "      <td>0</td>\n",
       "      <td>16</td>\n",
       "      <td>15</td>\n",
       "      <td>15</td>\n",
       "      <td>14</td>\n",
       "    </tr>\n",
       "    <tr>\n",
       "      <th>ALL</th>\n",
       "      <td>29</td>\n",
       "      <td>5</td>\n",
       "      <td>0</td>\n",
       "      <td>30</td>\n",
       "      <td>28</td>\n",
       "      <td>30</td>\n",
       "      <td>29</td>\n",
       "    </tr>\n",
       "  </tbody>\n",
       "</table>\n",
       "</div>"
      ],
      "text/plain": [
       "      RANK  GP  W  OFF-PTS  OFF-YRDS  DEF-PTS  DEF-YRDS\n",
       "SET                                                    \n",
       "DIV      4   3  0        4         4        4         3\n",
       "CONF    16   4  0       16        15       15        14\n",
       "ALL     29   5  0       30        28       30        29"
      ]
     },
     "execution_count": 303,
     "metadata": {},
     "output_type": "execute_result"
    }
   ],
   "source": [
    "team_week_ranking = rankings.loc[rankings['TEAM']==team].drop(['TEAM'], axis=1).set_index(['SET'])\n",
    "team_week_ranking"
   ]
  },
  {
   "cell_type": "code",
   "execution_count": 304,
   "metadata": {},
   "outputs": [
    {
     "data": {
      "text/html": [
       "<pre>✔️ 15 ms (2022-07-13T13:25:57/2022-07-13T13:25:57)</pre>"
      ],
      "text/plain": [
       "<IPython.core.display.HTML object>"
      ]
     },
     "metadata": {},
     "output_type": "display_data"
    },
    {
     "data": {
      "text/html": [
       "<div>\n",
       "<style scoped>\n",
       "    .dataframe tbody tr th:only-of-type {\n",
       "        vertical-align: middle;\n",
       "    }\n",
       "\n",
       "    .dataframe tbody tr th {\n",
       "        vertical-align: top;\n",
       "    }\n",
       "\n",
       "    .dataframe thead th {\n",
       "        text-align: right;\n",
       "    }\n",
       "</style>\n",
       "<table border=\"1\" class=\"dataframe\">\n",
       "  <thead>\n",
       "    <tr style=\"text-align: right;\">\n",
       "      <th></th>\n",
       "      <th></th>\n",
       "      <th>OFF-PTS</th>\n",
       "      <th>OFF-YRDS</th>\n",
       "      <th>DEF-PTS</th>\n",
       "      <th>DEF-YRDS</th>\n",
       "    </tr>\n",
       "  </thead>\n",
       "  <tbody>\n",
       "    <tr>\n",
       "      <th>0</th>\n",
       "      <td>VAL</td>\n",
       "      <td>30.2</td>\n",
       "      <td>407.8</td>\n",
       "      <td>14.6</td>\n",
       "      <td>281.6</td>\n",
       "    </tr>\n",
       "    <tr>\n",
       "      <th>1</th>\n",
       "      <td>DIV</td>\n",
       "      <td>4.0</td>\n",
       "      <td>4.0</td>\n",
       "      <td>4.0</td>\n",
       "      <td>3.0</td>\n",
       "    </tr>\n",
       "    <tr>\n",
       "      <th>2</th>\n",
       "      <td>CONF</td>\n",
       "      <td>16.0</td>\n",
       "      <td>15.0</td>\n",
       "      <td>15.0</td>\n",
       "      <td>14.0</td>\n",
       "    </tr>\n",
       "    <tr>\n",
       "      <th>3</th>\n",
       "      <td>ALL</td>\n",
       "      <td>30.0</td>\n",
       "      <td>28.0</td>\n",
       "      <td>30.0</td>\n",
       "      <td>29.0</td>\n",
       "    </tr>\n",
       "  </tbody>\n",
       "</table>\n",
       "</div>"
      ],
      "text/plain": [
       "         OFF-PTS  OFF-YRDS  DEF-PTS  DEF-YRDS\n",
       "0   VAL     30.2     407.8     14.6     281.6\n",
       "1   DIV      4.0       4.0      4.0       3.0\n",
       "2  CONF     16.0      15.0     15.0      14.0\n",
       "3   ALL     30.0      28.0     30.0      29.0"
      ]
     },
     "execution_count": 304,
     "metadata": {},
     "output_type": "execute_result"
    }
   ],
   "source": [
    "team_week_summ = team_summ.loc[team_summ['TEAM']==team].drop(['TEAM'], axis=1)\n",
    "team_week_summ.index = ['VAL']\n",
    "team_week_summ = pd.concat([team_week_summ, team_week_ranking[team_week_summ.columns]]).reset_index(drop=False).rename(columns={'index':''})\n",
    "\n",
    "team_week_summ"
   ]
  },
  {
   "cell_type": "code",
   "execution_count": null,
   "metadata": {},
   "outputs": [],
   "source": []
  }
 ],
 "metadata": {
  "kernelspec": {
   "display_name": "Python 3.9.13 ('venv': venv)",
   "language": "python",
   "name": "python3"
  },
  "language_info": {
   "codemirror_mode": {
    "name": "ipython",
    "version": 3
   },
   "file_extension": ".py",
   "mimetype": "text/x-python",
   "name": "python",
   "nbconvert_exporter": "python",
   "pygments_lexer": "ipython3",
   "version": "3.8.8"
  },
  "vscode": {
   "interpreter": {
    "hash": "5152e42275411dbc3e462fa879a369e4fe94d83bb9fc4a10bfcc3bbe9c4bbce5"
   }
  }
 },
 "nbformat": 4,
 "nbformat_minor": 4
}
