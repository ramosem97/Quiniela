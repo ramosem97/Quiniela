{
 "cells": [
  {
   "cell_type": "markdown",
   "metadata": {},
   "source": [
    "# NFL API and Prediction Charts for Quiniela"
   ]
  },
  {
   "cell_type": "markdown",
   "metadata": {},
   "source": [
    "## Config"
   ]
  },
  {
   "cell_type": "code",
   "execution_count": 3,
   "metadata": {},
   "outputs": [
    {
     "data": {
      "text/html": [
       "<pre>✔️ 0 ns (2022-07-11T18:41:00/2022-07-11T18:41:00)</pre>"
      ],
      "text/plain": [
       "<IPython.core.display.HTML object>"
      ]
     },
     "metadata": {},
     "output_type": "display_data"
    }
   ],
   "source": [
    "%load_ext autotime"
   ]
  },
  {
   "cell_type": "code",
   "execution_count": 4,
   "metadata": {
    "collapsed": false,
    "jupyter": {
     "outputs_hidden": false
    }
   },
   "outputs": [
    {
     "data": {
      "text/html": [
       "<pre>✔️ 4.72 s (2022-07-11T18:41:00/2022-07-11T18:41:05)</pre>"
      ],
      "text/plain": [
       "<IPython.core.display.HTML object>"
      ]
     },
     "metadata": {},
     "output_type": "display_data"
    }
   ],
   "source": [
    "import pandas as pd\n",
    "import numpy as np\n",
    "import matplotlib.pyplot as plt\n",
    "import seaborn as sns\n",
    "import plotly.express as px\n",
    "import nflapi\n",
    "from datetime import datetime\n",
    "\n",
    "from dash import dash_table\n",
    "import plotly.graph_objects as go\n",
    "from jupyter_dash import JupyterDash\n",
    "from dash import dcc\n",
    "from dash import html\n",
    "from dash.dependencies import Input, Output"
   ]
  },
  {
   "cell_type": "markdown",
   "metadata": {},
   "source": [
    "## Read in Data"
   ]
  },
  {
   "cell_type": "code",
   "execution_count": 5,
   "metadata": {},
   "outputs": [
    {
     "data": {
      "text/html": [
       "<pre>✔️ 16 ms (2022-07-11T18:41:05/2022-07-11T18:41:05)</pre>"
      ],
      "text/plain": [
       "<IPython.core.display.HTML object>"
      ]
     },
     "metadata": {},
     "output_type": "display_data"
    }
   ],
   "source": [
    "nfl = nflapi.NFL(ua=\"nflapi\")"
   ]
  },
  {
   "cell_type": "code",
   "execution_count": 6,
   "metadata": {
    "collapsed": false,
    "jupyter": {
     "outputs_hidden": false
    }
   },
   "outputs": [
    {
     "data": {
      "text/html": [
       "<pre>✔️ 15 ms (2022-07-11T18:41:05/2022-07-11T18:41:05)</pre>"
      ],
      "text/plain": [
       "<IPython.core.display.HTML object>"
      ]
     },
     "metadata": {},
     "output_type": "display_data"
    },
    {
     "name": "stdout",
     "output_type": "stream",
     "text": [
      "['ARI' 'ATL' 'BAL' 'BUF' 'CAR' 'CHI' 'CIN' 'CLE' 'DAL' 'DEN' 'DET' 'GB'\n",
      " 'HOU' 'IND' 'JAX' 'KC' 'LA' 'LAC' 'LV' 'MIA' 'MIN' 'NE' 'NO' 'NYG' 'NYJ'\n",
      " 'PHI' 'PIT' 'SEA' 'SF' 'TB' 'TEN' 'WAS']\n",
      "32\n"
     ]
    },
    {
     "data": {
      "text/html": [
       "<div>\n",
       "<style scoped>\n",
       "    .dataframe tbody tr th:only-of-type {\n",
       "        vertical-align: middle;\n",
       "    }\n",
       "\n",
       "    .dataframe tbody tr th {\n",
       "        vertical-align: top;\n",
       "    }\n",
       "\n",
       "    .dataframe thead th {\n",
       "        text-align: right;\n",
       "    }\n",
       "</style>\n",
       "<table border=\"1\" class=\"dataframe\">\n",
       "  <thead>\n",
       "    <tr style=\"text-align: right;\">\n",
       "      <th></th>\n",
       "      <th>season</th>\n",
       "      <th>week</th>\n",
       "      <th>away_team</th>\n",
       "      <th>home_team</th>\n",
       "      <th>Gel</th>\n",
       "      <th>Hector</th>\n",
       "      <th>Emilio</th>\n",
       "      <th>Sonny</th>\n",
       "    </tr>\n",
       "  </thead>\n",
       "  <tbody>\n",
       "    <tr>\n",
       "      <th>0</th>\n",
       "      <td>2003</td>\n",
       "      <td>1</td>\n",
       "      <td>ATL</td>\n",
       "      <td>DAL</td>\n",
       "      <td>DAL</td>\n",
       "      <td>ATL</td>\n",
       "      <td>DAL</td>\n",
       "      <td>DAL</td>\n",
       "    </tr>\n",
       "    <tr>\n",
       "      <th>1</th>\n",
       "      <td>2003</td>\n",
       "      <td>1</td>\n",
       "      <td>NE</td>\n",
       "      <td>BUF</td>\n",
       "      <td>BUF</td>\n",
       "      <td>BUF</td>\n",
       "      <td>NE</td>\n",
       "      <td>BUF</td>\n",
       "    </tr>\n",
       "    <tr>\n",
       "      <th>2</th>\n",
       "      <td>2003</td>\n",
       "      <td>1</td>\n",
       "      <td>JAX</td>\n",
       "      <td>CAR</td>\n",
       "      <td>JAX</td>\n",
       "      <td>JAX</td>\n",
       "      <td>JAX</td>\n",
       "      <td>CAR</td>\n",
       "    </tr>\n",
       "    <tr>\n",
       "      <th>3</th>\n",
       "      <td>2003</td>\n",
       "      <td>1</td>\n",
       "      <td>DEN</td>\n",
       "      <td>CIN</td>\n",
       "      <td>DEN</td>\n",
       "      <td>DEN</td>\n",
       "      <td>DEN</td>\n",
       "      <td>DEN</td>\n",
       "    </tr>\n",
       "    <tr>\n",
       "      <th>4</th>\n",
       "      <td>2003</td>\n",
       "      <td>1</td>\n",
       "      <td>ARI</td>\n",
       "      <td>DET</td>\n",
       "      <td>DET</td>\n",
       "      <td>ARI</td>\n",
       "      <td>DET</td>\n",
       "      <td>ARI</td>\n",
       "    </tr>\n",
       "  </tbody>\n",
       "</table>\n",
       "</div>"
      ],
      "text/plain": [
       "   season  week away_team home_team  Gel Hector Emilio Sonny\n",
       "0    2003     1       ATL       DAL  DAL    ATL    DAL   DAL\n",
       "1    2003     1        NE       BUF  BUF    BUF     NE   BUF\n",
       "2    2003     1       JAX       CAR  JAX    JAX    JAX   CAR\n",
       "3    2003     1       DEN       CIN  DEN    DEN    DEN   DEN\n",
       "4    2003     1       ARI       DET  DET    ARI    DET   ARI"
      ]
     },
     "execution_count": 6,
     "metadata": {},
     "output_type": "execute_result"
    }
   ],
   "source": [
    "preds = pd.read_csv('../data/quiniela_res.csv').sort_values(['season', 'week'], ascending=True)\n",
    "preds['season'] = preds['season'].astype(int)\n",
    "preds['week'] = preds['week'].astype(int)\n",
    "preds = preds.rename(columns={'Home Team': 'home_team', 'Away Team':'away_team'})\n",
    "\n",
    "teamsL = np.unique(preds['away_team'].unique().tolist() + preds['home_team'].unique().tolist())\n",
    "print(np.sort(teamsL))\n",
    "print(len(teamsL))\n",
    "preds.head()"
   ]
  },
  {
   "cell_type": "code",
   "execution_count": 7,
   "metadata": {},
   "outputs": [
    {
     "data": {
      "text/html": [
       "<pre>✔️ 16 ms (2022-07-11T18:41:05/2022-07-11T18:41:05)</pre>"
      ],
      "text/plain": [
       "<IPython.core.display.HTML object>"
      ]
     },
     "metadata": {},
     "output_type": "display_data"
    },
    {
     "data": {
      "text/html": [
       "<div>\n",
       "<style scoped>\n",
       "    .dataframe tbody tr th:only-of-type {\n",
       "        vertical-align: middle;\n",
       "    }\n",
       "\n",
       "    .dataframe tbody tr th {\n",
       "        vertical-align: top;\n",
       "    }\n",
       "\n",
       "    .dataframe thead th {\n",
       "        text-align: right;\n",
       "    }\n",
       "</style>\n",
       "<table border=\"1\" class=\"dataframe\">\n",
       "  <thead>\n",
       "    <tr style=\"text-align: right;\">\n",
       "      <th></th>\n",
       "      <th>abbreviation</th>\n",
       "      <th>full_name</th>\n",
       "      <th>nick_name</th>\n",
       "      <th>conference</th>\n",
       "      <th>division</th>\n",
       "      <th>city_state_region</th>\n",
       "      <th>season</th>\n",
       "      <th>venue</th>\n",
       "      <th>logo</th>\n",
       "    </tr>\n",
       "  </thead>\n",
       "  <tbody>\n",
       "    <tr>\n",
       "      <th>0</th>\n",
       "      <td>WAS</td>\n",
       "      <td>Washington Redskins</td>\n",
       "      <td>Redskins</td>\n",
       "      <td>NFC</td>\n",
       "      <td>NFC_EASTERN</td>\n",
       "      <td>Washington</td>\n",
       "      <td>2003</td>\n",
       "      <td>NaN</td>\n",
       "      <td>WAS_logo_old.png</td>\n",
       "    </tr>\n",
       "    <tr>\n",
       "      <th>1</th>\n",
       "      <td>TB</td>\n",
       "      <td>Tampa Bay Buccaneers</td>\n",
       "      <td>Buccaneers</td>\n",
       "      <td>NFC</td>\n",
       "      <td>NFC_SOUTH</td>\n",
       "      <td>Tampa Bay</td>\n",
       "      <td>2003</td>\n",
       "      <td>NaN</td>\n",
       "      <td>TB_logo_old.png</td>\n",
       "    </tr>\n",
       "    <tr>\n",
       "      <th>2</th>\n",
       "      <td>SEA</td>\n",
       "      <td>Seattle Seahawks</td>\n",
       "      <td>Seahawks</td>\n",
       "      <td>NFC</td>\n",
       "      <td>NFC_WESTERN</td>\n",
       "      <td>Seattle</td>\n",
       "      <td>2003</td>\n",
       "      <td>NaN</td>\n",
       "      <td>SEA_logo_old.png</td>\n",
       "    </tr>\n",
       "    <tr>\n",
       "      <th>3</th>\n",
       "      <td>SF</td>\n",
       "      <td>San Francisco 49ers</td>\n",
       "      <td>49ers</td>\n",
       "      <td>NFC</td>\n",
       "      <td>NFC_WESTERN</td>\n",
       "      <td>San Francisco</td>\n",
       "      <td>2003</td>\n",
       "      <td>NaN</td>\n",
       "      <td>SF_logo.webp</td>\n",
       "    </tr>\n",
       "    <tr>\n",
       "      <th>4</th>\n",
       "      <td>LAC</td>\n",
       "      <td>San Diego Chargers</td>\n",
       "      <td>Chargers</td>\n",
       "      <td>AFC</td>\n",
       "      <td>AFC_WESTERN</td>\n",
       "      <td>San Diego</td>\n",
       "      <td>2003</td>\n",
       "      <td>NaN</td>\n",
       "      <td>LAC_logo.webp</td>\n",
       "    </tr>\n",
       "  </tbody>\n",
       "</table>\n",
       "</div>"
      ],
      "text/plain": [
       "  abbreviation             full_name   nick_name conference     division  \\\n",
       "0          WAS   Washington Redskins    Redskins        NFC  NFC_EASTERN   \n",
       "1           TB  Tampa Bay Buccaneers  Buccaneers        NFC    NFC_SOUTH   \n",
       "2          SEA      Seattle Seahawks    Seahawks        NFC  NFC_WESTERN   \n",
       "3           SF   San Francisco 49ers       49ers        NFC  NFC_WESTERN   \n",
       "4          LAC    San Diego Chargers    Chargers        AFC  AFC_WESTERN   \n",
       "\n",
       "  city_state_region  season venue              logo  \n",
       "0        Washington    2003   NaN  WAS_logo_old.png  \n",
       "1         Tampa Bay    2003   NaN   TB_logo_old.png  \n",
       "2           Seattle    2003   NaN  SEA_logo_old.png  \n",
       "3     San Francisco    2003   NaN      SF_logo.webp  \n",
       "4         San Diego    2003   NaN     LAC_logo.webp  "
      ]
     },
     "execution_count": 7,
     "metadata": {},
     "output_type": "execute_result"
    }
   ],
   "source": [
    "teams = pd.read_csv('../data/nfl_team_info_all.csv', index_col=0)\n",
    "teams['season'] = teams['season'].astype(int)\n",
    "team_dec = teams.groupby(['full_name', 'abbreviation']).size().reset_index(drop=False).set_index(['full_name'])['abbreviation'].to_dict()\n",
    "teams.head()"
   ]
  },
  {
   "cell_type": "code",
   "execution_count": 8,
   "metadata": {},
   "outputs": [
    {
     "data": {
      "text/html": [
       "<pre>✔️ 47 ms (2022-07-11T18:41:05/2022-07-11T18:41:06)</pre>"
      ],
      "text/plain": [
       "<IPython.core.display.HTML object>"
      ]
     },
     "metadata": {},
     "output_type": "display_data"
    },
    {
     "data": {
      "text/html": [
       "<div>\n",
       "<style scoped>\n",
       "    .dataframe tbody tr th:only-of-type {\n",
       "        vertical-align: middle;\n",
       "    }\n",
       "\n",
       "    .dataframe tbody tr th {\n",
       "        vertical-align: top;\n",
       "    }\n",
       "\n",
       "    .dataframe thead th {\n",
       "        text-align: right;\n",
       "    }\n",
       "</style>\n",
       "<table border=\"1\" class=\"dataframe\">\n",
       "  <thead>\n",
       "    <tr style=\"text-align: right;\">\n",
       "      <th></th>\n",
       "      <th>season</th>\n",
       "      <th>week</th>\n",
       "      <th>week_type</th>\n",
       "      <th>game_id</th>\n",
       "      <th>game_details_id</th>\n",
       "      <th>game_time</th>\n",
       "      <th>game_date</th>\n",
       "      <th>home_team</th>\n",
       "      <th>away_team</th>\n",
       "      <th>home_team_score</th>\n",
       "      <th>...</th>\n",
       "      <th>visitor_points_q1</th>\n",
       "      <th>visitor_points_q2</th>\n",
       "      <th>visitor_points_q3</th>\n",
       "      <th>visitor_points_q4</th>\n",
       "      <th>visitor_passing_yards</th>\n",
       "      <th>visitor_passing_touchdowns</th>\n",
       "      <th>visitor_rushing_yards</th>\n",
       "      <th>visitor_rushing_touchdowns</th>\n",
       "      <th>phase</th>\n",
       "      <th>winner</th>\n",
       "    </tr>\n",
       "  </thead>\n",
       "  <tbody>\n",
       "    <tr>\n",
       "      <th>0</th>\n",
       "      <td>2003</td>\n",
       "      <td>1</td>\n",
       "      <td>REG</td>\n",
       "      <td>10012003-0904-00a6-ff62-12e477623f1a</td>\n",
       "      <td>10160000-0264-94ab-68f5-9ff371a986a3</td>\n",
       "      <td>2003-09-04 09:00:00+00:00</td>\n",
       "      <td>2003-09-04</td>\n",
       "      <td>WAS</td>\n",
       "      <td>NYJ</td>\n",
       "      <td>16.0</td>\n",
       "      <td>...</td>\n",
       "      <td>7.0</td>\n",
       "      <td>0.0</td>\n",
       "      <td>3.0</td>\n",
       "      <td>3.0</td>\n",
       "      <td>101.0</td>\n",
       "      <td>0.0</td>\n",
       "      <td>57.0</td>\n",
       "      <td>1.0</td>\n",
       "      <td>FINAL</td>\n",
       "      <td>WAS</td>\n",
       "    </tr>\n",
       "    <tr>\n",
       "      <th>1</th>\n",
       "      <td>2003</td>\n",
       "      <td>1</td>\n",
       "      <td>REG</td>\n",
       "      <td>10012003-0907-0075-30bd-8e1167d1c6ac</td>\n",
       "      <td>10160000-0264-997c-6c87-72c644130bbf</td>\n",
       "      <td>2003-09-07 09:00:00+00:00</td>\n",
       "      <td>2003-09-07</td>\n",
       "      <td>DET</td>\n",
       "      <td>ARI</td>\n",
       "      <td>42.0</td>\n",
       "      <td>...</td>\n",
       "      <td>7.0</td>\n",
       "      <td>7.0</td>\n",
       "      <td>10.0</td>\n",
       "      <td>0.0</td>\n",
       "      <td>339.0</td>\n",
       "      <td>3.0</td>\n",
       "      <td>95.0</td>\n",
       "      <td>0.0</td>\n",
       "      <td>FINAL</td>\n",
       "      <td>DET</td>\n",
       "    </tr>\n",
       "    <tr>\n",
       "      <th>2</th>\n",
       "      <td>2003</td>\n",
       "      <td>1</td>\n",
       "      <td>REG</td>\n",
       "      <td>10012003-0907-0126-f566-a59e19a70a3a</td>\n",
       "      <td>10160000-0264-97a8-19af-9168b28ada0a</td>\n",
       "      <td>2003-09-07 09:00:00+00:00</td>\n",
       "      <td>2003-09-07</td>\n",
       "      <td>CIN</td>\n",
       "      <td>DEN</td>\n",
       "      <td>10.0</td>\n",
       "      <td>...</td>\n",
       "      <td>3.0</td>\n",
       "      <td>17.0</td>\n",
       "      <td>7.0</td>\n",
       "      <td>3.0</td>\n",
       "      <td>109.0</td>\n",
       "      <td>0.0</td>\n",
       "      <td>184.0</td>\n",
       "      <td>2.0</td>\n",
       "      <td>FINAL</td>\n",
       "      <td>DEN</td>\n",
       "    </tr>\n",
       "    <tr>\n",
       "      <th>3</th>\n",
       "      <td>2003</td>\n",
       "      <td>1</td>\n",
       "      <td>REG</td>\n",
       "      <td>10012003-0907-0277-e7c6-41b36cc4a1ce</td>\n",
       "      <td>10160000-0264-9839-6579-47a20841e644</td>\n",
       "      <td>2003-09-07 09:00:00+00:00</td>\n",
       "      <td>2003-09-07</td>\n",
       "      <td>CLE</td>\n",
       "      <td>IND</td>\n",
       "      <td>6.0</td>\n",
       "      <td>...</td>\n",
       "      <td>0.0</td>\n",
       "      <td>3.0</td>\n",
       "      <td>3.0</td>\n",
       "      <td>3.0</td>\n",
       "      <td>204.0</td>\n",
       "      <td>0.0</td>\n",
       "      <td>67.0</td>\n",
       "      <td>0.0</td>\n",
       "      <td>FINAL</td>\n",
       "      <td>IND</td>\n",
       "    </tr>\n",
       "    <tr>\n",
       "      <th>4</th>\n",
       "      <td>2003</td>\n",
       "      <td>1</td>\n",
       "      <td>REG</td>\n",
       "      <td>10012003-0907-0388-64cf-dd9886d18dde</td>\n",
       "      <td>10160000-0265-04d2-fd24-f2f5b0964d49</td>\n",
       "      <td>2003-09-07 09:00:00+00:00</td>\n",
       "      <td>2003-09-07</td>\n",
       "      <td>PIT</td>\n",
       "      <td>BAL</td>\n",
       "      <td>34.0</td>\n",
       "      <td>...</td>\n",
       "      <td>0.0</td>\n",
       "      <td>0.0</td>\n",
       "      <td>7.0</td>\n",
       "      <td>8.0</td>\n",
       "      <td>143.0</td>\n",
       "      <td>1.0</td>\n",
       "      <td>88.0</td>\n",
       "      <td>1.0</td>\n",
       "      <td>FINAL</td>\n",
       "      <td>PIT</td>\n",
       "    </tr>\n",
       "  </tbody>\n",
       "</table>\n",
       "<p>5 rows × 31 columns</p>\n",
       "</div>"
      ],
      "text/plain": [
       "   season  week week_type                               game_id  \\\n",
       "0    2003     1       REG  10012003-0904-00a6-ff62-12e477623f1a   \n",
       "1    2003     1       REG  10012003-0907-0075-30bd-8e1167d1c6ac   \n",
       "2    2003     1       REG  10012003-0907-0126-f566-a59e19a70a3a   \n",
       "3    2003     1       REG  10012003-0907-0277-e7c6-41b36cc4a1ce   \n",
       "4    2003     1       REG  10012003-0907-0388-64cf-dd9886d18dde   \n",
       "\n",
       "                        game_details_id                  game_time  \\\n",
       "0  10160000-0264-94ab-68f5-9ff371a986a3  2003-09-04 09:00:00+00:00   \n",
       "1  10160000-0264-997c-6c87-72c644130bbf  2003-09-07 09:00:00+00:00   \n",
       "2  10160000-0264-97a8-19af-9168b28ada0a  2003-09-07 09:00:00+00:00   \n",
       "3  10160000-0264-9839-6579-47a20841e644  2003-09-07 09:00:00+00:00   \n",
       "4  10160000-0265-04d2-fd24-f2f5b0964d49  2003-09-07 09:00:00+00:00   \n",
       "\n",
       "    game_date home_team away_team  home_team_score  ...  visitor_points_q1  \\\n",
       "0  2003-09-04       WAS       NYJ             16.0  ...                7.0   \n",
       "1  2003-09-07       DET       ARI             42.0  ...                7.0   \n",
       "2  2003-09-07       CIN       DEN             10.0  ...                3.0   \n",
       "3  2003-09-07       CLE       IND              6.0  ...                0.0   \n",
       "4  2003-09-07       PIT       BAL             34.0  ...                0.0   \n",
       "\n",
       "   visitor_points_q2  visitor_points_q3  visitor_points_q4  \\\n",
       "0                0.0                3.0                3.0   \n",
       "1                7.0               10.0                0.0   \n",
       "2               17.0                7.0                3.0   \n",
       "3                3.0                3.0                3.0   \n",
       "4                0.0                7.0                8.0   \n",
       "\n",
       "   visitor_passing_yards  visitor_passing_touchdowns  visitor_rushing_yards  \\\n",
       "0                  101.0                         0.0                   57.0   \n",
       "1                  339.0                         3.0                   95.0   \n",
       "2                  109.0                         0.0                  184.0   \n",
       "3                  204.0                         0.0                   67.0   \n",
       "4                  143.0                         1.0                   88.0   \n",
       "\n",
       "   visitor_rushing_touchdowns  phase  winner  \n",
       "0                         1.0  FINAL     WAS  \n",
       "1                         0.0  FINAL     DET  \n",
       "2                         2.0  FINAL     DEN  \n",
       "3                         0.0  FINAL     IND  \n",
       "4                         1.0  FINAL     PIT  \n",
       "\n",
       "[5 rows x 31 columns]"
      ]
     },
     "execution_count": 8,
     "metadata": {},
     "output_type": "execute_result"
    }
   ],
   "source": [
    "scores = pd.read_csv('../data/nfl_scores_all.csv', index_col=0)\n",
    "scores['season'] = scores['season'].astype(int)\n",
    "scores['week'] = scores['week'].astype(int)\n",
    "scores['home_team'] = scores['home_team'].apply(lambda x: team_dec[x])\n",
    "scores['away_team'] = scores['away_team'].apply(lambda x: team_dec[x])\n",
    "scores['winner'] = [home_team if home_score + home_ot_score > away_score + away_ot_score else \\\n",
    "                    away_team if away_score + away_ot_score > home_score + home_ot_score else \\\n",
    "                    'TIE' for home_ot_score, away_ot_score, home_score, away_score, home_team, away_team in \\\n",
    "                    scores[['home_team_score', 'away_team_score', \n",
    "                            'home_points_overtime_total', 'visitor_points_overtime_total', \n",
    "                            'home_team', 'away_team']].values]\n",
    "scores.head()"
   ]
  },
  {
   "cell_type": "code",
   "execution_count": 9,
   "metadata": {},
   "outputs": [
    {
     "data": {
      "text/html": [
       "<pre>✔️ 297 ms (2022-07-11T18:41:06/2022-07-11T18:41:06)</pre>"
      ],
      "text/plain": [
       "<IPython.core.display.HTML object>"
      ]
     },
     "metadata": {},
     "output_type": "display_data"
    },
    {
     "name": "stdout",
     "output_type": "stream",
     "text": [
      "['season', 'week', 'week_type', 'game_id', 'game_details_id', 'game_time', 'game_date', 'home_team', 'away_team', 'home_team_score', 'away_team_score', 'home_points_overtime_total', 'visitor_points_overtime_total', 'home_points_q1', 'home_points_q2', 'home_points_q3', 'home_points_q4', 'home_passing_yards', 'home_passing_touchdowns', 'home_rushing_yards', 'home_rushing_touchdowns', 'visitor_points_q1', 'visitor_points_q2', 'visitor_points_q3', 'visitor_points_q4', 'visitor_passing_yards', 'visitor_passing_touchdowns', 'visitor_rushing_yards', 'visitor_rushing_touchdowns', 'phase', 'winner', 'abbreviation_home', 'full_name_home', 'nick_name_home', 'conference_home', 'division_home', 'city_state_region_home', 'venue_home', 'logo_home', 'abbreviation_away', 'full_name_away', 'nick_name_away', 'conference_away', 'division_away', 'city_state_region_away', 'venue_away', 'logo_away', 'week_type_ord', 'week_num', 'week_quin', 'Gel', 'Hector', 'Emilio', 'Sonny']\n"
     ]
    },
    {
     "data": {
      "text/html": [
       "<div>\n",
       "<style scoped>\n",
       "    .dataframe tbody tr th:only-of-type {\n",
       "        vertical-align: middle;\n",
       "    }\n",
       "\n",
       "    .dataframe tbody tr th {\n",
       "        vertical-align: top;\n",
       "    }\n",
       "\n",
       "    .dataframe thead th {\n",
       "        text-align: right;\n",
       "    }\n",
       "</style>\n",
       "<table border=\"1\" class=\"dataframe\">\n",
       "  <thead>\n",
       "    <tr style=\"text-align: right;\">\n",
       "      <th></th>\n",
       "      <th>season</th>\n",
       "      <th>week</th>\n",
       "      <th>week_type</th>\n",
       "      <th>game_id</th>\n",
       "      <th>game_details_id</th>\n",
       "      <th>game_time</th>\n",
       "      <th>game_date</th>\n",
       "      <th>home_team</th>\n",
       "      <th>away_team</th>\n",
       "      <th>home_team_score</th>\n",
       "      <th>...</th>\n",
       "      <th>city_state_region_away</th>\n",
       "      <th>venue_away</th>\n",
       "      <th>logo_away</th>\n",
       "      <th>week_type_ord</th>\n",
       "      <th>week_num</th>\n",
       "      <th>week_quin</th>\n",
       "      <th>Gel</th>\n",
       "      <th>Hector</th>\n",
       "      <th>Emilio</th>\n",
       "      <th>Sonny</th>\n",
       "    </tr>\n",
       "  </thead>\n",
       "  <tbody>\n",
       "    <tr>\n",
       "      <th>0</th>\n",
       "      <td>2003</td>\n",
       "      <td>1</td>\n",
       "      <td>REG</td>\n",
       "      <td>10012003-0904-00a6-ff62-12e477623f1a</td>\n",
       "      <td>10160000-0264-94ab-68f5-9ff371a986a3</td>\n",
       "      <td>2003-09-04 09:00:00+00:00</td>\n",
       "      <td>2003-09-04</td>\n",
       "      <td>WAS</td>\n",
       "      <td>NYJ</td>\n",
       "      <td>16.0</td>\n",
       "      <td>...</td>\n",
       "      <td>New York Jets</td>\n",
       "      <td>NaN</td>\n",
       "      <td>NYJ_logo_old.png</td>\n",
       "      <td>1</td>\n",
       "      <td>1</td>\n",
       "      <td>1.0</td>\n",
       "      <td>WAS</td>\n",
       "      <td>WAS</td>\n",
       "      <td>NYJ</td>\n",
       "      <td>WAS</td>\n",
       "    </tr>\n",
       "    <tr>\n",
       "      <th>1</th>\n",
       "      <td>2003</td>\n",
       "      <td>1</td>\n",
       "      <td>REG</td>\n",
       "      <td>10012003-0907-0075-30bd-8e1167d1c6ac</td>\n",
       "      <td>10160000-0264-997c-6c87-72c644130bbf</td>\n",
       "      <td>2003-09-07 09:00:00+00:00</td>\n",
       "      <td>2003-09-07</td>\n",
       "      <td>DET</td>\n",
       "      <td>ARI</td>\n",
       "      <td>42.0</td>\n",
       "      <td>...</td>\n",
       "      <td>Arizona</td>\n",
       "      <td>NaN</td>\n",
       "      <td>ARI_logo.webp</td>\n",
       "      <td>1</td>\n",
       "      <td>1</td>\n",
       "      <td>1.0</td>\n",
       "      <td>DET</td>\n",
       "      <td>ARI</td>\n",
       "      <td>DET</td>\n",
       "      <td>ARI</td>\n",
       "    </tr>\n",
       "    <tr>\n",
       "      <th>2</th>\n",
       "      <td>2003</td>\n",
       "      <td>1</td>\n",
       "      <td>REG</td>\n",
       "      <td>10012003-0907-0126-f566-a59e19a70a3a</td>\n",
       "      <td>10160000-0264-97a8-19af-9168b28ada0a</td>\n",
       "      <td>2003-09-07 09:00:00+00:00</td>\n",
       "      <td>2003-09-07</td>\n",
       "      <td>CIN</td>\n",
       "      <td>DEN</td>\n",
       "      <td>10.0</td>\n",
       "      <td>...</td>\n",
       "      <td>Denver</td>\n",
       "      <td>NaN</td>\n",
       "      <td>DEN_logo.webp</td>\n",
       "      <td>1</td>\n",
       "      <td>1</td>\n",
       "      <td>1.0</td>\n",
       "      <td>DEN</td>\n",
       "      <td>DEN</td>\n",
       "      <td>DEN</td>\n",
       "      <td>DEN</td>\n",
       "    </tr>\n",
       "    <tr>\n",
       "      <th>3</th>\n",
       "      <td>2003</td>\n",
       "      <td>1</td>\n",
       "      <td>REG</td>\n",
       "      <td>10012003-0907-0277-e7c6-41b36cc4a1ce</td>\n",
       "      <td>10160000-0264-9839-6579-47a20841e644</td>\n",
       "      <td>2003-09-07 09:00:00+00:00</td>\n",
       "      <td>2003-09-07</td>\n",
       "      <td>CLE</td>\n",
       "      <td>IND</td>\n",
       "      <td>6.0</td>\n",
       "      <td>...</td>\n",
       "      <td>Indianapolis</td>\n",
       "      <td>NaN</td>\n",
       "      <td>IND_logo.webp</td>\n",
       "      <td>1</td>\n",
       "      <td>1</td>\n",
       "      <td>1.0</td>\n",
       "      <td>IND</td>\n",
       "      <td>CLE</td>\n",
       "      <td>IND</td>\n",
       "      <td>CLE</td>\n",
       "    </tr>\n",
       "    <tr>\n",
       "      <th>4</th>\n",
       "      <td>2003</td>\n",
       "      <td>1</td>\n",
       "      <td>REG</td>\n",
       "      <td>10012003-0907-0388-64cf-dd9886d18dde</td>\n",
       "      <td>10160000-0265-04d2-fd24-f2f5b0964d49</td>\n",
       "      <td>2003-09-07 09:00:00+00:00</td>\n",
       "      <td>2003-09-07</td>\n",
       "      <td>PIT</td>\n",
       "      <td>BAL</td>\n",
       "      <td>34.0</td>\n",
       "      <td>...</td>\n",
       "      <td>Baltimore</td>\n",
       "      <td>NaN</td>\n",
       "      <td>BAL_logo.webp</td>\n",
       "      <td>1</td>\n",
       "      <td>1</td>\n",
       "      <td>1.0</td>\n",
       "      <td>PIT</td>\n",
       "      <td>PIT</td>\n",
       "      <td>PIT</td>\n",
       "      <td>PIT</td>\n",
       "    </tr>\n",
       "  </tbody>\n",
       "</table>\n",
       "<p>5 rows × 54 columns</p>\n",
       "</div>"
      ],
      "text/plain": [
       "   season  week week_type                               game_id  \\\n",
       "0    2003     1       REG  10012003-0904-00a6-ff62-12e477623f1a   \n",
       "1    2003     1       REG  10012003-0907-0075-30bd-8e1167d1c6ac   \n",
       "2    2003     1       REG  10012003-0907-0126-f566-a59e19a70a3a   \n",
       "3    2003     1       REG  10012003-0907-0277-e7c6-41b36cc4a1ce   \n",
       "4    2003     1       REG  10012003-0907-0388-64cf-dd9886d18dde   \n",
       "\n",
       "                        game_details_id                  game_time  \\\n",
       "0  10160000-0264-94ab-68f5-9ff371a986a3  2003-09-04 09:00:00+00:00   \n",
       "1  10160000-0264-997c-6c87-72c644130bbf  2003-09-07 09:00:00+00:00   \n",
       "2  10160000-0264-97a8-19af-9168b28ada0a  2003-09-07 09:00:00+00:00   \n",
       "3  10160000-0264-9839-6579-47a20841e644  2003-09-07 09:00:00+00:00   \n",
       "4  10160000-0265-04d2-fd24-f2f5b0964d49  2003-09-07 09:00:00+00:00   \n",
       "\n",
       "    game_date home_team away_team  home_team_score  ...  \\\n",
       "0  2003-09-04       WAS       NYJ             16.0  ...   \n",
       "1  2003-09-07       DET       ARI             42.0  ...   \n",
       "2  2003-09-07       CIN       DEN             10.0  ...   \n",
       "3  2003-09-07       CLE       IND              6.0  ...   \n",
       "4  2003-09-07       PIT       BAL             34.0  ...   \n",
       "\n",
       "   city_state_region_away  venue_away         logo_away  week_type_ord  \\\n",
       "0           New York Jets         NaN  NYJ_logo_old.png              1   \n",
       "1                 Arizona         NaN     ARI_logo.webp              1   \n",
       "2                  Denver         NaN     DEN_logo.webp              1   \n",
       "3            Indianapolis         NaN     IND_logo.webp              1   \n",
       "4               Baltimore         NaN     BAL_logo.webp              1   \n",
       "\n",
       "   week_num  week_quin  Gel  Hector  Emilio  Sonny  \n",
       "0         1        1.0  WAS     WAS     NYJ    WAS  \n",
       "1         1        1.0  DET     ARI     DET    ARI  \n",
       "2         1        1.0  DEN     DEN     DEN    DEN  \n",
       "3         1        1.0  IND     CLE     IND    CLE  \n",
       "4         1        1.0  PIT     PIT     PIT    PIT  \n",
       "\n",
       "[5 rows x 54 columns]"
      ]
     },
     "execution_count": 9,
     "metadata": {},
     "output_type": "execute_result"
    }
   ],
   "source": [
    "## Merge Home Team Info\n",
    "df = scores.merge(teams.rename(columns={x:x+'_home' for x in teams.columns if x != 'season'}),\n",
    "                    left_on=['home_team', 'season'], \n",
    "                    right_on=['abbreviation_home', 'season'], \n",
    "                    suffixes=['', '_home'],\n",
    "                    how='left')\n",
    "\n",
    "## Merge Away Team Info\n",
    "df = df.merge(teams.rename(columns={x:x+'_away' for x in teams.columns if x != 'season'}), \n",
    "                    left_on=['away_team', 'season'], \n",
    "                    right_on=['abbreviation_away', 'season'], \n",
    "                    suffixes=['', '_away'],\n",
    "                    how='left')\n",
    "\n",
    "## Create New Week Num Column\n",
    "week_type_order = {'REG':1, 'WC':2, 'DIV':3, 'CONF':4, 'SB':5}\n",
    "df['week_type_ord'] = df['week_type'].apply(lambda x: week_type_order[x])\n",
    "week_dec = df.sort_values(['game_date', 'week_type_ord', 'season'], ascending=True).reset_index(drop=True).groupby(['season', 'week_type_ord', 'week']).size().reset_index(drop=False)\n",
    "week_dec['week_num'] = week_dec.groupby(['season'])['season'].cumcount()+1\n",
    "df = df.merge(week_dec.drop(0, axis=1), \n",
    "                    left_on=['season', 'week', 'week_type_ord'],\n",
    "                    right_on=['season', 'week', 'week_type_ord'],\n",
    "                    how='left')\n",
    "\n",
    "\n",
    "## Merge Users Pred Info\n",
    "# df = df.merge(preds.drop(['week'], axis=1), \n",
    "df = df.merge(preds, \n",
    "                    left_on=['home_team', 'away_team', 'season'], \n",
    "                    right_on=['home_team', 'away_team', 'season'],\n",
    "                    how='left',\n",
    "                    suffixes=['', '_quin'])\n",
    "\n",
    "## Remove Duplicate Entries\n",
    "dup_games = scores.groupby(['home_team', 'away_team', 'season']).size()\n",
    "dup_games = dup_games[dup_games>1].reset_index(drop=False)\n",
    "drop_idxL = []\n",
    "for idx, dup_game in dup_games.iterrows():\n",
    "    temp_dup = df.loc[((df['home_team'] == dup_game['home_team']) & (df['away_team'] == dup_game['away_team']) &  (df['season'] == dup_game['season']))].reset_index(drop=False)\n",
    "    temp_dup['week_num_diff'] = abs(temp_dup['week_quin'] - temp_dup['week_num'])\n",
    "    drop_idxL = drop_idxL + temp_dup.sort_values(['week_num_diff'], ascending=False).drop_duplicates(['game_id'], keep='first')['index'].values.tolist()\n",
    "df = df.loc[~df.index.isin(drop_idxL)].reset_index(drop=True)\n",
    "\n",
    "## Preview Data\n",
    "print(df.columns.tolist())\n",
    "df.head()"
   ]
  },
  {
   "cell_type": "code",
   "execution_count": 10,
   "metadata": {},
   "outputs": [
    {
     "data": {
      "text/html": [
       "<pre>✔️ 109 ms (2022-07-11T18:41:06/2022-07-11T18:41:06)</pre>"
      ],
      "text/plain": [
       "<IPython.core.display.HTML object>"
      ]
     },
     "metadata": {},
     "output_type": "display_data"
    }
   ],
   "source": [
    "df.to_csv('../data/full_data.csv', index=False)"
   ]
  },
  {
   "cell_type": "markdown",
   "metadata": {},
   "source": [
    "## Team Statistics"
   ]
  },
  {
   "cell_type": "code",
   "execution_count": 11,
   "metadata": {},
   "outputs": [
    {
     "data": {
      "text/html": [
       "<pre>✔️ 0 ns (2022-07-11T18:41:06/2022-07-11T18:41:06)</pre>"
      ],
      "text/plain": [
       "<IPython.core.display.HTML object>"
      ]
     },
     "metadata": {},
     "output_type": "display_data"
    }
   ],
   "source": [
    "HOME_COLS = {}\n",
    "HOME_COLS['id'] = ['home_team', 'abbreviation_home', 'nick_name_home',\n",
    "       'full_name_home', 'conference_home', 'division_home', 'city_state_region_home', 'venue_home','logo_home', ]\n",
    "HOME_COLS['val_for'] =  ['home_points_q1', 'home_points_q2',\n",
    "       'home_points_q3', 'home_points_q4', 'home_points_overtime_total', 'home_team_score', 'home_passing_yards',\n",
    "       'home_passing_touchdowns', 'home_rushing_yards',\n",
    "       'home_rushing_touchdowns']"
   ]
  },
  {
   "cell_type": "code",
   "execution_count": 12,
   "metadata": {},
   "outputs": [
    {
     "data": {
      "text/html": [
       "<pre>✔️ 0 ns (2022-07-11T18:41:07/2022-07-11T18:41:07)</pre>"
      ],
      "text/plain": [
       "<IPython.core.display.HTML object>"
      ]
     },
     "metadata": {},
     "output_type": "display_data"
    }
   ],
   "source": [
    "AWAY_COLS = {}\n",
    "AWAY_COLS['id'] = ['away_team', 'abbreviation_away','nick_name_away',\n",
    "       'full_name_away', 'conference_away', 'division_away', 'city_state_region_away', 'venue_away','logo_away',]\n",
    "AWAY_COLS['val'] = ['visitor_points_q1', 'visitor_points_q2',\n",
    "       'visitor_points_q3', 'visitor_points_q4', 'visitor_points_overtime_total',  'away_team_score', \n",
    "       'visitor_passing_yards', 'visitor_passing_touchdowns', 'visitor_rushing_yards','visitor_rushing_touchdowns']"
   ]
  },
  {
   "cell_type": "code",
   "execution_count": 13,
   "metadata": {},
   "outputs": [
    {
     "data": {
      "text/html": [
       "<pre>✔️ 31 ms (2022-07-11T18:41:07/2022-07-11T18:41:07)</pre>"
      ],
      "text/plain": [
       "<IPython.core.display.HTML object>"
      ]
     },
     "metadata": {},
     "output_type": "display_data"
    }
   ],
   "source": [
    "df_home = df.copy()\n",
    "\n",
    "df_home = df_home.drop([x for x in AWAY_COLS['id'] if x != 'away_team'][0], axis=1)\n",
    "df_home = df_home.rename(columns={x:x.replace('visitor', 'against').replace('away', 'against').replace('_home', '').replace('home_', '') for x in df_home.columns})\n",
    "df_home['home_or_away'] = 'home'\n",
    "\n",
    "df_away = df.copy()\n",
    "df_away = df_away.drop([x for x in HOME_COLS['id'] if x != 'home_team'][0], axis=1)\n",
    "df_away = df_away.rename(columns={x:x.replace('home', 'against').replace('_away', '').replace('away_', '').replace('visitor_', '') \\\n",
    "    for x in df_away.columns})\n",
    "df_away['home_or_away'] = 'away'\n",
    "\n",
    "df_teams = pd.concat([df_home, df_away]).sort_values(['season', 'week', 'game_time']).reset_index(drop=True)\n"
   ]
  },
  {
   "cell_type": "code",
   "execution_count": 14,
   "metadata": {},
   "outputs": [
    {
     "data": {
      "text/html": [
       "<pre>✔️ 16 ms (2022-07-11T18:41:07/2022-07-11T18:41:07)</pre>"
      ],
      "text/plain": [
       "<IPython.core.display.HTML object>"
      ]
     },
     "metadata": {},
     "output_type": "display_data"
    },
    {
     "data": {
      "text/plain": [
       "[P('Last Games:'),\n",
       " P('2019 REG - Week 3 CHI\\t 31 at 15 WAS'),\n",
       " P('2019 REG - Week 2 DAL\\t 31 at 21 WAS'),\n",
       " P('2019 REG - Week 1 WAS\\t 27 at 32 PHI'),\n",
       " P('Streak: LLL')]"
      ]
     },
     "execution_count": 14,
     "metadata": {},
     "output_type": "execute_result"
    }
   ],
   "source": [
    "def team_stats(team, season=None, week=None, df_teams=df_teams):\n",
    "\n",
    "    loc = 1\n",
    "    if week==1:\n",
    "        season=season-1\n",
    "        week = df_teams.loc[df_teams['season']==season].week_num.max()\n",
    "        loc = 0\n",
    "\n",
    "    team_df = df_teams.loc[df_teams['team']==team].reset_index(drop=True)\n",
    "\n",
    "    if len(team_df) > 0:\n",
    "        team_df = team_df.loc[team_df['season']==season].reset_index(drop=True)\n",
    "\n",
    "    if len(team_df) > 0:\n",
    "        team_df = team_df.loc[team_df['week_num']<=week].reset_index(drop=True)\n",
    "\n",
    "    ## Previous Three Games\n",
    "    last_3_games = team_df.sort_values(['game_time'], ascending=False).iloc[loc:].head(3)[['week_type', 'week_num', 'against_team', 'team', 'team_score', 'against_team_score', 'points_overtime_total','against_points_overtime_total', 'home_or_away']]\n",
    "    last_3_gamesL = [html.P('Last Games:')]\n",
    "    for idx, game in last_3_games.iterrows():\n",
    "        if game['home_or_away'] == 'home':\n",
    "            last_3_gamesL.append(html.P(\"{} {} - Week {} \".format(season, game['week_type'], str(game['week_num']))  + \\\n",
    "                game['against_team'] + \\\n",
    "                '\\t {} at {} '.format(int(game['against_team_score']+game['against_points_overtime_total']), \n",
    "                int(game['team_score']+game['points_overtime_total'])) + game['team']))\n",
    "        else:\n",
    "            last_3_gamesL.append(html.P(\"{} {} - Week {} \".format(season, game['week_type'], str(game['week_num'])) + \\\n",
    "                game['team'] + \\\n",
    "                '\\t {} at {} '.format(int(game['team_score']+game['points_overtime_total']), \n",
    "                int(game['against_team_score']+game['against_points_overtime_total'])) + game['against_team']))\n",
    "\n",
    "    ## Win Streak\n",
    "    last_5_games = team_df.sort_values(['game_time'], ascending=False).iloc[loc:].head(5)[['against_team', 'team', 'winner', 'home_or_away']]\n",
    "    win_streak = \"Streak: \"\n",
    "    for idx, game in last_5_games.iterrows():\n",
    "        if game['winner'] == game['team']:\n",
    "            win_streak += 'W'\n",
    "        else:\n",
    "            win_streak += 'L'\n",
    "\n",
    "    ## Off. Yard Rank\n",
    "    ## Def. Yard Rank\n",
    "\n",
    "    # return team_df.groupby(['team']).sum().reset_index(drop=False).drop(['season', 'week', 'week_num', 'week_type_ord',\n",
    "    #                                                                     'week_quin'], axis=1)\n",
    "\n",
    "    return last_3_gamesL +   [html.P(win_streak)]\n",
    "\n",
    "res = team_stats(team='WAS', season=2019, week=4, df_teams=df_teams)\n",
    "res"
   ]
  },
  {
   "cell_type": "code",
   "execution_count": 15,
   "metadata": {},
   "outputs": [
    {
     "data": {
      "text/html": [
       "<pre>✔️ 0 ns (2022-07-11T18:41:07/2022-07-11T18:41:07)</pre>"
      ],
      "text/plain": [
       "<IPython.core.display.HTML object>"
      ]
     },
     "metadata": {},
     "output_type": "display_data"
    }
   ],
   "source": [
    "season=2019\n",
    "week=5\n",
    "team='WAS'\n",
    "\n",
    "loc = 1\n",
    "if week==1:\n",
    "    season=season-1\n",
    "    week = df_teams.loc[df_teams['season']==season].week_num.max()\n",
    "    loc = 0\n",
    "\n",
    "team_df = df_teams.loc[df_teams['team']==team].reset_index(drop=True)\n",
    "\n",
    "if len(team_df) > 0:\n",
    "    team_df = team_df.loc[team_df['season']==season].reset_index(drop=True)\n",
    "\n",
    "if len(team_df) > 0:\n",
    "    team_df = team_df.loc[team_df['week_num']<=week].reset_index(drop=True)\n",
    "\n",
    "## Previous Three Games\n",
    "last_3_games = team_df.sort_values(['game_time'], ascending=False).iloc[loc:].head(3)[['week_type', 'week_num', 'against_team', 'team', 'team_score', 'against_team_score', 'points_overtime_total','against_points_overtime_total', 'home_or_away']]\n",
    "last_3_gamesL = [html.P('Last Games:')]\n",
    "for idx, game in last_3_games.iterrows():\n",
    "    if game['home_or_away'] == 'home':\n",
    "        last_3_gamesL.append(html.P(\"{} {} - Week {} \".format(season, game['week_type'], str(game['week_num']))  + \\\n",
    "            game['against_team'] + \\\n",
    "            '\\t {} at {} '.format(int(game['against_team_score']+game['against_points_overtime_total']), \n",
    "            int(game['team_score']+game['points_overtime_total'])) + game['team']))\n",
    "    else:\n",
    "        last_3_gamesL.append(html.P(\"{} {} - Week {} \".format(season, game['week_type'], str(game['week_num'])) + \\\n",
    "            game['team'] + \\\n",
    "            '\\t {} at {} '.format(int(game['team_score']+game['points_overtime_total']), \n",
    "            int(game['against_team_score']+game['against_points_overtime_total'])) + game['against_team']))\n",
    "\n",
    "## Win Streak\n",
    "last_5_games = team_df.sort_values(['game_time'], ascending=False).iloc[loc:].head(5)[['against_team', 'team', 'winner', 'home_or_away']]\n",
    "win_streak = \"Streak: \"\n",
    "for idx, game in last_5_games.iterrows():\n",
    "    if game['winner'] == game['team']:\n",
    "        win_streak += 'W'\n",
    "    else:\n",
    "        win_streak += 'L'\n",
    "\n"
   ]
  },
  {
   "cell_type": "markdown",
   "metadata": {},
   "source": [
    "## Users Statistics"
   ]
  },
  {
   "cell_type": "code",
   "execution_count": 16,
   "metadata": {},
   "outputs": [
    {
     "data": {
      "text/html": [
       "<pre>✔️ 0 ns (2022-07-11T18:41:08/2022-07-11T18:41:08)</pre>"
      ],
      "text/plain": [
       "<IPython.core.display.HTML object>"
      ]
     },
     "metadata": {},
     "output_type": "display_data"
    }
   ],
   "source": [
    "USER_LIST = ['Gel','Hector','Emilio','Sonny']\n",
    "def user_stats(userL=USER_LIST, season=None, week=None, df=df):\n",
    "\n",
    "    user_df = df.copy()\n",
    "\n",
    "    if pd.notnull(season):\n",
    "        user_df = user_df.loc[user_df['season']==season].reset_index(drop=True)\n",
    "\n",
    "    if pd.notnull(week):\n",
    "        user_df = user_df.loc[user_df['week_num']<=week].reset_index(drop=True)\n",
    "\n",
    "    for user in userL:\n",
    "\n",
    "        user_df.loc[user_df[user] == user_df['winner'], user+'_correct'] = 1\n",
    "        user_df.loc[user_df[user] != user_df['winner'], user+'_correct'] = 0\n",
    "\n",
    "    user_df = user_df.groupby(['season', 'week_num'])[[x+'_correct' for x in userL]].sum()\n",
    "    user_df[[x+'_score' for x in userL]] = user_df.groupby(['season', 'week_num'])[[x+'_correct' for x in userL]].sum().cumsum()\n",
    "\n",
    "\n",
    "    return user_df"
   ]
  },
  {
   "cell_type": "code",
   "execution_count": 17,
   "metadata": {},
   "outputs": [
    {
     "data": {
      "text/html": [
       "<pre>✔️ 15 ms (2022-07-11T18:41:08/2022-07-11T18:41:08)</pre>"
      ],
      "text/plain": [
       "<IPython.core.display.HTML object>"
      ]
     },
     "metadata": {},
     "output_type": "display_data"
    }
   ],
   "source": [
    "USER_LIST = ['Gel','Hector','Emilio','Sonny']\n",
    "userL=USER_LIST\n",
    "\n",
    "user_df = df.copy()[USER_LIST+['winner', 'season', 'week_num']]\n",
    "\n",
    "for user in userL:\n",
    "\n",
    "    user_df.loc[user_df[user] == user_df['winner'], user+'_correct'] = 1\n",
    "    user_df.loc[user_df[user] != user_df['winner'], user+'_correct'] = 0\n",
    "\n",
    "user_df = user_df.groupby(['season', 'week_num'])[[x+'_correct' for x in userL]].sum()\n",
    "user_df[[x+'_score' for x in userL]] = user_df.groupby(['season'])[[x+'_correct' for x in userL]].cumsum()\n",
    "user_df = user_df.reset_index(drop=False)"
   ]
  },
  {
   "cell_type": "code",
   "execution_count": 18,
   "metadata": {},
   "outputs": [
    {
     "data": {
      "text/html": [
       "<pre>✔️ 16 ms (2022-07-11T18:41:08/2022-07-11T18:41:08)</pre>"
      ],
      "text/plain": [
       "<IPython.core.display.HTML object>"
      ]
     },
     "metadata": {},
     "output_type": "display_data"
    },
    {
     "data": {
      "text/html": [
       "<div>\n",
       "<style scoped>\n",
       "    .dataframe tbody tr th:only-of-type {\n",
       "        vertical-align: middle;\n",
       "    }\n",
       "\n",
       "    .dataframe tbody tr th {\n",
       "        vertical-align: top;\n",
       "    }\n",
       "\n",
       "    .dataframe thead th {\n",
       "        text-align: right;\n",
       "    }\n",
       "</style>\n",
       "<table border=\"1\" class=\"dataframe\">\n",
       "  <thead>\n",
       "    <tr style=\"text-align: right;\">\n",
       "      <th></th>\n",
       "      <th></th>\n",
       "      <th>Gel</th>\n",
       "      <th>Hector</th>\n",
       "      <th>Emilio</th>\n",
       "      <th>Sonny</th>\n",
       "    </tr>\n",
       "  </thead>\n",
       "  <tbody>\n",
       "    <tr>\n",
       "      <th>0</th>\n",
       "      <td>Week Score</td>\n",
       "      <td>1.0</td>\n",
       "      <td>1.0</td>\n",
       "      <td>1.0</td>\n",
       "      <td>1.0</td>\n",
       "    </tr>\n",
       "    <tr>\n",
       "      <th>1</th>\n",
       "      <td>Season Score</td>\n",
       "      <td>165.0</td>\n",
       "      <td>168.0</td>\n",
       "      <td>159.0</td>\n",
       "      <td>159.0</td>\n",
       "    </tr>\n",
       "  </tbody>\n",
       "</table>\n",
       "</div>"
      ],
      "text/plain": [
       "                   Gel  Hector  Emilio  Sonny\n",
       "0    Week Score    1.0     1.0     1.0    1.0\n",
       "1  Season Score  165.0   168.0   159.0  159.0"
      ]
     },
     "execution_count": 18,
     "metadata": {},
     "output_type": "execute_result"
    }
   ],
   "source": [
    "season=2019\n",
    "week=18\n",
    "curr_user = user_df.loc[((user_df.season==season) & (user_df.week_num==week))]\n",
    "\n",
    "curr_user = pd.concat([\n",
    "            curr_user[[x+'_correct' for x in USER_LIST]].rename(columns={x+'_correct':x for x in USER_LIST}).T,\n",
    "            curr_user[[x+'_score' for x in USER_LIST]].rename(columns={x+'_score':x for x in USER_LIST}).T,\n",
    "        ], axis=1)\n",
    "curr_user.columns = ['Week Score', 'Season Score']\n",
    "curr_user = curr_user.T.reset_index(drop=False)\n",
    "curr_user = curr_user.rename(columns={'index':''})\n",
    "curr_user"
   ]
  },
  {
   "cell_type": "code",
   "execution_count": 19,
   "metadata": {},
   "outputs": [
    {
     "data": {
      "text/html": [
       "<pre>✔️ 47 ms (2022-07-11T18:41:08/2022-07-11T18:41:08)</pre>"
      ],
      "text/plain": [
       "<IPython.core.display.HTML object>"
      ]
     },
     "metadata": {},
     "output_type": "display_data"
    }
   ],
   "source": [
    "curr_table = go.Table(\n",
    "                    header = dict(values=curr_user.columns.tolist()),\n",
    "                    cells = dict(\n",
    "                        values= [\n",
    "                            curr_user[col].astype(int).values.tolist() if col != '' \\\n",
    "                                else curr_user[col].values.tolist() \\\n",
    "                                    for col in curr_user.columns\n",
    "                        ]\n",
    "                    ),\n",
    "            )\n",
    "\n",
    "fig = go.Figure(data=[curr_table])"
   ]
  },
  {
   "cell_type": "code",
   "execution_count": 20,
   "metadata": {},
   "outputs": [
    {
     "data": {
      "text/html": [
       "<pre>✔️ 94 ms (2022-07-11T18:41:08/2022-07-11T18:41:08)</pre>"
      ],
      "text/plain": [
       "<IPython.core.display.HTML object>"
      ]
     },
     "metadata": {},
     "output_type": "display_data"
    }
   ],
   "source": [
    "# code and plot setup\n",
    "# settings\n",
    "pd.options.plotting.backend = \"plotly\"\n",
    "\n",
    "# plotly figure\n",
    "app = JupyterDash(__name__)\n",
    "app.layout = html.Div([\n",
    "                        html.H1(\"Random datastream\"),\n",
    "                        dcc.Graph(figure=fig),\n",
    "                    ])\n",
    "\n",
    "app.run_server(mode='jupyterlab', port = 8080, dev_tools_ui=True, #debug=True,\n",
    "            dev_tools_hot_reload =True, threaded=True)"
   ]
  },
  {
   "cell_type": "code",
   "execution_count": 21,
   "metadata": {},
   "outputs": [
    {
     "data": {
      "text/html": [
       "<pre>✔️ 16 ms (2022-07-11T18:41:09/2022-07-11T18:41:09)</pre>"
      ],
      "text/plain": [
       "<IPython.core.display.HTML object>"
      ]
     },
     "metadata": {},
     "output_type": "display_data"
    },
    {
     "data": {
      "text/plain": [
       "[{'label': '1 - REG', 'value': 1},\n",
       " {'label': '2 - REG', 'value': 2},\n",
       " {'label': '3 - REG', 'value': 3},\n",
       " {'label': '4 - REG', 'value': 4},\n",
       " {'label': '5 - REG', 'value': 5},\n",
       " {'label': '6 - REG', 'value': 6},\n",
       " {'label': '7 - REG', 'value': 7},\n",
       " {'label': '8 - REG', 'value': 8},\n",
       " {'label': '9 - REG', 'value': 9},\n",
       " {'label': '10 - REG', 'value': 10},\n",
       " {'label': '11 - REG', 'value': 11},\n",
       " {'label': '12 - REG', 'value': 12},\n",
       " {'label': '13 - REG', 'value': 13},\n",
       " {'label': '14 - REG', 'value': 14},\n",
       " {'label': '15 - REG', 'value': 15},\n",
       " {'label': '16 - REG', 'value': 16},\n",
       " {'label': '17 - REG', 'value': 17},\n",
       " {'label': '18 - REG', 'value': 18},\n",
       " {'label': '1 - WC', 'value': 1},\n",
       " {'label': '2 - DIV', 'value': 2},\n",
       " {'label': '3 - CONF', 'value': 3},\n",
       " {'label': '4 - SB', 'value': 4}]"
      ]
     },
     "execution_count": 21,
     "metadata": {},
     "output_type": "execute_result"
    }
   ],
   "source": [
    "[{'label':\"{week} - {week_type}\".format(week=week, week_type=week_type), 'value':week} for week_num, week, week_type in df.loc[df['season']==preds['season'].max()]\\\n",
    "                            .sort_values('week_num', ascending=True).groupby(['week_num', 'week', 'week_type']).size()\\\n",
    "                                .reset_index(drop=False)[['week_num', 'week', 'week_type']].values]"
   ]
  },
  {
   "cell_type": "markdown",
   "metadata": {},
   "source": [
    "## User Team Stats"
   ]
  },
  {
   "cell_type": "code",
   "execution_count": 22,
   "metadata": {},
   "outputs": [
    {
     "data": {
      "text/html": [
       "<pre>✔️ 0 ns (2022-07-11T18:41:09/2022-07-11T18:41:09)</pre>"
      ],
      "text/plain": [
       "<IPython.core.display.HTML object>"
      ]
     },
     "metadata": {},
     "output_type": "display_data"
    }
   ],
   "source": [
    "user='Emilio'\n",
    "home_team = 'GB'\n",
    "away_team = 'TB'\n",
    "season = 2020\n",
    "week = 1\n",
    "\n",
    "def user_team_stats(user, home_team, away_team, season, week):\n",
    "\n",
    "    from sklearn.metrics import confusion_matrix\n",
    "\n",
    "    min_date = df_teams.loc[df_teams['season']== season].loc[df_teams['week'] == week].game_date.min()\n",
    "    curr_teams = df_teams.loc[df_teams['team'].isin([home_team, away_team])].loc[df_teams['game_date']<min_date].reset_index(drop=False)\n",
    "\n",
    "    user_acc = pd.DataFrame([], columns=['team', 'home', 'total', 'tn', 'fp', 'fn', 'tp', 'acc'])\n",
    "\n",
    "    count = 0\n",
    "    for (team, hw), vals in curr_teams.groupby(['team', 'home_or_away'])[[user, 'winner', 'game_date']]:\n",
    "\n",
    "        vals = vals.sort_values(['game_date']).head(5)\n",
    "\n",
    "        actual = [x if x == team else 'other' for x in vals['winner']]\n",
    "        user_pred = [x if x == team else 'other' for x in vals[user]]\n",
    "\n",
    "        cm = confusion_matrix(actual, user_pred).ravel()\n",
    "\n",
    "        if len(cm) == 1:\n",
    "            if np.unique(actual)[0] == 'other':\n",
    "                tn, fp, fn, tp = len(actual),0,0,0\n",
    "            else:\n",
    "                tn, fp, fn, tp = 0,0,0,len(actual)\n",
    "        else:\n",
    "            tn, fp, fn, tp = cm\n",
    "\n",
    "        acc = \"\"\n",
    "        for act, pred in zip(actual, user_pred):\n",
    "            if act == pred:\n",
    "                acc += 'T'\n",
    "            else:\n",
    "                acc += 'F'\n",
    "\n",
    "        user_acc.loc[count] = [team, hw, len(vals), tn, fp, fn, tp, acc]\n",
    "\n",
    "        count += 1       \n",
    "\n",
    "    return user_acc"
   ]
  },
  {
   "cell_type": "code",
   "execution_count": 39,
   "metadata": {},
   "outputs": [
    {
     "data": {
      "text/html": [
       "<pre>✔️ 31 ms (2022-07-11T21:13:46/2022-07-11T21:13:46)</pre>"
      ],
      "text/plain": [
       "<IPython.core.display.HTML object>"
      ]
     },
     "metadata": {},
     "output_type": "display_data"
    },
    {
     "data": {
      "text/plain": [
       "['team home  total  tn  fp  fn  tp   acc',\n",
       " '  GB away      5   3   0   2   0 FTFTT',\n",
       " '  GB home      5   2   0   3   0 FTTFF',\n",
       " '  TB away      5   3   0   2   0 TTTFF',\n",
       " '  TB home      5   0   1   2   2 FTFFT']"
      ]
     },
     "execution_count": 39,
     "metadata": {},
     "output_type": "execute_result"
    }
   ],
   "source": [
    "user_team_stats(user, home_team, away_team, season, week).to_string(index=False).split('\\n')"
   ]
  },
  {
   "cell_type": "code",
   "execution_count": 35,
   "metadata": {},
   "outputs": [
    {
     "data": {
      "text/html": [
       "<pre>✔️ 16 ms (2022-07-11T20:54:03/2022-07-11T20:54:03)</pre>"
      ],
      "text/plain": [
       "<IPython.core.display.HTML object>"
      ]
     },
     "metadata": {},
     "output_type": "display_data"
    },
    {
     "data": {
      "text/plain": [
       "array([[5]], dtype=int64)"
      ]
     },
     "execution_count": 35,
     "metadata": {},
     "output_type": "execute_result"
    }
   ],
   "source": [
    "from sklearn.metrics import confusion_matrix\n",
    "\n",
    "\n",
    "confusion_matrix(['other', 'other', 'other', 'other', 'other'], ['other', 'other', 'other', 'other', 'other'])"
   ]
  },
  {
   "cell_type": "code",
   "execution_count": null,
   "metadata": {},
   "outputs": [],
   "source": []
  },
  {
   "cell_type": "code",
   "execution_count": null,
   "metadata": {},
   "outputs": [],
   "source": []
  },
  {
   "cell_type": "code",
   "execution_count": null,
   "metadata": {},
   "outputs": [],
   "source": []
  },
  {
   "cell_type": "code",
   "execution_count": null,
   "metadata": {},
   "outputs": [],
   "source": []
  },
  {
   "cell_type": "code",
   "execution_count": 30,
   "metadata": {},
   "outputs": [
    {
     "data": {
      "text/html": [
       "<pre>✔️ 32 ms (2022-07-11T18:46:00/2022-07-11T18:46:00)</pre>"
      ],
      "text/plain": [
       "<IPython.core.display.HTML object>"
      ]
     },
     "metadata": {},
     "output_type": "display_data"
    },
    {
     "data": {
      "text/html": [
       "<div>\n",
       "<style scoped>\n",
       "    .dataframe tbody tr th:only-of-type {\n",
       "        vertical-align: middle;\n",
       "    }\n",
       "\n",
       "    .dataframe tbody tr th {\n",
       "        vertical-align: top;\n",
       "    }\n",
       "\n",
       "    .dataframe thead th {\n",
       "        text-align: right;\n",
       "    }\n",
       "</style>\n",
       "<table border=\"1\" class=\"dataframe\">\n",
       "  <thead>\n",
       "    <tr style=\"text-align: right;\">\n",
       "      <th></th>\n",
       "      <th>season</th>\n",
       "      <th>week</th>\n",
       "      <th>week_type</th>\n",
       "      <th>game_id</th>\n",
       "      <th>game_details_id</th>\n",
       "      <th>game_time</th>\n",
       "      <th>game_date</th>\n",
       "      <th>home_team</th>\n",
       "      <th>away_team</th>\n",
       "      <th>home_team_score</th>\n",
       "      <th>...</th>\n",
       "      <th>city_state_region_away</th>\n",
       "      <th>venue_away</th>\n",
       "      <th>logo_away</th>\n",
       "      <th>week_type_ord</th>\n",
       "      <th>week_num</th>\n",
       "      <th>week_quin</th>\n",
       "      <th>Gel</th>\n",
       "      <th>Hector</th>\n",
       "      <th>Emilio</th>\n",
       "      <th>Sonny</th>\n",
       "    </tr>\n",
       "  </thead>\n",
       "  <tbody>\n",
       "    <tr>\n",
       "      <th>5093</th>\n",
       "      <td>2022</td>\n",
       "      <td>1</td>\n",
       "      <td>REG</td>\n",
       "      <td>7ae7944e-d24c-11ec-b23d-d15a91047884</td>\n",
       "      <td>NaN</td>\n",
       "      <td>2022-09-09 00:20:00+00:00</td>\n",
       "      <td>2022-09-09</td>\n",
       "      <td>LA</td>\n",
       "      <td>BUF</td>\n",
       "      <td>NaN</td>\n",
       "      <td>...</td>\n",
       "      <td>Buffalo</td>\n",
       "      <td>Highmark Stadium</td>\n",
       "      <td>BUF_logo.webp</td>\n",
       "      <td>1</td>\n",
       "      <td>1</td>\n",
       "      <td>NaN</td>\n",
       "      <td>NaN</td>\n",
       "      <td>NaN</td>\n",
       "      <td>NaN</td>\n",
       "      <td>NaN</td>\n",
       "    </tr>\n",
       "    <tr>\n",
       "      <th>5094</th>\n",
       "      <td>2022</td>\n",
       "      <td>1</td>\n",
       "      <td>REG</td>\n",
       "      <td>7ae7a948-d24c-11ec-b23d-d15a91047884</td>\n",
       "      <td>NaN</td>\n",
       "      <td>2022-09-11 17:00:00+00:00</td>\n",
       "      <td>2022-09-11</td>\n",
       "      <td>ATL</td>\n",
       "      <td>NO</td>\n",
       "      <td>NaN</td>\n",
       "      <td>...</td>\n",
       "      <td>New Orleans</td>\n",
       "      <td>Caesars Superdome</td>\n",
       "      <td>NO_logo.webp</td>\n",
       "      <td>1</td>\n",
       "      <td>1</td>\n",
       "      <td>NaN</td>\n",
       "      <td>NaN</td>\n",
       "      <td>NaN</td>\n",
       "      <td>NaN</td>\n",
       "      <td>NaN</td>\n",
       "    </tr>\n",
       "    <tr>\n",
       "      <th>5095</th>\n",
       "      <td>2022</td>\n",
       "      <td>1</td>\n",
       "      <td>REG</td>\n",
       "      <td>7ae7b07d-d24c-11ec-b23d-d15a91047884</td>\n",
       "      <td>NaN</td>\n",
       "      <td>2022-09-11 17:00:00+00:00</td>\n",
       "      <td>2022-09-11</td>\n",
       "      <td>CAR</td>\n",
       "      <td>CLE</td>\n",
       "      <td>NaN</td>\n",
       "      <td>...</td>\n",
       "      <td>Cleveland</td>\n",
       "      <td>FirstEnergy Stadium</td>\n",
       "      <td>CLE_logo.webp</td>\n",
       "      <td>1</td>\n",
       "      <td>1</td>\n",
       "      <td>NaN</td>\n",
       "      <td>NaN</td>\n",
       "      <td>NaN</td>\n",
       "      <td>NaN</td>\n",
       "      <td>NaN</td>\n",
       "    </tr>\n",
       "    <tr>\n",
       "      <th>5096</th>\n",
       "      <td>2022</td>\n",
       "      <td>1</td>\n",
       "      <td>REG</td>\n",
       "      <td>7ae7b7fc-d24c-11ec-b23d-d15a91047884</td>\n",
       "      <td>NaN</td>\n",
       "      <td>2022-09-11 17:00:00+00:00</td>\n",
       "      <td>2022-09-11</td>\n",
       "      <td>CHI</td>\n",
       "      <td>SF</td>\n",
       "      <td>NaN</td>\n",
       "      <td>...</td>\n",
       "      <td>San Francisco</td>\n",
       "      <td>Levi's® Stadium</td>\n",
       "      <td>SF_logo.webp</td>\n",
       "      <td>1</td>\n",
       "      <td>1</td>\n",
       "      <td>NaN</td>\n",
       "      <td>NaN</td>\n",
       "      <td>NaN</td>\n",
       "      <td>NaN</td>\n",
       "      <td>NaN</td>\n",
       "    </tr>\n",
       "    <tr>\n",
       "      <th>5097</th>\n",
       "      <td>2022</td>\n",
       "      <td>1</td>\n",
       "      <td>REG</td>\n",
       "      <td>7ae7be32-d24c-11ec-b23d-d15a91047884</td>\n",
       "      <td>NaN</td>\n",
       "      <td>2022-09-11 17:00:00+00:00</td>\n",
       "      <td>2022-09-11</td>\n",
       "      <td>CIN</td>\n",
       "      <td>PIT</td>\n",
       "      <td>NaN</td>\n",
       "      <td>...</td>\n",
       "      <td>Pittsburgh</td>\n",
       "      <td>Heinz Field</td>\n",
       "      <td>PIT_logo.webp</td>\n",
       "      <td>1</td>\n",
       "      <td>1</td>\n",
       "      <td>NaN</td>\n",
       "      <td>NaN</td>\n",
       "      <td>NaN</td>\n",
       "      <td>NaN</td>\n",
       "      <td>NaN</td>\n",
       "    </tr>\n",
       "    <tr>\n",
       "      <th>...</th>\n",
       "      <td>...</td>\n",
       "      <td>...</td>\n",
       "      <td>...</td>\n",
       "      <td>...</td>\n",
       "      <td>...</td>\n",
       "      <td>...</td>\n",
       "      <td>...</td>\n",
       "      <td>...</td>\n",
       "      <td>...</td>\n",
       "      <td>...</td>\n",
       "      <td>...</td>\n",
       "      <td>...</td>\n",
       "      <td>...</td>\n",
       "      <td>...</td>\n",
       "      <td>...</td>\n",
       "      <td>...</td>\n",
       "      <td>...</td>\n",
       "      <td>...</td>\n",
       "      <td>...</td>\n",
       "      <td>...</td>\n",
       "      <td>...</td>\n",
       "    </tr>\n",
       "    <tr>\n",
       "      <th>5344</th>\n",
       "      <td>2022</td>\n",
       "      <td>17</td>\n",
       "      <td>REG</td>\n",
       "      <td>ba11445e-d24c-11ec-b23d-d15a91047884</td>\n",
       "      <td>NaN</td>\n",
       "      <td>2023-01-01 21:05:00+00:00</td>\n",
       "      <td>2023-01-01</td>\n",
       "      <td>LV</td>\n",
       "      <td>SF</td>\n",
       "      <td>NaN</td>\n",
       "      <td>...</td>\n",
       "      <td>San Francisco</td>\n",
       "      <td>Levi's® Stadium</td>\n",
       "      <td>SF_logo.webp</td>\n",
       "      <td>1</td>\n",
       "      <td>17</td>\n",
       "      <td>NaN</td>\n",
       "      <td>NaN</td>\n",
       "      <td>NaN</td>\n",
       "      <td>NaN</td>\n",
       "      <td>NaN</td>\n",
       "    </tr>\n",
       "    <tr>\n",
       "      <th>5345</th>\n",
       "      <td>2022</td>\n",
       "      <td>17</td>\n",
       "      <td>REG</td>\n",
       "      <td>ba114963-d24c-11ec-b23d-d15a91047884</td>\n",
       "      <td>NaN</td>\n",
       "      <td>2023-01-01 21:05:00+00:00</td>\n",
       "      <td>2023-01-01</td>\n",
       "      <td>SEA</td>\n",
       "      <td>NYJ</td>\n",
       "      <td>NaN</td>\n",
       "      <td>...</td>\n",
       "      <td>N.Y. Jets</td>\n",
       "      <td>MetLife Stadium</td>\n",
       "      <td>NYJ_logo.webp</td>\n",
       "      <td>1</td>\n",
       "      <td>17</td>\n",
       "      <td>NaN</td>\n",
       "      <td>NaN</td>\n",
       "      <td>NaN</td>\n",
       "      <td>NaN</td>\n",
       "      <td>NaN</td>\n",
       "    </tr>\n",
       "    <tr>\n",
       "      <th>5346</th>\n",
       "      <td>2022</td>\n",
       "      <td>17</td>\n",
       "      <td>REG</td>\n",
       "      <td>ba114e3e-d24c-11ec-b23d-d15a91047884</td>\n",
       "      <td>NaN</td>\n",
       "      <td>2023-01-01 21:25:00+00:00</td>\n",
       "      <td>2023-01-01</td>\n",
       "      <td>GB</td>\n",
       "      <td>MIN</td>\n",
       "      <td>NaN</td>\n",
       "      <td>...</td>\n",
       "      <td>Minnesota</td>\n",
       "      <td>U.S. Bank Stadium</td>\n",
       "      <td>MIN_logo.webp</td>\n",
       "      <td>1</td>\n",
       "      <td>17</td>\n",
       "      <td>NaN</td>\n",
       "      <td>NaN</td>\n",
       "      <td>NaN</td>\n",
       "      <td>NaN</td>\n",
       "      <td>NaN</td>\n",
       "    </tr>\n",
       "    <tr>\n",
       "      <th>5347</th>\n",
       "      <td>2022</td>\n",
       "      <td>17</td>\n",
       "      <td>REG</td>\n",
       "      <td>ba1152d0-d24c-11ec-b23d-d15a91047884</td>\n",
       "      <td>NaN</td>\n",
       "      <td>2023-01-02 01:20:00+00:00</td>\n",
       "      <td>2023-01-02</td>\n",
       "      <td>LAC</td>\n",
       "      <td>LA</td>\n",
       "      <td>NaN</td>\n",
       "      <td>...</td>\n",
       "      <td>L.A. Rams</td>\n",
       "      <td>SoFi Stadium</td>\n",
       "      <td>LA_logo.webp</td>\n",
       "      <td>1</td>\n",
       "      <td>17</td>\n",
       "      <td>NaN</td>\n",
       "      <td>NaN</td>\n",
       "      <td>NaN</td>\n",
       "      <td>NaN</td>\n",
       "      <td>NaN</td>\n",
       "    </tr>\n",
       "    <tr>\n",
       "      <th>5348</th>\n",
       "      <td>2022</td>\n",
       "      <td>17</td>\n",
       "      <td>REG</td>\n",
       "      <td>ba11573c-d24c-11ec-b23d-d15a91047884</td>\n",
       "      <td>NaN</td>\n",
       "      <td>2023-01-03 01:30:00+00:00</td>\n",
       "      <td>2023-01-03</td>\n",
       "      <td>CIN</td>\n",
       "      <td>BUF</td>\n",
       "      <td>NaN</td>\n",
       "      <td>...</td>\n",
       "      <td>Buffalo</td>\n",
       "      <td>Highmark Stadium</td>\n",
       "      <td>BUF_logo.webp</td>\n",
       "      <td>1</td>\n",
       "      <td>17</td>\n",
       "      <td>NaN</td>\n",
       "      <td>NaN</td>\n",
       "      <td>NaN</td>\n",
       "      <td>NaN</td>\n",
       "      <td>NaN</td>\n",
       "    </tr>\n",
       "  </tbody>\n",
       "</table>\n",
       "<p>251 rows × 54 columns</p>\n",
       "</div>"
      ],
      "text/plain": [
       "      season  week week_type                               game_id  \\\n",
       "5093    2022     1       REG  7ae7944e-d24c-11ec-b23d-d15a91047884   \n",
       "5094    2022     1       REG  7ae7a948-d24c-11ec-b23d-d15a91047884   \n",
       "5095    2022     1       REG  7ae7b07d-d24c-11ec-b23d-d15a91047884   \n",
       "5096    2022     1       REG  7ae7b7fc-d24c-11ec-b23d-d15a91047884   \n",
       "5097    2022     1       REG  7ae7be32-d24c-11ec-b23d-d15a91047884   \n",
       "...      ...   ...       ...                                   ...   \n",
       "5344    2022    17       REG  ba11445e-d24c-11ec-b23d-d15a91047884   \n",
       "5345    2022    17       REG  ba114963-d24c-11ec-b23d-d15a91047884   \n",
       "5346    2022    17       REG  ba114e3e-d24c-11ec-b23d-d15a91047884   \n",
       "5347    2022    17       REG  ba1152d0-d24c-11ec-b23d-d15a91047884   \n",
       "5348    2022    17       REG  ba11573c-d24c-11ec-b23d-d15a91047884   \n",
       "\n",
       "     game_details_id                  game_time   game_date home_team  \\\n",
       "5093             NaN  2022-09-09 00:20:00+00:00  2022-09-09        LA   \n",
       "5094             NaN  2022-09-11 17:00:00+00:00  2022-09-11       ATL   \n",
       "5095             NaN  2022-09-11 17:00:00+00:00  2022-09-11       CAR   \n",
       "5096             NaN  2022-09-11 17:00:00+00:00  2022-09-11       CHI   \n",
       "5097             NaN  2022-09-11 17:00:00+00:00  2022-09-11       CIN   \n",
       "...              ...                        ...         ...       ...   \n",
       "5344             NaN  2023-01-01 21:05:00+00:00  2023-01-01        LV   \n",
       "5345             NaN  2023-01-01 21:05:00+00:00  2023-01-01       SEA   \n",
       "5346             NaN  2023-01-01 21:25:00+00:00  2023-01-01        GB   \n",
       "5347             NaN  2023-01-02 01:20:00+00:00  2023-01-02       LAC   \n",
       "5348             NaN  2023-01-03 01:30:00+00:00  2023-01-03       CIN   \n",
       "\n",
       "     away_team  home_team_score  ...  city_state_region_away  \\\n",
       "5093       BUF              NaN  ...                 Buffalo   \n",
       "5094        NO              NaN  ...             New Orleans   \n",
       "5095       CLE              NaN  ...               Cleveland   \n",
       "5096        SF              NaN  ...           San Francisco   \n",
       "5097       PIT              NaN  ...              Pittsburgh   \n",
       "...        ...              ...  ...                     ...   \n",
       "5344        SF              NaN  ...           San Francisco   \n",
       "5345       NYJ              NaN  ...               N.Y. Jets   \n",
       "5346       MIN              NaN  ...               Minnesota   \n",
       "5347        LA              NaN  ...               L.A. Rams   \n",
       "5348       BUF              NaN  ...                 Buffalo   \n",
       "\n",
       "               venue_away      logo_away  week_type_ord  week_num  week_quin  \\\n",
       "5093     Highmark Stadium  BUF_logo.webp              1         1        NaN   \n",
       "5094    Caesars Superdome   NO_logo.webp              1         1        NaN   \n",
       "5095  FirstEnergy Stadium  CLE_logo.webp              1         1        NaN   \n",
       "5096      Levi's® Stadium   SF_logo.webp              1         1        NaN   \n",
       "5097          Heinz Field  PIT_logo.webp              1         1        NaN   \n",
       "...                   ...            ...            ...       ...        ...   \n",
       "5344      Levi's® Stadium   SF_logo.webp              1        17        NaN   \n",
       "5345      MetLife Stadium  NYJ_logo.webp              1        17        NaN   \n",
       "5346    U.S. Bank Stadium  MIN_logo.webp              1        17        NaN   \n",
       "5347         SoFi Stadium   LA_logo.webp              1        17        NaN   \n",
       "5348     Highmark Stadium  BUF_logo.webp              1        17        NaN   \n",
       "\n",
       "      Gel  Hector  Emilio  Sonny  \n",
       "5093  NaN     NaN     NaN    NaN  \n",
       "5094  NaN     NaN     NaN    NaN  \n",
       "5095  NaN     NaN     NaN    NaN  \n",
       "5096  NaN     NaN     NaN    NaN  \n",
       "5097  NaN     NaN     NaN    NaN  \n",
       "...   ...     ...     ...    ...  \n",
       "5344  NaN     NaN     NaN    NaN  \n",
       "5345  NaN     NaN     NaN    NaN  \n",
       "5346  NaN     NaN     NaN    NaN  \n",
       "5347  NaN     NaN     NaN    NaN  \n",
       "5348  NaN     NaN     NaN    NaN  \n",
       "\n",
       "[251 rows x 54 columns]"
      ]
     },
     "execution_count": 30,
     "metadata": {},
     "output_type": "execute_result"
    }
   ],
   "source": [
    "today = np.datetime64('now') - np.timedelta64('')\n",
    "\n",
    "df.loc[df['game_time'].astype(np.datetime64) > today].sort_values('game_time')"
   ]
  },
  {
   "cell_type": "code",
   "execution_count": null,
   "metadata": {},
   "outputs": [],
   "source": []
  }
 ],
 "metadata": {
  "kernelspec": {
   "display_name": "Python 3.9.13 ('venv': venv)",
   "language": "python",
   "name": "python3"
  },
  "language_info": {
   "codemirror_mode": {
    "name": "ipython",
    "version": 3
   },
   "file_extension": ".py",
   "mimetype": "text/x-python",
   "name": "python",
   "nbconvert_exporter": "python",
   "pygments_lexer": "ipython3",
   "version": "3.8.8"
  },
  "vscode": {
   "interpreter": {
    "hash": "5152e42275411dbc3e462fa879a369e4fe94d83bb9fc4a10bfcc3bbe9c4bbce5"
   }
  }
 },
 "nbformat": 4,
 "nbformat_minor": 4
}
