{
 "cells": [
  {
   "cell_type": "markdown",
   "metadata": {},
   "source": [
    "# NFL API and Prediction Charts for Quiniela"
   ]
  },
  {
   "cell_type": "markdown",
   "metadata": {},
   "source": [
    "## Config"
   ]
  },
  {
   "cell_type": "code",
   "execution_count": 1,
   "metadata": {},
   "outputs": [
    {
     "data": {
      "text/html": [
       "<pre>✔️ 0 ns (2022-07-08T08:34:17/2022-07-08T08:34:17)</pre>"
      ],
      "text/plain": [
       "<IPython.core.display.HTML object>"
      ]
     },
     "metadata": {},
     "output_type": "display_data"
    }
   ],
   "source": [
    "%load_ext autotime"
   ]
  },
  {
   "cell_type": "code",
   "execution_count": 2,
   "metadata": {
    "collapsed": false
   },
   "outputs": [
    {
     "data": {
      "text/html": [
       "<pre>✔️ 5.69 s (2022-07-08T08:34:18/2022-07-08T08:34:23)</pre>"
      ],
      "text/plain": [
       "<IPython.core.display.HTML object>"
      ]
     },
     "metadata": {},
     "output_type": "display_data"
    }
   ],
   "source": [
    "import pandas as pd\n",
    "import numpy as np\n",
    "import matplotlib.pyplot as plt\n",
    "import seaborn as sns\n",
    "import plotly.express as px\n",
    "import nflapi\n",
    "from datetime import datetime"
   ]
  },
  {
   "cell_type": "markdown",
   "metadata": {},
   "source": [
    "## Read in Data"
   ]
  },
  {
   "cell_type": "code",
   "execution_count": 3,
   "metadata": {},
   "outputs": [
    {
     "data": {
      "text/html": [
       "<pre>✔️ 16 ms (2022-07-08T08:34:23/2022-07-08T08:34:23)</pre>"
      ],
      "text/plain": [
       "<IPython.core.display.HTML object>"
      ]
     },
     "metadata": {},
     "output_type": "display_data"
    }
   ],
   "source": [
    "nfl = nflapi.NFL(ua=\"nflapi_quiniela\")"
   ]
  },
  {
   "cell_type": "code",
   "execution_count": 4,
   "metadata": {
    "collapsed": false
   },
   "outputs": [
    {
     "data": {
      "text/html": [
       "<pre>✔️ 31 ms (2022-07-08T08:34:24/2022-07-08T08:34:24)</pre>"
      ],
      "text/plain": [
       "<IPython.core.display.HTML object>"
      ]
     },
     "metadata": {},
     "output_type": "display_data"
    },
    {
     "name": "stdout",
     "output_type": "stream",
     "text": [
      "['ARI' 'ATL' 'BAL' 'BUF' 'CAR' 'CHI' 'CIN' 'CLE' 'DAL' 'DEN' 'DET' 'GB'\n",
      " 'HOU' 'IND' 'JAX' 'KC' 'LA' 'LAC' 'LV' 'MIA' 'MIN' 'NE' 'NO' 'NYG' 'NYJ'\n",
      " 'PHI' 'PIT' 'SEA' 'SF' 'TB' 'TEN' 'WAS']\n",
      "32\n"
     ]
    },
    {
     "data": {
      "text/html": [
       "<div>\n",
       "<style scoped>\n",
       "    .dataframe tbody tr th:only-of-type {\n",
       "        vertical-align: middle;\n",
       "    }\n",
       "\n",
       "    .dataframe tbody tr th {\n",
       "        vertical-align: top;\n",
       "    }\n",
       "\n",
       "    .dataframe thead th {\n",
       "        text-align: right;\n",
       "    }\n",
       "</style>\n",
       "<table border=\"1\" class=\"dataframe\">\n",
       "  <thead>\n",
       "    <tr style=\"text-align: right;\">\n",
       "      <th></th>\n",
       "      <th>season</th>\n",
       "      <th>week</th>\n",
       "      <th>away_team</th>\n",
       "      <th>home_team</th>\n",
       "      <th>Gel</th>\n",
       "      <th>Hector</th>\n",
       "      <th>Emilio</th>\n",
       "      <th>Sonny</th>\n",
       "    </tr>\n",
       "  </thead>\n",
       "  <tbody>\n",
       "    <tr>\n",
       "      <th>0</th>\n",
       "      <td>2003</td>\n",
       "      <td>1</td>\n",
       "      <td>ATL</td>\n",
       "      <td>DAL</td>\n",
       "      <td>DAL</td>\n",
       "      <td>ATL</td>\n",
       "      <td>DAL</td>\n",
       "      <td>DAL</td>\n",
       "    </tr>\n",
       "    <tr>\n",
       "      <th>1</th>\n",
       "      <td>2003</td>\n",
       "      <td>1</td>\n",
       "      <td>NE</td>\n",
       "      <td>BUF</td>\n",
       "      <td>BUF</td>\n",
       "      <td>BUF</td>\n",
       "      <td>NE</td>\n",
       "      <td>BUF</td>\n",
       "    </tr>\n",
       "    <tr>\n",
       "      <th>2</th>\n",
       "      <td>2003</td>\n",
       "      <td>1</td>\n",
       "      <td>JAX</td>\n",
       "      <td>CAR</td>\n",
       "      <td>JAX</td>\n",
       "      <td>JAX</td>\n",
       "      <td>JAX</td>\n",
       "      <td>CAR</td>\n",
       "    </tr>\n",
       "    <tr>\n",
       "      <th>3</th>\n",
       "      <td>2003</td>\n",
       "      <td>1</td>\n",
       "      <td>DEN</td>\n",
       "      <td>CIN</td>\n",
       "      <td>DEN</td>\n",
       "      <td>DEN</td>\n",
       "      <td>DEN</td>\n",
       "      <td>DEN</td>\n",
       "    </tr>\n",
       "    <tr>\n",
       "      <th>4</th>\n",
       "      <td>2003</td>\n",
       "      <td>1</td>\n",
       "      <td>ARI</td>\n",
       "      <td>DET</td>\n",
       "      <td>DET</td>\n",
       "      <td>ARI</td>\n",
       "      <td>DET</td>\n",
       "      <td>ARI</td>\n",
       "    </tr>\n",
       "  </tbody>\n",
       "</table>\n",
       "</div>"
      ],
      "text/plain": [
       "   season  week away_team home_team  Gel Hector Emilio Sonny\n",
       "0    2003     1       ATL       DAL  DAL    ATL    DAL   DAL\n",
       "1    2003     1        NE       BUF  BUF    BUF     NE   BUF\n",
       "2    2003     1       JAX       CAR  JAX    JAX    JAX   CAR\n",
       "3    2003     1       DEN       CIN  DEN    DEN    DEN   DEN\n",
       "4    2003     1       ARI       DET  DET    ARI    DET   ARI"
      ]
     },
     "execution_count": 4,
     "metadata": {},
     "output_type": "execute_result"
    }
   ],
   "source": [
    "preds = pd.read_csv('../data/quiniela_res.csv').sort_values(['season', 'week'], ascending=True)\n",
    "preds['season'] = preds['season'].astype(int)\n",
    "preds['week'] = preds['week'].astype(int)\n",
    "preds = preds.rename(columns={'Home Team': 'home_team', 'Away Team':'away_team'})\n",
    "\n",
    "teamsL = np.unique(preds['away_team'].unique().tolist() + preds['home_team'].unique().tolist())\n",
    "print(np.sort(teamsL))\n",
    "print(len(teamsL))\n",
    "preds.head()"
   ]
  },
  {
   "cell_type": "code",
   "execution_count": 5,
   "metadata": {},
   "outputs": [
    {
     "data": {
      "text/html": [
       "<pre>✔️ 16 ms (2022-07-08T08:34:24/2022-07-08T08:34:24)</pre>"
      ],
      "text/plain": [
       "<IPython.core.display.HTML object>"
      ]
     },
     "metadata": {},
     "output_type": "display_data"
    },
    {
     "data": {
      "text/html": [
       "<div>\n",
       "<style scoped>\n",
       "    .dataframe tbody tr th:only-of-type {\n",
       "        vertical-align: middle;\n",
       "    }\n",
       "\n",
       "    .dataframe tbody tr th {\n",
       "        vertical-align: top;\n",
       "    }\n",
       "\n",
       "    .dataframe thead th {\n",
       "        text-align: right;\n",
       "    }\n",
       "</style>\n",
       "<table border=\"1\" class=\"dataframe\">\n",
       "  <thead>\n",
       "    <tr style=\"text-align: right;\">\n",
       "      <th></th>\n",
       "      <th>abbreviation</th>\n",
       "      <th>full_name</th>\n",
       "      <th>nick_name</th>\n",
       "      <th>conference</th>\n",
       "      <th>division</th>\n",
       "      <th>city_state_region</th>\n",
       "      <th>season</th>\n",
       "      <th>venue</th>\n",
       "    </tr>\n",
       "  </thead>\n",
       "  <tbody>\n",
       "    <tr>\n",
       "      <th>0</th>\n",
       "      <td>WAS</td>\n",
       "      <td>Washington Redskins</td>\n",
       "      <td>Redskins</td>\n",
       "      <td>NFC</td>\n",
       "      <td>NFC_EASTERN</td>\n",
       "      <td>Washington</td>\n",
       "      <td>2003</td>\n",
       "      <td>NaN</td>\n",
       "    </tr>\n",
       "    <tr>\n",
       "      <th>1</th>\n",
       "      <td>TB</td>\n",
       "      <td>Tampa Bay Buccaneers</td>\n",
       "      <td>Buccaneers</td>\n",
       "      <td>NFC</td>\n",
       "      <td>NFC_SOUTH</td>\n",
       "      <td>Tampa Bay</td>\n",
       "      <td>2003</td>\n",
       "      <td>NaN</td>\n",
       "    </tr>\n",
       "    <tr>\n",
       "      <th>2</th>\n",
       "      <td>SEA</td>\n",
       "      <td>Seattle Seahawks</td>\n",
       "      <td>Seahawks</td>\n",
       "      <td>NFC</td>\n",
       "      <td>NFC_WESTERN</td>\n",
       "      <td>Seattle</td>\n",
       "      <td>2003</td>\n",
       "      <td>NaN</td>\n",
       "    </tr>\n",
       "    <tr>\n",
       "      <th>3</th>\n",
       "      <td>SF</td>\n",
       "      <td>San Francisco 49ers</td>\n",
       "      <td>49ers</td>\n",
       "      <td>NFC</td>\n",
       "      <td>NFC_WESTERN</td>\n",
       "      <td>San Francisco</td>\n",
       "      <td>2003</td>\n",
       "      <td>NaN</td>\n",
       "    </tr>\n",
       "    <tr>\n",
       "      <th>4</th>\n",
       "      <td>LAC</td>\n",
       "      <td>San Diego Chargers</td>\n",
       "      <td>Chargers</td>\n",
       "      <td>AFC</td>\n",
       "      <td>AFC_WESTERN</td>\n",
       "      <td>San Diego</td>\n",
       "      <td>2003</td>\n",
       "      <td>NaN</td>\n",
       "    </tr>\n",
       "  </tbody>\n",
       "</table>\n",
       "</div>"
      ],
      "text/plain": [
       "  abbreviation             full_name   nick_name conference     division  \\\n",
       "0          WAS   Washington Redskins    Redskins        NFC  NFC_EASTERN   \n",
       "1           TB  Tampa Bay Buccaneers  Buccaneers        NFC    NFC_SOUTH   \n",
       "2          SEA      Seattle Seahawks    Seahawks        NFC  NFC_WESTERN   \n",
       "3           SF   San Francisco 49ers       49ers        NFC  NFC_WESTERN   \n",
       "4          LAC    San Diego Chargers    Chargers        AFC  AFC_WESTERN   \n",
       "\n",
       "  city_state_region  season venue  \n",
       "0        Washington    2003   NaN  \n",
       "1         Tampa Bay    2003   NaN  \n",
       "2           Seattle    2003   NaN  \n",
       "3     San Francisco    2003   NaN  \n",
       "4         San Diego    2003   NaN  "
      ]
     },
     "execution_count": 5,
     "metadata": {},
     "output_type": "execute_result"
    }
   ],
   "source": [
    "teams = pd.read_csv('../data/nfl_team_info_all.csv', index_col=0)\n",
    "teams['season'] = teams['season'].astype(int)\n",
    "team_dec = teams.groupby(['full_name', 'abbreviation']).size().reset_index(drop=False).set_index(['full_name'])['abbreviation'].to_dict()\n",
    "teams.head()"
   ]
  },
  {
   "cell_type": "code",
   "execution_count": 6,
   "metadata": {},
   "outputs": [
    {
     "data": {
      "text/html": [
       "<pre>✔️ 47 ms (2022-07-08T08:34:24/2022-07-08T08:34:24)</pre>"
      ],
      "text/plain": [
       "<IPython.core.display.HTML object>"
      ]
     },
     "metadata": {},
     "output_type": "display_data"
    },
    {
     "data": {
      "text/html": [
       "<div>\n",
       "<style scoped>\n",
       "    .dataframe tbody tr th:only-of-type {\n",
       "        vertical-align: middle;\n",
       "    }\n",
       "\n",
       "    .dataframe tbody tr th {\n",
       "        vertical-align: top;\n",
       "    }\n",
       "\n",
       "    .dataframe thead th {\n",
       "        text-align: right;\n",
       "    }\n",
       "</style>\n",
       "<table border=\"1\" class=\"dataframe\">\n",
       "  <thead>\n",
       "    <tr style=\"text-align: right;\">\n",
       "      <th></th>\n",
       "      <th>season</th>\n",
       "      <th>week</th>\n",
       "      <th>week_type</th>\n",
       "      <th>game_id</th>\n",
       "      <th>game_details_id</th>\n",
       "      <th>game_time</th>\n",
       "      <th>game_date</th>\n",
       "      <th>home_team</th>\n",
       "      <th>away_team</th>\n",
       "      <th>home_team_score</th>\n",
       "      <th>...</th>\n",
       "      <th>visitor_points_q1</th>\n",
       "      <th>visitor_points_q2</th>\n",
       "      <th>visitor_points_q3</th>\n",
       "      <th>visitor_points_q4</th>\n",
       "      <th>visitor_passing_yards</th>\n",
       "      <th>visitor_passing_touchdowns</th>\n",
       "      <th>visitor_rushing_yards</th>\n",
       "      <th>visitor_rushing_touchdowns</th>\n",
       "      <th>phase</th>\n",
       "      <th>winner</th>\n",
       "    </tr>\n",
       "  </thead>\n",
       "  <tbody>\n",
       "    <tr>\n",
       "      <th>0</th>\n",
       "      <td>2003</td>\n",
       "      <td>1</td>\n",
       "      <td>REG</td>\n",
       "      <td>10012003-0904-00a6-ff62-12e477623f1a</td>\n",
       "      <td>10160000-0264-94ab-68f5-9ff371a986a3</td>\n",
       "      <td>2003-09-04 09:00:00+00:00</td>\n",
       "      <td>2003-09-04</td>\n",
       "      <td>WAS</td>\n",
       "      <td>NYJ</td>\n",
       "      <td>16.0</td>\n",
       "      <td>...</td>\n",
       "      <td>7.0</td>\n",
       "      <td>0.0</td>\n",
       "      <td>3.0</td>\n",
       "      <td>3.0</td>\n",
       "      <td>101.0</td>\n",
       "      <td>0.0</td>\n",
       "      <td>57.0</td>\n",
       "      <td>1.0</td>\n",
       "      <td>FINAL</td>\n",
       "      <td>WAS</td>\n",
       "    </tr>\n",
       "    <tr>\n",
       "      <th>1</th>\n",
       "      <td>2003</td>\n",
       "      <td>1</td>\n",
       "      <td>REG</td>\n",
       "      <td>10012003-0907-0075-30bd-8e1167d1c6ac</td>\n",
       "      <td>10160000-0264-997c-6c87-72c644130bbf</td>\n",
       "      <td>2003-09-07 09:00:00+00:00</td>\n",
       "      <td>2003-09-07</td>\n",
       "      <td>DET</td>\n",
       "      <td>ARI</td>\n",
       "      <td>42.0</td>\n",
       "      <td>...</td>\n",
       "      <td>7.0</td>\n",
       "      <td>7.0</td>\n",
       "      <td>10.0</td>\n",
       "      <td>0.0</td>\n",
       "      <td>339.0</td>\n",
       "      <td>3.0</td>\n",
       "      <td>95.0</td>\n",
       "      <td>0.0</td>\n",
       "      <td>FINAL</td>\n",
       "      <td>DET</td>\n",
       "    </tr>\n",
       "    <tr>\n",
       "      <th>2</th>\n",
       "      <td>2003</td>\n",
       "      <td>1</td>\n",
       "      <td>REG</td>\n",
       "      <td>10012003-0907-0126-f566-a59e19a70a3a</td>\n",
       "      <td>10160000-0264-97a8-19af-9168b28ada0a</td>\n",
       "      <td>2003-09-07 09:00:00+00:00</td>\n",
       "      <td>2003-09-07</td>\n",
       "      <td>CIN</td>\n",
       "      <td>DEN</td>\n",
       "      <td>10.0</td>\n",
       "      <td>...</td>\n",
       "      <td>3.0</td>\n",
       "      <td>17.0</td>\n",
       "      <td>7.0</td>\n",
       "      <td>3.0</td>\n",
       "      <td>109.0</td>\n",
       "      <td>0.0</td>\n",
       "      <td>184.0</td>\n",
       "      <td>2.0</td>\n",
       "      <td>FINAL</td>\n",
       "      <td>DEN</td>\n",
       "    </tr>\n",
       "    <tr>\n",
       "      <th>3</th>\n",
       "      <td>2003</td>\n",
       "      <td>1</td>\n",
       "      <td>REG</td>\n",
       "      <td>10012003-0907-0277-e7c6-41b36cc4a1ce</td>\n",
       "      <td>10160000-0264-9839-6579-47a20841e644</td>\n",
       "      <td>2003-09-07 09:00:00+00:00</td>\n",
       "      <td>2003-09-07</td>\n",
       "      <td>CLE</td>\n",
       "      <td>IND</td>\n",
       "      <td>6.0</td>\n",
       "      <td>...</td>\n",
       "      <td>0.0</td>\n",
       "      <td>3.0</td>\n",
       "      <td>3.0</td>\n",
       "      <td>3.0</td>\n",
       "      <td>204.0</td>\n",
       "      <td>0.0</td>\n",
       "      <td>67.0</td>\n",
       "      <td>0.0</td>\n",
       "      <td>FINAL</td>\n",
       "      <td>IND</td>\n",
       "    </tr>\n",
       "    <tr>\n",
       "      <th>4</th>\n",
       "      <td>2003</td>\n",
       "      <td>1</td>\n",
       "      <td>REG</td>\n",
       "      <td>10012003-0907-0388-64cf-dd9886d18dde</td>\n",
       "      <td>10160000-0265-04d2-fd24-f2f5b0964d49</td>\n",
       "      <td>2003-09-07 09:00:00+00:00</td>\n",
       "      <td>2003-09-07</td>\n",
       "      <td>PIT</td>\n",
       "      <td>BAL</td>\n",
       "      <td>34.0</td>\n",
       "      <td>...</td>\n",
       "      <td>0.0</td>\n",
       "      <td>0.0</td>\n",
       "      <td>7.0</td>\n",
       "      <td>8.0</td>\n",
       "      <td>143.0</td>\n",
       "      <td>1.0</td>\n",
       "      <td>88.0</td>\n",
       "      <td>1.0</td>\n",
       "      <td>FINAL</td>\n",
       "      <td>PIT</td>\n",
       "    </tr>\n",
       "  </tbody>\n",
       "</table>\n",
       "<p>5 rows × 31 columns</p>\n",
       "</div>"
      ],
      "text/plain": [
       "   season  week week_type                               game_id  \\\n",
       "0    2003     1       REG  10012003-0904-00a6-ff62-12e477623f1a   \n",
       "1    2003     1       REG  10012003-0907-0075-30bd-8e1167d1c6ac   \n",
       "2    2003     1       REG  10012003-0907-0126-f566-a59e19a70a3a   \n",
       "3    2003     1       REG  10012003-0907-0277-e7c6-41b36cc4a1ce   \n",
       "4    2003     1       REG  10012003-0907-0388-64cf-dd9886d18dde   \n",
       "\n",
       "                        game_details_id                  game_time  \\\n",
       "0  10160000-0264-94ab-68f5-9ff371a986a3  2003-09-04 09:00:00+00:00   \n",
       "1  10160000-0264-997c-6c87-72c644130bbf  2003-09-07 09:00:00+00:00   \n",
       "2  10160000-0264-97a8-19af-9168b28ada0a  2003-09-07 09:00:00+00:00   \n",
       "3  10160000-0264-9839-6579-47a20841e644  2003-09-07 09:00:00+00:00   \n",
       "4  10160000-0265-04d2-fd24-f2f5b0964d49  2003-09-07 09:00:00+00:00   \n",
       "\n",
       "    game_date home_team away_team  home_team_score  ...  visitor_points_q1  \\\n",
       "0  2003-09-04       WAS       NYJ             16.0  ...                7.0   \n",
       "1  2003-09-07       DET       ARI             42.0  ...                7.0   \n",
       "2  2003-09-07       CIN       DEN             10.0  ...                3.0   \n",
       "3  2003-09-07       CLE       IND              6.0  ...                0.0   \n",
       "4  2003-09-07       PIT       BAL             34.0  ...                0.0   \n",
       "\n",
       "   visitor_points_q2  visitor_points_q3  visitor_points_q4  \\\n",
       "0                0.0                3.0                3.0   \n",
       "1                7.0               10.0                0.0   \n",
       "2               17.0                7.0                3.0   \n",
       "3                3.0                3.0                3.0   \n",
       "4                0.0                7.0                8.0   \n",
       "\n",
       "   visitor_passing_yards  visitor_passing_touchdowns  visitor_rushing_yards  \\\n",
       "0                  101.0                         0.0                   57.0   \n",
       "1                  339.0                         3.0                   95.0   \n",
       "2                  109.0                         0.0                  184.0   \n",
       "3                  204.0                         0.0                   67.0   \n",
       "4                  143.0                         1.0                   88.0   \n",
       "\n",
       "   visitor_rushing_touchdowns  phase  winner  \n",
       "0                         1.0  FINAL     WAS  \n",
       "1                         0.0  FINAL     DET  \n",
       "2                         2.0  FINAL     DEN  \n",
       "3                         0.0  FINAL     IND  \n",
       "4                         1.0  FINAL     PIT  \n",
       "\n",
       "[5 rows x 31 columns]"
      ]
     },
     "execution_count": 6,
     "metadata": {},
     "output_type": "execute_result"
    }
   ],
   "source": [
    "scores = pd.read_csv('../data/nfl_scores_all.csv', index_col=0)\n",
    "scores['season'] = scores['season'].astype(int)\n",
    "scores['week'] = scores['week'].astype(int)\n",
    "scores['home_team'] = scores['home_team'].apply(lambda x: team_dec[x])\n",
    "scores['away_team'] = scores['away_team'].apply(lambda x: team_dec[x])\n",
    "scores['winner'] = [home_team if home_score + home_ot_score > away_score + away_ot_score else \\\n",
    "                    away_team if away_score + away_ot_score > home_score + home_ot_score else \\\n",
    "                    'TIE' for home_ot_score, away_ot_score, home_score, away_score, home_team, away_team in \\\n",
    "                    scores[['home_team_score', 'away_team_score', \n",
    "                            'home_points_overtime_total', 'visitor_points_overtime_total', \n",
    "                            'home_team', 'away_team']].values]\n",
    "scores.head()"
   ]
  },
  {
   "cell_type": "code",
   "execution_count": 7,
   "metadata": {},
   "outputs": [
    {
     "data": {
      "text/html": [
       "<pre>✔️ 344 ms (2022-07-08T08:34:24/2022-07-08T08:34:24)</pre>"
      ],
      "text/plain": [
       "<IPython.core.display.HTML object>"
      ]
     },
     "metadata": {},
     "output_type": "display_data"
    },
    {
     "name": "stdout",
     "output_type": "stream",
     "text": [
      "['season', 'week', 'week_type', 'game_id', 'game_details_id', 'game_time', 'game_date', 'home_team', 'away_team', 'home_team_score', 'away_team_score', 'home_points_overtime_total', 'visitor_points_overtime_total', 'home_points_q1', 'home_points_q2', 'home_points_q3', 'home_points_q4', 'home_passing_yards', 'home_passing_touchdowns', 'home_rushing_yards', 'home_rushing_touchdowns', 'visitor_points_q1', 'visitor_points_q2', 'visitor_points_q3', 'visitor_points_q4', 'visitor_passing_yards', 'visitor_passing_touchdowns', 'visitor_rushing_yards', 'visitor_rushing_touchdowns', 'phase', 'winner', 'abbreviation', 'full_name', 'nick_name', 'conference', 'division', 'city_state_region', 'venue', 'abbreviation_away', 'full_name_away', 'nick_name_away', 'conference_away', 'division_away', 'week_type_ord', 'week_num', 'week_quin', 'Gel', 'Hector', 'Emilio', 'Sonny']\n"
     ]
    },
    {
     "data": {
      "text/html": [
       "<div>\n",
       "<style scoped>\n",
       "    .dataframe tbody tr th:only-of-type {\n",
       "        vertical-align: middle;\n",
       "    }\n",
       "\n",
       "    .dataframe tbody tr th {\n",
       "        vertical-align: top;\n",
       "    }\n",
       "\n",
       "    .dataframe thead th {\n",
       "        text-align: right;\n",
       "    }\n",
       "</style>\n",
       "<table border=\"1\" class=\"dataframe\">\n",
       "  <thead>\n",
       "    <tr style=\"text-align: right;\">\n",
       "      <th></th>\n",
       "      <th>season</th>\n",
       "      <th>week</th>\n",
       "      <th>week_type</th>\n",
       "      <th>game_id</th>\n",
       "      <th>game_details_id</th>\n",
       "      <th>game_time</th>\n",
       "      <th>game_date</th>\n",
       "      <th>home_team</th>\n",
       "      <th>away_team</th>\n",
       "      <th>home_team_score</th>\n",
       "      <th>...</th>\n",
       "      <th>nick_name_away</th>\n",
       "      <th>conference_away</th>\n",
       "      <th>division_away</th>\n",
       "      <th>week_type_ord</th>\n",
       "      <th>week_num</th>\n",
       "      <th>week_quin</th>\n",
       "      <th>Gel</th>\n",
       "      <th>Hector</th>\n",
       "      <th>Emilio</th>\n",
       "      <th>Sonny</th>\n",
       "    </tr>\n",
       "  </thead>\n",
       "  <tbody>\n",
       "    <tr>\n",
       "      <th>0</th>\n",
       "      <td>2003</td>\n",
       "      <td>1</td>\n",
       "      <td>REG</td>\n",
       "      <td>10012003-0904-00a6-ff62-12e477623f1a</td>\n",
       "      <td>10160000-0264-94ab-68f5-9ff371a986a3</td>\n",
       "      <td>2003-09-04 09:00:00+00:00</td>\n",
       "      <td>2003-09-04</td>\n",
       "      <td>WAS</td>\n",
       "      <td>NYJ</td>\n",
       "      <td>16.0</td>\n",
       "      <td>...</td>\n",
       "      <td>Jets</td>\n",
       "      <td>AFC</td>\n",
       "      <td>AFC_EASTERN</td>\n",
       "      <td>1</td>\n",
       "      <td>1</td>\n",
       "      <td>1.0</td>\n",
       "      <td>WAS</td>\n",
       "      <td>WAS</td>\n",
       "      <td>NYJ</td>\n",
       "      <td>WAS</td>\n",
       "    </tr>\n",
       "    <tr>\n",
       "      <th>1</th>\n",
       "      <td>2003</td>\n",
       "      <td>1</td>\n",
       "      <td>REG</td>\n",
       "      <td>10012003-0907-0075-30bd-8e1167d1c6ac</td>\n",
       "      <td>10160000-0264-997c-6c87-72c644130bbf</td>\n",
       "      <td>2003-09-07 09:00:00+00:00</td>\n",
       "      <td>2003-09-07</td>\n",
       "      <td>DET</td>\n",
       "      <td>ARI</td>\n",
       "      <td>42.0</td>\n",
       "      <td>...</td>\n",
       "      <td>Cardinals</td>\n",
       "      <td>NFC</td>\n",
       "      <td>NFC_WESTERN</td>\n",
       "      <td>1</td>\n",
       "      <td>1</td>\n",
       "      <td>1.0</td>\n",
       "      <td>DET</td>\n",
       "      <td>ARI</td>\n",
       "      <td>DET</td>\n",
       "      <td>ARI</td>\n",
       "    </tr>\n",
       "    <tr>\n",
       "      <th>2</th>\n",
       "      <td>2003</td>\n",
       "      <td>1</td>\n",
       "      <td>REG</td>\n",
       "      <td>10012003-0907-0126-f566-a59e19a70a3a</td>\n",
       "      <td>10160000-0264-97a8-19af-9168b28ada0a</td>\n",
       "      <td>2003-09-07 09:00:00+00:00</td>\n",
       "      <td>2003-09-07</td>\n",
       "      <td>CIN</td>\n",
       "      <td>DEN</td>\n",
       "      <td>10.0</td>\n",
       "      <td>...</td>\n",
       "      <td>Broncos</td>\n",
       "      <td>AFC</td>\n",
       "      <td>AFC_WESTERN</td>\n",
       "      <td>1</td>\n",
       "      <td>1</td>\n",
       "      <td>1.0</td>\n",
       "      <td>DEN</td>\n",
       "      <td>DEN</td>\n",
       "      <td>DEN</td>\n",
       "      <td>DEN</td>\n",
       "    </tr>\n",
       "    <tr>\n",
       "      <th>3</th>\n",
       "      <td>2003</td>\n",
       "      <td>1</td>\n",
       "      <td>REG</td>\n",
       "      <td>10012003-0907-0277-e7c6-41b36cc4a1ce</td>\n",
       "      <td>10160000-0264-9839-6579-47a20841e644</td>\n",
       "      <td>2003-09-07 09:00:00+00:00</td>\n",
       "      <td>2003-09-07</td>\n",
       "      <td>CLE</td>\n",
       "      <td>IND</td>\n",
       "      <td>6.0</td>\n",
       "      <td>...</td>\n",
       "      <td>Colts</td>\n",
       "      <td>AFC</td>\n",
       "      <td>AFC_SOUTH</td>\n",
       "      <td>1</td>\n",
       "      <td>1</td>\n",
       "      <td>1.0</td>\n",
       "      <td>IND</td>\n",
       "      <td>CLE</td>\n",
       "      <td>IND</td>\n",
       "      <td>CLE</td>\n",
       "    </tr>\n",
       "    <tr>\n",
       "      <th>4</th>\n",
       "      <td>2003</td>\n",
       "      <td>1</td>\n",
       "      <td>REG</td>\n",
       "      <td>10012003-0907-0388-64cf-dd9886d18dde</td>\n",
       "      <td>10160000-0265-04d2-fd24-f2f5b0964d49</td>\n",
       "      <td>2003-09-07 09:00:00+00:00</td>\n",
       "      <td>2003-09-07</td>\n",
       "      <td>PIT</td>\n",
       "      <td>BAL</td>\n",
       "      <td>34.0</td>\n",
       "      <td>...</td>\n",
       "      <td>Ravens</td>\n",
       "      <td>AFC</td>\n",
       "      <td>AFC_NORTH</td>\n",
       "      <td>1</td>\n",
       "      <td>1</td>\n",
       "      <td>1.0</td>\n",
       "      <td>PIT</td>\n",
       "      <td>PIT</td>\n",
       "      <td>PIT</td>\n",
       "      <td>PIT</td>\n",
       "    </tr>\n",
       "  </tbody>\n",
       "</table>\n",
       "<p>5 rows × 50 columns</p>\n",
       "</div>"
      ],
      "text/plain": [
       "   season  week week_type                               game_id  \\\n",
       "0    2003     1       REG  10012003-0904-00a6-ff62-12e477623f1a   \n",
       "1    2003     1       REG  10012003-0907-0075-30bd-8e1167d1c6ac   \n",
       "2    2003     1       REG  10012003-0907-0126-f566-a59e19a70a3a   \n",
       "3    2003     1       REG  10012003-0907-0277-e7c6-41b36cc4a1ce   \n",
       "4    2003     1       REG  10012003-0907-0388-64cf-dd9886d18dde   \n",
       "\n",
       "                        game_details_id                  game_time  \\\n",
       "0  10160000-0264-94ab-68f5-9ff371a986a3  2003-09-04 09:00:00+00:00   \n",
       "1  10160000-0264-997c-6c87-72c644130bbf  2003-09-07 09:00:00+00:00   \n",
       "2  10160000-0264-97a8-19af-9168b28ada0a  2003-09-07 09:00:00+00:00   \n",
       "3  10160000-0264-9839-6579-47a20841e644  2003-09-07 09:00:00+00:00   \n",
       "4  10160000-0265-04d2-fd24-f2f5b0964d49  2003-09-07 09:00:00+00:00   \n",
       "\n",
       "    game_date home_team away_team  home_team_score  ...  nick_name_away  \\\n",
       "0  2003-09-04       WAS       NYJ             16.0  ...            Jets   \n",
       "1  2003-09-07       DET       ARI             42.0  ...       Cardinals   \n",
       "2  2003-09-07       CIN       DEN             10.0  ...         Broncos   \n",
       "3  2003-09-07       CLE       IND              6.0  ...           Colts   \n",
       "4  2003-09-07       PIT       BAL             34.0  ...          Ravens   \n",
       "\n",
       "   conference_away  division_away  week_type_ord  week_num  week_quin  Gel  \\\n",
       "0              AFC    AFC_EASTERN              1         1        1.0  WAS   \n",
       "1              NFC    NFC_WESTERN              1         1        1.0  DET   \n",
       "2              AFC    AFC_WESTERN              1         1        1.0  DEN   \n",
       "3              AFC      AFC_SOUTH              1         1        1.0  IND   \n",
       "4              AFC      AFC_NORTH              1         1        1.0  PIT   \n",
       "\n",
       "   Hector  Emilio  Sonny  \n",
       "0     WAS     NYJ    WAS  \n",
       "1     ARI     DET    ARI  \n",
       "2     DEN     DEN    DEN  \n",
       "3     CLE     IND    CLE  \n",
       "4     PIT     PIT    PIT  \n",
       "\n",
       "[5 rows x 50 columns]"
      ]
     },
     "execution_count": 7,
     "metadata": {},
     "output_type": "execute_result"
    }
   ],
   "source": [
    "## Merge Home Team Info\n",
    "df = scores.merge(teams, \n",
    "                    left_on=['home_team', 'season'], \n",
    "                    right_on=['abbreviation', 'season'], \n",
    "                    suffixes=['', '_home'],\n",
    "                    how='left')\n",
    "\n",
    "## Merge Away Team Info\n",
    "df = df.merge(teams.drop(['city_state_region', 'venue'], axis=1), \n",
    "                    left_on=['away_team', 'season'], \n",
    "                    right_on=['abbreviation', 'season'], \n",
    "                    suffixes=['', '_away'],\n",
    "                    how='left')\n",
    "\n",
    "## Create New Week Num Column\n",
    "week_type_order = {'REG':1, 'WC':2, 'DIV':3, 'CONF':4, 'SB':5}\n",
    "df['week_type_ord'] = df['week_type'].apply(lambda x: week_type_order[x])\n",
    "week_dec = df.sort_values(['game_date', 'week_type_ord', 'season'], ascending=True).reset_index(drop=True).groupby(['season', 'week_type_ord', 'week']).size().reset_index(drop=False)\n",
    "week_dec['week_num'] = week_dec.groupby(['season'])['season'].cumcount()+1\n",
    "df = df.merge(week_dec.drop(0, axis=1), \n",
    "                    left_on=['season', 'week', 'week_type_ord'],\n",
    "                    right_on=['season', 'week', 'week_type_ord'],\n",
    "                    how='left')\n",
    "\n",
    "\n",
    "## Merge Users Pred Info\n",
    "# df = df.merge(preds.drop(['week'], axis=1), \n",
    "df = df.merge(preds, \n",
    "                    left_on=['home_team', 'away_team', 'season'], \n",
    "                    right_on=['home_team', 'away_team', 'season'],\n",
    "                    how='left',\n",
    "                    suffixes=['', '_quin'])\n",
    "\n",
    "## Remove Duplicate Entries\n",
    "dup_games = scores.groupby(['home_team', 'away_team', 'season']).size()\n",
    "dup_games = dup_games[dup_games>1].reset_index(drop=False)\n",
    "drop_idxL = []\n",
    "for idx, dup_game in dup_games.iterrows():\n",
    "    temp_dup = df.loc[((df['home_team'] == dup_game['home_team']) & (df['away_team'] == dup_game['away_team']) &  (df['season'] == dup_game['season']))].reset_index(drop=False)\n",
    "    temp_dup['week_num_diff'] = abs(temp_dup['week_quin'] - temp_dup['week_num'])\n",
    "    drop_idxL = drop_idxL + temp_dup.sort_values(['week_num_diff'], ascending=False).drop_duplicates(['game_id'], keep='first')['index'].values.tolist()\n",
    "df = df.loc[~df.index.isin(drop_idxL)].reset_index(drop=True)\n",
    "\n",
    "## Preview Data\n",
    "print(df.columns.tolist())\n",
    "df.head()"
   ]
  },
  {
   "cell_type": "markdown",
   "metadata": {},
   "source": []
  },
  {
   "cell_type": "code",
   "execution_count": 25,
   "metadata": {},
   "outputs": [
    {
     "data": {
      "text/html": [
       "<pre>✔️ 0 ns (2022-07-08T08:48:32/2022-07-08T08:48:32)</pre>"
      ],
      "text/plain": [
       "<IPython.core.display.HTML object>"
      ]
     },
     "metadata": {},
     "output_type": "display_data"
    },
    {
     "data": {
      "text/plain": [
       "'2003-09-04 09:00:00+00:00'"
      ]
     },
     "execution_count": 25,
     "metadata": {},
     "output_type": "execute_result"
    }
   ],
   "source": [
    "df['game_time'].values[0]"
   ]
  },
  {
   "cell_type": "code",
   "execution_count": 28,
   "metadata": {},
   "outputs": [
    {
     "data": {
      "text/html": [
       "<pre>✔️ 0 ns (2022-07-08T08:49:57/2022-07-08T08:49:57)</pre>"
      ],
      "text/plain": [
       "<IPython.core.display.HTML object>"
      ]
     },
     "metadata": {},
     "output_type": "display_data"
    },
    {
     "data": {
      "text/plain": [
       "Timestamp('2003-09-04 09:00:00+0000', tz='UTC')"
      ]
     },
     "execution_count": 28,
     "metadata": {},
     "output_type": "execute_result"
    }
   ],
   "source": [
    "pd.to_datetime(df['game_time'].values[0])"
   ]
  },
  {
   "cell_type": "code",
   "execution_count": 40,
   "metadata": {},
   "outputs": [
    {
     "data": {
      "text/html": [
       "<pre>✔️ 63 ms (2022-07-08T08:55:45/2022-07-08T08:55:45)</pre>"
      ],
      "text/plain": [
       "<IPython.core.display.HTML object>"
      ]
     },
     "metadata": {},
     "output_type": "display_data"
    },
    {
     "name": "stdout",
     "output_type": "stream",
     "text": [
      "\u001b[1;31mSignature:\u001b[0m \u001b[0mgame_time\u001b[0m\u001b[1;33m.\u001b[0m\u001b[0mstrftime\u001b[0m\u001b[1;33m(\u001b[0m\u001b[0mformat\u001b[0m\u001b[1;33m)\u001b[0m\u001b[1;33m\u001b[0m\u001b[1;33m\u001b[0m\u001b[0m\n",
      "\u001b[1;31mDocstring:\u001b[0m\n",
      "Timestamp.strftime(format)\n",
      "\n",
      "Return a string representing the given POSIX timestamp\n",
      "controlled by an explicit format string.\n",
      "\n",
      "Parameters\n",
      "----------\n",
      "format : str\n",
      "    Format string to convert Timestamp to string.\n",
      "    See strftime documentation for more information on the format string:\n",
      "    https://docs.python.org/3/library/datetime.html#strftime-and-strptime-behavior.\n",
      "\n",
      "Examples\n",
      "--------\n",
      ">>> ts = pd.Timestamp('2020-03-14T15:32:52.192548651')\n",
      ">>> ts.strftime('%Y-%m-%d %X')\n",
      "'2020-03-14 15:32:52'\n",
      "\u001b[1;31mType:\u001b[0m      method\n"
     ]
    }
   ],
   "source": [
    "\n",
    "\n",
    "?game_time.strftime"
   ]
  },
  {
   "cell_type": "code",
   "execution_count": 55,
   "metadata": {},
   "outputs": [
    {
     "data": {
      "text/html": [
       "<pre>✔️ 0 ns (2022-07-08T09:02:46/2022-07-08T09:02:46)</pre>"
      ],
      "text/plain": [
       "<IPython.core.display.HTML object>"
      ]
     },
     "metadata": {},
     "output_type": "display_data"
    },
    {
     "data": {
      "text/plain": [
       " 18:00:00+00:00    72\n",
       " 17:00:00+00:00    58\n",
       " 21:25:00+00:00    27\n",
       " 21:05:00+00:00    17\n",
       " 20:25:00+00:00    15\n",
       " 01:20:00+00:00    15\n",
       " 01:15:00+00:00    14\n",
       " 00:20:00+00:00    14\n",
       " 20:05:00+00:00    10\n",
       " 00:15:00+00:00     5\n",
       " 21:30:00+00:00     4\n",
       " 23:40:00+00:00     2\n",
       " 21:40:00+00:00     2\n",
       " 18:05:00+00:00     2\n",
       " 20:40:00+00:00     1\n",
       " 21:35:00+00:00     1\n",
       " 01:05:00+00:00     1\n",
       " 22:00:00+00:00     1\n",
       " 01:00:00+00:00     1\n",
       " 23:00:00+00:00     1\n",
       " 17:30:00+00:00     1\n",
       " 23:10:00+00:00     1\n",
       " 02:20:00+00:00     1\n",
       " 23:05:00+00:00     1\n",
       " 21:00:00+00:00     1\n",
       " 23:30:00+00:00     1\n",
       "Name: game_time, dtype: int64"
      ]
     },
     "execution_count": 55,
     "metadata": {},
     "output_type": "execute_result"
    }
   ],
   "source": [
    "df.loc[df['season'] == 2020]['game_time'].str[10:].value_counts()"
   ]
  },
  {
   "cell_type": "code",
   "execution_count": 58,
   "metadata": {},
   "outputs": [
    {
     "data": {
      "text/html": [
       "<pre>✔️ 219 ms (2022-07-08T09:05:48/2022-07-08T09:05:48)</pre>"
      ],
      "text/plain": [
       "<IPython.core.display.HTML object>"
      ]
     },
     "metadata": {},
     "output_type": "display_data"
    },
    {
     "data": {
      "text/plain": [
       "'05:00 AM'"
      ]
     },
     "execution_count": 58,
     "metadata": {},
     "output_type": "execute_result"
    }
   ],
   "source": [
    "pd.to_datetime(df['game_time'].values[0]).tz_convert('US/Eastern').strftime(\"%I:%M %p\")"
   ]
  },
  {
   "cell_type": "code",
   "execution_count": 64,
   "metadata": {},
   "outputs": [
    {
     "data": {
      "text/html": [
       "<pre>✔️ 16 ms (2022-07-08T09:07:33/2022-07-08T09:07:33)</pre>"
      ],
      "text/plain": [
       "<IPython.core.display.HTML object>"
      ]
     },
     "metadata": {},
     "output_type": "display_data"
    },
    {
     "data": {
      "text/html": [
       "<div>\n",
       "<style scoped>\n",
       "    .dataframe tbody tr th:only-of-type {\n",
       "        vertical-align: middle;\n",
       "    }\n",
       "\n",
       "    .dataframe tbody tr th {\n",
       "        vertical-align: top;\n",
       "    }\n",
       "\n",
       "    .dataframe thead th {\n",
       "        text-align: right;\n",
       "    }\n",
       "</style>\n",
       "<table border=\"1\" class=\"dataframe\">\n",
       "  <thead>\n",
       "    <tr style=\"text-align: right;\">\n",
       "      <th></th>\n",
       "      <th>index</th>\n",
       "      <th>game_time</th>\n",
       "    </tr>\n",
       "  </thead>\n",
       "  <tbody>\n",
       "    <tr>\n",
       "      <th>0</th>\n",
       "      <td>01:00 PM</td>\n",
       "      <td>141</td>\n",
       "    </tr>\n",
       "    <tr>\n",
       "      <th>9</th>\n",
       "      <td>03:00 PM</td>\n",
       "      <td>2</td>\n",
       "    </tr>\n",
       "    <tr>\n",
       "      <th>3</th>\n",
       "      <td>04:05 PM</td>\n",
       "      <td>27</td>\n",
       "    </tr>\n",
       "    <tr>\n",
       "      <th>1</th>\n",
       "      <td>04:25 PM</td>\n",
       "      <td>42</td>\n",
       "    </tr>\n",
       "    <tr>\n",
       "      <th>5</th>\n",
       "      <td>04:30 PM</td>\n",
       "      <td>6</td>\n",
       "    </tr>\n",
       "    <tr>\n",
       "      <th>11</th>\n",
       "      <td>05:00 PM</td>\n",
       "      <td>1</td>\n",
       "    </tr>\n",
       "    <tr>\n",
       "      <th>6</th>\n",
       "      <td>06:30 PM</td>\n",
       "      <td>3</td>\n",
       "    </tr>\n",
       "    <tr>\n",
       "      <th>8</th>\n",
       "      <td>07:00 PM</td>\n",
       "      <td>2</td>\n",
       "    </tr>\n",
       "    <tr>\n",
       "      <th>4</th>\n",
       "      <td>08:15 PM</td>\n",
       "      <td>24</td>\n",
       "    </tr>\n",
       "    <tr>\n",
       "      <th>2</th>\n",
       "      <td>08:20 PM</td>\n",
       "      <td>34</td>\n",
       "    </tr>\n",
       "    <tr>\n",
       "      <th>7</th>\n",
       "      <td>09:30 AM</td>\n",
       "      <td>2</td>\n",
       "    </tr>\n",
       "    <tr>\n",
       "      <th>10</th>\n",
       "      <td>12:30 PM</td>\n",
       "      <td>1</td>\n",
       "    </tr>\n",
       "  </tbody>\n",
       "</table>\n",
       "</div>"
      ],
      "text/plain": [
       "       index  game_time\n",
       "0   01:00 PM        141\n",
       "9   03:00 PM          2\n",
       "3   04:05 PM         27\n",
       "1   04:25 PM         42\n",
       "5   04:30 PM          6\n",
       "11  05:00 PM          1\n",
       "6   06:30 PM          3\n",
       "8   07:00 PM          2\n",
       "4   08:15 PM         24\n",
       "2   08:20 PM         34\n",
       "7   09:30 AM          2\n",
       "10  12:30 PM          1"
      ]
     },
     "execution_count": 64,
     "metadata": {},
     "output_type": "execute_result"
    }
   ],
   "source": [
    "pd.to_datetime(df.loc[df['season'] == 2021]['game_time']).dt.tz_convert('US/Eastern').dt.strftime(\"%I:%M %p\").value_counts().reset_index().sort_values('index')"
   ]
  },
  {
   "cell_type": "code",
   "execution_count": 42,
   "metadata": {},
   "outputs": [
    {
     "data": {
      "text/html": [
       "<pre>✔️ 0 ns (2022-07-08T08:57:24/2022-07-08T08:57:24)</pre>"
      ],
      "text/plain": [
       "<IPython.core.display.HTML object>"
      ]
     },
     "metadata": {},
     "output_type": "display_data"
    },
    {
     "data": {
      "text/plain": [
       "'09:00 AM'"
      ]
     },
     "execution_count": 42,
     "metadata": {},
     "output_type": "execute_result"
    }
   ],
   "source": [
    "game_time = pd.to_datetime(df['game_time'].values[0]).strftime(\"%H:%M %p\")\n",
    "game_time"
   ]
  },
  {
   "cell_type": "code",
   "execution_count": 12,
   "metadata": {},
   "outputs": [
    {
     "data": {
      "text/html": [
       "<pre>✔️ 15 ms (2022-07-08T08:35:34/2022-07-08T08:35:34)</pre>"
      ],
      "text/plain": [
       "<IPython.core.display.HTML object>"
      ]
     },
     "metadata": {},
     "output_type": "display_data"
    },
    {
     "data": {
      "text/html": [
       "<div>\n",
       "<style scoped>\n",
       "    .dataframe tbody tr th:only-of-type {\n",
       "        vertical-align: middle;\n",
       "    }\n",
       "\n",
       "    .dataframe tbody tr th {\n",
       "        vertical-align: top;\n",
       "    }\n",
       "\n",
       "    .dataframe thead th {\n",
       "        text-align: right;\n",
       "    }\n",
       "</style>\n",
       "<table border=\"1\" class=\"dataframe\">\n",
       "  <thead>\n",
       "    <tr style=\"text-align: right;\">\n",
       "      <th></th>\n",
       "      <th>home_team</th>\n",
       "      <th>away_team</th>\n",
       "      <th>home_team_score</th>\n",
       "      <th>away_team_score</th>\n",
       "      <th>home_points_overtime_total</th>\n",
       "      <th>visitor_points_overtime_total</th>\n",
       "      <th>winner</th>\n",
       "      <th>Emilio</th>\n",
       "    </tr>\n",
       "  </thead>\n",
       "  <tbody>\n",
       "    <tr>\n",
       "      <th>4808</th>\n",
       "      <td>TB</td>\n",
       "      <td>DAL</td>\n",
       "      <td>31.0</td>\n",
       "      <td>29.0</td>\n",
       "      <td>0.0</td>\n",
       "      <td>0.0</td>\n",
       "      <td>TB</td>\n",
       "      <td>TB</td>\n",
       "    </tr>\n",
       "    <tr>\n",
       "      <th>4809</th>\n",
       "      <td>HOU</td>\n",
       "      <td>JAX</td>\n",
       "      <td>37.0</td>\n",
       "      <td>21.0</td>\n",
       "      <td>0.0</td>\n",
       "      <td>0.0</td>\n",
       "      <td>HOU</td>\n",
       "      <td>HOU</td>\n",
       "    </tr>\n",
       "    <tr>\n",
       "      <th>4810</th>\n",
       "      <td>WAS</td>\n",
       "      <td>LAC</td>\n",
       "      <td>16.0</td>\n",
       "      <td>20.0</td>\n",
       "      <td>0.0</td>\n",
       "      <td>0.0</td>\n",
       "      <td>LAC</td>\n",
       "      <td>WAS</td>\n",
       "    </tr>\n",
       "    <tr>\n",
       "      <th>4811</th>\n",
       "      <td>IND</td>\n",
       "      <td>SEA</td>\n",
       "      <td>16.0</td>\n",
       "      <td>28.0</td>\n",
       "      <td>0.0</td>\n",
       "      <td>0.0</td>\n",
       "      <td>SEA</td>\n",
       "      <td>SEA</td>\n",
       "    </tr>\n",
       "    <tr>\n",
       "      <th>4812</th>\n",
       "      <td>CAR</td>\n",
       "      <td>NYJ</td>\n",
       "      <td>19.0</td>\n",
       "      <td>14.0</td>\n",
       "      <td>0.0</td>\n",
       "      <td>0.0</td>\n",
       "      <td>CAR</td>\n",
       "      <td>CAR</td>\n",
       "    </tr>\n",
       "    <tr>\n",
       "      <th>...</th>\n",
       "      <td>...</td>\n",
       "      <td>...</td>\n",
       "      <td>...</td>\n",
       "      <td>...</td>\n",
       "      <td>...</td>\n",
       "      <td>...</td>\n",
       "      <td>...</td>\n",
       "      <td>...</td>\n",
       "    </tr>\n",
       "    <tr>\n",
       "      <th>5088</th>\n",
       "      <td>TB</td>\n",
       "      <td>LA</td>\n",
       "      <td>27.0</td>\n",
       "      <td>30.0</td>\n",
       "      <td>0.0</td>\n",
       "      <td>0.0</td>\n",
       "      <td>LA</td>\n",
       "      <td>TB</td>\n",
       "    </tr>\n",
       "    <tr>\n",
       "      <th>5089</th>\n",
       "      <td>KC</td>\n",
       "      <td>BUF</td>\n",
       "      <td>42.0</td>\n",
       "      <td>36.0</td>\n",
       "      <td>6.0</td>\n",
       "      <td>0.0</td>\n",
       "      <td>KC</td>\n",
       "      <td>BUF</td>\n",
       "    </tr>\n",
       "    <tr>\n",
       "      <th>5090</th>\n",
       "      <td>KC</td>\n",
       "      <td>CIN</td>\n",
       "      <td>24.0</td>\n",
       "      <td>27.0</td>\n",
       "      <td>0.0</td>\n",
       "      <td>3.0</td>\n",
       "      <td>CIN</td>\n",
       "      <td>KC</td>\n",
       "    </tr>\n",
       "    <tr>\n",
       "      <th>5091</th>\n",
       "      <td>LA</td>\n",
       "      <td>SF</td>\n",
       "      <td>20.0</td>\n",
       "      <td>17.0</td>\n",
       "      <td>0.0</td>\n",
       "      <td>0.0</td>\n",
       "      <td>LA</td>\n",
       "      <td>LA</td>\n",
       "    </tr>\n",
       "    <tr>\n",
       "      <th>5092</th>\n",
       "      <td>CIN</td>\n",
       "      <td>LA</td>\n",
       "      <td>20.0</td>\n",
       "      <td>23.0</td>\n",
       "      <td>0.0</td>\n",
       "      <td>0.0</td>\n",
       "      <td>LA</td>\n",
       "      <td>CIN</td>\n",
       "    </tr>\n",
       "  </tbody>\n",
       "</table>\n",
       "<p>285 rows × 8 columns</p>\n",
       "</div>"
      ],
      "text/plain": [
       "     home_team away_team  home_team_score  away_team_score  \\\n",
       "4808        TB       DAL             31.0             29.0   \n",
       "4809       HOU       JAX             37.0             21.0   \n",
       "4810       WAS       LAC             16.0             20.0   \n",
       "4811       IND       SEA             16.0             28.0   \n",
       "4812       CAR       NYJ             19.0             14.0   \n",
       "...        ...       ...              ...              ...   \n",
       "5088        TB        LA             27.0             30.0   \n",
       "5089        KC       BUF             42.0             36.0   \n",
       "5090        KC       CIN             24.0             27.0   \n",
       "5091        LA        SF             20.0             17.0   \n",
       "5092       CIN        LA             20.0             23.0   \n",
       "\n",
       "      home_points_overtime_total  visitor_points_overtime_total winner Emilio  \n",
       "4808                         0.0                            0.0     TB     TB  \n",
       "4809                         0.0                            0.0    HOU    HOU  \n",
       "4810                         0.0                            0.0    LAC    WAS  \n",
       "4811                         0.0                            0.0    SEA    SEA  \n",
       "4812                         0.0                            0.0    CAR    CAR  \n",
       "...                          ...                            ...    ...    ...  \n",
       "5088                         0.0                            0.0     LA     TB  \n",
       "5089                         6.0                            0.0     KC    BUF  \n",
       "5090                         0.0                            3.0    CIN     KC  \n",
       "5091                         0.0                            0.0     LA     LA  \n",
       "5092                         0.0                            0.0     LA    CIN  \n",
       "\n",
       "[285 rows x 8 columns]"
      ]
     },
     "execution_count": 12,
     "metadata": {},
     "output_type": "execute_result"
    }
   ],
   "source": [
    "df.loc[df['season']==2021][['home_team', 'away_team', 'home_team_score', 'away_team_score', 'home_points_overtime_total', 'visitor_points_overtime_total', 'winner', 'Emilio']]"
   ]
  },
  {
   "cell_type": "code",
   "execution_count": 8,
   "metadata": {},
   "outputs": [
    {
     "data": {
      "text/html": [
       "<pre>✔️ 15 ms (2022-07-08T08:34:25/2022-07-08T08:34:25)</pre>"
      ],
      "text/plain": [
       "<IPython.core.display.HTML object>"
      ]
     },
     "metadata": {},
     "output_type": "display_data"
    },
    {
     "data": {
      "text/html": [
       "<div>\n",
       "<style scoped>\n",
       "    .dataframe tbody tr th:only-of-type {\n",
       "        vertical-align: middle;\n",
       "    }\n",
       "\n",
       "    .dataframe tbody tr th {\n",
       "        vertical-align: top;\n",
       "    }\n",
       "\n",
       "    .dataframe thead th {\n",
       "        text-align: right;\n",
       "    }\n",
       "</style>\n",
       "<table border=\"1\" class=\"dataframe\">\n",
       "  <thead>\n",
       "    <tr style=\"text-align: right;\">\n",
       "      <th></th>\n",
       "      <th>season</th>\n",
       "      <th>week</th>\n",
       "      <th>week_type</th>\n",
       "      <th>game_id</th>\n",
       "      <th>game_details_id</th>\n",
       "      <th>game_time</th>\n",
       "      <th>game_date</th>\n",
       "      <th>home_team</th>\n",
       "      <th>away_team</th>\n",
       "      <th>home_team_score</th>\n",
       "      <th>...</th>\n",
       "      <th>nick_name_away</th>\n",
       "      <th>conference_away</th>\n",
       "      <th>division_away</th>\n",
       "      <th>week_type_ord</th>\n",
       "      <th>week_num</th>\n",
       "      <th>week_quin</th>\n",
       "      <th>Gel</th>\n",
       "      <th>Hector</th>\n",
       "      <th>Emilio</th>\n",
       "      <th>Sonny</th>\n",
       "    </tr>\n",
       "  </thead>\n",
       "  <tbody>\n",
       "  </tbody>\n",
       "</table>\n",
       "<p>0 rows × 50 columns</p>\n",
       "</div>"
      ],
      "text/plain": [
       "Empty DataFrame\n",
       "Columns: [season, week, week_type, game_id, game_details_id, game_time, game_date, home_team, away_team, home_team_score, away_team_score, home_points_overtime_total, visitor_points_overtime_total, home_points_q1, home_points_q2, home_points_q3, home_points_q4, home_passing_yards, home_passing_touchdowns, home_rushing_yards, home_rushing_touchdowns, visitor_points_q1, visitor_points_q2, visitor_points_q3, visitor_points_q4, visitor_passing_yards, visitor_passing_touchdowns, visitor_rushing_yards, visitor_rushing_touchdowns, phase, winner, abbreviation, full_name, nick_name, conference, division, city_state_region, venue, abbreviation_away, full_name_away, nick_name_away, conference_away, division_away, week_type_ord, week_num, week_quin, Gel, Hector, Emilio, Sonny]\n",
       "Index: []\n",
       "\n",
       "[0 rows x 50 columns]"
      ]
     },
     "execution_count": 8,
     "metadata": {},
     "output_type": "execute_result"
    }
   ],
   "source": [
    "df.loc[((df['Gel'].isnull()) & (df['game_details_id'].notnull()))]"
   ]
  },
  {
   "cell_type": "code",
   "execution_count": 9,
   "metadata": {},
   "outputs": [
    {
     "data": {
      "text/html": [
       "<pre>✔️ 16 ms (2022-07-08T08:34:25/2022-07-08T08:34:25)</pre>"
      ],
      "text/plain": [
       "<IPython.core.display.HTML object>"
      ]
     },
     "metadata": {},
     "output_type": "display_data"
    },
    {
     "data": {
      "text/html": [
       "<div>\n",
       "<style scoped>\n",
       "    .dataframe tbody tr th:only-of-type {\n",
       "        vertical-align: middle;\n",
       "    }\n",
       "\n",
       "    .dataframe tbody tr th {\n",
       "        vertical-align: top;\n",
       "    }\n",
       "\n",
       "    .dataframe thead th {\n",
       "        text-align: right;\n",
       "    }\n",
       "</style>\n",
       "<table border=\"1\" class=\"dataframe\">\n",
       "  <thead>\n",
       "    <tr style=\"text-align: right;\">\n",
       "      <th></th>\n",
       "      <th>season</th>\n",
       "      <th>week</th>\n",
       "      <th>week_type</th>\n",
       "      <th>game_id</th>\n",
       "      <th>game_details_id</th>\n",
       "      <th>game_time</th>\n",
       "      <th>game_date</th>\n",
       "      <th>home_team</th>\n",
       "      <th>away_team</th>\n",
       "      <th>home_team_score</th>\n",
       "      <th>...</th>\n",
       "      <th>visitor_points_q1</th>\n",
       "      <th>visitor_points_q2</th>\n",
       "      <th>visitor_points_q3</th>\n",
       "      <th>visitor_points_q4</th>\n",
       "      <th>visitor_passing_yards</th>\n",
       "      <th>visitor_passing_touchdowns</th>\n",
       "      <th>visitor_rushing_yards</th>\n",
       "      <th>visitor_rushing_touchdowns</th>\n",
       "      <th>phase</th>\n",
       "      <th>winner</th>\n",
       "    </tr>\n",
       "  </thead>\n",
       "  <tbody>\n",
       "  </tbody>\n",
       "</table>\n",
       "<p>0 rows × 31 columns</p>\n",
       "</div>"
      ],
      "text/plain": [
       "Empty DataFrame\n",
       "Columns: [season, week, week_type, game_id, game_details_id, game_time, game_date, home_team, away_team, home_team_score, away_team_score, home_points_overtime_total, visitor_points_overtime_total, home_points_q1, home_points_q2, home_points_q3, home_points_q4, home_passing_yards, home_passing_touchdowns, home_rushing_yards, home_rushing_touchdowns, visitor_points_q1, visitor_points_q2, visitor_points_q3, visitor_points_q4, visitor_passing_yards, visitor_passing_touchdowns, visitor_rushing_yards, visitor_rushing_touchdowns, phase, winner]\n",
       "Index: []\n",
       "\n",
       "[0 rows x 31 columns]"
      ]
     },
     "execution_count": 9,
     "metadata": {},
     "output_type": "execute_result"
    }
   ],
   "source": [
    "scores.loc[scores['winner'].isnull()]"
   ]
  },
  {
   "cell_type": "code",
   "execution_count": null,
   "metadata": {},
   "outputs": [],
   "source": []
  }
 ],
 "metadata": {
  "kernelspec": {
   "display_name": "Python 3.9.13 ('nfl')",
   "language": "python",
   "name": "python3"
  },
  "language_info": {
   "codemirror_mode": {
    "name": "ipython",
    "version": 3
   },
   "file_extension": ".py",
   "mimetype": "text/x-python",
   "name": "python",
   "nbconvert_exporter": "python",
   "pygments_lexer": "ipython3",
   "version": "3.9.13"
  },
  "vscode": {
   "interpreter": {
    "hash": "f35d1c268063234ef1146f70bccdddaa997e5fb9a9d5274e3f0a3504680179fb"
   }
  }
 },
 "nbformat": 4,
 "nbformat_minor": 2
}
