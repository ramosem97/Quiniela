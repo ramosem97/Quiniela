{
 "cells": [
  {
   "cell_type": "markdown",
   "metadata": {},
   "source": [
    "# NFL API and Prediction Charts for Quiniela"
   ]
  },
  {
   "cell_type": "markdown",
   "metadata": {},
   "source": [
    "## Config"
   ]
  },
  {
   "cell_type": "code",
   "execution_count": 1,
   "metadata": {},
   "outputs": [
    {
     "data": {
      "text/html": [
       "<pre>✔️ 0 ns (2022-07-06T16:57:10/2022-07-06T16:57:10)</pre>"
      ],
      "text/plain": [
       "<IPython.core.display.HTML object>"
      ]
     },
     "metadata": {},
     "output_type": "display_data"
    }
   ],
   "source": [
    "%load_ext autotime"
   ]
  },
  {
   "cell_type": "code",
   "execution_count": 2,
   "metadata": {
    "collapsed": false
   },
   "outputs": [
    {
     "data": {
      "text/html": [
       "<pre>✔️ 1.77 s (2022-07-06T16:57:10/2022-07-06T16:57:12)</pre>"
      ],
      "text/plain": [
       "<IPython.core.display.HTML object>"
      ]
     },
     "metadata": {},
     "output_type": "display_data"
    }
   ],
   "source": [
    "import pandas as pd\n",
    "import numpy as np\n",
    "import matplotlib.pyplot as plt\n",
    "import seaborn as sns\n",
    "import plotly.express as px\n",
    "import nflapi\n",
    "from datetime import datetime\n",
    "from glob import glob"
   ]
  },
  {
   "cell_type": "markdown",
   "metadata": {},
   "source": [
    "## Read in Historical Data"
   ]
  },
  {
   "cell_type": "code",
   "execution_count": 3,
   "metadata": {},
   "outputs": [
    {
     "data": {
      "text/html": [
       "<pre>✔️ 15 ms (2022-07-06T16:57:12/2022-07-06T16:57:12)</pre>"
      ],
      "text/plain": [
       "<IPython.core.display.HTML object>"
      ]
     },
     "metadata": {},
     "output_type": "display_data"
    },
    {
     "name": "stdout",
     "output_type": "stream",
     "text": [
      "19\n"
     ]
    },
    {
     "data": {
      "text/plain": [
       "['../data/quiniela\\\\03NFLaemilio.csv',\n",
       " '../data/quiniela\\\\04NFLaemilio.csv',\n",
       " '../data/quiniela\\\\05NFLaemilio.csv',\n",
       " '../data/quiniela\\\\06NFLaemilio.csv',\n",
       " '../data/quiniela\\\\07NFLaemilio.csv',\n",
       " '../data/quiniela\\\\08NFLaemilio.csv',\n",
       " '../data/quiniela\\\\09NFLaemilio.csv',\n",
       " '../data/quiniela\\\\10NFLaemilio.csv',\n",
       " '../data/quiniela\\\\11NFLaemilio.csv',\n",
       " '../data/quiniela\\\\12NFLaemilio.csv',\n",
       " '../data/quiniela\\\\13NFLaemilio.csv',\n",
       " '../data/quiniela\\\\14NFLaemilio.csv',\n",
       " '../data/quiniela\\\\15NFLaemilio.csv',\n",
       " '../data/quiniela\\\\16NFLaemilio.csv',\n",
       " '../data/quiniela\\\\17NFLaemilio.csv',\n",
       " '../data/quiniela\\\\18NFLaemilio.csv',\n",
       " '../data/quiniela\\\\19NFLaemilio.csv',\n",
       " '../data/quiniela\\\\20NFLaemilio.csv',\n",
       " '../data/quiniela\\\\21NFLaemilio.csv']"
      ]
     },
     "execution_count": 3,
     "metadata": {},
     "output_type": "execute_result"
    }
   ],
   "source": [
    "files = glob('../data/quiniela/*emilio.csv')\n",
    "print(len(files))\n",
    "files"
   ]
  },
  {
   "cell_type": "code",
   "execution_count": 4,
   "metadata": {
    "collapsed": false
   },
   "outputs": [
    {
     "data": {
      "text/html": [
       "<pre>✔️ 46 ms (2022-07-06T16:57:12/2022-07-06T16:57:12)</pre>"
      ],
      "text/plain": [
       "<IPython.core.display.HTML object>"
      ]
     },
     "metadata": {},
     "output_type": "display_data"
    },
    {
     "data": {
      "text/html": [
       "<div>\n",
       "<style scoped>\n",
       "    .dataframe tbody tr th:only-of-type {\n",
       "        vertical-align: middle;\n",
       "    }\n",
       "\n",
       "    .dataframe tbody tr th {\n",
       "        vertical-align: top;\n",
       "    }\n",
       "\n",
       "    .dataframe thead th {\n",
       "        text-align: right;\n",
       "    }\n",
       "</style>\n",
       "<table border=\"1\" class=\"dataframe\">\n",
       "  <thead>\n",
       "    <tr style=\"text-align: right;\">\n",
       "      <th></th>\n",
       "      <th>season</th>\n",
       "      <th>week</th>\n",
       "      <th>Away Team</th>\n",
       "      <th>Home Team</th>\n",
       "      <th>Gel</th>\n",
       "      <th>Hector</th>\n",
       "      <th>Emilio</th>\n",
       "      <th>Sonny</th>\n",
       "      <th>ganador</th>\n",
       "    </tr>\n",
       "  </thead>\n",
       "  <tbody>\n",
       "    <tr>\n",
       "      <th>0</th>\n",
       "      <td>2003</td>\n",
       "      <td>1</td>\n",
       "      <td>At</td>\n",
       "      <td>Da</td>\n",
       "      <td>Da</td>\n",
       "      <td>At</td>\n",
       "      <td>Da</td>\n",
       "      <td>Da</td>\n",
       "      <td>At</td>\n",
       "    </tr>\n",
       "    <tr>\n",
       "      <th>1</th>\n",
       "      <td>2003</td>\n",
       "      <td>1</td>\n",
       "      <td>Ne</td>\n",
       "      <td>Bu</td>\n",
       "      <td>Bu</td>\n",
       "      <td>Bu</td>\n",
       "      <td>Ne</td>\n",
       "      <td>Bu</td>\n",
       "      <td>Bu</td>\n",
       "    </tr>\n",
       "    <tr>\n",
       "      <th>2</th>\n",
       "      <td>2003</td>\n",
       "      <td>1</td>\n",
       "      <td>Jk</td>\n",
       "      <td>Ca</td>\n",
       "      <td>Jk</td>\n",
       "      <td>Jk</td>\n",
       "      <td>Jk</td>\n",
       "      <td>Ca</td>\n",
       "      <td>Ca</td>\n",
       "    </tr>\n",
       "    <tr>\n",
       "      <th>3</th>\n",
       "      <td>2003</td>\n",
       "      <td>1</td>\n",
       "      <td>Dn</td>\n",
       "      <td>Cn</td>\n",
       "      <td>Dn</td>\n",
       "      <td>Dn</td>\n",
       "      <td>Dn</td>\n",
       "      <td>Dn</td>\n",
       "      <td>Dn</td>\n",
       "    </tr>\n",
       "    <tr>\n",
       "      <th>4</th>\n",
       "      <td>2003</td>\n",
       "      <td>1</td>\n",
       "      <td>Az</td>\n",
       "      <td>Dt</td>\n",
       "      <td>Dt</td>\n",
       "      <td>Az</td>\n",
       "      <td>Dt</td>\n",
       "      <td>Az</td>\n",
       "      <td>Dt</td>\n",
       "    </tr>\n",
       "  </tbody>\n",
       "</table>\n",
       "</div>"
      ],
      "text/plain": [
       "   season  week Away Team Home Team Gel Hector Emilio Sonny ganador\n",
       "0    2003     1        At        Da  Da     At     Da    Da      At\n",
       "1    2003     1        Ne        Bu  Bu     Bu     Ne    Bu      Bu\n",
       "2    2003     1        Jk        Ca  Jk     Jk     Jk    Ca      Ca\n",
       "3    2003     1        Dn        Cn  Dn     Dn     Dn    Dn      Dn\n",
       "4    2003     1        Az        Dt  Dt     Az     Dt    Az      Dt"
      ]
     },
     "execution_count": 4,
     "metadata": {},
     "output_type": "execute_result"
    }
   ],
   "source": [
    "df = pd.concat([pd.read_csv(file, encoding='ISO-8859-1') for file in files]).sort_values(['season', 'Week'], ascending=True).reset_index(drop=True)\n",
    "df.columns = ['season', 'week', 'Away Team', 'Home Team', 'Gel', 'Hector', 'Emilio', 'Sonny', 'ganador']\n",
    "df['season'] = df['season'].astype(int)\n",
    "df['week'] = df['week'].astype(int)\n",
    "df.head()"
   ]
  },
  {
   "cell_type": "code",
   "execution_count": 5,
   "metadata": {},
   "outputs": [
    {
     "data": {
      "text/html": [
       "<pre>✔️ 32 ms (2022-07-06T16:57:12/2022-07-06T16:57:12)</pre>"
      ],
      "text/plain": [
       "<IPython.core.display.HTML object>"
      ]
     },
     "metadata": {},
     "output_type": "display_data"
    },
    {
     "name": "stdout",
     "output_type": "stream",
     "text": [
      "['At' 'Az' 'Ba' 'Bu' 'Ca' 'Ch' 'Cl' 'Cn' 'Da' 'Dn' 'Dt' 'Gb' 'Gi' 'Ho'\n",
      " 'In' 'Jk' 'Jt' 'Kc' 'La' 'Lv' 'Mi' 'Mn' 'Ne' 'No' 'Oa' 'Ph' 'Pt' 'Sd'\n",
      " 'Se' 'Sf' 'Sl' 'Tb' 'Tn' 'W' 'Wa']\n",
      "35\n",
      "['ARI' 'ATL' 'BAL' 'BUF' 'CAR' 'CHI' 'CIN' 'CLE' 'DAL' 'DEN' 'DET' 'GB'\n",
      " 'HOU' 'IND' 'JAX' 'KC' 'LA' 'LAC' 'LV' 'MIA' 'MIN' 'NE' 'NO' 'NYG' 'NYJ'\n",
      " 'PHI' 'PIT' 'SEA' 'SF' 'TB' 'TEN' 'WAS']\n",
      "32\n"
     ]
    }
   ],
   "source": [
    "teamsL = np.unique(df['Away Team'].unique().tolist() + df['Home Team'].unique().tolist())\n",
    "print(np.sort(teamsL))\n",
    "print(len(teamsL))\n",
    "\n",
    "team_abbv_dec_dict = {\n",
    "    'Oa':'LV','Lv':'LV','Sd':'LAC','La':'LA','St':'LA','Jk':'JAX','W': 'WAS','Tb': 'TB','Se': 'SEA',\n",
    "    'Sf': 'SF','Pt': 'PIT','Az': 'ARI','Ph': 'PHI','Jt': 'NYJ','Gi': 'NYG','No': 'NO','Ne': 'NE','Mn': 'MIN',\n",
    "    'Mi': 'MIA','Kc': 'KC','In': 'IND','Ho': 'HOU','Tn': 'TEN','Gb': 'GB', 'Dt': 'DET','Dn': 'DEN','Da': 'DAL', \n",
    "    'Cl': 'CLE','Cn': 'CIN','Ch': 'CHI','Ca': 'CAR','Bu': 'BUF','Ba': 'BAL','At': 'ATL', 'Wa':'WAS', 'Sl':'LA'\n",
    "}\n",
    "\n",
    "for col in ['Home Team', 'Away Team', 'Gel', 'Hector', 'Emilio', 'Sonny']:\n",
    "    df[col] = df[col].apply(lambda x: team_abbv_dec_dict[x])\n",
    "df.drop(['ganador'], axis=1).to_csv('../data/quiniela_res.csv', index=False)\n",
    "\n",
    "teamsL = np.unique(df['Away Team'].unique().tolist() + df['Home Team'].unique().tolist())\n",
    "print(np.sort(teamsL))\n",
    "print(len(teamsL))"
   ]
  },
  {
   "cell_type": "markdown",
   "metadata": {},
   "source": [
    "## NFL API for Game Data"
   ]
  },
  {
   "cell_type": "code",
   "execution_count": 6,
   "metadata": {},
   "outputs": [
    {
     "data": {
      "text/html": [
       "<pre>✔️ 16 ms (2022-07-06T16:57:12/2022-07-06T16:57:12)</pre>"
      ],
      "text/plain": [
       "<IPython.core.display.HTML object>"
      ]
     },
     "metadata": {},
     "output_type": "display_data"
    },
    {
     "name": "stdout",
     "output_type": "stream",
     "text": [
      "29\n",
      "2003\n"
     ]
    }
   ],
   "source": [
    "nfl = nflapi.NFL(ua=\"nflapi_quiniela\")\n",
    "\n",
    "MAX_WEEKS = df.week.max() + 10\n",
    "print(MAX_WEEKS)\n",
    "MIN_SEASON = df.season.min()\n",
    "print(MIN_SEASON)"
   ]
  },
  {
   "cell_type": "code",
   "execution_count": 7,
   "metadata": {},
   "outputs": [
    {
     "data": {
      "text/html": [
       "<pre>✔️ 0 ns (2022-07-06T16:57:13/2022-07-06T16:57:13)</pre>"
      ],
      "text/plain": [
       "<IPython.core.display.HTML object>"
      ]
     },
     "metadata": {},
     "output_type": "display_data"
    }
   ],
   "source": [
    "conf_dict = {\n",
    "    'NATIONAL_FOOTBALL_CONFERENCE':'NFC', \n",
    "    'AMERICAN_FOOTBALL_CONFERENCE':'AFC',\n",
    "    'NFC':'NFC',\n",
    "    'AFC':'AFC',\n",
    "    }\n",
    "\n",
    "team_abbv_dict = {\n",
    "    'OAK':'LV',\n",
    "    'LV':'LV',\n",
    "\n",
    "    'SD':'LAC',\n",
    "    'LAC':'LAC',\n",
    "\n",
    "    'STL':'LA',\n",
    "    'LA':'LA',\n",
    "\n",
    "    'JAC':'JAX',\n",
    "    'JAX':'JAX',\n",
    "\n",
    "    'WAS': 'WAS',\n",
    "    'TB': 'TB',\n",
    "    'SEA': 'SEA',\n",
    "    'SF': 'SF',\n",
    "    'PIT': 'PIT',\n",
    "    'ARI': 'ARI',\n",
    "    'PHI': 'PHI',\n",
    "    'NYJ': 'NYJ',\n",
    "    'NYG': 'NYG',\n",
    "    'NO': 'NO',\n",
    "    'NE': 'NE',\n",
    "    'MIN': 'MIN',\n",
    "    'MIA': 'MIA',\n",
    "    'KC': 'KC',\n",
    "    'IND': 'IND',\n",
    "    'HOU': 'HOU',\n",
    "    'TEN': 'TEN',\n",
    "    'GB': 'GB',\n",
    "    'DET': 'DET',\n",
    "    'DEN': 'DEN',\n",
    "    'DAL': 'DAL', \n",
    "    'CLE': 'CLE',\n",
    "    'CIN': 'CIN',\n",
    "    'CHI': 'CHI',\n",
    "    'CAR': 'CAR',\n",
    "    'BUF': 'BUF',\n",
    "    'BAL': 'BAL',\n",
    "    'ATL': 'ATL',\n",
    "}"
   ]
  },
  {
   "cell_type": "code",
   "execution_count": 8,
   "metadata": {},
   "outputs": [
    {
     "data": {
      "text/html": [
       "<pre>✔️ 0 ns (2022-07-06T16:57:13/2022-07-06T16:57:13)</pre>"
      ],
      "text/plain": [
       "<IPython.core.display.HTML object>"
      ]
     },
     "metadata": {},
     "output_type": "display_data"
    }
   ],
   "source": [
    "def get_teams_info_per_season(season, nfl=nfl):\n",
    "\n",
    "    team_cols = ['abbreviation', 'full_name', 'nick_name', 'conference', 'division', \n",
    "                'city_state_region', 'season_value', 'venue']\n",
    "\n",
    "    curr_teams = pd.DataFrame([], columns=team_cols)\n",
    "\n",
    "\n",
    "    ## Get All Teams In Season\n",
    "    season_teams = nfl.team.get_all(season_value=season)\n",
    "\n",
    "\n",
    "\n",
    "    ## Iterate Through Results\n",
    "    last_idx = len(curr_teams)\n",
    "    for idx, curr_team in enumerate(season_teams):\n",
    "\n",
    "        ## Continue if Pro Bowl\n",
    "        if curr_team.division == 'NO_DIVISION':\n",
    "            continue\n",
    "\n",
    "        ## Get Special Values\n",
    "        venues = curr_team.venues\n",
    "        if venues != None:\n",
    "            venue = venues[0].display_name\n",
    "        else:\n",
    "            venue = None\n",
    "\n",
    "        ## Append to DataFrame                \n",
    "        curr_teams.loc[idx + last_idx] = [\n",
    "                                                team_abbv_dict[curr_team.abbreviation],\n",
    "                                                curr_team.full_name,\n",
    "                                                curr_team.nick_name,\n",
    "                                                conf_dict[curr_team.conference],\n",
    "                                                curr_team.division,\n",
    "                                                curr_team.city_state_region,\n",
    "                                                curr_team.season_value,\n",
    "                                                venue,\n",
    "                                            ]\n",
    "\n",
    "\n",
    "    curr_teams = curr_teams.rename(columns={'season_value':'season'})\n",
    "\n",
    "    return curr_teams\n",
    "\n",
    "\n",
    "def get_season_info(season, MAX_WEEKS=MAX_WEEKS, nfl=nfl):\n",
    "\n",
    "    season_cols = ['season', 'week', 'week_type', \n",
    "                    'game_id', 'game_details_id', \n",
    "                    'game_time', 'game_date',\n",
    "                    'home_team', \n",
    "                    'away_team', \n",
    "                    'home_team_score', 'away_team_score',\n",
    "                    'home_points_overtime_total', 'visitor_points_overtime_total',\n",
    "                    'home_points_q1', 'home_points_q2', \n",
    "                    'home_points_q3', 'home_points_q4',\n",
    "                    'home_passing_yards',\n",
    "                    'home_passing_touchdowns',\n",
    "                    'home_rushing_yards',\n",
    "                    'home_rushing_touchdowns',\n",
    "                    'visitor_points_q1', 'visitor_points_q2', \n",
    "                    'visitor_points_q3', 'visitor_points_q4',\n",
    "                    'visitor_passing_yards',\n",
    "                    'visitor_passing_touchdowns',\n",
    "                    'visitor_rushing_yards',\n",
    "                    'visitor_rushing_touchdowns',\n",
    "                    'phase',\n",
    "                    ]\n",
    "\n",
    "    curr_season = pd.DataFrame([], columns=season_cols)\n",
    "\n",
    "    ### Get All Seson Games\n",
    "    for season_type in ['REG', 'POST']:\n",
    "\n",
    "        for week in np.arange(1, MAX_WEEKS):\n",
    "\n",
    "            curr_week_games = nfl.game.week_games(season=season, season_type=season_type, week=week)\n",
    "            \n",
    "            if len(curr_week_games) == 0:\n",
    "                continue\n",
    "\n",
    "            ### Iterate through each JSON in list of games\n",
    "            last_idx = len(curr_season)\n",
    "            for idx, game in enumerate(curr_week_games):\n",
    "\n",
    "                ## Convert JSON to Dictionary\n",
    "                curr_game = game.raw\n",
    "\n",
    "                ## Get Game Det ID\n",
    "                home_points_total = None\n",
    "                visitor_points_total = None\n",
    "                home_points_overtime_total = None\n",
    "                home_points_q1 = None\n",
    "                home_points_q2 = None\n",
    "                home_points_q3 = None\n",
    "                home_points_q4 = None\n",
    "                visitor_points_overtime_total = None\n",
    "                visitor_points_q1 = None\n",
    "                visitor_points_q2 = None\n",
    "                visitor_points_q3 = None\n",
    "                visitor_points_q4 = None\n",
    "\n",
    "                home_passing_yards = None\n",
    "                home_passing_touchdowns = None\n",
    "                home_rushing_yards = None\n",
    "                home_rushing_touchdowns = None\n",
    "\n",
    "                visitor_passing_yards = None\n",
    "                visitor_passing_touchdowns = None\n",
    "                visitor_rushing_yards = None\n",
    "                visitor_rushing_touchdowns = None\n",
    "                phase = None\n",
    "\n",
    "                curr_game_det_idL = [x['id'] for x in curr_game['externalIds'] if x['source'] == 'gamedetail']\n",
    "\n",
    "                ## Check if Game is Finished or Not\n",
    "                if len(curr_game_det_idL) == 0:\n",
    "                    curr_game_det_id = None\n",
    "                else:\n",
    "                    ## Get Game Details\n",
    "                    curr_game_det_id = curr_game_det_idL[0]\n",
    "                    curr_game_dets = nfl.game_detail.by_id(curr_game_det_id)\n",
    "                    home_points_total = curr_game_dets.home_points_total\n",
    "                    visitor_points_total = curr_game_dets.visitor_points_total\n",
    "                    home_points_overtime_total = curr_game_dets.home_points_overtime_total\n",
    "                    home_points_q1 = curr_game_dets.home_points_q1\n",
    "                    home_points_q2 = curr_game_dets.home_points_q2\n",
    "                    home_points_q3 = curr_game_dets.home_points_q3\n",
    "                    home_points_q4 = curr_game_dets.home_points_q4\n",
    "                    home_passing_yards = curr_game_dets.live_home_team_game_stats.team_game_stats.passing_yards\n",
    "                    home_passing_touchdowns = curr_game_dets.live_home_team_game_stats.team_game_stats.passing_touchdowns\n",
    "                    home_rushing_yards = curr_game_dets.live_home_team_game_stats.team_game_stats.rushing_yards\n",
    "                    home_rushing_touchdowns = curr_game_dets.live_home_team_game_stats.team_game_stats.rushing_touchdowns\n",
    "                    visitor_points_overtime_total = curr_game_dets.visitor_points_overtime_total\n",
    "                    visitor_points_q1 = curr_game_dets.visitor_points_q1\n",
    "                    visitor_points_q2 = curr_game_dets.visitor_points_q2\n",
    "                    visitor_points_q3 = curr_game_dets.visitor_points_q3\n",
    "                    visitor_points_q4 = curr_game_dets.visitor_points_q4\n",
    "                    visitor_passing_yards = curr_game_dets.live_visitor_team_game_stats.team_game_stats.passing_yards\n",
    "                    visitor_passing_touchdowns = curr_game_dets.live_visitor_team_game_stats.team_game_stats.passing_touchdowns\n",
    "                    visitor_rushing_yards = curr_game_dets.live_visitor_team_game_stats.team_game_stats.rushing_yards\n",
    "                    visitor_rushing_touchdowns = curr_game_dets.live_visitor_team_game_stats.team_game_stats.rushing_touchdowns\n",
    "                    phase = curr_game_dets.phase\n",
    "                    \n",
    "\n",
    "                ## Append to DataFrame                \n",
    "                curr_season.loc[idx + last_idx] = [\n",
    "                                        \n",
    "                                        curr_game['season'], curr_game['week'], curr_game['weekType'], \n",
    "                                        curr_game['id'], curr_game_det_id, \n",
    "                                        curr_game['time'], curr_game['date'],\n",
    "                                        curr_game['homeTeam']['fullName'], \n",
    "                                        curr_game['awayTeam']['fullName'], \n",
    "                                        home_points_total, visitor_points_total,\n",
    "                                        home_points_overtime_total, visitor_points_overtime_total,\n",
    "                                        home_points_q1, home_points_q2, \n",
    "                                        home_points_q3, home_points_q4,\n",
    "                                        home_passing_yards,\n",
    "                                        home_passing_touchdowns,\n",
    "                                        home_rushing_yards,\n",
    "                                        home_rushing_touchdowns,\n",
    "                                        visitor_points_q1, visitor_points_q2,\n",
    "                                        visitor_points_q3, visitor_points_q4,\n",
    "                                        visitor_passing_yards,\n",
    "                                        visitor_passing_touchdowns,\n",
    "                                        visitor_rushing_yards,\n",
    "                                        visitor_rushing_touchdowns,\n",
    "                                        phase\n",
    "                                        ]\n",
    "\n",
    "    curr_season['game_time'] = pd.to_datetime(curr_season['game_time'])\n",
    "    curr_season['game_date'] = pd.to_datetime(curr_season['game_date'])\n",
    "    \n",
    "    return curr_season\n",
    "        \n"
   ]
  },
  {
   "cell_type": "code",
   "execution_count": 9,
   "metadata": {},
   "outputs": [
    {
     "data": {
      "text/html": [
       "<pre>✔️ 4.48 s (2022-07-06T16:57:13/2022-07-06T16:57:18)</pre>"
      ],
      "text/plain": [
       "<IPython.core.display.HTML object>"
      ]
     },
     "metadata": {},
     "output_type": "display_data"
    },
    {
     "name": "stdout",
     "output_type": "stream",
     "text": [
      "2003\n",
      "Shape Teams:  (32, 8)\n"
     ]
    },
    {
     "ename": "KeyboardInterrupt",
     "evalue": "",
     "output_type": "error",
     "traceback": [
      "\u001b[1;31m---------------------------------------------------------------------------\u001b[0m",
      "\u001b[1;31mKeyboardInterrupt\u001b[0m                         Traceback (most recent call last)",
      "\u001b[1;32m~\\AppData\\Local\\Temp\\ipykernel_7828\\4121561995.py\u001b[0m in \u001b[0;36m<cell line: 3>\u001b[1;34m()\u001b[0m\n\u001b[0;32m     14\u001b[0m     \u001b[1;31m### GET SEASON GAMES ###\u001b[0m\u001b[1;33m\u001b[0m\u001b[1;33m\u001b[0m\u001b[1;33m\u001b[0m\u001b[0m\n\u001b[0;32m     15\u001b[0m     \u001b[1;31m## Get Season Scores\u001b[0m\u001b[1;33m\u001b[0m\u001b[1;33m\u001b[0m\u001b[1;33m\u001b[0m\u001b[0m\n\u001b[1;32m---> 16\u001b[1;33m     \u001b[0mcurr_season_df\u001b[0m \u001b[1;33m=\u001b[0m \u001b[0mget_season_info\u001b[0m\u001b[1;33m(\u001b[0m\u001b[0mseason\u001b[0m\u001b[1;33m,\u001b[0m \u001b[0mMAX_WEEKS\u001b[0m\u001b[1;33m=\u001b[0m\u001b[0mMAX_WEEKS\u001b[0m\u001b[1;33m,\u001b[0m \u001b[0mnfl\u001b[0m\u001b[1;33m=\u001b[0m\u001b[0mnfl\u001b[0m\u001b[1;33m)\u001b[0m\u001b[1;33m\u001b[0m\u001b[1;33m\u001b[0m\u001b[0m\n\u001b[0m\u001b[0;32m     17\u001b[0m     \u001b[0mcurr_season_df\u001b[0m\u001b[1;33m.\u001b[0m\u001b[0mto_csv\u001b[0m\u001b[1;33m(\u001b[0m\u001b[1;34m'../data/scores/nfl_scores_season_{season}.csv'\u001b[0m\u001b[1;33m.\u001b[0m\u001b[0mformat\u001b[0m\u001b[1;33m(\u001b[0m\u001b[0mseason\u001b[0m\u001b[1;33m=\u001b[0m\u001b[0mseason\u001b[0m\u001b[1;33m)\u001b[0m\u001b[1;33m)\u001b[0m\u001b[1;33m\u001b[0m\u001b[1;33m\u001b[0m\u001b[0m\n\u001b[0;32m     18\u001b[0m     \u001b[0mprint\u001b[0m\u001b[1;33m(\u001b[0m\u001b[1;34m'Shape Season: '\u001b[0m\u001b[1;33m,\u001b[0m \u001b[0mcurr_season_df\u001b[0m\u001b[1;33m.\u001b[0m\u001b[0mshape\u001b[0m\u001b[1;33m)\u001b[0m\u001b[1;33m\u001b[0m\u001b[1;33m\u001b[0m\u001b[0m\n",
      "\u001b[1;32m~\\AppData\\Local\\Temp\\ipykernel_7828\\2661043259.py\u001b[0m in \u001b[0;36mget_season_info\u001b[1;34m(season, MAX_WEEKS, nfl)\u001b[0m\n\u001b[0;32m    121\u001b[0m                     \u001b[1;31m## Get Game Details\u001b[0m\u001b[1;33m\u001b[0m\u001b[1;33m\u001b[0m\u001b[1;33m\u001b[0m\u001b[0m\n\u001b[0;32m    122\u001b[0m                     \u001b[0mcurr_game_det_id\u001b[0m \u001b[1;33m=\u001b[0m \u001b[0mcurr_game_det_idL\u001b[0m\u001b[1;33m[\u001b[0m\u001b[1;36m0\u001b[0m\u001b[1;33m]\u001b[0m\u001b[1;33m\u001b[0m\u001b[1;33m\u001b[0m\u001b[0m\n\u001b[1;32m--> 123\u001b[1;33m                     \u001b[0mcurr_game_dets\u001b[0m \u001b[1;33m=\u001b[0m \u001b[0mnfl\u001b[0m\u001b[1;33m.\u001b[0m\u001b[0mgame_detail\u001b[0m\u001b[1;33m.\u001b[0m\u001b[0mby_id\u001b[0m\u001b[1;33m(\u001b[0m\u001b[0mcurr_game_det_id\u001b[0m\u001b[1;33m)\u001b[0m\u001b[1;33m\u001b[0m\u001b[1;33m\u001b[0m\u001b[0m\n\u001b[0m\u001b[0;32m    124\u001b[0m                     \u001b[0mhome_points_total\u001b[0m \u001b[1;33m=\u001b[0m \u001b[0mcurr_game_dets\u001b[0m\u001b[1;33m.\u001b[0m\u001b[0mhome_points_total\u001b[0m\u001b[1;33m\u001b[0m\u001b[1;33m\u001b[0m\u001b[0m\n\u001b[0;32m    125\u001b[0m                     \u001b[0mvisitor_points_total\u001b[0m \u001b[1;33m=\u001b[0m \u001b[0mcurr_game_dets\u001b[0m\u001b[1;33m.\u001b[0m\u001b[0mvisitor_points_total\u001b[0m\u001b[1;33m\u001b[0m\u001b[1;33m\u001b[0m\u001b[0m\n",
      "\u001b[1;32mc:\\Users\\ramos\\OneDrive\\Documents\\Quiniela\\venv\\lib\\site-packages\\nflapi\\helpers.py\u001b[0m in \u001b[0;36mby_id\u001b[1;34m(self, id, select_fun)\u001b[0m\n\u001b[0;32m     92\u001b[0m         \u001b[0mgame_detail\u001b[0m \u001b[1;33m=\u001b[0m \u001b[0mop\u001b[0m\u001b[1;33m.\u001b[0m\u001b[0mviewer\u001b[0m\u001b[1;33m.\u001b[0m\u001b[0mgame_detail\u001b[0m\u001b[1;33m(\u001b[0m\u001b[0mid\u001b[0m\u001b[1;33m=\u001b[0m\u001b[0mid\u001b[0m\u001b[1;33m)\u001b[0m\u001b[1;33m\u001b[0m\u001b[1;33m\u001b[0m\u001b[0m\n\u001b[0;32m     93\u001b[0m         \u001b[0mapply_selector\u001b[0m\u001b[1;33m(\u001b[0m\u001b[0mgame_detail\u001b[0m\u001b[1;33m,\u001b[0m \u001b[0mshield\u001b[0m\u001b[1;33m.\u001b[0m\u001b[0mGameDetail\u001b[0m\u001b[1;33m,\u001b[0m \u001b[0mselect_fun\u001b[0m\u001b[1;33m)\u001b[0m\u001b[1;33m\u001b[0m\u001b[1;33m\u001b[0m\u001b[0m\n\u001b[1;32m---> 94\u001b[1;33m         \u001b[0mgame_detail\u001b[0m \u001b[1;33m=\u001b[0m \u001b[0mself\u001b[0m\u001b[1;33m.\u001b[0m\u001b[0mquery\u001b[0m\u001b[1;33m(\u001b[0m\u001b[0mop\u001b[0m\u001b[1;33m)\u001b[0m\u001b[1;33m.\u001b[0m\u001b[0mviewer\u001b[0m\u001b[1;33m.\u001b[0m\u001b[0mgame_detail\u001b[0m\u001b[1;33m\u001b[0m\u001b[1;33m\u001b[0m\u001b[0m\n\u001b[0m\u001b[0;32m     95\u001b[0m         \u001b[1;32mreturn\u001b[0m \u001b[0mgame_detail\u001b[0m\u001b[1;33m\u001b[0m\u001b[1;33m\u001b[0m\u001b[0m\n\u001b[0;32m     96\u001b[0m \u001b[1;33m\u001b[0m\u001b[0m\n",
      "\u001b[1;32mc:\\Users\\ramos\\OneDrive\\Documents\\Quiniela\\venv\\lib\\site-packages\\nflapi\\helpers.py\u001b[0m in \u001b[0;36mquery\u001b[1;34m(self, op)\u001b[0m\n\u001b[0;32m     35\u001b[0m \u001b[1;33m\u001b[0m\u001b[0m\n\u001b[0;32m     36\u001b[0m     \u001b[1;32mdef\u001b[0m \u001b[0mquery\u001b[0m\u001b[1;33m(\u001b[0m\u001b[0mself\u001b[0m\u001b[1;33m,\u001b[0m \u001b[0mop\u001b[0m\u001b[1;33m:\u001b[0m \u001b[0mOperation\u001b[0m\u001b[1;33m)\u001b[0m\u001b[1;33m:\u001b[0m\u001b[1;33m\u001b[0m\u001b[1;33m\u001b[0m\u001b[0m\n\u001b[1;32m---> 37\u001b[1;33m         \u001b[1;32mreturn\u001b[0m \u001b[0mself\u001b[0m\u001b[1;33m.\u001b[0m\u001b[0mnfl\u001b[0m\u001b[1;33m.\u001b[0m\u001b[0mshield\u001b[0m\u001b[1;33m.\u001b[0m\u001b[0mquery\u001b[0m\u001b[1;33m(\u001b[0m\u001b[0mop\u001b[0m\u001b[1;33m)\u001b[0m\u001b[1;33m\u001b[0m\u001b[1;33m\u001b[0m\u001b[0m\n\u001b[0m\u001b[0;32m     38\u001b[0m \u001b[1;33m\u001b[0m\u001b[0m\n\u001b[0;32m     39\u001b[0m     \u001b[1;33m@\u001b[0m\u001b[0mstaticmethod\u001b[0m\u001b[1;33m\u001b[0m\u001b[1;33m\u001b[0m\u001b[0m\n",
      "\u001b[1;32mc:\\Users\\ramos\\OneDrive\\Documents\\Quiniela\\venv\\lib\\site-packages\\nflapi\\endpoints.py\u001b[0m in \u001b[0;36mquery\u001b[1;34m(self, op, variables, return_json)\u001b[0m\n\u001b[0;32m     25\u001b[0m             \u001b[1;32mreturn\u001b[0m \u001b[1;33m(\u001b[0m\u001b[0mop\u001b[0m \u001b[1;33m+\u001b[0m \u001b[0mdata\u001b[0m\u001b[1;33m)\u001b[0m\u001b[1;33m,\u001b[0m \u001b[0mdata\u001b[0m\u001b[1;33m\u001b[0m\u001b[1;33m\u001b[0m\u001b[0m\n\u001b[0;32m     26\u001b[0m         \u001b[1;32melse\u001b[0m\u001b[1;33m:\u001b[0m\u001b[1;33m\u001b[0m\u001b[1;33m\u001b[0m\u001b[0m\n\u001b[1;32m---> 27\u001b[1;33m             \u001b[1;32mreturn\u001b[0m \u001b[0mop\u001b[0m \u001b[1;33m+\u001b[0m \u001b[0mdata\u001b[0m\u001b[1;33m\u001b[0m\u001b[1;33m\u001b[0m\u001b[0m\n\u001b[0m\u001b[0;32m     28\u001b[0m \u001b[1;33m\u001b[0m\u001b[0m\n\u001b[0;32m     29\u001b[0m     \u001b[1;32mdef\u001b[0m \u001b[0m__mangle_datetime\u001b[0m\u001b[1;33m(\u001b[0m\u001b[0mself\u001b[0m\u001b[1;33m)\u001b[0m\u001b[1;33m:\u001b[0m\u001b[1;33m\u001b[0m\u001b[1;33m\u001b[0m\u001b[0m\n",
      "\u001b[1;32mc:\\Users\\ramos\\OneDrive\\Documents\\Quiniela\\venv\\lib\\site-packages\\sgqlc\\operation\\__init__.py\u001b[0m in \u001b[0;36m__add__\u001b[1;34m(self, other)\u001b[0m\n\u001b[0;32m   2248\u001b[0m                 \u001b[0mex\u001b[0m \u001b[1;33m=\u001b[0m \u001b[0mValueError\u001b[0m\u001b[1;33m(\u001b[0m\u001b[1;34m'no data and no errors'\u001b[0m\u001b[1;33m)\u001b[0m\u001b[1;33m\u001b[0m\u001b[1;33m\u001b[0m\u001b[0m\n\u001b[0;32m   2249\u001b[0m             \u001b[1;32mraise\u001b[0m \u001b[0mex\u001b[0m\u001b[1;33m\u001b[0m\u001b[1;33m\u001b[0m\u001b[0m\n\u001b[1;32m-> 2250\u001b[1;33m         \u001b[0mo\u001b[0m \u001b[1;33m=\u001b[0m \u001b[0mself\u001b[0m\u001b[1;33m.\u001b[0m\u001b[0m__type\u001b[0m\u001b[1;33m(\u001b[0m\u001b[0mother\u001b[0m\u001b[1;33m.\u001b[0m\u001b[0mget\u001b[0m\u001b[1;33m(\u001b[0m\u001b[1;34m'data'\u001b[0m\u001b[1;33m)\u001b[0m\u001b[1;33m,\u001b[0m \u001b[0mself\u001b[0m\u001b[1;33m.\u001b[0m\u001b[0m__selection_list\u001b[0m\u001b[1;33m)\u001b[0m\u001b[1;33m\u001b[0m\u001b[1;33m\u001b[0m\u001b[0m\n\u001b[0m\u001b[0;32m   2251\u001b[0m         \u001b[0mo\u001b[0m\u001b[1;33m.\u001b[0m\u001b[0m__errors__\u001b[0m \u001b[1;33m=\u001b[0m \u001b[0merrors\u001b[0m\u001b[1;33m\u001b[0m\u001b[1;33m\u001b[0m\u001b[0m\n\u001b[0;32m   2252\u001b[0m         \u001b[1;32mreturn\u001b[0m \u001b[0mo\u001b[0m\u001b[1;33m\u001b[0m\u001b[1;33m\u001b[0m\u001b[0m\n",
      "\u001b[1;32mc:\\Users\\ramos\\OneDrive\\Documents\\Quiniela\\venv\\lib\\site-packages\\sgqlc\\types\\__init__.py\u001b[0m in \u001b[0;36m__init__\u001b[1;34m(self, json_data, selection_list)\u001b[0m\n\u001b[0;32m   1749\u001b[0m                 json_data, type(json_data).__name__)\n\u001b[0;32m   1750\u001b[0m         \u001b[0mobject\u001b[0m\u001b[1;33m.\u001b[0m\u001b[0m__setattr__\u001b[0m\u001b[1;33m(\u001b[0m\u001b[0mself\u001b[0m\u001b[1;33m,\u001b[0m \u001b[1;34m'__selection_list__'\u001b[0m\u001b[1;33m,\u001b[0m \u001b[0mselection_list\u001b[0m\u001b[1;33m)\u001b[0m\u001b[1;33m\u001b[0m\u001b[1;33m\u001b[0m\u001b[0m\n\u001b[1;32m-> 1751\u001b[1;33m         \u001b[0mself\u001b[0m\u001b[1;33m.\u001b[0m\u001b[0m__populate_fields\u001b[0m\u001b[1;33m(\u001b[0m\u001b[0mjson_data\u001b[0m\u001b[1;33m)\u001b[0m\u001b[1;33m\u001b[0m\u001b[1;33m\u001b[0m\u001b[0m\n\u001b[0m\u001b[0;32m   1752\u001b[0m \u001b[1;33m\u001b[0m\u001b[0m\n\u001b[0;32m   1753\u001b[0m     \u001b[1;32mdef\u001b[0m \u001b[0m__populate_fields\u001b[0m\u001b[1;33m(\u001b[0m\u001b[0mself\u001b[0m\u001b[1;33m,\u001b[0m \u001b[0mjson_data\u001b[0m\u001b[1;33m)\u001b[0m\u001b[1;33m:\u001b[0m\u001b[1;33m\u001b[0m\u001b[1;33m\u001b[0m\u001b[0m\n",
      "\u001b[1;32mc:\\Users\\ramos\\OneDrive\\Documents\\Quiniela\\venv\\lib\\site-packages\\sgqlc\\types\\__init__.py\u001b[0m in \u001b[0;36m__populate_fields\u001b[1;34m(self, json_data)\u001b[0m\n\u001b[0;32m   1760\u001b[0m \u001b[1;33m\u001b[0m\u001b[0m\n\u001b[0;32m   1761\u001b[0m         \u001b[1;32mif\u001b[0m \u001b[0mself\u001b[0m\u001b[1;33m.\u001b[0m\u001b[0m__selection_list__\u001b[0m \u001b[1;32mis\u001b[0m \u001b[1;32mnot\u001b[0m \u001b[1;32mNone\u001b[0m\u001b[1;33m:\u001b[0m\u001b[1;33m\u001b[0m\u001b[1;33m\u001b[0m\u001b[0m\n\u001b[1;32m-> 1762\u001b[1;33m             self.__populate_fields_from_selection_list(\n\u001b[0m\u001b[0;32m   1763\u001b[0m                 self.__selection_list__, json_data)\n\u001b[0;32m   1764\u001b[0m         \u001b[1;32melse\u001b[0m\u001b[1;33m:\u001b[0m\u001b[1;33m\u001b[0m\u001b[1;33m\u001b[0m\u001b[0m\n",
      "\u001b[1;32mc:\\Users\\ramos\\OneDrive\\Documents\\Quiniela\\venv\\lib\\site-packages\\sgqlc\\types\\__init__.py\u001b[0m in \u001b[0;36m__populate_fields_from_selection_list\u001b[1;34m(self, sl, json_data)\u001b[0m\n\u001b[0;32m   1794\u001b[0m                 \u001b[0mfield\u001b[0m \u001b[1;33m=\u001b[0m \u001b[0mField\u001b[0m\u001b[1;33m(\u001b[0m\u001b[0mftype\u001b[0m\u001b[1;33m,\u001b[0m \u001b[0malias\u001b[0m\u001b[1;33m,\u001b[0m \u001b[0mfield\u001b[0m\u001b[1;33m.\u001b[0m\u001b[0margs\u001b[0m\u001b[1;33m)\u001b[0m\u001b[1;33m\u001b[0m\u001b[1;33m\u001b[0m\u001b[0m\n\u001b[0;32m   1795\u001b[0m                 \u001b[0mfield\u001b[0m\u001b[1;33m.\u001b[0m\u001b[0m_set_container\u001b[0m\u001b[1;33m(\u001b[0m\u001b[0mself\u001b[0m\u001b[1;33m.\u001b[0m\u001b[0m__schema__\u001b[0m\u001b[1;33m,\u001b[0m \u001b[0mself\u001b[0m\u001b[1;33m,\u001b[0m \u001b[0malias\u001b[0m\u001b[1;33m)\u001b[0m\u001b[1;33m\u001b[0m\u001b[1;33m\u001b[0m\u001b[0m\n\u001b[1;32m-> 1796\u001b[1;33m             \u001b[0mself\u001b[0m\u001b[1;33m.\u001b[0m\u001b[0m__populate_field_data\u001b[0m\u001b[1;33m(\u001b[0m\u001b[0mfield\u001b[0m\u001b[1;33m,\u001b[0m \u001b[0mftype\u001b[0m\u001b[1;33m,\u001b[0m \u001b[0msel\u001b[0m\u001b[1;33m,\u001b[0m \u001b[0mjson_data\u001b[0m\u001b[1;33m)\u001b[0m\u001b[1;33m\u001b[0m\u001b[1;33m\u001b[0m\u001b[0m\n\u001b[0m\u001b[0;32m   1797\u001b[0m \u001b[1;33m\u001b[0m\u001b[0m\n\u001b[0;32m   1798\u001b[0m         \u001b[1;32mif\u001b[0m \u001b[0misinstance\u001b[0m\u001b[1;33m(\u001b[0m\u001b[0mselections\u001b[0m\u001b[1;33m,\u001b[0m \u001b[0mlist\u001b[0m\u001b[1;33m)\u001b[0m\u001b[1;33m:\u001b[0m\u001b[1;33m\u001b[0m\u001b[1;33m\u001b[0m\u001b[0m\n",
      "\u001b[1;32mc:\\Users\\ramos\\OneDrive\\Documents\\Quiniela\\venv\\lib\\site-packages\\sgqlc\\types\\__init__.py\u001b[0m in \u001b[0;36m__populate_field_data\u001b[1;34m(self, field, ftype, sel, json_data)\u001b[0m\n\u001b[0;32m   1778\u001b[0m         \u001b[1;32mtry\u001b[0m\u001b[1;33m:\u001b[0m\u001b[1;33m\u001b[0m\u001b[1;33m\u001b[0m\u001b[0m\n\u001b[0;32m   1779\u001b[0m             \u001b[0mvalue\u001b[0m \u001b[1;33m=\u001b[0m \u001b[0mjson_data\u001b[0m\u001b[1;33m[\u001b[0m\u001b[0mgraphql_name\u001b[0m\u001b[1;33m]\u001b[0m\u001b[1;33m\u001b[0m\u001b[1;33m\u001b[0m\u001b[0m\n\u001b[1;32m-> 1780\u001b[1;33m             \u001b[0mvalue\u001b[0m \u001b[1;33m=\u001b[0m \u001b[0mftype\u001b[0m\u001b[1;33m(\u001b[0m\u001b[0mvalue\u001b[0m\u001b[1;33m,\u001b[0m \u001b[0msel\u001b[0m\u001b[1;33m)\u001b[0m\u001b[1;33m\u001b[0m\u001b[1;33m\u001b[0m\u001b[0m\n\u001b[0m\u001b[0;32m   1781\u001b[0m             \u001b[0msetattr\u001b[0m\u001b[1;33m(\u001b[0m\u001b[0mself\u001b[0m\u001b[1;33m,\u001b[0m \u001b[0mname\u001b[0m\u001b[1;33m,\u001b[0m \u001b[0mvalue\u001b[0m\u001b[1;33m)\u001b[0m\u001b[1;33m\u001b[0m\u001b[1;33m\u001b[0m\u001b[0m\n\u001b[0;32m   1782\u001b[0m             \u001b[0mself\u001b[0m\u001b[1;33m.\u001b[0m\u001b[0m__fields_cache__\u001b[0m\u001b[1;33m[\u001b[0m\u001b[0mname\u001b[0m\u001b[1;33m]\u001b[0m \u001b[1;33m=\u001b[0m \u001b[0mfield\u001b[0m\u001b[1;33m\u001b[0m\u001b[1;33m\u001b[0m\u001b[0m\n",
      "\u001b[1;32mc:\\Users\\ramos\\OneDrive\\Documents\\Quiniela\\venv\\lib\\site-packages\\sgqlc\\types\\__init__.py\u001b[0m in \u001b[0;36m__init__\u001b[1;34m(self, json_data, selection_list)\u001b[0m\n\u001b[0;32m   1749\u001b[0m                 json_data, type(json_data).__name__)\n\u001b[0;32m   1750\u001b[0m         \u001b[0mobject\u001b[0m\u001b[1;33m.\u001b[0m\u001b[0m__setattr__\u001b[0m\u001b[1;33m(\u001b[0m\u001b[0mself\u001b[0m\u001b[1;33m,\u001b[0m \u001b[1;34m'__selection_list__'\u001b[0m\u001b[1;33m,\u001b[0m \u001b[0mselection_list\u001b[0m\u001b[1;33m)\u001b[0m\u001b[1;33m\u001b[0m\u001b[1;33m\u001b[0m\u001b[0m\n\u001b[1;32m-> 1751\u001b[1;33m         \u001b[0mself\u001b[0m\u001b[1;33m.\u001b[0m\u001b[0m__populate_fields\u001b[0m\u001b[1;33m(\u001b[0m\u001b[0mjson_data\u001b[0m\u001b[1;33m)\u001b[0m\u001b[1;33m\u001b[0m\u001b[1;33m\u001b[0m\u001b[0m\n\u001b[0m\u001b[0;32m   1752\u001b[0m \u001b[1;33m\u001b[0m\u001b[0m\n\u001b[0;32m   1753\u001b[0m     \u001b[1;32mdef\u001b[0m \u001b[0m__populate_fields\u001b[0m\u001b[1;33m(\u001b[0m\u001b[0mself\u001b[0m\u001b[1;33m,\u001b[0m \u001b[0mjson_data\u001b[0m\u001b[1;33m)\u001b[0m\u001b[1;33m:\u001b[0m\u001b[1;33m\u001b[0m\u001b[1;33m\u001b[0m\u001b[0m\n",
      "\u001b[1;32mc:\\Users\\ramos\\OneDrive\\Documents\\Quiniela\\venv\\lib\\site-packages\\sgqlc\\types\\__init__.py\u001b[0m in \u001b[0;36m__populate_fields\u001b[1;34m(self, json_data)\u001b[0m\n\u001b[0;32m   1760\u001b[0m \u001b[1;33m\u001b[0m\u001b[0m\n\u001b[0;32m   1761\u001b[0m         \u001b[1;32mif\u001b[0m \u001b[0mself\u001b[0m\u001b[1;33m.\u001b[0m\u001b[0m__selection_list__\u001b[0m \u001b[1;32mis\u001b[0m \u001b[1;32mnot\u001b[0m \u001b[1;32mNone\u001b[0m\u001b[1;33m:\u001b[0m\u001b[1;33m\u001b[0m\u001b[1;33m\u001b[0m\u001b[0m\n\u001b[1;32m-> 1762\u001b[1;33m             self.__populate_fields_from_selection_list(\n\u001b[0m\u001b[0;32m   1763\u001b[0m                 self.__selection_list__, json_data)\n\u001b[0;32m   1764\u001b[0m         \u001b[1;32melse\u001b[0m\u001b[1;33m:\u001b[0m\u001b[1;33m\u001b[0m\u001b[1;33m\u001b[0m\u001b[0m\n",
      "\u001b[1;32mc:\\Users\\ramos\\OneDrive\\Documents\\Quiniela\\venv\\lib\\site-packages\\sgqlc\\types\\__init__.py\u001b[0m in \u001b[0;36m__populate_fields_from_selection_list\u001b[1;34m(self, sl, json_data)\u001b[0m\n\u001b[0;32m   1794\u001b[0m                 \u001b[0mfield\u001b[0m \u001b[1;33m=\u001b[0m \u001b[0mField\u001b[0m\u001b[1;33m(\u001b[0m\u001b[0mftype\u001b[0m\u001b[1;33m,\u001b[0m \u001b[0malias\u001b[0m\u001b[1;33m,\u001b[0m \u001b[0mfield\u001b[0m\u001b[1;33m.\u001b[0m\u001b[0margs\u001b[0m\u001b[1;33m)\u001b[0m\u001b[1;33m\u001b[0m\u001b[1;33m\u001b[0m\u001b[0m\n\u001b[0;32m   1795\u001b[0m                 \u001b[0mfield\u001b[0m\u001b[1;33m.\u001b[0m\u001b[0m_set_container\u001b[0m\u001b[1;33m(\u001b[0m\u001b[0mself\u001b[0m\u001b[1;33m.\u001b[0m\u001b[0m__schema__\u001b[0m\u001b[1;33m,\u001b[0m \u001b[0mself\u001b[0m\u001b[1;33m,\u001b[0m \u001b[0malias\u001b[0m\u001b[1;33m)\u001b[0m\u001b[1;33m\u001b[0m\u001b[1;33m\u001b[0m\u001b[0m\n\u001b[1;32m-> 1796\u001b[1;33m             \u001b[0mself\u001b[0m\u001b[1;33m.\u001b[0m\u001b[0m__populate_field_data\u001b[0m\u001b[1;33m(\u001b[0m\u001b[0mfield\u001b[0m\u001b[1;33m,\u001b[0m \u001b[0mftype\u001b[0m\u001b[1;33m,\u001b[0m \u001b[0msel\u001b[0m\u001b[1;33m,\u001b[0m \u001b[0mjson_data\u001b[0m\u001b[1;33m)\u001b[0m\u001b[1;33m\u001b[0m\u001b[1;33m\u001b[0m\u001b[0m\n\u001b[0m\u001b[0;32m   1797\u001b[0m \u001b[1;33m\u001b[0m\u001b[0m\n\u001b[0;32m   1798\u001b[0m         \u001b[1;32mif\u001b[0m \u001b[0misinstance\u001b[0m\u001b[1;33m(\u001b[0m\u001b[0mselections\u001b[0m\u001b[1;33m,\u001b[0m \u001b[0mlist\u001b[0m\u001b[1;33m)\u001b[0m\u001b[1;33m:\u001b[0m\u001b[1;33m\u001b[0m\u001b[1;33m\u001b[0m\u001b[0m\n",
      "\u001b[1;32mc:\\Users\\ramos\\OneDrive\\Documents\\Quiniela\\venv\\lib\\site-packages\\sgqlc\\types\\__init__.py\u001b[0m in \u001b[0;36m__populate_field_data\u001b[1;34m(self, field, ftype, sel, json_data)\u001b[0m\n\u001b[0;32m   1778\u001b[0m         \u001b[1;32mtry\u001b[0m\u001b[1;33m:\u001b[0m\u001b[1;33m\u001b[0m\u001b[1;33m\u001b[0m\u001b[0m\n\u001b[0;32m   1779\u001b[0m             \u001b[0mvalue\u001b[0m \u001b[1;33m=\u001b[0m \u001b[0mjson_data\u001b[0m\u001b[1;33m[\u001b[0m\u001b[0mgraphql_name\u001b[0m\u001b[1;33m]\u001b[0m\u001b[1;33m\u001b[0m\u001b[1;33m\u001b[0m\u001b[0m\n\u001b[1;32m-> 1780\u001b[1;33m             \u001b[0mvalue\u001b[0m \u001b[1;33m=\u001b[0m \u001b[0mftype\u001b[0m\u001b[1;33m(\u001b[0m\u001b[0mvalue\u001b[0m\u001b[1;33m,\u001b[0m \u001b[0msel\u001b[0m\u001b[1;33m)\u001b[0m\u001b[1;33m\u001b[0m\u001b[1;33m\u001b[0m\u001b[0m\n\u001b[0m\u001b[0;32m   1781\u001b[0m             \u001b[0msetattr\u001b[0m\u001b[1;33m(\u001b[0m\u001b[0mself\u001b[0m\u001b[1;33m,\u001b[0m \u001b[0mname\u001b[0m\u001b[1;33m,\u001b[0m \u001b[0mvalue\u001b[0m\u001b[1;33m)\u001b[0m\u001b[1;33m\u001b[0m\u001b[1;33m\u001b[0m\u001b[0m\n\u001b[0;32m   1782\u001b[0m             \u001b[0mself\u001b[0m\u001b[1;33m.\u001b[0m\u001b[0m__fields_cache__\u001b[0m\u001b[1;33m[\u001b[0m\u001b[0mname\u001b[0m\u001b[1;33m]\u001b[0m \u001b[1;33m=\u001b[0m \u001b[0mfield\u001b[0m\u001b[1;33m\u001b[0m\u001b[1;33m\u001b[0m\u001b[0m\n",
      "\u001b[1;32mc:\\Users\\ramos\\OneDrive\\Documents\\Quiniela\\venv\\lib\\site-packages\\sgqlc\\types\\__init__.py\u001b[0m in \u001b[0;36m__init__\u001b[1;34m(self, json_data, selection_list)\u001b[0m\n\u001b[0;32m   1749\u001b[0m                 json_data, type(json_data).__name__)\n\u001b[0;32m   1750\u001b[0m         \u001b[0mobject\u001b[0m\u001b[1;33m.\u001b[0m\u001b[0m__setattr__\u001b[0m\u001b[1;33m(\u001b[0m\u001b[0mself\u001b[0m\u001b[1;33m,\u001b[0m \u001b[1;34m'__selection_list__'\u001b[0m\u001b[1;33m,\u001b[0m \u001b[0mselection_list\u001b[0m\u001b[1;33m)\u001b[0m\u001b[1;33m\u001b[0m\u001b[1;33m\u001b[0m\u001b[0m\n\u001b[1;32m-> 1751\u001b[1;33m         \u001b[0mself\u001b[0m\u001b[1;33m.\u001b[0m\u001b[0m__populate_fields\u001b[0m\u001b[1;33m(\u001b[0m\u001b[0mjson_data\u001b[0m\u001b[1;33m)\u001b[0m\u001b[1;33m\u001b[0m\u001b[1;33m\u001b[0m\u001b[0m\n\u001b[0m\u001b[0;32m   1752\u001b[0m \u001b[1;33m\u001b[0m\u001b[0m\n\u001b[0;32m   1753\u001b[0m     \u001b[1;32mdef\u001b[0m \u001b[0m__populate_fields\u001b[0m\u001b[1;33m(\u001b[0m\u001b[0mself\u001b[0m\u001b[1;33m,\u001b[0m \u001b[0mjson_data\u001b[0m\u001b[1;33m)\u001b[0m\u001b[1;33m:\u001b[0m\u001b[1;33m\u001b[0m\u001b[1;33m\u001b[0m\u001b[0m\n",
      "\u001b[1;32mc:\\Users\\ramos\\OneDrive\\Documents\\Quiniela\\venv\\lib\\site-packages\\sgqlc\\types\\__init__.py\u001b[0m in \u001b[0;36m__populate_fields\u001b[1;34m(self, json_data)\u001b[0m\n\u001b[0;32m   1760\u001b[0m \u001b[1;33m\u001b[0m\u001b[0m\n\u001b[0;32m   1761\u001b[0m         \u001b[1;32mif\u001b[0m \u001b[0mself\u001b[0m\u001b[1;33m.\u001b[0m\u001b[0m__selection_list__\u001b[0m \u001b[1;32mis\u001b[0m \u001b[1;32mnot\u001b[0m \u001b[1;32mNone\u001b[0m\u001b[1;33m:\u001b[0m\u001b[1;33m\u001b[0m\u001b[1;33m\u001b[0m\u001b[0m\n\u001b[1;32m-> 1762\u001b[1;33m             self.__populate_fields_from_selection_list(\n\u001b[0m\u001b[0;32m   1763\u001b[0m                 self.__selection_list__, json_data)\n\u001b[0;32m   1764\u001b[0m         \u001b[1;32melse\u001b[0m\u001b[1;33m:\u001b[0m\u001b[1;33m\u001b[0m\u001b[1;33m\u001b[0m\u001b[0m\n",
      "\u001b[1;32mc:\\Users\\ramos\\OneDrive\\Documents\\Quiniela\\venv\\lib\\site-packages\\sgqlc\\types\\__init__.py\u001b[0m in \u001b[0;36m__populate_fields_from_selection_list\u001b[1;34m(self, sl, json_data)\u001b[0m\n\u001b[0;32m   1794\u001b[0m                 \u001b[0mfield\u001b[0m \u001b[1;33m=\u001b[0m \u001b[0mField\u001b[0m\u001b[1;33m(\u001b[0m\u001b[0mftype\u001b[0m\u001b[1;33m,\u001b[0m \u001b[0malias\u001b[0m\u001b[1;33m,\u001b[0m \u001b[0mfield\u001b[0m\u001b[1;33m.\u001b[0m\u001b[0margs\u001b[0m\u001b[1;33m)\u001b[0m\u001b[1;33m\u001b[0m\u001b[1;33m\u001b[0m\u001b[0m\n\u001b[0;32m   1795\u001b[0m                 \u001b[0mfield\u001b[0m\u001b[1;33m.\u001b[0m\u001b[0m_set_container\u001b[0m\u001b[1;33m(\u001b[0m\u001b[0mself\u001b[0m\u001b[1;33m.\u001b[0m\u001b[0m__schema__\u001b[0m\u001b[1;33m,\u001b[0m \u001b[0mself\u001b[0m\u001b[1;33m,\u001b[0m \u001b[0malias\u001b[0m\u001b[1;33m)\u001b[0m\u001b[1;33m\u001b[0m\u001b[1;33m\u001b[0m\u001b[0m\n\u001b[1;32m-> 1796\u001b[1;33m             \u001b[0mself\u001b[0m\u001b[1;33m.\u001b[0m\u001b[0m__populate_field_data\u001b[0m\u001b[1;33m(\u001b[0m\u001b[0mfield\u001b[0m\u001b[1;33m,\u001b[0m \u001b[0mftype\u001b[0m\u001b[1;33m,\u001b[0m \u001b[0msel\u001b[0m\u001b[1;33m,\u001b[0m \u001b[0mjson_data\u001b[0m\u001b[1;33m)\u001b[0m\u001b[1;33m\u001b[0m\u001b[1;33m\u001b[0m\u001b[0m\n\u001b[0m\u001b[0;32m   1797\u001b[0m \u001b[1;33m\u001b[0m\u001b[0m\n\u001b[0;32m   1798\u001b[0m         \u001b[1;32mif\u001b[0m \u001b[0misinstance\u001b[0m\u001b[1;33m(\u001b[0m\u001b[0mselections\u001b[0m\u001b[1;33m,\u001b[0m \u001b[0mlist\u001b[0m\u001b[1;33m)\u001b[0m\u001b[1;33m:\u001b[0m\u001b[1;33m\u001b[0m\u001b[1;33m\u001b[0m\u001b[0m\n",
      "\u001b[1;32mc:\\Users\\ramos\\OneDrive\\Documents\\Quiniela\\venv\\lib\\site-packages\\sgqlc\\types\\__init__.py\u001b[0m in \u001b[0;36m__populate_field_data\u001b[1;34m(self, field, ftype, sel, json_data)\u001b[0m\n\u001b[0;32m   1778\u001b[0m         \u001b[1;32mtry\u001b[0m\u001b[1;33m:\u001b[0m\u001b[1;33m\u001b[0m\u001b[1;33m\u001b[0m\u001b[0m\n\u001b[0;32m   1779\u001b[0m             \u001b[0mvalue\u001b[0m \u001b[1;33m=\u001b[0m \u001b[0mjson_data\u001b[0m\u001b[1;33m[\u001b[0m\u001b[0mgraphql_name\u001b[0m\u001b[1;33m]\u001b[0m\u001b[1;33m\u001b[0m\u001b[1;33m\u001b[0m\u001b[0m\n\u001b[1;32m-> 1780\u001b[1;33m             \u001b[0mvalue\u001b[0m \u001b[1;33m=\u001b[0m \u001b[0mftype\u001b[0m\u001b[1;33m(\u001b[0m\u001b[0mvalue\u001b[0m\u001b[1;33m,\u001b[0m \u001b[0msel\u001b[0m\u001b[1;33m)\u001b[0m\u001b[1;33m\u001b[0m\u001b[1;33m\u001b[0m\u001b[0m\n\u001b[0m\u001b[0;32m   1781\u001b[0m             \u001b[0msetattr\u001b[0m\u001b[1;33m(\u001b[0m\u001b[0mself\u001b[0m\u001b[1;33m,\u001b[0m \u001b[0mname\u001b[0m\u001b[1;33m,\u001b[0m \u001b[0mvalue\u001b[0m\u001b[1;33m)\u001b[0m\u001b[1;33m\u001b[0m\u001b[1;33m\u001b[0m\u001b[0m\n\u001b[0;32m   1782\u001b[0m             \u001b[0mself\u001b[0m\u001b[1;33m.\u001b[0m\u001b[0m__fields_cache__\u001b[0m\u001b[1;33m[\u001b[0m\u001b[0mname\u001b[0m\u001b[1;33m]\u001b[0m \u001b[1;33m=\u001b[0m \u001b[0mfield\u001b[0m\u001b[1;33m\u001b[0m\u001b[1;33m\u001b[0m\u001b[0m\n",
      "\u001b[1;32mc:\\Users\\ramos\\OneDrive\\Documents\\Quiniela\\venv\\lib\\site-packages\\sgqlc\\types\\__init__.py\u001b[0m in \u001b[0;36m__init__\u001b[1;34m(self, json_data, selection_list)\u001b[0m\n\u001b[0;32m   1749\u001b[0m                 json_data, type(json_data).__name__)\n\u001b[0;32m   1750\u001b[0m         \u001b[0mobject\u001b[0m\u001b[1;33m.\u001b[0m\u001b[0m__setattr__\u001b[0m\u001b[1;33m(\u001b[0m\u001b[0mself\u001b[0m\u001b[1;33m,\u001b[0m \u001b[1;34m'__selection_list__'\u001b[0m\u001b[1;33m,\u001b[0m \u001b[0mselection_list\u001b[0m\u001b[1;33m)\u001b[0m\u001b[1;33m\u001b[0m\u001b[1;33m\u001b[0m\u001b[0m\n\u001b[1;32m-> 1751\u001b[1;33m         \u001b[0mself\u001b[0m\u001b[1;33m.\u001b[0m\u001b[0m__populate_fields\u001b[0m\u001b[1;33m(\u001b[0m\u001b[0mjson_data\u001b[0m\u001b[1;33m)\u001b[0m\u001b[1;33m\u001b[0m\u001b[1;33m\u001b[0m\u001b[0m\n\u001b[0m\u001b[0;32m   1752\u001b[0m \u001b[1;33m\u001b[0m\u001b[0m\n\u001b[0;32m   1753\u001b[0m     \u001b[1;32mdef\u001b[0m \u001b[0m__populate_fields\u001b[0m\u001b[1;33m(\u001b[0m\u001b[0mself\u001b[0m\u001b[1;33m,\u001b[0m \u001b[0mjson_data\u001b[0m\u001b[1;33m)\u001b[0m\u001b[1;33m:\u001b[0m\u001b[1;33m\u001b[0m\u001b[1;33m\u001b[0m\u001b[0m\n",
      "\u001b[1;32mc:\\Users\\ramos\\OneDrive\\Documents\\Quiniela\\venv\\lib\\site-packages\\sgqlc\\types\\__init__.py\u001b[0m in \u001b[0;36m__populate_fields\u001b[1;34m(self, json_data)\u001b[0m\n\u001b[0;32m   1760\u001b[0m \u001b[1;33m\u001b[0m\u001b[0m\n\u001b[0;32m   1761\u001b[0m         \u001b[1;32mif\u001b[0m \u001b[0mself\u001b[0m\u001b[1;33m.\u001b[0m\u001b[0m__selection_list__\u001b[0m \u001b[1;32mis\u001b[0m \u001b[1;32mnot\u001b[0m \u001b[1;32mNone\u001b[0m\u001b[1;33m:\u001b[0m\u001b[1;33m\u001b[0m\u001b[1;33m\u001b[0m\u001b[0m\n\u001b[1;32m-> 1762\u001b[1;33m             self.__populate_fields_from_selection_list(\n\u001b[0m\u001b[0;32m   1763\u001b[0m                 self.__selection_list__, json_data)\n\u001b[0;32m   1764\u001b[0m         \u001b[1;32melse\u001b[0m\u001b[1;33m:\u001b[0m\u001b[1;33m\u001b[0m\u001b[1;33m\u001b[0m\u001b[0m\n",
      "\u001b[1;32mc:\\Users\\ramos\\OneDrive\\Documents\\Quiniela\\venv\\lib\\site-packages\\sgqlc\\types\\__init__.py\u001b[0m in \u001b[0;36m__populate_fields_from_selection_list\u001b[1;34m(self, sl, json_data)\u001b[0m\n\u001b[0;32m   1794\u001b[0m                 \u001b[0mfield\u001b[0m \u001b[1;33m=\u001b[0m \u001b[0mField\u001b[0m\u001b[1;33m(\u001b[0m\u001b[0mftype\u001b[0m\u001b[1;33m,\u001b[0m \u001b[0malias\u001b[0m\u001b[1;33m,\u001b[0m \u001b[0mfield\u001b[0m\u001b[1;33m.\u001b[0m\u001b[0margs\u001b[0m\u001b[1;33m)\u001b[0m\u001b[1;33m\u001b[0m\u001b[1;33m\u001b[0m\u001b[0m\n\u001b[0;32m   1795\u001b[0m                 \u001b[0mfield\u001b[0m\u001b[1;33m.\u001b[0m\u001b[0m_set_container\u001b[0m\u001b[1;33m(\u001b[0m\u001b[0mself\u001b[0m\u001b[1;33m.\u001b[0m\u001b[0m__schema__\u001b[0m\u001b[1;33m,\u001b[0m \u001b[0mself\u001b[0m\u001b[1;33m,\u001b[0m \u001b[0malias\u001b[0m\u001b[1;33m)\u001b[0m\u001b[1;33m\u001b[0m\u001b[1;33m\u001b[0m\u001b[0m\n\u001b[1;32m-> 1796\u001b[1;33m             \u001b[0mself\u001b[0m\u001b[1;33m.\u001b[0m\u001b[0m__populate_field_data\u001b[0m\u001b[1;33m(\u001b[0m\u001b[0mfield\u001b[0m\u001b[1;33m,\u001b[0m \u001b[0mftype\u001b[0m\u001b[1;33m,\u001b[0m \u001b[0msel\u001b[0m\u001b[1;33m,\u001b[0m \u001b[0mjson_data\u001b[0m\u001b[1;33m)\u001b[0m\u001b[1;33m\u001b[0m\u001b[1;33m\u001b[0m\u001b[0m\n\u001b[0m\u001b[0;32m   1797\u001b[0m \u001b[1;33m\u001b[0m\u001b[0m\n\u001b[0;32m   1798\u001b[0m         \u001b[1;32mif\u001b[0m \u001b[0misinstance\u001b[0m\u001b[1;33m(\u001b[0m\u001b[0mselections\u001b[0m\u001b[1;33m,\u001b[0m \u001b[0mlist\u001b[0m\u001b[1;33m)\u001b[0m\u001b[1;33m:\u001b[0m\u001b[1;33m\u001b[0m\u001b[1;33m\u001b[0m\u001b[0m\n",
      "\u001b[1;32mc:\\Users\\ramos\\OneDrive\\Documents\\Quiniela\\venv\\lib\\site-packages\\sgqlc\\types\\__init__.py\u001b[0m in \u001b[0;36m__populate_field_data\u001b[1;34m(self, field, ftype, sel, json_data)\u001b[0m\n\u001b[0;32m   1778\u001b[0m         \u001b[1;32mtry\u001b[0m\u001b[1;33m:\u001b[0m\u001b[1;33m\u001b[0m\u001b[1;33m\u001b[0m\u001b[0m\n\u001b[0;32m   1779\u001b[0m             \u001b[0mvalue\u001b[0m \u001b[1;33m=\u001b[0m \u001b[0mjson_data\u001b[0m\u001b[1;33m[\u001b[0m\u001b[0mgraphql_name\u001b[0m\u001b[1;33m]\u001b[0m\u001b[1;33m\u001b[0m\u001b[1;33m\u001b[0m\u001b[0m\n\u001b[1;32m-> 1780\u001b[1;33m             \u001b[0mvalue\u001b[0m \u001b[1;33m=\u001b[0m \u001b[0mftype\u001b[0m\u001b[1;33m(\u001b[0m\u001b[0mvalue\u001b[0m\u001b[1;33m,\u001b[0m \u001b[0msel\u001b[0m\u001b[1;33m)\u001b[0m\u001b[1;33m\u001b[0m\u001b[1;33m\u001b[0m\u001b[0m\n\u001b[0m\u001b[0;32m   1781\u001b[0m             \u001b[0msetattr\u001b[0m\u001b[1;33m(\u001b[0m\u001b[0mself\u001b[0m\u001b[1;33m,\u001b[0m \u001b[0mname\u001b[0m\u001b[1;33m,\u001b[0m \u001b[0mvalue\u001b[0m\u001b[1;33m)\u001b[0m\u001b[1;33m\u001b[0m\u001b[1;33m\u001b[0m\u001b[0m\n\u001b[0;32m   1782\u001b[0m             \u001b[0mself\u001b[0m\u001b[1;33m.\u001b[0m\u001b[0m__fields_cache__\u001b[0m\u001b[1;33m[\u001b[0m\u001b[0mname\u001b[0m\u001b[1;33m]\u001b[0m \u001b[1;33m=\u001b[0m \u001b[0mfield\u001b[0m\u001b[1;33m\u001b[0m\u001b[1;33m\u001b[0m\u001b[0m\n",
      "\u001b[1;32mc:\\Users\\ramos\\OneDrive\\Documents\\Quiniela\\venv\\lib\\site-packages\\sgqlc\\types\\__init__.py\u001b[0m in \u001b[0;36m__init__\u001b[1;34m(self, json_data, selection_list)\u001b[0m\n\u001b[0;32m   1749\u001b[0m                 json_data, type(json_data).__name__)\n\u001b[0;32m   1750\u001b[0m         \u001b[0mobject\u001b[0m\u001b[1;33m.\u001b[0m\u001b[0m__setattr__\u001b[0m\u001b[1;33m(\u001b[0m\u001b[0mself\u001b[0m\u001b[1;33m,\u001b[0m \u001b[1;34m'__selection_list__'\u001b[0m\u001b[1;33m,\u001b[0m \u001b[0mselection_list\u001b[0m\u001b[1;33m)\u001b[0m\u001b[1;33m\u001b[0m\u001b[1;33m\u001b[0m\u001b[0m\n\u001b[1;32m-> 1751\u001b[1;33m         \u001b[0mself\u001b[0m\u001b[1;33m.\u001b[0m\u001b[0m__populate_fields\u001b[0m\u001b[1;33m(\u001b[0m\u001b[0mjson_data\u001b[0m\u001b[1;33m)\u001b[0m\u001b[1;33m\u001b[0m\u001b[1;33m\u001b[0m\u001b[0m\n\u001b[0m\u001b[0;32m   1752\u001b[0m \u001b[1;33m\u001b[0m\u001b[0m\n\u001b[0;32m   1753\u001b[0m     \u001b[1;32mdef\u001b[0m \u001b[0m__populate_fields\u001b[0m\u001b[1;33m(\u001b[0m\u001b[0mself\u001b[0m\u001b[1;33m,\u001b[0m \u001b[0mjson_data\u001b[0m\u001b[1;33m)\u001b[0m\u001b[1;33m:\u001b[0m\u001b[1;33m\u001b[0m\u001b[1;33m\u001b[0m\u001b[0m\n",
      "\u001b[1;32mc:\\Users\\ramos\\OneDrive\\Documents\\Quiniela\\venv\\lib\\site-packages\\sgqlc\\types\\__init__.py\u001b[0m in \u001b[0;36m__populate_fields\u001b[1;34m(self, json_data)\u001b[0m\n\u001b[0;32m   1760\u001b[0m \u001b[1;33m\u001b[0m\u001b[0m\n\u001b[0;32m   1761\u001b[0m         \u001b[1;32mif\u001b[0m \u001b[0mself\u001b[0m\u001b[1;33m.\u001b[0m\u001b[0m__selection_list__\u001b[0m \u001b[1;32mis\u001b[0m \u001b[1;32mnot\u001b[0m \u001b[1;32mNone\u001b[0m\u001b[1;33m:\u001b[0m\u001b[1;33m\u001b[0m\u001b[1;33m\u001b[0m\u001b[0m\n\u001b[1;32m-> 1762\u001b[1;33m             self.__populate_fields_from_selection_list(\n\u001b[0m\u001b[0;32m   1763\u001b[0m                 self.__selection_list__, json_data)\n\u001b[0;32m   1764\u001b[0m         \u001b[1;32melse\u001b[0m\u001b[1;33m:\u001b[0m\u001b[1;33m\u001b[0m\u001b[1;33m\u001b[0m\u001b[0m\n",
      "\u001b[1;32mc:\\Users\\ramos\\OneDrive\\Documents\\Quiniela\\venv\\lib\\site-packages\\sgqlc\\types\\__init__.py\u001b[0m in \u001b[0;36m__populate_fields_from_selection_list\u001b[1;34m(self, sl, json_data)\u001b[0m\n\u001b[0;32m   1794\u001b[0m                 \u001b[0mfield\u001b[0m \u001b[1;33m=\u001b[0m \u001b[0mField\u001b[0m\u001b[1;33m(\u001b[0m\u001b[0mftype\u001b[0m\u001b[1;33m,\u001b[0m \u001b[0malias\u001b[0m\u001b[1;33m,\u001b[0m \u001b[0mfield\u001b[0m\u001b[1;33m.\u001b[0m\u001b[0margs\u001b[0m\u001b[1;33m)\u001b[0m\u001b[1;33m\u001b[0m\u001b[1;33m\u001b[0m\u001b[0m\n\u001b[0;32m   1795\u001b[0m                 \u001b[0mfield\u001b[0m\u001b[1;33m.\u001b[0m\u001b[0m_set_container\u001b[0m\u001b[1;33m(\u001b[0m\u001b[0mself\u001b[0m\u001b[1;33m.\u001b[0m\u001b[0m__schema__\u001b[0m\u001b[1;33m,\u001b[0m \u001b[0mself\u001b[0m\u001b[1;33m,\u001b[0m \u001b[0malias\u001b[0m\u001b[1;33m)\u001b[0m\u001b[1;33m\u001b[0m\u001b[1;33m\u001b[0m\u001b[0m\n\u001b[1;32m-> 1796\u001b[1;33m             \u001b[0mself\u001b[0m\u001b[1;33m.\u001b[0m\u001b[0m__populate_field_data\u001b[0m\u001b[1;33m(\u001b[0m\u001b[0mfield\u001b[0m\u001b[1;33m,\u001b[0m \u001b[0mftype\u001b[0m\u001b[1;33m,\u001b[0m \u001b[0msel\u001b[0m\u001b[1;33m,\u001b[0m \u001b[0mjson_data\u001b[0m\u001b[1;33m)\u001b[0m\u001b[1;33m\u001b[0m\u001b[1;33m\u001b[0m\u001b[0m\n\u001b[0m\u001b[0;32m   1797\u001b[0m \u001b[1;33m\u001b[0m\u001b[0m\n\u001b[0;32m   1798\u001b[0m         \u001b[1;32mif\u001b[0m \u001b[0misinstance\u001b[0m\u001b[1;33m(\u001b[0m\u001b[0mselections\u001b[0m\u001b[1;33m,\u001b[0m \u001b[0mlist\u001b[0m\u001b[1;33m)\u001b[0m\u001b[1;33m:\u001b[0m\u001b[1;33m\u001b[0m\u001b[1;33m\u001b[0m\u001b[0m\n",
      "\u001b[1;32mc:\\Users\\ramos\\OneDrive\\Documents\\Quiniela\\venv\\lib\\site-packages\\sgqlc\\types\\__init__.py\u001b[0m in \u001b[0;36m__populate_field_data\u001b[1;34m(self, field, ftype, sel, json_data)\u001b[0m\n\u001b[0;32m   1778\u001b[0m         \u001b[1;32mtry\u001b[0m\u001b[1;33m:\u001b[0m\u001b[1;33m\u001b[0m\u001b[1;33m\u001b[0m\u001b[0m\n\u001b[0;32m   1779\u001b[0m             \u001b[0mvalue\u001b[0m \u001b[1;33m=\u001b[0m \u001b[0mjson_data\u001b[0m\u001b[1;33m[\u001b[0m\u001b[0mgraphql_name\u001b[0m\u001b[1;33m]\u001b[0m\u001b[1;33m\u001b[0m\u001b[1;33m\u001b[0m\u001b[0m\n\u001b[1;32m-> 1780\u001b[1;33m             \u001b[0mvalue\u001b[0m \u001b[1;33m=\u001b[0m \u001b[0mftype\u001b[0m\u001b[1;33m(\u001b[0m\u001b[0mvalue\u001b[0m\u001b[1;33m,\u001b[0m \u001b[0msel\u001b[0m\u001b[1;33m)\u001b[0m\u001b[1;33m\u001b[0m\u001b[1;33m\u001b[0m\u001b[0m\n\u001b[0m\u001b[0;32m   1781\u001b[0m             \u001b[0msetattr\u001b[0m\u001b[1;33m(\u001b[0m\u001b[0mself\u001b[0m\u001b[1;33m,\u001b[0m \u001b[0mname\u001b[0m\u001b[1;33m,\u001b[0m \u001b[0mvalue\u001b[0m\u001b[1;33m)\u001b[0m\u001b[1;33m\u001b[0m\u001b[1;33m\u001b[0m\u001b[0m\n\u001b[0;32m   1782\u001b[0m             \u001b[0mself\u001b[0m\u001b[1;33m.\u001b[0m\u001b[0m__fields_cache__\u001b[0m\u001b[1;33m[\u001b[0m\u001b[0mname\u001b[0m\u001b[1;33m]\u001b[0m \u001b[1;33m=\u001b[0m \u001b[0mfield\u001b[0m\u001b[1;33m\u001b[0m\u001b[1;33m\u001b[0m\u001b[0m\n",
      "\u001b[1;31mKeyboardInterrupt\u001b[0m: "
     ]
    }
   ],
   "source": [
    "season_df = pd.DataFrame([])\n",
    "team_df = pd.DataFrame([])\n",
    "for season in np.arange(MIN_SEASON, datetime.today().year+1):\n",
    "    print(season)\n",
    "\n",
    "    ### GET SEASON TEAMS ###\n",
    "    ## Get Season Teams\n",
    "    teams_season_df = get_teams_info_per_season(season, nfl=nfl)\n",
    "    teams_season_df.to_csv('../data/teams/nfl_team_info_season_{season}.csv'.format(season=season))\n",
    "    print('Shape Teams: ', teams_season_df.shape)\n",
    "    ## Append to DataFrame\n",
    "    team_df = pd.concat([team_df, teams_season_df]).reset_index(drop=True)\n",
    "\n",
    "    ### GET SEASON GAMES ###\n",
    "    ## Get Season Scores\n",
    "    curr_season_df = get_season_info(season, MAX_WEEKS=MAX_WEEKS, nfl=nfl)\n",
    "    curr_season_df.to_csv('../data/scores/nfl_scores_season_{season}.csv'.format(season=season))\n",
    "    print('Shape Season: ', curr_season_df.shape)\n",
    "    ## Append to DataFrame\n",
    "    season_df = pd.concat([season_df, curr_season_df]).reset_index(drop=True)\n",
    "\n",
    "season_df.to_csv('../data/nfl_scores_all.csv')\n",
    "team_df.to_csv('../data/nfl_team_info_all.csv')"
   ]
  },
  {
   "cell_type": "code",
   "execution_count": null,
   "metadata": {},
   "outputs": [
    {
     "data": {
      "text/html": [
       "<pre>✔️ 421 ms (2022-07-06T08:19:10/2022-07-06T08:19:10)</pre>"
      ],
      "text/plain": [
       "<IPython.core.display.HTML object>"
      ]
     },
     "metadata": {},
     "output_type": "display_data"
    }
   ],
   "source": [
    "nfl.game.week_games(season=2022, season_type='REG', week=1)[0].raw\n",
    "res = nfl.game_detail.by_id('10160000-0264-94ab-68f5-9ff371a986a3')"
   ]
  },
  {
   "cell_type": "code",
   "execution_count": null,
   "metadata": {},
   "outputs": [],
   "source": []
  }
 ],
 "metadata": {
  "kernelspec": {
   "display_name": "Python 3.9.13 ('venv': venv)",
   "language": "python",
   "name": "python3"
  },
  "language_info": {
   "codemirror_mode": {
    "name": "ipython",
    "version": 3
   },
   "file_extension": ".py",
   "mimetype": "text/x-python",
   "name": "python",
   "nbconvert_exporter": "python",
   "pygments_lexer": "ipython3",
   "version": "3.8.8"
  },
  "vscode": {
   "interpreter": {
    "hash": "5152e42275411dbc3e462fa879a369e4fe94d83bb9fc4a10bfcc3bbe9c4bbce5"
   }
  }
 },
 "nbformat": 4,
 "nbformat_minor": 2
}
