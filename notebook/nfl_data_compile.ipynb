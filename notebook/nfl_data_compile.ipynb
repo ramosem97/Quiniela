{
 "cells": [
  {
   "cell_type": "markdown",
   "metadata": {},
   "source": [
    "# NFL API and Prediction Charts for Quiniela"
   ]
  },
  {
   "cell_type": "markdown",
   "metadata": {},
   "source": [
    "## Config"
   ]
  },
  {
   "cell_type": "code",
   "execution_count": 2,
   "metadata": {},
   "outputs": [
    {
     "data": {
      "text/html": [
       "<pre>✔️ 0 ns (2022-07-14T14:39:18/2022-07-14T14:39:18)</pre>"
      ],
      "text/plain": [
       "<IPython.core.display.HTML object>"
      ]
     },
     "metadata": {},
     "output_type": "display_data"
    }
   ],
   "source": [
    "%load_ext autotime"
   ]
  },
  {
   "cell_type": "code",
   "execution_count": 3,
   "metadata": {
    "collapsed": false
   },
   "outputs": [
    {
     "data": {
      "text/html": [
       "<pre>✔️ 1.72 s (2022-07-14T14:39:18/2022-07-14T14:39:20)</pre>"
      ],
      "text/plain": [
       "<IPython.core.display.HTML object>"
      ]
     },
     "metadata": {},
     "output_type": "display_data"
    }
   ],
   "source": [
    "import pandas as pd\n",
    "import numpy as np\n",
    "import matplotlib.pyplot as plt\n",
    "import seaborn as sns\n",
    "import plotly.express as px\n",
    "import nflapi\n",
    "from datetime import datetime\n",
    "from glob import glob"
   ]
  },
  {
   "cell_type": "markdown",
   "metadata": {},
   "source": [
    "## Read in Historical Data"
   ]
  },
  {
   "cell_type": "code",
   "execution_count": 4,
   "metadata": {},
   "outputs": [
    {
     "data": {
      "text/html": [
       "<pre>✔️ 0 ns (2022-07-14T14:39:20/2022-07-14T14:39:20)</pre>"
      ],
      "text/plain": [
       "<IPython.core.display.HTML object>"
      ]
     },
     "metadata": {},
     "output_type": "display_data"
    },
    {
     "name": "stdout",
     "output_type": "stream",
     "text": [
      "19\n"
     ]
    },
    {
     "data": {
      "text/plain": [
       "['../data/quiniela\\\\03NFLaemilio.csv',\n",
       " '../data/quiniela\\\\04NFLaemilio.csv',\n",
       " '../data/quiniela\\\\05NFLaemilio.csv',\n",
       " '../data/quiniela\\\\06NFLaemilio.csv',\n",
       " '../data/quiniela\\\\07NFLaemilio.csv',\n",
       " '../data/quiniela\\\\08NFLaemilio.csv',\n",
       " '../data/quiniela\\\\09NFLaemilio.csv',\n",
       " '../data/quiniela\\\\10NFLaemilio.csv',\n",
       " '../data/quiniela\\\\11NFLaemilio.csv',\n",
       " '../data/quiniela\\\\12NFLaemilio.csv',\n",
       " '../data/quiniela\\\\13NFLaemilio.csv',\n",
       " '../data/quiniela\\\\14NFLaemilio.csv',\n",
       " '../data/quiniela\\\\15NFLaemilio.csv',\n",
       " '../data/quiniela\\\\16NFLaemilio.csv',\n",
       " '../data/quiniela\\\\17NFLaemilio.csv',\n",
       " '../data/quiniela\\\\18NFLaemilio.csv',\n",
       " '../data/quiniela\\\\19NFLaemilio.csv',\n",
       " '../data/quiniela\\\\20NFLaemilio.csv',\n",
       " '../data/quiniela\\\\21NFLaemilio.csv']"
      ]
     },
     "execution_count": 4,
     "metadata": {},
     "output_type": "execute_result"
    }
   ],
   "source": [
    "files = glob('../data/quiniela/*emilio.csv')\n",
    "print(len(files))\n",
    "files"
   ]
  },
  {
   "cell_type": "code",
   "execution_count": 5,
   "metadata": {
    "collapsed": false
   },
   "outputs": [
    {
     "data": {
      "text/html": [
       "<pre>✔️ 47 ms (2022-07-14T14:39:20/2022-07-14T14:39:20)</pre>"
      ],
      "text/plain": [
       "<IPython.core.display.HTML object>"
      ]
     },
     "metadata": {},
     "output_type": "display_data"
    },
    {
     "data": {
      "text/html": [
       "<div>\n",
       "<style scoped>\n",
       "    .dataframe tbody tr th:only-of-type {\n",
       "        vertical-align: middle;\n",
       "    }\n",
       "\n",
       "    .dataframe tbody tr th {\n",
       "        vertical-align: top;\n",
       "    }\n",
       "\n",
       "    .dataframe thead th {\n",
       "        text-align: right;\n",
       "    }\n",
       "</style>\n",
       "<table border=\"1\" class=\"dataframe\">\n",
       "  <thead>\n",
       "    <tr style=\"text-align: right;\">\n",
       "      <th></th>\n",
       "      <th>season</th>\n",
       "      <th>week</th>\n",
       "      <th>Away Team</th>\n",
       "      <th>Home Team</th>\n",
       "      <th>Gel</th>\n",
       "      <th>Hector</th>\n",
       "      <th>Emilio</th>\n",
       "      <th>Sonny</th>\n",
       "      <th>ganador</th>\n",
       "    </tr>\n",
       "  </thead>\n",
       "  <tbody>\n",
       "    <tr>\n",
       "      <th>0</th>\n",
       "      <td>2003</td>\n",
       "      <td>1</td>\n",
       "      <td>At</td>\n",
       "      <td>Da</td>\n",
       "      <td>Da</td>\n",
       "      <td>At</td>\n",
       "      <td>Da</td>\n",
       "      <td>Da</td>\n",
       "      <td>At</td>\n",
       "    </tr>\n",
       "    <tr>\n",
       "      <th>1</th>\n",
       "      <td>2003</td>\n",
       "      <td>1</td>\n",
       "      <td>Ne</td>\n",
       "      <td>Bu</td>\n",
       "      <td>Bu</td>\n",
       "      <td>Bu</td>\n",
       "      <td>Ne</td>\n",
       "      <td>Bu</td>\n",
       "      <td>Bu</td>\n",
       "    </tr>\n",
       "    <tr>\n",
       "      <th>2</th>\n",
       "      <td>2003</td>\n",
       "      <td>1</td>\n",
       "      <td>Jk</td>\n",
       "      <td>Ca</td>\n",
       "      <td>Jk</td>\n",
       "      <td>Jk</td>\n",
       "      <td>Jk</td>\n",
       "      <td>Ca</td>\n",
       "      <td>Ca</td>\n",
       "    </tr>\n",
       "    <tr>\n",
       "      <th>3</th>\n",
       "      <td>2003</td>\n",
       "      <td>1</td>\n",
       "      <td>Dn</td>\n",
       "      <td>Cn</td>\n",
       "      <td>Dn</td>\n",
       "      <td>Dn</td>\n",
       "      <td>Dn</td>\n",
       "      <td>Dn</td>\n",
       "      <td>Dn</td>\n",
       "    </tr>\n",
       "    <tr>\n",
       "      <th>4</th>\n",
       "      <td>2003</td>\n",
       "      <td>1</td>\n",
       "      <td>Az</td>\n",
       "      <td>Dt</td>\n",
       "      <td>Dt</td>\n",
       "      <td>Az</td>\n",
       "      <td>Dt</td>\n",
       "      <td>Az</td>\n",
       "      <td>Dt</td>\n",
       "    </tr>\n",
       "  </tbody>\n",
       "</table>\n",
       "</div>"
      ],
      "text/plain": [
       "   season  week Away Team Home Team Gel Hector Emilio Sonny ganador\n",
       "0    2003     1        At        Da  Da     At     Da    Da      At\n",
       "1    2003     1        Ne        Bu  Bu     Bu     Ne    Bu      Bu\n",
       "2    2003     1        Jk        Ca  Jk     Jk     Jk    Ca      Ca\n",
       "3    2003     1        Dn        Cn  Dn     Dn     Dn    Dn      Dn\n",
       "4    2003     1        Az        Dt  Dt     Az     Dt    Az      Dt"
      ]
     },
     "execution_count": 5,
     "metadata": {},
     "output_type": "execute_result"
    }
   ],
   "source": [
    "df = pd.concat([pd.read_csv(file, encoding='ISO-8859-1') for file in files]).sort_values(['season', 'Week'], ascending=True).reset_index(drop=True)\n",
    "df.columns = ['season', 'week', 'Away Team', 'Home Team', 'Gel', 'Hector', 'Emilio', 'Sonny', 'ganador']\n",
    "df['season'] = df['season'].astype(int)\n",
    "df['week'] = df['week'].astype(int)\n",
    "df.head()"
   ]
  },
  {
   "cell_type": "code",
   "execution_count": 6,
   "metadata": {},
   "outputs": [
    {
     "data": {
      "text/html": [
       "<pre>✔️ 31 ms (2022-07-14T14:39:20/2022-07-14T14:39:20)</pre>"
      ],
      "text/plain": [
       "<IPython.core.display.HTML object>"
      ]
     },
     "metadata": {},
     "output_type": "display_data"
    },
    {
     "name": "stdout",
     "output_type": "stream",
     "text": [
      "['At' 'Az' 'Ba' 'Bu' 'Ca' 'Ch' 'Cl' 'Cn' 'Da' 'Dn' 'Dt' 'Gb' 'Gi' 'Ho'\n",
      " 'In' 'Jk' 'Jt' 'Kc' 'La' 'Lv' 'Mi' 'Mn' 'Ne' 'No' 'Oa' 'Ph' 'Pt' 'Sd'\n",
      " 'Se' 'Sf' 'Sl' 'Tb' 'Tn' 'W' 'Wa']\n",
      "35\n",
      "['ARI' 'ATL' 'BAL' 'BUF' 'CAR' 'CHI' 'CIN' 'CLE' 'DAL' 'DEN' 'DET' 'GB'\n",
      " 'HOU' 'IND' 'JAX' 'KC' 'LA' 'LAC' 'LV' 'MIA' 'MIN' 'NE' 'NO' 'NYG' 'NYJ'\n",
      " 'PHI' 'PIT' 'SEA' 'SF' 'TB' 'TEN' 'WAS']\n",
      "32\n"
     ]
    }
   ],
   "source": [
    "teamsL = np.unique(df['Away Team'].unique().tolist() + df['Home Team'].unique().tolist())\n",
    "print(np.sort(teamsL))\n",
    "print(len(teamsL))\n",
    "\n",
    "team_abbv_dec_dict = {\n",
    "    'Oa':'LV','Lv':'LV','Sd':'LAC','La':'LA','St':'LA','Jk':'JAX','W': 'WAS','Tb': 'TB','Se': 'SEA',\n",
    "    'Sf': 'SF','Pt': 'PIT','Az': 'ARI','Ph': 'PHI','Jt': 'NYJ','Gi': 'NYG','No': 'NO','Ne': 'NE','Mn': 'MIN',\n",
    "    'Mi': 'MIA','Kc': 'KC','In': 'IND','Ho': 'HOU','Tn': 'TEN','Gb': 'GB', 'Dt': 'DET','Dn': 'DEN','Da': 'DAL', \n",
    "    'Cl': 'CLE','Cn': 'CIN','Ch': 'CHI','Ca': 'CAR','Bu': 'BUF','Ba': 'BAL','At': 'ATL', 'Wa':'WAS', 'Sl':'LA'\n",
    "}\n",
    "\n",
    "for col in ['Home Team', 'Away Team', 'Gel', 'Hector', 'Emilio', 'Sonny']:\n",
    "    df[col] = df[col].apply(lambda x: team_abbv_dec_dict[x])\n",
    "df.drop(['ganador'], axis=1).to_csv('../data/quiniela_res.csv', index=False)\n",
    "\n",
    "teamsL = np.unique(df['Away Team'].unique().tolist() + df['Home Team'].unique().tolist())\n",
    "print(np.sort(teamsL))\n",
    "print(len(teamsL))"
   ]
  },
  {
   "cell_type": "markdown",
   "metadata": {},
   "source": [
    "## NFL API for Game Data"
   ]
  },
  {
   "cell_type": "code",
   "execution_count": 7,
   "metadata": {},
   "outputs": [
    {
     "data": {
      "text/html": [
       "<pre>✔️ 16 ms (2022-07-14T14:39:20/2022-07-14T14:39:20)</pre>"
      ],
      "text/plain": [
       "<IPython.core.display.HTML object>"
      ]
     },
     "metadata": {},
     "output_type": "display_data"
    },
    {
     "name": "stdout",
     "output_type": "stream",
     "text": [
      "29\n",
      "2003\n"
     ]
    }
   ],
   "source": [
    "nfl = nflapi.NFL(ua=\"nflapi_quiniela\")\n",
    "\n",
    "MAX_WEEKS = df.week.max() + 10\n",
    "print(MAX_WEEKS)\n",
    "MIN_SEASON = df.season.min()\n",
    "print(MIN_SEASON)"
   ]
  },
  {
   "cell_type": "code",
   "execution_count": 8,
   "metadata": {},
   "outputs": [
    {
     "data": {
      "text/html": [
       "<pre>✔️ 0 ns (2022-07-14T14:39:20/2022-07-14T14:39:20)</pre>"
      ],
      "text/plain": [
       "<IPython.core.display.HTML object>"
      ]
     },
     "metadata": {},
     "output_type": "display_data"
    }
   ],
   "source": [
    "conf_dict = {\n",
    "    'NATIONAL_FOOTBALL_CONFERENCE':'NFC', \n",
    "    'AMERICAN_FOOTBALL_CONFERENCE':'AFC',\n",
    "    'NFC':'NFC',\n",
    "    'AFC':'AFC',\n",
    "    }\n",
    "\n",
    "team_abbv_dict = {\n",
    "    'OAK':'LV',\n",
    "    'LV':'LV',\n",
    "\n",
    "    'SD':'LAC',\n",
    "    'LAC':'LAC',\n",
    "\n",
    "    'STL':'LA',\n",
    "    'LA':'LA',\n",
    "\n",
    "    'JAC':'JAX',\n",
    "    'JAX':'JAX',\n",
    "\n",
    "    'WAS': 'WAS',\n",
    "    'TB': 'TB',\n",
    "    'SEA': 'SEA',\n",
    "    'SF': 'SF',\n",
    "    'PIT': 'PIT',\n",
    "    'ARI': 'ARI',\n",
    "    'PHI': 'PHI',\n",
    "    'NYJ': 'NYJ',\n",
    "    'NYG': 'NYG',\n",
    "    'NO': 'NO',\n",
    "    'NE': 'NE',\n",
    "    'MIN': 'MIN',\n",
    "    'MIA': 'MIA',\n",
    "    'KC': 'KC',\n",
    "    'IND': 'IND',\n",
    "    'HOU': 'HOU',\n",
    "    'TEN': 'TEN',\n",
    "    'GB': 'GB',\n",
    "    'DET': 'DET',\n",
    "    'DEN': 'DEN',\n",
    "    'DAL': 'DAL', \n",
    "    'CLE': 'CLE',\n",
    "    'CIN': 'CIN',\n",
    "    'CHI': 'CHI',\n",
    "    'CAR': 'CAR',\n",
    "    'BUF': 'BUF',\n",
    "    'BAL': 'BAL',\n",
    "    'ATL': 'ATL',\n",
    "}"
   ]
  },
  {
   "cell_type": "code",
   "execution_count": 14,
   "metadata": {},
   "outputs": [
    {
     "data": {
      "text/html": [
       "<pre>✔️ 0 ns (2022-07-14T14:40:21/2022-07-14T14:40:21)</pre>"
      ],
      "text/plain": [
       "<IPython.core.display.HTML object>"
      ]
     },
     "metadata": {},
     "output_type": "display_data"
    }
   ],
   "source": [
    "special_logos = {\n",
    "\n",
    "    'WAS':{'season':2019, 'logo':'WAS_logo_old.png'},\n",
    "    'NYJ':{'season':2018, 'logo':'NYJ_logo_old.png'},\n",
    "    'SEA':{'season':2011, 'logo':'SEA_logo_old.png'},\n",
    "    'TB':{'season':2013, 'logo':'TB_logo_old.png'},\n",
    "    'MIA':{'season':2012, 'logo':'MIA_logo_old.png'},\n",
    "    'JAX':{'season':2012, 'logo':'JAX_logo_old.png'},\n",
    "    'LA':{'season':2019, 'logo':'LA_logo_old.png'},\n",
    "    'NYG':{'season':4000, 'logo':'NYG_logo.png'},\n",
    "}"
   ]
  },
  {
   "cell_type": "code",
   "execution_count": 15,
   "metadata": {},
   "outputs": [
    {
     "data": {
      "text/html": [
       "<pre>✔️ 0 ns (2022-07-14T14:40:21/2022-07-14T14:40:21)</pre>"
      ],
      "text/plain": [
       "<IPython.core.display.HTML object>"
      ]
     },
     "metadata": {},
     "output_type": "display_data"
    }
   ],
   "source": [
    "def get_teams_info_per_season(season, nfl=nfl):\n",
    "\n",
    "    team_cols = ['abbreviation', 'full_name', 'nick_name', 'conference', 'division', \n",
    "                'city_state_region', 'season_value', 'venue', 'logo']\n",
    "\n",
    "    curr_teams = pd.DataFrame([], columns=team_cols)\n",
    "\n",
    "\n",
    "    ## Get All Teams In Season\n",
    "    season_teams = nfl.team.get_all(season_value=season)\n",
    "\n",
    "    ## Iterate Through Results\n",
    "    last_idx = len(curr_teams)\n",
    "    for idx, curr_team in enumerate(season_teams):\n",
    "\n",
    "        ## Continue if Pro Bowl\n",
    "        if curr_team.division == 'NO_DIVISION':\n",
    "            continue\n",
    "\n",
    "        ## Current Team Abbv \n",
    "        curr_abbv = team_abbv_dict[curr_team.abbreviation]\n",
    "        logo_file = curr_abbv + '_logo.webp'\n",
    "\n",
    "        if curr_abbv in list(special_logos.keys()):\n",
    "            logo_change_season = special_logos[curr_abbv]['season']\n",
    "            if season < logo_change_season:\n",
    "                logo_file = special_logos[curr_abbv]['logo']\n",
    "\n",
    "        ## Get Special Values\n",
    "        venues = curr_team.venues\n",
    "        if venues != None:\n",
    "            venue = venues[0].display_name\n",
    "        else:\n",
    "            venue = None\n",
    "\n",
    "        ## Append to DataFrame                \n",
    "        curr_teams.loc[idx + last_idx] = [\n",
    "                                                curr_abbv,\n",
    "                                                curr_team.full_name,\n",
    "                                                curr_team.nick_name,\n",
    "                                                conf_dict[curr_team.conference],\n",
    "                                                curr_team.division,\n",
    "                                                curr_team.city_state_region,\n",
    "                                                curr_team.season_value,\n",
    "                                                venue,\n",
    "                                                logo_file,\n",
    "                                            ]\n",
    "\n",
    "    curr_teams = curr_teams.rename(columns={'season_value':'season'})\n",
    "\n",
    "    return curr_teams\n",
    "\n",
    "\n",
    "def get_season_info(season, MAX_WEEKS=MAX_WEEKS, nfl=nfl):\n",
    "\n",
    "    season_cols = ['season', 'week', 'week_type', \n",
    "                    'game_id', 'game_details_id', \n",
    "                    'game_time', 'game_date',\n",
    "                    'home_team', \n",
    "                    'away_team', \n",
    "                    'home_team_score', 'away_team_score',\n",
    "                    'home_points_overtime_total', 'visitor_points_overtime_total',\n",
    "                    'home_points_q1', 'home_points_q2', \n",
    "                    'home_points_q3', 'home_points_q4',\n",
    "                    'home_passing_yards',\n",
    "                    'home_passing_touchdowns',\n",
    "                    'home_rushing_yards',\n",
    "                    'home_rushing_touchdowns',\n",
    "                    'visitor_points_q1', 'visitor_points_q2', \n",
    "                    'visitor_points_q3', 'visitor_points_q4',\n",
    "                    'visitor_passing_yards',\n",
    "                    'visitor_passing_touchdowns',\n",
    "                    'visitor_rushing_yards',\n",
    "                    'visitor_rushing_touchdowns',\n",
    "                    'phase',\n",
    "                    ]\n",
    "\n",
    "    curr_season = pd.DataFrame([], columns=season_cols)\n",
    "\n",
    "    ### Get All Seson Games\n",
    "    for season_type in ['REG', 'POST']:\n",
    "\n",
    "        for week in np.arange(1, MAX_WEEKS):\n",
    "\n",
    "            curr_week_games = nfl.game.week_games(season=season, season_type=season_type, week=week)\n",
    "            \n",
    "            if len(curr_week_games) == 0:\n",
    "                continue\n",
    "\n",
    "            ### Iterate through each JSON in list of games\n",
    "            last_idx = len(curr_season)\n",
    "            for idx, game in enumerate(curr_week_games):\n",
    "\n",
    "                ## Convert JSON to Dictionary\n",
    "                curr_game = game.raw\n",
    "\n",
    "                ## Get Game Det ID\n",
    "                home_points_total = None\n",
    "                visitor_points_total = None\n",
    "                home_points_overtime_total = None\n",
    "                home_points_q1 = None\n",
    "                home_points_q2 = None\n",
    "                home_points_q3 = None\n",
    "                home_points_q4 = None\n",
    "                visitor_points_overtime_total = None\n",
    "                visitor_points_q1 = None\n",
    "                visitor_points_q2 = None\n",
    "                visitor_points_q3 = None\n",
    "                visitor_points_q4 = None\n",
    "\n",
    "                home_passing_yards = None\n",
    "                home_passing_touchdowns = None\n",
    "                home_rushing_yards = None\n",
    "                home_rushing_touchdowns = None\n",
    "\n",
    "                visitor_passing_yards = None\n",
    "                visitor_passing_touchdowns = None\n",
    "                visitor_rushing_yards = None\n",
    "                visitor_rushing_touchdowns = None\n",
    "                phase = None\n",
    "\n",
    "                curr_game_det_idL = [x['id'] for x in curr_game['externalIds'] if x['source'] == 'gamedetail']\n",
    "\n",
    "                ## Check if Game is Finished or Not\n",
    "                if len(curr_game_det_idL) == 0:\n",
    "                    curr_game_det_id = None\n",
    "                else:\n",
    "                    ## Get Game Details\n",
    "                    curr_game_det_id = curr_game_det_idL[0]\n",
    "                    curr_game_dets = nfl.game_detail.by_id(curr_game_det_id)\n",
    "                    home_points_total = curr_game_dets.home_points_total\n",
    "                    visitor_points_total = curr_game_dets.visitor_points_total\n",
    "                    home_points_overtime_total = curr_game_dets.home_points_overtime_total\n",
    "                    home_points_q1 = curr_game_dets.home_points_q1\n",
    "                    home_points_q2 = curr_game_dets.home_points_q2\n",
    "                    home_points_q3 = curr_game_dets.home_points_q3\n",
    "                    home_points_q4 = curr_game_dets.home_points_q4\n",
    "                    home_passing_yards = curr_game_dets.live_home_team_game_stats.team_game_stats.passing_yards\n",
    "                    home_passing_touchdowns = curr_game_dets.live_home_team_game_stats.team_game_stats.passing_touchdowns\n",
    "                    home_rushing_yards = curr_game_dets.live_home_team_game_stats.team_game_stats.rushing_yards\n",
    "                    home_rushing_touchdowns = curr_game_dets.live_home_team_game_stats.team_game_stats.rushing_touchdowns\n",
    "                    visitor_points_overtime_total = curr_game_dets.visitor_points_overtime_total\n",
    "                    visitor_points_q1 = curr_game_dets.visitor_points_q1\n",
    "                    visitor_points_q2 = curr_game_dets.visitor_points_q2\n",
    "                    visitor_points_q3 = curr_game_dets.visitor_points_q3\n",
    "                    visitor_points_q4 = curr_game_dets.visitor_points_q4\n",
    "                    visitor_passing_yards = curr_game_dets.live_visitor_team_game_stats.team_game_stats.passing_yards\n",
    "                    visitor_passing_touchdowns = curr_game_dets.live_visitor_team_game_stats.team_game_stats.passing_touchdowns\n",
    "                    visitor_rushing_yards = curr_game_dets.live_visitor_team_game_stats.team_game_stats.rushing_yards\n",
    "                    visitor_rushing_touchdowns = curr_game_dets.live_visitor_team_game_stats.team_game_stats.rushing_touchdowns\n",
    "                    phase = curr_game_dets.phase\n",
    "                    \n",
    "\n",
    "                ## Append to DataFrame                \n",
    "                curr_season.loc[idx + last_idx] = [\n",
    "                                        \n",
    "                                        curr_game['season'], curr_game['week'], curr_game['weekType'], \n",
    "                                        curr_game['id'], curr_game_det_id, \n",
    "                                        curr_game['time'], curr_game['date'],\n",
    "                                        curr_game['homeTeam']['fullName'], \n",
    "                                        curr_game['awayTeam']['fullName'], \n",
    "                                        home_points_total, visitor_points_total,\n",
    "                                        home_points_overtime_total, visitor_points_overtime_total,\n",
    "                                        home_points_q1, home_points_q2, \n",
    "                                        home_points_q3, home_points_q4,\n",
    "                                        home_passing_yards,\n",
    "                                        home_passing_touchdowns,\n",
    "                                        home_rushing_yards,\n",
    "                                        home_rushing_touchdowns,\n",
    "                                        visitor_points_q1, visitor_points_q2,\n",
    "                                        visitor_points_q3, visitor_points_q4,\n",
    "                                        visitor_passing_yards,\n",
    "                                        visitor_passing_touchdowns,\n",
    "                                        visitor_rushing_yards,\n",
    "                                        visitor_rushing_touchdowns,\n",
    "                                        phase\n",
    "                                        ]\n",
    "\n",
    "    curr_season['game_time'] = pd.to_datetime(curr_season['game_time'])\n",
    "    curr_season['game_date'] = pd.to_datetime(curr_season['game_date'])\n",
    "    \n",
    "    return curr_season"
   ]
  },
  {
   "cell_type": "code",
   "execution_count": 16,
   "metadata": {},
   "outputs": [
    {
     "data": {
      "text/html": [
       "<pre>✔️ 4.58 s (2022-07-14T14:40:21/2022-07-14T14:40:26)</pre>"
      ],
      "text/plain": [
       "<IPython.core.display.HTML object>"
      ]
     },
     "metadata": {},
     "output_type": "display_data"
    },
    {
     "name": "stdout",
     "output_type": "stream",
     "text": [
      "2003\n",
      "Shape Teams:  (32, 9)\n",
      "2004\n",
      "Shape Teams:  (32, 9)\n",
      "2005\n",
      "Shape Teams:  (32, 9)\n",
      "2006\n",
      "Shape Teams:  (32, 9)\n",
      "2007\n",
      "Shape Teams:  (32, 9)\n",
      "2008\n",
      "Shape Teams:  (32, 9)\n",
      "2009\n",
      "Shape Teams:  (32, 9)\n",
      "2010\n",
      "Shape Teams:  (32, 9)\n",
      "2011\n",
      "Shape Teams:  (32, 9)\n",
      "2012\n",
      "Shape Teams:  (32, 9)\n",
      "2013\n",
      "Shape Teams:  (32, 9)\n",
      "2014\n",
      "Shape Teams:  (32, 9)\n",
      "2015\n",
      "Shape Teams:  (32, 9)\n",
      "2016\n",
      "Shape Teams:  (32, 9)\n",
      "2017\n",
      "Shape Teams:  (32, 9)\n",
      "2018\n",
      "Shape Teams:  (32, 9)\n",
      "2019\n",
      "Shape Teams:  (32, 9)\n",
      "2020\n",
      "Shape Teams:  (32, 9)\n",
      "2021\n",
      "Shape Teams:  (32, 9)\n",
      "2022\n",
      "Shape Teams:  (32, 9)\n"
     ]
    }
   ],
   "source": [
    "season_df = pd.DataFrame([])\n",
    "team_df = pd.DataFrame([])\n",
    "for season in np.arange(MIN_SEASON, datetime.today().year+1):\n",
    "    print(season)\n",
    "\n",
    "    ### GET SEASON TEAMS ###\n",
    "    ## Get Season Teams\n",
    "    teams_season_df = get_teams_info_per_season(season, nfl=nfl)\n",
    "    teams_season_df.to_csv('../data/teams/nfl_team_info_season_{season}.csv'.format(season=season))\n",
    "    print('Shape Teams: ', teams_season_df.shape)\n",
    "    ## Append to DataFrame\n",
    "    team_df = pd.concat([team_df, teams_season_df]).reset_index(drop=True)\n",
    "\n",
    "    ### GET SEASON GAMES ###\n",
    "    ## Get Season Scores\n",
    "    # curr_season_df = get_season_info(season, MAX_WEEKS=MAX_WEEKS, nfl=nfl)\n",
    "    # curr_season_df.to_csv('../data/scores/nfl_scores_season_{season}.csv'.format(season=season))\n",
    "    # print('Shape Season: ', curr_season_df.shape)\n",
    "    # ## Append to DataFrame\n",
    "    # season_df = pd.concat([season_df, curr_season_df]).reset_index(drop=True)\n",
    "\n",
    "# season_df.to_csv('../data/nfl_scores_all.csv')\n",
    "team_df.to_csv('../data/nfl_team_info_all.csv')"
   ]
  },
  {
   "cell_type": "code",
   "execution_count": 12,
   "metadata": {},
   "outputs": [
    {
     "data": {
      "text/html": [
       "<pre>✔️ 484 ms (2022-07-14T14:39:26/2022-07-14T14:39:27)</pre>"
      ],
      "text/plain": [
       "<IPython.core.display.HTML object>"
      ]
     },
     "metadata": {},
     "output_type": "display_data"
    }
   ],
   "source": [
    "nfl.game.week_games(season=2022, season_type='REG', week=1)[0].raw\n",
    "res = nfl.game_detail.by_id('10160000-0264-94ab-68f5-9ff371a986a3')"
   ]
  },
  {
   "cell_type": "code",
   "execution_count": 13,
   "metadata": {},
   "outputs": [
    {
     "data": {
      "text/html": [
       "<pre>✔️ 0 ns (2022-07-14T14:39:27/2022-07-14T14:39:27)</pre>"
      ],
      "text/plain": [
       "<IPython.core.display.HTML object>"
      ]
     },
     "metadata": {},
     "output_type": "display_data"
    }
   ],
   "source": [
    "# res"
   ]
  },
  {
   "cell_type": "code",
   "execution_count": null,
   "metadata": {},
   "outputs": [],
   "source": []
  }
 ],
 "metadata": {
  "kernelspec": {
   "display_name": "Python 3.9.13 ('venv': venv)",
   "language": "python",
   "name": "python3"
  },
  "language_info": {
   "codemirror_mode": {
    "name": "ipython",
    "version": 3
   },
   "file_extension": ".py",
   "mimetype": "text/x-python",
   "name": "python",
   "nbconvert_exporter": "python",
   "pygments_lexer": "ipython3",
   "version": "3.8.8"
  },
  "vscode": {
   "interpreter": {
    "hash": "5152e42275411dbc3e462fa879a369e4fe94d83bb9fc4a10bfcc3bbe9c4bbce5"
   }
  }
 },
 "nbformat": 4,
 "nbformat_minor": 2
}
