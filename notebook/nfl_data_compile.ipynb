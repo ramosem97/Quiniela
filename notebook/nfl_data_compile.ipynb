{
 "cells": [
  {
   "cell_type": "markdown",
   "metadata": {},
   "source": [
    "# NFL API and Prediction Charts for Quiniela"
   ]
  },
  {
   "cell_type": "markdown",
   "metadata": {},
   "source": [
    "## Config"
   ]
  },
  {
   "cell_type": "code",
   "execution_count": 3,
   "metadata": {},
   "outputs": [
    {
     "data": {
      "text/html": [
       "<pre>✔️ 0 ns (2022-07-08T12:43:16/2022-07-08T12:43:16)</pre>"
      ],
      "text/plain": [
       "<IPython.core.display.HTML object>"
      ]
     },
     "metadata": {},
     "output_type": "display_data"
    }
   ],
   "source": [
    "%load_ext autotime"
   ]
  },
  {
   "cell_type": "code",
   "execution_count": 4,
   "metadata": {
    "collapsed": false
   },
   "outputs": [
    {
     "data": {
      "text/html": [
       "<pre>✔️ 1.8 s (2022-07-08T12:43:17/2022-07-08T12:43:18)</pre>"
      ],
      "text/plain": [
       "<IPython.core.display.HTML object>"
      ]
     },
     "metadata": {},
     "output_type": "display_data"
    }
   ],
   "source": [
    "import pandas as pd\n",
    "import numpy as np\n",
    "import matplotlib.pyplot as plt\n",
    "import seaborn as sns\n",
    "import plotly.express as px\n",
    "import nflapi\n",
    "from datetime import datetime\n",
    "from glob import glob"
   ]
  },
  {
   "cell_type": "markdown",
   "metadata": {},
   "source": [
    "## Read in Historical Data"
   ]
  },
  {
   "cell_type": "code",
   "execution_count": 5,
   "metadata": {},
   "outputs": [
    {
     "data": {
      "text/html": [
       "<pre>✔️ 0 ns (2022-07-08T12:43:19/2022-07-08T12:43:19)</pre>"
      ],
      "text/plain": [
       "<IPython.core.display.HTML object>"
      ]
     },
     "metadata": {},
     "output_type": "display_data"
    },
    {
     "name": "stdout",
     "output_type": "stream",
     "text": [
      "19\n"
     ]
    },
    {
     "data": {
      "text/plain": [
       "['../data/quiniela\\\\03NFLaemilio.csv',\n",
       " '../data/quiniela\\\\04NFLaemilio.csv',\n",
       " '../data/quiniela\\\\05NFLaemilio.csv',\n",
       " '../data/quiniela\\\\06NFLaemilio.csv',\n",
       " '../data/quiniela\\\\07NFLaemilio.csv',\n",
       " '../data/quiniela\\\\08NFLaemilio.csv',\n",
       " '../data/quiniela\\\\09NFLaemilio.csv',\n",
       " '../data/quiniela\\\\10NFLaemilio.csv',\n",
       " '../data/quiniela\\\\11NFLaemilio.csv',\n",
       " '../data/quiniela\\\\12NFLaemilio.csv',\n",
       " '../data/quiniela\\\\13NFLaemilio.csv',\n",
       " '../data/quiniela\\\\14NFLaemilio.csv',\n",
       " '../data/quiniela\\\\15NFLaemilio.csv',\n",
       " '../data/quiniela\\\\16NFLaemilio.csv',\n",
       " '../data/quiniela\\\\17NFLaemilio.csv',\n",
       " '../data/quiniela\\\\18NFLaemilio.csv',\n",
       " '../data/quiniela\\\\19NFLaemilio.csv',\n",
       " '../data/quiniela\\\\20NFLaemilio.csv',\n",
       " '../data/quiniela\\\\21NFLaemilio.csv']"
      ]
     },
     "execution_count": 5,
     "metadata": {},
     "output_type": "execute_result"
    }
   ],
   "source": [
    "files = glob('../data/quiniela/*emilio.csv')\n",
    "print(len(files))\n",
    "files"
   ]
  },
  {
   "cell_type": "code",
   "execution_count": 6,
   "metadata": {
    "collapsed": false
   },
   "outputs": [
    {
     "data": {
      "text/html": [
       "<pre>✔️ 47 ms (2022-07-08T12:43:19/2022-07-08T12:43:20)</pre>"
      ],
      "text/plain": [
       "<IPython.core.display.HTML object>"
      ]
     },
     "metadata": {},
     "output_type": "display_data"
    },
    {
     "data": {
      "text/html": [
       "<div>\n",
       "<style scoped>\n",
       "    .dataframe tbody tr th:only-of-type {\n",
       "        vertical-align: middle;\n",
       "    }\n",
       "\n",
       "    .dataframe tbody tr th {\n",
       "        vertical-align: top;\n",
       "    }\n",
       "\n",
       "    .dataframe thead th {\n",
       "        text-align: right;\n",
       "    }\n",
       "</style>\n",
       "<table border=\"1\" class=\"dataframe\">\n",
       "  <thead>\n",
       "    <tr style=\"text-align: right;\">\n",
       "      <th></th>\n",
       "      <th>season</th>\n",
       "      <th>week</th>\n",
       "      <th>Away Team</th>\n",
       "      <th>Home Team</th>\n",
       "      <th>Gel</th>\n",
       "      <th>Hector</th>\n",
       "      <th>Emilio</th>\n",
       "      <th>Sonny</th>\n",
       "      <th>ganador</th>\n",
       "    </tr>\n",
       "  </thead>\n",
       "  <tbody>\n",
       "    <tr>\n",
       "      <th>0</th>\n",
       "      <td>2003</td>\n",
       "      <td>1</td>\n",
       "      <td>At</td>\n",
       "      <td>Da</td>\n",
       "      <td>Da</td>\n",
       "      <td>At</td>\n",
       "      <td>Da</td>\n",
       "      <td>Da</td>\n",
       "      <td>At</td>\n",
       "    </tr>\n",
       "    <tr>\n",
       "      <th>1</th>\n",
       "      <td>2003</td>\n",
       "      <td>1</td>\n",
       "      <td>Ne</td>\n",
       "      <td>Bu</td>\n",
       "      <td>Bu</td>\n",
       "      <td>Bu</td>\n",
       "      <td>Ne</td>\n",
       "      <td>Bu</td>\n",
       "      <td>Bu</td>\n",
       "    </tr>\n",
       "    <tr>\n",
       "      <th>2</th>\n",
       "      <td>2003</td>\n",
       "      <td>1</td>\n",
       "      <td>Jk</td>\n",
       "      <td>Ca</td>\n",
       "      <td>Jk</td>\n",
       "      <td>Jk</td>\n",
       "      <td>Jk</td>\n",
       "      <td>Ca</td>\n",
       "      <td>Ca</td>\n",
       "    </tr>\n",
       "    <tr>\n",
       "      <th>3</th>\n",
       "      <td>2003</td>\n",
       "      <td>1</td>\n",
       "      <td>Dn</td>\n",
       "      <td>Cn</td>\n",
       "      <td>Dn</td>\n",
       "      <td>Dn</td>\n",
       "      <td>Dn</td>\n",
       "      <td>Dn</td>\n",
       "      <td>Dn</td>\n",
       "    </tr>\n",
       "    <tr>\n",
       "      <th>4</th>\n",
       "      <td>2003</td>\n",
       "      <td>1</td>\n",
       "      <td>Az</td>\n",
       "      <td>Dt</td>\n",
       "      <td>Dt</td>\n",
       "      <td>Az</td>\n",
       "      <td>Dt</td>\n",
       "      <td>Az</td>\n",
       "      <td>Dt</td>\n",
       "    </tr>\n",
       "  </tbody>\n",
       "</table>\n",
       "</div>"
      ],
      "text/plain": [
       "   season  week Away Team Home Team Gel Hector Emilio Sonny ganador\n",
       "0    2003     1        At        Da  Da     At     Da    Da      At\n",
       "1    2003     1        Ne        Bu  Bu     Bu     Ne    Bu      Bu\n",
       "2    2003     1        Jk        Ca  Jk     Jk     Jk    Ca      Ca\n",
       "3    2003     1        Dn        Cn  Dn     Dn     Dn    Dn      Dn\n",
       "4    2003     1        Az        Dt  Dt     Az     Dt    Az      Dt"
      ]
     },
     "execution_count": 6,
     "metadata": {},
     "output_type": "execute_result"
    }
   ],
   "source": [
    "df = pd.concat([pd.read_csv(file, encoding='ISO-8859-1') for file in files]).sort_values(['season', 'Week'], ascending=True).reset_index(drop=True)\n",
    "df.columns = ['season', 'week', 'Away Team', 'Home Team', 'Gel', 'Hector', 'Emilio', 'Sonny', 'ganador']\n",
    "df['season'] = df['season'].astype(int)\n",
    "df['week'] = df['week'].astype(int)\n",
    "df.head()"
   ]
  },
  {
   "cell_type": "code",
   "execution_count": 7,
   "metadata": {},
   "outputs": [
    {
     "data": {
      "text/html": [
       "<pre>✔️ 31 ms (2022-07-08T12:43:20/2022-07-08T12:43:20)</pre>"
      ],
      "text/plain": [
       "<IPython.core.display.HTML object>"
      ]
     },
     "metadata": {},
     "output_type": "display_data"
    },
    {
     "name": "stdout",
     "output_type": "stream",
     "text": [
      "['At' 'Az' 'Ba' 'Bu' 'Ca' 'Ch' 'Cl' 'Cn' 'Da' 'Dn' 'Dt' 'Gb' 'Gi' 'Ho'\n",
      " 'In' 'Jk' 'Jt' 'Kc' 'La' 'Lv' 'Mi' 'Mn' 'Ne' 'No' 'Oa' 'Ph' 'Pt' 'Sd'\n",
      " 'Se' 'Sf' 'Sl' 'Tb' 'Tn' 'W' 'Wa']\n",
      "35\n",
      "['ARI' 'ATL' 'BAL' 'BUF' 'CAR' 'CHI' 'CIN' 'CLE' 'DAL' 'DEN' 'DET' 'GB'\n",
      " 'HOU' 'IND' 'JAX' 'KC' 'LA' 'LAC' 'LV' 'MIA' 'MIN' 'NE' 'NO' 'NYG' 'NYJ'\n",
      " 'PHI' 'PIT' 'SEA' 'SF' 'TB' 'TEN' 'WAS']\n",
      "32\n"
     ]
    }
   ],
   "source": [
    "teamsL = np.unique(df['Away Team'].unique().tolist() + df['Home Team'].unique().tolist())\n",
    "print(np.sort(teamsL))\n",
    "print(len(teamsL))\n",
    "\n",
    "team_abbv_dec_dict = {\n",
    "    'Oa':'LV','Lv':'LV','Sd':'LAC','La':'LA','St':'LA','Jk':'JAX','W': 'WAS','Tb': 'TB','Se': 'SEA',\n",
    "    'Sf': 'SF','Pt': 'PIT','Az': 'ARI','Ph': 'PHI','Jt': 'NYJ','Gi': 'NYG','No': 'NO','Ne': 'NE','Mn': 'MIN',\n",
    "    'Mi': 'MIA','Kc': 'KC','In': 'IND','Ho': 'HOU','Tn': 'TEN','Gb': 'GB', 'Dt': 'DET','Dn': 'DEN','Da': 'DAL', \n",
    "    'Cl': 'CLE','Cn': 'CIN','Ch': 'CHI','Ca': 'CAR','Bu': 'BUF','Ba': 'BAL','At': 'ATL', 'Wa':'WAS', 'Sl':'LA'\n",
    "}\n",
    "\n",
    "for col in ['Home Team', 'Away Team', 'Gel', 'Hector', 'Emilio', 'Sonny']:\n",
    "    df[col] = df[col].apply(lambda x: team_abbv_dec_dict[x])\n",
    "df.drop(['ganador'], axis=1).to_csv('../data/quiniela_res.csv', index=False)\n",
    "\n",
    "teamsL = np.unique(df['Away Team'].unique().tolist() + df['Home Team'].unique().tolist())\n",
    "print(np.sort(teamsL))\n",
    "print(len(teamsL))"
   ]
  },
  {
   "cell_type": "markdown",
   "metadata": {},
   "source": [
    "## NFL API for Game Data"
   ]
  },
  {
   "cell_type": "code",
   "execution_count": 8,
   "metadata": {},
   "outputs": [
    {
     "data": {
      "text/html": [
       "<pre>✔️ 15 ms (2022-07-08T12:43:20/2022-07-08T12:43:20)</pre>"
      ],
      "text/plain": [
       "<IPython.core.display.HTML object>"
      ]
     },
     "metadata": {},
     "output_type": "display_data"
    },
    {
     "name": "stdout",
     "output_type": "stream",
     "text": [
      "29\n",
      "2003\n"
     ]
    }
   ],
   "source": [
    "nfl = nflapi.NFL(ua=\"nflapi_quiniela\")\n",
    "\n",
    "MAX_WEEKS = df.week.max() + 10\n",
    "print(MAX_WEEKS)\n",
    "MIN_SEASON = df.season.min()\n",
    "print(MIN_SEASON)"
   ]
  },
  {
   "cell_type": "code",
   "execution_count": 9,
   "metadata": {},
   "outputs": [
    {
     "data": {
      "text/html": [
       "<pre>✔️ 0 ns (2022-07-08T12:43:21/2022-07-08T12:43:21)</pre>"
      ],
      "text/plain": [
       "<IPython.core.display.HTML object>"
      ]
     },
     "metadata": {},
     "output_type": "display_data"
    }
   ],
   "source": [
    "conf_dict = {\n",
    "    'NATIONAL_FOOTBALL_CONFERENCE':'NFC', \n",
    "    'AMERICAN_FOOTBALL_CONFERENCE':'AFC',\n",
    "    'NFC':'NFC',\n",
    "    'AFC':'AFC',\n",
    "    }\n",
    "\n",
    "team_abbv_dict = {\n",
    "    'OAK':'LV',\n",
    "    'LV':'LV',\n",
    "\n",
    "    'SD':'LAC',\n",
    "    'LAC':'LAC',\n",
    "\n",
    "    'STL':'LA',\n",
    "    'LA':'LA',\n",
    "\n",
    "    'JAC':'JAX',\n",
    "    'JAX':'JAX',\n",
    "\n",
    "    'WAS': 'WAS',\n",
    "    'TB': 'TB',\n",
    "    'SEA': 'SEA',\n",
    "    'SF': 'SF',\n",
    "    'PIT': 'PIT',\n",
    "    'ARI': 'ARI',\n",
    "    'PHI': 'PHI',\n",
    "    'NYJ': 'NYJ',\n",
    "    'NYG': 'NYG',\n",
    "    'NO': 'NO',\n",
    "    'NE': 'NE',\n",
    "    'MIN': 'MIN',\n",
    "    'MIA': 'MIA',\n",
    "    'KC': 'KC',\n",
    "    'IND': 'IND',\n",
    "    'HOU': 'HOU',\n",
    "    'TEN': 'TEN',\n",
    "    'GB': 'GB',\n",
    "    'DET': 'DET',\n",
    "    'DEN': 'DEN',\n",
    "    'DAL': 'DAL', \n",
    "    'CLE': 'CLE',\n",
    "    'CIN': 'CIN',\n",
    "    'CHI': 'CHI',\n",
    "    'CAR': 'CAR',\n",
    "    'BUF': 'BUF',\n",
    "    'BAL': 'BAL',\n",
    "    'ATL': 'ATL',\n",
    "}"
   ]
  },
  {
   "cell_type": "code",
   "execution_count": 10,
   "metadata": {},
   "outputs": [
    {
     "data": {
      "text/html": [
       "<pre>✔️ 0 ns (2022-07-08T12:43:21/2022-07-08T12:43:21)</pre>"
      ],
      "text/plain": [
       "<IPython.core.display.HTML object>"
      ]
     },
     "metadata": {},
     "output_type": "display_data"
    }
   ],
   "source": [
    "special_logos = {\n",
    "\n",
    "    'WAS':{'season':2019, 'logo':'WAS_logo_old.png'},\n",
    "    'NYJ':{'season':2018, 'logo':'NYJ_logo_old.jpg'},\n",
    "    'SEA':{'season':2011, 'logo':'SEA_logo_old.svg'},\n",
    "    'TB':{'season':2013, 'logo':'TB_logo_old.jpg'},\n",
    "    'MIA':{'season':2012, 'logo':'MIA_logo_old.jpg'},\n",
    "    'JAX':{'season':2012, 'logo':'JAX_logo_old.jpg'},\n",
    "}"
   ]
  },
  {
   "cell_type": "code",
   "execution_count": 11,
   "metadata": {},
   "outputs": [
    {
     "data": {
      "text/html": [
       "<pre>✔️ 16 ms (2022-07-08T12:43:22/2022-07-08T12:43:22)</pre>"
      ],
      "text/plain": [
       "<IPython.core.display.HTML object>"
      ]
     },
     "metadata": {},
     "output_type": "display_data"
    }
   ],
   "source": [
    "def get_teams_info_per_season(season, nfl=nfl):\n",
    "\n",
    "    team_cols = ['abbreviation', 'full_name', 'nick_name', 'conference', 'division', \n",
    "                'city_state_region', 'season_value', 'venue', 'logo']\n",
    "\n",
    "    curr_teams = pd.DataFrame([], columns=team_cols)\n",
    "\n",
    "\n",
    "    ## Get All Teams In Season\n",
    "    season_teams = nfl.team.get_all(season_value=season)\n",
    "\n",
    "    ## Iterate Through Results\n",
    "    last_idx = len(curr_teams)\n",
    "    for idx, curr_team in enumerate(season_teams):\n",
    "\n",
    "        ## Continue if Pro Bowl\n",
    "        if curr_team.division == 'NO_DIVISION':\n",
    "            continue\n",
    "\n",
    "        ## Current Team Abbv \n",
    "        curr_abbv = team_abbv_dict[curr_team.abbreviation]\n",
    "        logo_file = curr_abbv + '_logo.webp'\n",
    "\n",
    "        if curr_abbv in list(special_logos.keys()):\n",
    "            logo_change_season = special_logos[curr_abbv]['season']\n",
    "            if season < logo_change_season:\n",
    "                logo_file = special_logos[curr_abbv]['logo']\n",
    "\n",
    "        ## Get Special Values\n",
    "        venues = curr_team.venues\n",
    "        if venues != None:\n",
    "            venue = venues[0].display_name\n",
    "        else:\n",
    "            venue = None\n",
    "\n",
    "        ## Append to DataFrame                \n",
    "        curr_teams.loc[idx + last_idx] = [\n",
    "                                                curr_abbv,\n",
    "                                                curr_team.full_name,\n",
    "                                                curr_team.nick_name,\n",
    "                                                conf_dict[curr_team.conference],\n",
    "                                                curr_team.division,\n",
    "                                                curr_team.city_state_region,\n",
    "                                                curr_team.season_value,\n",
    "                                                venue,\n",
    "                                                logo_file,\n",
    "                                            ]\n",
    "\n",
    "    curr_teams = curr_teams.rename(columns={'season_value':'season'})\n",
    "\n",
    "    return curr_teams\n",
    "\n",
    "\n",
    "def get_season_info(season, MAX_WEEKS=MAX_WEEKS, nfl=nfl):\n",
    "\n",
    "    season_cols = ['season', 'week', 'week_type', \n",
    "                    'game_id', 'game_details_id', \n",
    "                    'game_time', 'game_date',\n",
    "                    'home_team', \n",
    "                    'away_team', \n",
    "                    'home_team_score', 'away_team_score',\n",
    "                    'home_points_overtime_total', 'visitor_points_overtime_total',\n",
    "                    'home_points_q1', 'home_points_q2', \n",
    "                    'home_points_q3', 'home_points_q4',\n",
    "                    'home_passing_yards',\n",
    "                    'home_passing_touchdowns',\n",
    "                    'home_rushing_yards',\n",
    "                    'home_rushing_touchdowns',\n",
    "                    'visitor_points_q1', 'visitor_points_q2', \n",
    "                    'visitor_points_q3', 'visitor_points_q4',\n",
    "                    'visitor_passing_yards',\n",
    "                    'visitor_passing_touchdowns',\n",
    "                    'visitor_rushing_yards',\n",
    "                    'visitor_rushing_touchdowns',\n",
    "                    'phase',\n",
    "                    ]\n",
    "\n",
    "    curr_season = pd.DataFrame([], columns=season_cols)\n",
    "\n",
    "    ### Get All Seson Games\n",
    "    for season_type in ['REG', 'POST']:\n",
    "\n",
    "        for week in np.arange(1, MAX_WEEKS):\n",
    "\n",
    "            curr_week_games = nfl.game.week_games(season=season, season_type=season_type, week=week)\n",
    "            \n",
    "            if len(curr_week_games) == 0:\n",
    "                continue\n",
    "\n",
    "            ### Iterate through each JSON in list of games\n",
    "            last_idx = len(curr_season)\n",
    "            for idx, game in enumerate(curr_week_games):\n",
    "\n",
    "                ## Convert JSON to Dictionary\n",
    "                curr_game = game.raw\n",
    "\n",
    "                ## Get Game Det ID\n",
    "                home_points_total = None\n",
    "                visitor_points_total = None\n",
    "                home_points_overtime_total = None\n",
    "                home_points_q1 = None\n",
    "                home_points_q2 = None\n",
    "                home_points_q3 = None\n",
    "                home_points_q4 = None\n",
    "                visitor_points_overtime_total = None\n",
    "                visitor_points_q1 = None\n",
    "                visitor_points_q2 = None\n",
    "                visitor_points_q3 = None\n",
    "                visitor_points_q4 = None\n",
    "\n",
    "                home_passing_yards = None\n",
    "                home_passing_touchdowns = None\n",
    "                home_rushing_yards = None\n",
    "                home_rushing_touchdowns = None\n",
    "\n",
    "                visitor_passing_yards = None\n",
    "                visitor_passing_touchdowns = None\n",
    "                visitor_rushing_yards = None\n",
    "                visitor_rushing_touchdowns = None\n",
    "                phase = None\n",
    "\n",
    "                curr_game_det_idL = [x['id'] for x in curr_game['externalIds'] if x['source'] == 'gamedetail']\n",
    "\n",
    "                ## Check if Game is Finished or Not\n",
    "                if len(curr_game_det_idL) == 0:\n",
    "                    curr_game_det_id = None\n",
    "                else:\n",
    "                    ## Get Game Details\n",
    "                    curr_game_det_id = curr_game_det_idL[0]\n",
    "                    curr_game_dets = nfl.game_detail.by_id(curr_game_det_id)\n",
    "                    home_points_total = curr_game_dets.home_points_total\n",
    "                    visitor_points_total = curr_game_dets.visitor_points_total\n",
    "                    home_points_overtime_total = curr_game_dets.home_points_overtime_total\n",
    "                    home_points_q1 = curr_game_dets.home_points_q1\n",
    "                    home_points_q2 = curr_game_dets.home_points_q2\n",
    "                    home_points_q3 = curr_game_dets.home_points_q3\n",
    "                    home_points_q4 = curr_game_dets.home_points_q4\n",
    "                    home_passing_yards = curr_game_dets.live_home_team_game_stats.team_game_stats.passing_yards\n",
    "                    home_passing_touchdowns = curr_game_dets.live_home_team_game_stats.team_game_stats.passing_touchdowns\n",
    "                    home_rushing_yards = curr_game_dets.live_home_team_game_stats.team_game_stats.rushing_yards\n",
    "                    home_rushing_touchdowns = curr_game_dets.live_home_team_game_stats.team_game_stats.rushing_touchdowns\n",
    "                    visitor_points_overtime_total = curr_game_dets.visitor_points_overtime_total\n",
    "                    visitor_points_q1 = curr_game_dets.visitor_points_q1\n",
    "                    visitor_points_q2 = curr_game_dets.visitor_points_q2\n",
    "                    visitor_points_q3 = curr_game_dets.visitor_points_q3\n",
    "                    visitor_points_q4 = curr_game_dets.visitor_points_q4\n",
    "                    visitor_passing_yards = curr_game_dets.live_visitor_team_game_stats.team_game_stats.passing_yards\n",
    "                    visitor_passing_touchdowns = curr_game_dets.live_visitor_team_game_stats.team_game_stats.passing_touchdowns\n",
    "                    visitor_rushing_yards = curr_game_dets.live_visitor_team_game_stats.team_game_stats.rushing_yards\n",
    "                    visitor_rushing_touchdowns = curr_game_dets.live_visitor_team_game_stats.team_game_stats.rushing_touchdowns\n",
    "                    phase = curr_game_dets.phase\n",
    "                    \n",
    "\n",
    "                ## Append to DataFrame                \n",
    "                curr_season.loc[idx + last_idx] = [\n",
    "                                        \n",
    "                                        curr_game['season'], curr_game['week'], curr_game['weekType'], \n",
    "                                        curr_game['id'], curr_game_det_id, \n",
    "                                        curr_game['time'], curr_game['date'],\n",
    "                                        curr_game['homeTeam']['fullName'], \n",
    "                                        curr_game['awayTeam']['fullName'], \n",
    "                                        home_points_total, visitor_points_total,\n",
    "                                        home_points_overtime_total, visitor_points_overtime_total,\n",
    "                                        home_points_q1, home_points_q2, \n",
    "                                        home_points_q3, home_points_q4,\n",
    "                                        home_passing_yards,\n",
    "                                        home_passing_touchdowns,\n",
    "                                        home_rushing_yards,\n",
    "                                        home_rushing_touchdowns,\n",
    "                                        visitor_points_q1, visitor_points_q2,\n",
    "                                        visitor_points_q3, visitor_points_q4,\n",
    "                                        visitor_passing_yards,\n",
    "                                        visitor_passing_touchdowns,\n",
    "                                        visitor_rushing_yards,\n",
    "                                        visitor_rushing_touchdowns,\n",
    "                                        phase\n",
    "                                        ]\n",
    "\n",
    "    curr_season['game_time'] = pd.to_datetime(curr_season['game_time'])\n",
    "    curr_season['game_date'] = pd.to_datetime(curr_season['game_date'])\n",
    "    \n",
    "    return curr_season"
   ]
  },
  {
   "cell_type": "code",
   "execution_count": 12,
   "metadata": {},
   "outputs": [
    {
     "data": {
      "text/html": [
       "<pre>✔️ 4.64 s (2022-07-08T12:43:22/2022-07-08T12:43:27)</pre>"
      ],
      "text/plain": [
       "<IPython.core.display.HTML object>"
      ]
     },
     "metadata": {},
     "output_type": "display_data"
    },
    {
     "name": "stdout",
     "output_type": "stream",
     "text": [
      "2003\n",
      "Shape Teams:  (32, 9)\n",
      "2004\n",
      "Shape Teams:  (32, 9)\n",
      "2005\n",
      "Shape Teams:  (32, 9)\n",
      "2006\n",
      "Shape Teams:  (32, 9)\n",
      "2007\n",
      "Shape Teams:  (32, 9)\n",
      "2008\n",
      "Shape Teams:  (32, 9)\n",
      "2009\n",
      "Shape Teams:  (32, 9)\n",
      "2010\n",
      "Shape Teams:  (32, 9)\n",
      "2011\n",
      "Shape Teams:  (32, 9)\n",
      "2012\n",
      "Shape Teams:  (32, 9)\n",
      "2013\n",
      "Shape Teams:  (32, 9)\n",
      "2014\n",
      "Shape Teams:  (32, 9)\n",
      "2015\n",
      "Shape Teams:  (32, 9)\n",
      "2016\n",
      "Shape Teams:  (32, 9)\n",
      "2017\n",
      "Shape Teams:  (32, 9)\n",
      "2018\n",
      "Shape Teams:  (32, 9)\n",
      "2019\n",
      "Shape Teams:  (32, 9)\n",
      "2020\n",
      "Shape Teams:  (32, 9)\n",
      "2021\n",
      "Shape Teams:  (32, 9)\n",
      "2022\n",
      "Shape Teams:  (32, 9)\n"
     ]
    }
   ],
   "source": [
    "season_df = pd.DataFrame([])\n",
    "team_df = pd.DataFrame([])\n",
    "for season in np.arange(MIN_SEASON, datetime.today().year+1):\n",
    "    print(season)\n",
    "\n",
    "    ### GET SEASON TEAMS ###\n",
    "    ## Get Season Teams\n",
    "    teams_season_df = get_teams_info_per_season(season, nfl=nfl)\n",
    "    teams_season_df.to_csv('../data/teams/nfl_team_info_season_{season}.csv'.format(season=season))\n",
    "    print('Shape Teams: ', teams_season_df.shape)\n",
    "    ## Append to DataFrame\n",
    "    team_df = pd.concat([team_df, teams_season_df]).reset_index(drop=True)\n",
    "\n",
    "    ### GET SEASON GAMES ###\n",
    "    ## Get Season Scores\n",
    "    # curr_season_df = get_season_info(season, MAX_WEEKS=MAX_WEEKS, nfl=nfl)\n",
    "    # curr_season_df.to_csv('../data/scores/nfl_scores_season_{season}.csv'.format(season=season))\n",
    "    # print('Shape Season: ', curr_season_df.shape)\n",
    "    # ## Append to DataFrame\n",
    "    # season_df = pd.concat([season_df, curr_season_df]).reset_index(drop=True)\n",
    "\n",
    "# season_df.to_csv('../data/nfl_scores_all.csv')\n",
    "team_df.to_csv('../data/nfl_team_info_all.csv')"
   ]
  },
  {
   "cell_type": "code",
   "execution_count": 13,
   "metadata": {},
   "outputs": [
    {
     "data": {
      "text/html": [
       "<pre>✔️ 375 ms (2022-07-08T12:43:28/2022-07-08T12:43:29)</pre>"
      ],
      "text/plain": [
       "<IPython.core.display.HTML object>"
      ]
     },
     "metadata": {},
     "output_type": "display_data"
    }
   ],
   "source": [
    "nfl.game.week_games(season=2022, season_type='REG', week=1)[0].raw\n",
    "res = nfl.game_detail.by_id('10160000-0264-94ab-68f5-9ff371a986a3')"
   ]
  },
  {
   "cell_type": "code",
   "execution_count": 14,
   "metadata": {},
   "outputs": [
    {
     "data": {
      "text/html": [
       "<pre>✔️ 15 ms (2022-07-08T12:43:29/2022-07-08T12:43:29)</pre>"
      ],
      "text/plain": [
       "<IPython.core.display.HTML object>"
      ]
     },
     "metadata": {},
     "output_type": "display_data"
    },
    {
     "data": {
      "text/plain": [
       "GameDetail(id='10160000-0264-94ab-68f5-9ff371a986a3', game_time=datetime.datetime(2003, 9, 4, 9, 0, tzinfo=datetime.timezone.utc), phase='FINAL', period=None, game_clock='00:05', home_points_total=16, visitor_points_total=13, home_team=Team(created_date=datetime.datetime(2017, 5, 11, 22, 29, 58, 997, tzinfo=datetime.timezone.utc), id='10045110-2003-e52d-80c1-9cd5cb1825f0', last_modified_date=datetime.datetime(2019, 9, 3, 21, 35, 39, 708, tzinfo=datetime.timezone.utc), abbreviation='WAS', city_state_region='Washington', coaches=None, conference='NATIONAL_FOOTBALL_CONFERENCE', division='NFC_EASTERN', franchise=Franchise(created_date=datetime.datetime(2017, 5, 11, 22, 16, 39, 414, tzinfo=datetime.timezone.utc), id='10405110-ec3c-669e-2614-db3dc1736e95', last_modified_date=datetime.datetime(2022, 3, 15, 17, 24, 10, 344, tzinfo=datetime.timezone.utc), current_team_bio='', first_season=1932, name='Football Team', nfl_shop_url='https://store.washingtonfootball.com/', official_website_url='http://www.commanders.com/', owner='Dan Snyder', primary_color='#5A1414', secondary_color='#FFB612', slug='washington-commanders', state='ACTIVE', year_established=1932), full_name='Washington Redskins', injuries=None, league='NFL', logo=Image(), market_zip_code=None, nick_name='Redskins', players=[Player(created_date=datetime.datetime(2018, 11, 7, 19, 45, 25, 98, tzinfo=datetime.timezone.utc), id='3213414c-4263-7766-2003-5fd0cd5f070d', last_modified_date=datetime.datetime(2018, 11, 7, 19, 45, 25, 98, tzinfo=datetime.timezone.utc), acquired_day=9, acquired_from_id=None, acquired_month=3, acquired_year=2001, acquisition_type='FA', esb_id='ALB637766', gsis_id='00-0000121', height='6-5', jersey_number='71', nfl_experience=10, position='G', position_group='OL', season_value=2003, status=None, weight=265), Player(created_date=datetime.datetime(2018, 11, 7, 19, 53, 59, 967, tzinfo=datetime.timezone.utc), id='32134152-4d08-4964-2003-eada5b9ac637', last_modified_date=datetime.datetime(2018, 11, 7, 19, 53, 59, 967, tzinfo=datetime.timezone.utc), acquired_day=4, acquired_from_id=None, acquired_month=3, acquired_year=2002, acquisition_type='FA', esb_id='ARM084964', gsis_id='00-0000426', height='6-1', jersey_number='98', nfl_experience=11, position='OLB', position_group='LB', season_value=2003, status=None, weight=237), Player(created_date=datetime.datetime(2018, 11, 7, 0, 15, 53, 736, tzinfo=datetime.timezone.utc), id='32134152-5219-8645-2003-2b0b783a3c7e', last_modified_date=datetime.datetime(2018, 11, 7, 0, 15, 53, 736, tzinfo=datetime.timezone.utc), acquired_day=3, acquired_from_id=None, acquired_month=9, acquired_year=2000, acquisition_type='DRA', esb_id='ARR198645', gsis_id='00-0019692', height='6-3', jersey_number='56', nfl_experience=4, position='OLB', position_group='LB', season_value=2003, status=None, weight=247), Player(created_date=datetime.datetime(2018, 11, 7, 0, 20, 31, 797, tzinfo=datetime.timezone.utc), id='32134241-4958-2194-2003-853cbbd9e558', last_modified_date=datetime.datetime(2018, 11, 7, 0, 20, 31, 797, tzinfo=datetime.timezone.utc), acquired_day=3, acquired_from_id=None, acquired_month=9, acquired_year=2000, acquisition_type='DRA', esb_id='BAI582194', gsis_id='00-0000585', height='6-0', jersey_number='24', nfl_experience=5, position='CB', position_group='DB', season_value=2003, status=None, weight=192), Player(created_date=datetime.datetime(2018, 11, 7, 20, 5, 3, 974, tzinfo=datetime.timezone.utc), id='32134241-5215-5715-2003-4ebbee699cba', last_modified_date=datetime.datetime(2018, 11, 7, 20, 5, 3, 974, tzinfo=datetime.timezone.utc), acquired_day=12, acquired_from_id=None, acquired_month=4, acquired_year=2001, acquisition_type='FA', esb_id='BAR155715', gsis_id='00-0000754', height='6-1', jersey_number='04', nfl_experience=14, position='P', position_group='SPEC', season_value=2003, status=None, weight=202), Player(created_date=datetime.datetime(2018, 11, 7, 0, 6, 46, 605, tzinfo=datetime.timezone.utc), id='32134241-5547-6116-2003-3e8c404f4d0a', last_modified_date=datetime.datetime(2018, 11, 7, 0, 6, 46, 605, tzinfo=datetime.timezone.utc), acquired_day=0, acquired_from_id=None, acquired_month=0, acquired_year=0, acquisition_type='DRA', esb_id='BAU476116', gsis_id='00-0021204', height='5-8', jersey_number='25', nfl_experience=2, position='CB', position_group='DB', season_value=2003, status=None, weight=184), Player(created_date=datetime.datetime(2018, 11, 7, 0, 6, 46, 673, tzinfo=datetime.timezone.utc), id='32134245-5478-0192-2003-244be2101335', last_modified_date=datetime.datetime(2018, 11, 7, 0, 6, 46, 673, tzinfo=datetime.timezone.utc), acquired_day=0, acquired_from_id=None, acquired_month=0, acquired_year=0, acquisition_type='DRA', esb_id='BET780192', gsis_id='00-0021184', height='5-10', jersey_number='46', nfl_experience=2, position='RB', position_group='RB', season_value=2003, status=None, weight=222), Player(created_date=datetime.datetime(2018, 11, 7, 0, 13, 41, 824, tzinfo=datetime.timezone.utc), id='3213424f-5712-7774-2003-ea3546aee1d8', last_modified_date=datetime.datetime(2018, 11, 7, 0, 13, 41, 824, tzinfo=datetime.timezone.utc), acquired_day=11, acquired_from_id=None, acquired_month=3, acquired_year=2003, acquisition_type='FA', esb_id='BOW127774', gsis_id='00-0019574', height='6-1', jersey_number='41', nfl_experience=4, position='FS', position_group='DB', season_value=2003, status=None, weight=207), Player(created_date=datetime.datetime(2018, 11, 7, 0, 6, 46, 768, tzinfo=datetime.timezone.utc), id='32134252-4149-1847-2003-1ab11c7370ac', last_modified_date=datetime.datetime(2018, 11, 7, 0, 6, 46, 769, tzinfo=datetime.timezone.utc), acquired_day=17, acquired_from_id=None, acquired_month=12, acquired_year=2002, acquisition_type='FA', esb_id='BRA491847', gsis_id='00-0020612', height='5-11', jersey_number='20', nfl_experience=1, position='DB', position_group='DB', season_value=2003, status=None, weight=189), Player(created_date=datetime.datetime(2018, 11, 7, 0, 13, 42, 107, tzinfo=datetime.timezone.utc), id='32134341-4e34-8169-2003-8f51609889df', last_modified_date=datetime.datetime(2018, 11, 7, 0, 13, 42, 107, tzinfo=datetime.timezone.utc), acquired_day=28, acquired_from_id='2510', acquired_month=2, acquired_year=2003, acquisition_type='TRA', esb_id='CAN348169', gsis_id='00-0019649', height='5-11', jersey_number='30', nfl_experience=4, position='RB', position_group='RB', season_value=2003, status=None, weight=205), Player(created_date=datetime.datetime(2018, 11, 7, 0, 1, 57, 711, tzinfo=datetime.timezone.utc), id='32134341-5219-4434-2003-9e659587c893', last_modified_date=datetime.datetime(2018, 11, 7, 0, 1, 57, 711, tzinfo=datetime.timezone.utc), acquired_day=28, acquired_from_id=None, acquired_month=10, acquired_year=2003, acquisition_type='FA', esb_id='CAR194434', gsis_id='00-0021485', height='5-11', jersey_number='32', nfl_experience=0, position='DB', position_group='DB', season_value=2003, status=None, weight=184), Player(created_date=datetime.datetime(2018, 11, 7, 0, 6, 46, 872, tzinfo=datetime.timezone.utc), id='32134341-5280-8221-2003-88aa5434fce0', last_modified_date=datetime.datetime(2018, 11, 7, 0, 6, 46, 872, tzinfo=datetime.timezone.utc), acquired_day=0, acquired_from_id=None, acquired_month=0, acquired_year=0, acquisition_type='DRA', esb_id='CAR808221', gsis_id='00-0021357', height='5-7', jersey_number='40', nfl_experience=2, position='FB', position_group='RB', season_value=2003, status=None, weight=223), Player(created_date=datetime.datetime(2018, 11, 7, 19, 44, 3, 364, tzinfo=datetime.timezone.utc), id='32134348-4105-3274-2003-40abdb7c356b', last_modified_date=datetime.datetime(2018, 11, 7, 19, 44, 3, 364, tzinfo=datetime.timezone.utc), acquired_day=6, acquired_from_id=None, acquired_month=10, acquired_year=2003, acquisition_type='FA', esb_id='CHA053274', gsis_id='00-0002861', height='6-1', jersey_number='89', nfl_experience=8, position='TE', position_group='TE', season_value=2003, status=None, weight=264), Player(created_date=datetime.datetime(2018, 11, 7, 19, 30, 27, 300, tzinfo=datetime.timezone.utc), id='32134348-4169-0038-2003-9b98387cb62a', last_modified_date=datetime.datetime(2018, 11, 7, 19, 30, 27, 307, tzinfo=datetime.timezone.utc), acquired_day=20, acquired_from_id='3300', acquired_month=8, acquired_year=2003, acquisition_type='TRA', esb_id='CHA690038', gsis_id='00-0002908', height='6-2', jersey_number='72', nfl_experience=6, position='DT', position_group='DL', season_value=2003, status=None, weight=310), Player(created_date=datetime.datetime(2018, 11, 7, 0, 1, 58, 61, tzinfo=datetime.timezone.utc), id='3213434c-4539-0635-2003-400792bd96ae', last_modified_date=datetime.datetime(2018, 11, 7, 0, 1, 58, 61, tzinfo=datetime.timezone.utc), acquired_day=28, acquired_from_id=None, acquired_month=4, acquired_year=2003, acquisition_type='FA', esb_id='CLE390635', gsis_id='00-0021577', height='6-3', jersey_number='59', nfl_experience=0, position='LB', position_group='LB', season_value=2003, status=None, weight=234), Player(created_date=datetime.datetime(2018, 11, 7, 0, 14, 47, 428, tzinfo=datetime.timezone.utc), id='3213434f-4c36-6580-2003-c3366c48beef', last_modified_date=datetime.datetime(2018, 11, 7, 0, 14, 47, 428, tzinfo=datetime.timezone.utc), acquired_day=19, acquired_from_id=None, acquired_month=3, acquired_year=2003, acquisition_type='FA', esb_id='COL366580', gsis_id='00-0018958', height='5-11', jersey_number='80', nfl_experience=4, position='WR', position_group='WR', season_value=2003, status=None, weight=193), Player(created_date=datetime.datetime(2018, 11, 7, 19, 30, 27, 480, tzinfo=datetime.timezone.utc), id='32134441-4c68-0900-2003-20328ea89117', last_modified_date=datetime.datetime(2018, 11, 7, 19, 30, 27, 480, tzinfo=datetime.timezone.utc), acquired_day=26, acquired_from_id='1400', acquired_month=8, acquired_year=2003, acquisition_type='TRA', esb_id='DAL680900', gsis_id='00-0003838', height='6-1', jersey_number='95', nfl_experience=6, position='DT', position_group='DL', season_value=2003, status=None, weight=309), Player(created_date=datetime.datetime(2018, 11, 7, 0, 1, 58, 747, tzinfo=datetime.timezone.utc), id='3213444f-4340-4791-2003-c1a8df8f795a', last_modified_date=datetime.datetime(2018, 11, 7, 0, 1, 58, 747, tzinfo=datetime.timezone.utc), acquired_day=26, acquired_from_id=None, acquired_month=4, acquired_year=2003, acquisition_type='DRA', esb_id='DOC404791', gsis_id='00-0022132', height='6-6', jersey_number='66', nfl_experience=0, position='G', position_group='OL', season_value=2003, status=None, weight=345), Player(created_date=datetime.datetime(2018, 11, 7, 0, 1, 58, 858, tzinfo=datetime.timezone.utc), id='3213454c-4971-9837-2003-2f692d72bf54', last_modified_date=datetime.datetime(2018, 11, 7, 0, 1, 58, 858, tzinfo=datetime.timezone.utc), acquired_day=7, acquired_from_id=None, acquired_month=11, acquired_year=2003, acquisition_type='FA', esb_id='ELI719837', gsis_id='00-0019044', height='6-4', jersey_number='79', nfl_experience=0, position='T', position_group='OL', season_value=2003, status=None, weight=287), Player(created_date=datetime.datetime(2018, 11, 7, 19, 42, 29, 467, tzinfo=datetime.timezone.utc), id='32134649-4f26-4111-2003-8879e1fd61ec', last_modified_date=datetime.datetime(2018, 11, 7, 19, 42, 29, 467, tzinfo=datetime.timezone.utc), acquired_day=3, acquired_from_id=None, acquired_month=3, acquired_year=2003, acquisition_type='FA', esb_id='FIO264111', gsis_id='00-0005234', height='6-4', jersey_number='74', nfl_experience=7, position='G', position_group='OL', season_value=2003, status=None, weight=293), Player(created_date=datetime.datetime(2018, 11, 7, 0, 15, 55, 416, tzinfo=datetime.timezone.utc), id='3213464c-4536-1413-2003-f6bec26fbd8e', last_modified_date=datetime.datetime(2018, 11, 7, 0, 15, 55, 416, tzinfo=datetime.timezone.utc), acquired_day=3, acquired_from_id=None, acquired_month=9, acquired_year=2000, acquisition_type='FA', esb_id='FLE361413', gsis_id='00-0019290', height='6-4', jersey_number='89', nfl_experience=4, position='TE', position_group='TE', season_value=2003, status=None, weight=250), Player(created_date=datetime.datetime(2018, 11, 7, 0, 14, 31, 144, tzinfo=datetime.timezone.utc), id='32134652-4164-3769-2003-f4e4aa79dbb3', last_modified_date=datetime.datetime(2018, 11, 7, 0, 14, 31, 144, tzinfo=datetime.timezone.utc), acquired_day=17, acquired_from_id=None, acquired_month=12, acquired_year=2002, acquisition_type='FA', esb_id='FRA643769', gsis_id='00-0019615', height='6-0', jersey_number='29', nfl_experience=2, position='DB', position_group='DB', season_value=2003, status=None, weight=202), Player(created_date=datetime.datetime(2018, 11, 7, 0, 17, 14, 458, tzinfo=datetime.timezone.utc), id='32134652-4924-7193-2003-3e34ffacae9e', last_modified_date=datetime.datetime(2018, 11, 7, 0, 17, 14, 458, tzinfo=datetime.timezone.utc), acquired_day=5, acquired_from_id=None, acquired_month=3, acquired_year=2003, acquisition_type='FA', esb_id='FRI247193', gsis_id='00-0005596', height='6-3', jersey_number='64', nfl_experience=5, position='C', position_group='OL', season_value=2003, status=None, weight=283), Player(created_date=datetime.datetime(2018, 11, 7, 0, 11, 21, 27, tzinfo=datetime.timezone.utc), id='32134741-5221-0088-2003-42cc4fc4973c', last_modified_date=datetime.datetime(2018, 11, 7, 0, 11, 21, 27, tzinfo=datetime.timezone.utc), acquired_day=0, acquired_from_id=None, acquired_month=0, acquired_year=0, acquisition_type='DRA', esb_id='GAR210088', gsis_id='00-0020525', height='6-2', jersey_number='87', nfl_experience=3, position='WR', position_group='WR', season_value=2003, status=None, weight=213), Player(created_date=datetime.datetime(2018, 11, 7, 0, 14, 0, 587, tzinfo=datetime.timezone.utc), id='32134841-4c12-7125-2003-23c2bc3fa40c', last_modified_date=datetime.datetime(2018, 11, 7, 0, 14, 0, 587, tzinfo=datetime.timezone.utc), acquired_day=25, acquired_from_id=None, acquired_month=4, acquired_year=2003, acquisition_type='FA', esb_id='HAL127125', gsis_id='00-0006636', height='6-4', jersey_number='92', nfl_experience=4, position='DT', position_group='DL', season_value=2003, status=None, weight=325), Player(created_date=datetime.datetime(2018, 11, 7, 19, 37, 25, 726, tzinfo=datetime.timezone.utc), id='32134841-4c36-4425-2003-eb396977b5bf', last_modified_date=datetime.datetime(2018, 11, 7, 19, 37, 25, 726, tzinfo=datetime.timezone.utc), acquired_day=3, acquired_from_id=None, acquired_month=3, acquired_year=2003, acquisition_type='FA', esb_id='HAL364425', gsis_id='00-0006662', height='6-3', jersey_number='10', nfl_experience=8, position='K', position_group='SPEC', season_value=2003, status=None, weight=240), Player(created_date=datetime.datetime(2018, 11, 7, 0, 1, 59, 579, tzinfo=datetime.timezone.utc), id='32134841-4d14-2624-2003-c7b1e39bafdc', last_modified_date=datetime.datetime(2018, 11, 7, 0, 1, 59, 579, tzinfo=datetime.timezone.utc), acquired_day=28, acquired_from_id=None, acquired_month=11, acquired_year=2003, acquisition_type='FA', esb_id='HAM142624', gsis_id='00-0022112', height='6-6', jersey_number='12', nfl_experience=0, position='QB', position_group='QB', season_value=2003, status=None, weight=240), Player(created_date=datetime.datetime(2018, 11, 7, 0, 5, 45, 876, tzinfo=datetime.timezone.utc), id='32134841-5354-5049-2003-2ba151f40fda', last_modified_date=datetime.datetime(2018, 11, 7, 0, 5, 45, 876, tzinfo=datetime.timezone.utc), acquired_day=23, acquired_from_id=None, acquired_month=10, acquired_year=2003, acquisition_type='FA', esb_id='HAS545049', gsis_id='00-0019816', height='6-1', jersey_number='08', nfl_experience=2, position='QB', position_group='QB', season_value=2003, status=None, weight=211), Player(created_date=datetime.datetime(2018, 11, 7, 19, 41, 39, 54, tzinfo=datetime.timezone.utc), id='3213484f-4c70-0374-2003-94b09773a173', last_modified_date=datetime.datetime(2018, 11, 7, 19, 41, 39, 54, tzinfo=datetime.timezone.utc), acquired_day=25, acquired_from_id=None, acquired_month=7, acquired_year=2003, acquisition_type='FA', esb_id='HOL700374', gsis_id='00-0007667', height='6-2', jersey_number='90', nfl_experience=7, position='DT', position_group='DL', season_value=2003, status=None, weight=286), Player(created_date=datetime.datetime(2018, 11, 7, 0, 1, 59, 928, tzinfo=datetime.timezone.utc), id='32134a41-4376-6251-2003-fd83e7452695', last_modified_date=datetime.datetime(2018, 11, 7, 0, 1, 59, 928, tzinfo=datetime.timezone.utc), acquired_day=26, acquired_from_id=None, acquired_month=4, acquired_year=2003, acquisition_type='DRA', esb_id='JAC766251', gsis_id='00-0022124', height='6-0', jersey_number='86', nfl_experience=0, position='WR', position_group='WR', season_value=2003, status=None, weight=198), Player(created_date=datetime.datetime(2018, 11, 7, 0, 20, 36, 469, tzinfo=datetime.timezone.utc), id='32134a41-4e69-2150-2003-1151eb1cfa9e', last_modified_date=datetime.datetime(2018, 11, 7, 0, 20, 36, 469, tzinfo=datetime.timezone.utc), acquired_day=0, acquired_from_id=None, acquired_month=0, acquired_year=0, acquisition_type='DRA', esb_id='JAN692150', gsis_id='00-0008271', height='6-6', jersey_number='76', nfl_experience=5, position='T', position_group='OL', season_value=2003, status=None, weight=306), Player(created_date=datetime.datetime(2018, 11, 7, 0, 2, 0, 130, tzinfo=datetime.timezone.utc), id='32134a49-4d60-4060-2003-93f88a031898', last_modified_date=datetime.datetime(2018, 11, 7, 0, 2, 0, 130, tzinfo=datetime.timezone.utc), acquired_day=28, acquired_from_id=None, acquired_month=4, acquired_year=2003, acquisition_type='FA', esb_id='JIM604060', gsis_id='00-0021583', height='6-1', jersey_number='37', nfl_experience=0, position='DB', position_group='DB', season_value=2003, status=None, weight=190), Player(created_date=datetime.datetime(2018, 11, 7, 0, 15, 57, 866, tzinfo=datetime.timezone.utc), id='32134a4f-4808-4997-2003-ee3dd2b7934a', last_modified_date=datetime.datetime(2018, 11, 7, 0, 15, 57, 866, tzinfo=datetime.timezone.utc), acquired_day=18, acquired_from_id=None, acquired_month=12, acquired_year=2000, acquisition_type='FA', esb_id='JOH084997', gsis_id='00-0019172', height='6-1', jersey_number='47', nfl_experience=3, position='FB', position_group='RB', season_value=2003, status=None, weight=245), Player(created_date=datetime.datetime(2018, 11, 7, 19, 30, 29, 664, tzinfo=datetime.timezone.utc), id='32134a4f-4857-0510-2003-77660ca3e0e4', last_modified_date=datetime.datetime(2018, 11, 7, 19, 30, 29, 664, tzinfo=datetime.timezone.utc), acquired_day=11, acquired_from_id=None, acquired_month=3, acquired_year=2003, acquisition_type='FA', esb_id='JOH570510', gsis_id='00-0008598', height='5-10', jersey_number='84', nfl_experience=6, position='WR', position_group='WR', season_value=2003, status=None, weight=196), Player(created_date=datetime.datetime(2018, 11, 7, 0, 9, 51, 558, tzinfo=datetime.timezone.utc), id='32134a4f-4e52-0308-2003-fa96d7494d66', last_modified_date=datetime.datetime(2018, 11, 7, 0, 9, 51, 558, tzinfo=datetime.timezone.utc), acquired_day=25, acquired_from_id=None, acquired_month=11, acquired_year=2003, acquisition_type='FA', esb_id='JON520308', gsis_id='00-0020386', height='6-3', jersey_number='73', nfl_experience=3, position='T', position_group='OL', season_value=2003, status=None, weight=310), Player(created_date=datetime.datetime(2018, 11, 7, 0, 6, 51, 842, tzinfo=datetime.timezone.utc), id='32134c4f-5426-2716-2003-6be5fd11246b', last_modified_date=datetime.datetime(2018, 11, 7, 0, 6, 51, 842, tzinfo=datetime.timezone.utc), acquired_day=0, acquired_from_id=None, acquired_month=0, acquired_year=0, acquisition_type='DRA', esb_id='LOT262716', gsis_id='00-0021272', height='5-10', jersey_number='34', nfl_experience=2, position='DB', position_group='DB', season_value=2003, status=None, weight=196), Player(created_date=datetime.datetime(2018, 11, 7, 0, 11, 24, 411, tzinfo=datetime.timezone.utc), id='32134d41-5243-6588-2003-7308144a4658', last_modified_date=datetime.datetime(2018, 11, 7, 0, 11, 24, 411, tzinfo=datetime.timezone.utc), acquired_day=26, acquired_from_id=None, acquired_month=12, acquired_year=2001, acquisition_type='FA', esb_id='MAR436588', gsis_id='00-0010421', height='6-2', jersey_number='52', nfl_experience=2, position='LB', position_group='LB', season_value=2003, status=None, weight=227), Player(created_date=datetime.datetime(2018, 11, 7, 0, 11, 24, 683, tzinfo=datetime.timezone.utc), id='32134d43-4316-6619-2003-ca9c74f38783', last_modified_date=datetime.datetime(2018, 11, 7, 0, 11, 24, 683, tzinfo=datetime.timezone.utc), acquired_day=0, acquired_from_id=None, acquired_month=0, acquired_year=0, acquisition_type='DRA', esb_id='MCC166619', gsis_id='00-0020464', height='6-3', jersey_number='85', nfl_experience=3, position='WR', position_group='WR', season_value=2003, status=None, weight=214), Player(created_date=datetime.datetime(2018, 11, 7, 0, 2, 1, 547, tzinfo=datetime.timezone.utc), id='32134d43-4378-7936-2003-2da0f099aa5d', last_modified_date=datetime.datetime(2018, 11, 7, 0, 2, 1, 547, tzinfo=datetime.timezone.utc), acquired_day=28, acquired_from_id=None, acquired_month=4, acquired_year=2003, acquisition_type='FA', esb_id='MCC787936', gsis_id='00-0021581', height='6-0', jersey_number='39', nfl_experience=0, position='RB', position_group='RB', season_value=2003, status=None, weight=197), Player(created_date=datetime.datetime(2018, 11, 7, 19, 50, 48, 168, tzinfo=datetime.timezone.utc), id='32134d49-5438-9866-2003-217b734cfad8', last_modified_date=datetime.datetime(2018, 11, 7, 19, 50, 48, 168, tzinfo=datetime.timezone.utc), acquired_day=3, acquired_from_id=None, acquired_month=9, acquired_year=2000, acquisition_type='FA', esb_id='MIT389866', gsis_id='00-0011415', height='6-1', jersey_number='55', nfl_experience=10, position='MLB', position_group='LB', season_value=2003, status=None, weight=258), Player(created_date=datetime.datetime(2018, 11, 7, 19, 31, 52, 937, tzinfo=datetime.timezone.utc), id='32134d4f-4f47-0051-2003-9a11c0c68941', last_modified_date=datetime.datetime(2018, 11, 7, 19, 31, 52, 937, tzinfo=datetime.timezone.utc), acquired_day=14, acquired_from_id=None, acquired_month=3, acquired_year=2002, acquisition_type='FA', esb_id='MOO470051', gsis_id='00-0011585', height='6-2', jersey_number='50', nfl_experience=7, position='C', position_group='OL', season_value=2003, status=None, weight=309), Player(created_date=datetime.datetime(2018, 11, 7, 0, 14, 35, 76, tzinfo=datetime.timezone.utc), id='32134d4f-5276-8046-2003-d2b3260cefd4', last_modified_date=datetime.datetime(2018, 11, 7, 0, 14, 35, 76, tzinfo=datetime.timezone.utc), acquired_day=8, acquired_from_id=None, acquired_month=4, acquired_year=2003, acquisition_type='FA', esb_id='MOR768046', gsis_id='00-0019590', height='5-8', jersey_number='20', nfl_experience=4, position='RB', position_group='RB', season_value=2003, status=None, weight=203), Player(created_date=datetime.datetime(2018, 11, 7, 0, 17, 8, 832, tzinfo=datetime.timezone.utc), id='32134e4f-4223-8674-2003-844de8e3944e', last_modified_date=datetime.datetime(2018, 11, 7, 0, 17, 8, 832, tzinfo=datetime.timezone.utc), acquired_day=3, acquired_from_id=None, acquired_month=3, acquired_year=2003, acquisition_type='FA', esb_id='NOB238674', gsis_id='00-0012135', height='6-2', jersey_number='75', nfl_experience=5, position='DT', position_group='DL', season_value=2003, status=None, weight=304), Player(created_date=datetime.datetime(2018, 11, 7, 0, 11, 25, 174, tzinfo=datetime.timezone.utc), id='32134f48-4135-9918-2003-644efad39d63', last_modified_date=datetime.datetime(2018, 11, 7, 0, 11, 25, 174, tzinfo=datetime.timezone.utc), acquired_day=27, acquired_from_id=None, acquired_month=4, acquired_year=2001, acquisition_type='FA', esb_id='OHA359918', gsis_id='00-0020005', height='6-2', jersey_number='26', nfl_experience=3, position='SS', position_group='DB', season_value=2003, status=None, weight=222), Player(created_date=datetime.datetime(2018, 11, 7, 0, 11, 25, 255, tzinfo=datetime.timezone.utc), id='32135049-4519-0923-2003-9601092229e7', last_modified_date=datetime.datetime(2018, 11, 7, 0, 11, 25, 255, tzinfo=datetime.timezone.utc), acquired_day=27, acquired_from_id=None, acquired_month=4, acquired_year=2001, acquisition_type='FA', esb_id='PIE190923', gsis_id='00-0020006', height='6-1', jersey_number='58', nfl_experience=3, position='LB', position_group='LB', season_value=2003, status=None, weight=240), Player(created_date=datetime.datetime(2018, 11, 7, 0, 6, 53, 12, tzinfo=datetime.timezone.utc), id='32135241-4d59-6976-2003-ced1724d65f4', last_modified_date=datetime.datetime(2018, 11, 7, 0, 6, 53, 12, tzinfo=datetime.timezone.utc), acquired_day=0, acquired_from_id=None, acquired_month=0, acquired_year=0, acquisition_type='DRA', esb_id='RAM596976', gsis_id='00-0021379', height='6-2', jersey_number='11', nfl_experience=2, position='QB', position_group='QB', season_value=2003, status=None, weight=217), Player(created_date=datetime.datetime(2018, 11, 7, 0, 6, 53, 270, tzinfo=datetime.timezone.utc), id='3213524f-5942-6540-2003-5e016908fa7e', last_modified_date=datetime.datetime(2018, 11, 7, 0, 6, 53, 270, tzinfo=datetime.timezone.utc), acquired_day=0, acquired_from_id=None, acquired_month=0, acquired_year=0, acquisition_type='DRA', esb_id='ROY426540', gsis_id='00-0021273', height='6-4', jersey_number='86', nfl_experience=1, position='TE', position_group='TE', season_value=2003, status=None, weight=257), Player(created_date=datetime.datetime(2018, 11, 7, 0, 6, 53, 370, tzinfo=datetime.timezone.utc), id='32135255-5342-5034-2003-c3dd35cf678a', last_modified_date=datetime.datetime(2018, 11, 7, 0, 6, 53, 370, tzinfo=datetime.timezone.utc), acquired_day=0, acquired_from_id=None, acquired_month=0, acquired_year=0, acquisition_type='DRA', esb_id='RUS425034', gsis_id='00-0021212', height='5-11', jersey_number='82', nfl_experience=1, position='WR', position_group='WR', season_value=2003, status=None, weight=193), Player(created_date=datetime.datetime(2018, 11, 7, 19, 36, 38, 53, tzinfo=datetime.timezone.utc), id='32135255-5344-5391-2003-1586ecd5641f', last_modified_date=datetime.datetime(2018, 11, 7, 19, 36, 38, 53, tzinfo=datetime.timezone.utc), acquired_day=30, acquired_from_id=None, acquired_month=10, acquired_year=2003, acquisition_type='FA', esb_id='RUS445391', gsis_id='00-0014185', height='6-5', jersey_number='96', nfl_experience=6, position='DT', position_group='DL', season_value=2003, status=None, weight=325), Player(created_date=datetime.datetime(2018, 11, 7, 0, 15, 59, 589, tzinfo=datetime.timezone.utc), id='32135341-4d70-8051-2003-8a7949e1be0b', last_modified_date=datetime.datetime(2018, 11, 7, 0, 15, 59, 589, tzinfo=datetime.timezone.utc), acquired_day=3, acquired_from_id=None, acquired_month=9, acquired_year=2000, acquisition_type='DRA', esb_id='SAM708051', gsis_id='00-0019640', height='6-5', jersey_number='60', nfl_experience=4, position='T', position_group='OL', season_value=2003, status=None, weight=310), Player(created_date=datetime.datetime(2018, 11, 7, 0, 3, 54, 978, tzinfo=datetime.timezone.utc), id='32135349-4d37-0771-2003-974bd6d37793', last_modified_date=datetime.datetime(2018, 11, 7, 0, 3, 54, 978, tzinfo=datetime.timezone.utc), acquired_day=4, acquired_from_id=None, acquired_month=11, acquired_year=2003, acquisition_type='FA', esb_id='SIM370771', gsis_id='00-0021031', height='5-11', jersey_number='45', nfl_experience=2, position='RB', position_group='RB', season_value=2003, status=None, weight=202), Player(created_date=datetime.datetime(2018, 11, 7, 20, 24, 11, 213, tzinfo=datetime.timezone.utc), id='3213534d-4908-8160-2003-1cfadbfe75bd', last_modified_date=datetime.datetime(2018, 11, 7, 20, 24, 11, 213, tzinfo=datetime.timezone.utc), acquired_day=3, acquired_from_id=None, acquired_month=9, acquired_year=2000, acquisition_type='FA', esb_id='SMI088160', gsis_id='00-0015111', height='6-4', jersey_number='78', nfl_experience=19, position='DE', position_group='DL', season_value=2003, status=None, weight=265), Player(created_date=datetime.datetime(2018, 11, 7, 0, 2, 3, 333, tzinfo=datetime.timezone.utc), id='3213534d-4914-6160-2003-fd0c6865952a', last_modified_date=datetime.datetime(2018, 11, 7, 0, 2, 3, 333, tzinfo=datetime.timezone.utc), acquired_day=10, acquired_from_id=None, acquired_month=12, acquired_year=2003, acquisition_type='FA', esb_id='SMI146160', gsis_id='00-0021585', height='6-3', jersey_number='51', nfl_experience=0, position='LB', position_group='LB', season_value=2003, status=None, weight=251), Player(created_date=datetime.datetime(2018, 11, 7, 0, 11, 27, 705, tzinfo=datetime.timezone.utc), id='3213534d-4f48-6349-2003-9628031ab889', last_modified_date=datetime.datetime(2018, 11, 7, 0, 11, 27, 705, tzinfo=datetime.timezone.utc), acquired_day=0, acquired_from_id=None, acquired_month=0, acquired_year=0, acquisition_type='DRA', esb_id='SMO486349', gsis_id='00-0020522', height='5-11', jersey_number='21', nfl_experience=3, position='CB', position_group='DB', season_value=2003, status=None, weight=174), Player(created_date=datetime.datetime(2018, 11, 7, 0, 19, 12, 266, tzinfo=datetime.timezone.utc), id='32135445-5229-0466-2003-a1115c2a19fa', last_modified_date=datetime.datetime(2018, 11, 7, 0, 19, 12, 266, tzinfo=datetime.timezone.utc), acquired_day=9, acquired_from_id=None, acquired_month=12, acquired_year=2003, acquisition_type='FA', esb_id='TER290466', gsis_id='00-0016178', height='6-4', jersey_number='67', nfl_experience=5, position='T', position_group='OL', season_value=2003, status=None, weight=327), Player(created_date=datetime.datetime(2018, 11, 7, 0, 16, 1, 51, tzinfo=datetime.timezone.utc), id='32135445-5229-5716-2003-e3e8b9657a42', last_modified_date=datetime.datetime(2018, 11, 7, 0, 16, 1, 51, tzinfo=datetime.timezone.utc), acquired_day=3, acquired_from_id=None, acquired_month=9, acquired_year=2000, acquisition_type='FA', esb_id='TER295716', gsis_id='00-0016179', height='6-0', jersey_number='31', nfl_experience=4, position='CB', position_group='DB', season_value=2003, status=None, weight=187), Player(created_date=datetime.datetime(2018, 11, 7, 0, 19, 29, 422, tzinfo=datetime.timezone.utc), id='32135448-4f32-2422-2003-a74d014847e5', last_modified_date=datetime.datetime(2018, 11, 7, 0, 19, 29, 422, tzinfo=datetime.timezone.utc), acquired_day=3, acquired_from_id=None, acquired_month=3, acquired_year=2003, acquisition_type='FA', esb_id='THO322422', gsis_id='00-0016310', height='6-5', jersey_number='77', nfl_experience=5, position='G', position_group='OL', season_value=2003, status=None, weight=306), Player(created_date=datetime.datetime(2018, 11, 7, 19, 33, 23, 140, tzinfo=datetime.timezone.utc), id='32135452-4f46-7199-2003-c21cb2398800', last_modified_date=datetime.datetime(2018, 11, 7, 19, 33, 23, 140, tzinfo=datetime.timezone.utc), acquired_day=23, acquired_from_id=None, acquired_month=4, acquired_year=2002, acquisition_type='FA', esb_id='TRO467199', gsis_id='00-0016624', height='6-1', jersey_number='54', nfl_experience=6, position='MLB', position_group='LB', season_value=2003, status=None, weight=262), Player(created_date=datetime.datetime(2018, 11, 7, 19, 42, 52, 311, tzinfo=datetime.timezone.utc), id='32135550-5356-4972-2003-426478da9c09', last_modified_date=datetime.datetime(2018, 11, 7, 19, 42, 52, 311, tzinfo=datetime.timezone.utc), acquired_day=3, acquired_from_id=None, acquired_month=3, acquired_year=2003, acquisition_type='FA', esb_id='UPS564972', gsis_id='00-0016802', height='6-4', jersey_number='91', nfl_experience=8, position='DE', position_group='DL', season_value=2003, status=None, weight=265), Player(created_date=datetime.datetime(2018, 11, 7, 0, 2, 4, 69, tzinfo=datetime.timezone.utc), id='32135741-5235-9996-2003-b9e6977cf02e', last_modified_date=datetime.datetime(2018, 11, 7, 0, 2, 4, 70, tzinfo=datetime.timezone.utc), acquired_day=12, acquired_from_id=None, acquired_month=9, acquired_year=2003, acquisition_type='FA', esb_id='WAR359996', gsis_id='00-0021586', height='6-3', jersey_number='48', nfl_experience=0, position='TE', position_group='TE', season_value=2003, status=None, weight=259), Player(created_date=datetime.datetime(2018, 11, 7, 19, 33, 0, 364, tzinfo=datetime.timezone.utc), id='32135741-5250-3761-2003-b5c9af1e026a', last_modified_date=datetime.datetime(2018, 11, 7, 19, 33, 0, 364, tzinfo=datetime.timezone.utc), acquired_day=23, acquired_from_id=None, acquired_month=12, acquired_year=2003, acquisition_type='FA', esb_id='WAR503761', gsis_id='00-0017202', height='6-3', jersey_number='94', nfl_experience=2, position='DE', position_group='DL', season_value=2003, status=None, weight=270), Player(created_date=datetime.datetime(2018, 11, 7, 0, 8, 12, 961, tzinfo=datetime.timezone.utc), id='32135749-4e14-0033-2003-69772d250060', last_modified_date=datetime.datetime(2018, 11, 7, 0, 8, 12, 961, tzinfo=datetime.timezone.utc), acquired_day=2, acquired_from_id=None, acquired_month=8, acquired_year=2003, acquisition_type='FA', esb_id='WIN140033', gsis_id='00-0020331', height='6-7', jersey_number='68', nfl_experience=1, position='T', position_group='OL', season_value=2003, status=None, weight=315), Player(created_date=datetime.datetime(2018, 11, 7, 19, 36, 13, 501, tzinfo=datetime.timezone.utc), id='32135759-4e15-3366-2003-bc30f123732d', last_modified_date=datetime.datetime(2018, 11, 7, 19, 36, 13, 501, tzinfo=datetime.timezone.utc), acquired_day=28, acquired_from_id=None, acquired_month=3, acquired_year=2002, acquisition_type='FA', esb_id='WYN153366', gsis_id='00-0018351', height='6-3', jersey_number='97', nfl_experience=7, position='DE', position_group='DL', season_value=2003, status=None, weight=292), Player(created_date=datetime.datetime(2018, 11, 7, 0, 17, 11, 548, tzinfo=datetime.timezone.utc), id='32135a45-4c70-5650-2003-ed4dd69b1e10', last_modified_date=datetime.datetime(2018, 11, 7, 0, 17, 11, 548, tzinfo=datetime.timezone.utc), acquired_day=13, acquired_from_id=None, acquired_month=5, acquired_year=2003, acquisition_type='FA', esb_id='ZEL705650', gsis_id='00-0018489', height='6-5', jersey_number='93', nfl_experience=5, position='DE', position_group='DL', season_value=2003, status=None, weight=262)], season=Season(created_date=datetime.datetime(2017, 5, 11, 22, 26, 9, 882, tzinfo=datetime.timezone.utc), id='00012003-697b-0f53-d671-2e991ea30559', last_modified_date=datetime.datetime(2017, 5, 11, 22, 26, 9, 882, tzinfo=datetime.timezone.utc), season=2003), season_value=2003, team_type='TEAM', venues=None), visitor_team=Team(created_date=datetime.datetime(2017, 5, 11, 22, 29, 59, 346, tzinfo=datetime.timezone.utc), id='10043430-2003-db19-5242-45507dacb399', last_modified_date=datetime.datetime(2019, 9, 3, 21, 35, 39, 708, tzinfo=datetime.timezone.utc), abbreviation='NYJ', city_state_region='New York Jets', coaches=None, conference='AMERICAN_FOOTBALL_CONFERENCE', division='AFC_EASTERN', franchise=Franchise(created_date=datetime.datetime(2017, 5, 11, 22, 16, 39, 530, tzinfo=datetime.timezone.utc), id='10403430-1bc3-42c4-c7d8-39f38aed5f12', last_modified_date=datetime.datetime(2022, 4, 29, 20, 1, 27, 281, tzinfo=datetime.timezone.utc), current_team_bio='', first_season=1960, name='Jets', nfl_shop_url='https://www.nflshop.com/new-york-jets/t-81932633+z-839015-3582935029?_s=bm-nflcom-team-page-buy-gear-052220-Jets', official_website_url='https://www.newyorkjets.com/', owner='Robert Wood Johnson IV', primary_color='#003F2D', secondary_color='#FFFFFF', slug='new-york-jets', state='ACTIVE', year_established=1960), full_name='New York Jets', injuries=None, league='NFL', logo=Image(), market_zip_code=None, nick_name='Jets', players=[Player(created_date=datetime.datetime(2018, 11, 7, 0, 14, 45, 958, tzinfo=datetime.timezone.utc), id='32134142-5207-3003-2003-13898c591c96', last_modified_date=datetime.datetime(2018, 11, 7, 0, 14, 45, 958, tzinfo=datetime.timezone.utc), acquired_day=3, acquired_from_id=None, acquired_month=9, acquired_year=2000, acquisition_type='DRA', esb_id='ABR073003', gsis_id='00-0019546', height='6-4', jersey_number='94', nfl_experience=4, position='DE', position_group='DL', season_value=2003, status=None, weight=256), Player(created_date=datetime.datetime(2018, 11, 7, 19, 42, 45, 535, tzinfo=datetime.timezone.utc), id='32134142-5207-3258-2003-4e819e8aca70', last_modified_date=datetime.datetime(2018, 11, 7, 19, 42, 45, 535, tzinfo=datetime.timezone.utc), acquired_day=24, acquired_from_id=None, acquired_month=4, acquired_year=2002, acquisition_type='FA', esb_id='ABR073258', gsis_id='00-0000017', height='5-10', jersey_number='29', nfl_experience=8, position='CB', position_group='DB', season_value=2003, status=None, weight=192), Player(created_date=datetime.datetime(2018, 11, 7, 0, 0, 45, 559, tzinfo=datetime.timezone.utc), id='32134153-4b28-3611-2003-9dba7cfbee22', last_modified_date=datetime.datetime(2018, 11, 7, 0, 0, 45, 559, tzinfo=datetime.timezone.utc), acquired_day=26, acquired_from_id=None, acquired_month=4, acquired_year=2003, acquisition_type='DRA', esb_id='ASK283611', gsis_id='00-0022003', height='6-3', jersey_number='35', nfl_experience=0, position='FB', position_group='RB', season_value=2003, status=None, weight=233), Player(created_date=datetime.datetime(2018, 11, 7, 0, 5, 35, 737, tzinfo=datetime.timezone.utc), id='32134241-4b09-7464-2003-b83206bd0ed8', last_modified_date=datetime.datetime(2018, 11, 7, 0, 5, 35, 737, tzinfo=datetime.timezone.utc), acquired_day=0, acquired_from_id=None, acquired_month=0, acquired_year=0, acquisition_type='DRA', esb_id='BAK097464', gsis_id='00-0021213', height='6-3', jersey_number='86', nfl_experience=2, position='TE', position_group='TE', season_value=2003, status=None, weight=258), Player(created_date=datetime.datetime(2018, 11, 7, 19, 40, 27, 524, tzinfo=datetime.timezone.utc), id='32134245-4143-2476-2003-ffd6422748d8', last_modified_date=datetime.datetime(2018, 11, 7, 19, 40, 27, 524, tzinfo=datetime.timezone.utc), acquired_day=11, acquired_from_id=None, acquired_month=3, acquired_year=2002, acquisition_type='FA', esb_id='BEA432476', gsis_id='00-0000939', height='6-0', jersey_number='21', nfl_experience=8, position='CB', position_group='DB', season_value=2003, status=None, weight=205), Player(created_date=datetime.datetime(2018, 11, 7, 0, 14, 46, 562, tzinfo=datetime.timezone.utc), id='32134245-4303-5999-2003-25b6d10cefa5', last_modified_date=datetime.datetime(2018, 11, 7, 0, 14, 46, 562, tzinfo=datetime.timezone.utc), acquired_day=3, acquired_from_id=None, acquired_month=9, acquired_year=2000, acquisition_type='DRA', esb_id='BEC035999', gsis_id='00-0019457', height='6-5', jersey_number='88', nfl_experience=4, position='TE', position_group='TE', season_value=2003, status=None, weight=272), Player(created_date=datetime.datetime(2018, 11, 7, 0, 0, 46, 71, tzinfo=datetime.timezone.utc), id='3213424c-4135-7234-2003-f76556944d65', last_modified_date=datetime.datetime(2018, 11, 7, 0, 0, 46, 71, tzinfo=datetime.timezone.utc), acquired_day=3, acquired_from_id=None, acquired_month=9, acquired_year=2003, acquisition_type='FA', esb_id='BLA357234', gsis_id='00-0021720', height='5-11', jersey_number='17', nfl_experience=0, position='QB', position_group='QB', season_value=2003, status=None, weight=207), Player(created_date=datetime.datetime(2018, 11, 7, 0, 0, 46, 120, tzinfo=datetime.timezone.utc), id='3213424f-4c54-9216-2003-7113dac7957c', last_modified_date=datetime.datetime(2018, 11, 7, 0, 0, 46, 120, tzinfo=datetime.timezone.utc), acquired_day=27, acquired_from_id=None, acquired_month=4, acquired_year=2003, acquisition_type='DRA', esb_id='BOL549216', gsis_id='00-0022026', height='6-0', jersey_number='05', nfl_experience=0, position='QB', position_group='QB', season_value=2003, status=None, weight=205), Player(created_date=datetime.datetime(2018, 11, 7, 19, 50, 44, 503, tzinfo=datetime.timezone.utc), id='32134252-4914-0033-2003-21657479b6da', last_modified_date=datetime.datetime(2018, 11, 7, 19, 50, 44, 503, tzinfo=datetime.timezone.utc), acquired_day=21, acquired_from_id=None, acquired_month=3, acquired_year=2003, acquisition_type='FA', esb_id='BRI140033', gsis_id='00-0001759', height='6-0', jersey_number='06', nfl_experience=10, position='K', position_group='SPEC', season_value=2003, status=None, weight=180), Player(created_date=datetime.datetime(2018, 11, 7, 0, 0, 46, 360, tzinfo=datetime.timezone.utc), id='32134252-4f55-9840-2003-a4abc388da85', last_modified_date=datetime.datetime(2018, 11, 7, 0, 0, 46, 360, tzinfo=datetime.timezone.utc), acquired_day=17, acquired_from_id=None, acquired_month=12, acquired_year=2003, acquisition_type='FA', esb_id='BRO559840', gsis_id='00-0021723', height='6-0', jersey_number='50', nfl_experience=0, position='LB', position_group='LB', season_value=2003, status=None, weight=238), Player(created_date=datetime.datetime(2018, 11, 7, 0, 5, 36, 82, tzinfo=datetime.timezone.utc), id='32134341-4d48-8032-2003-c82911fd1482', last_modified_date=datetime.datetime(2018, 11, 7, 0, 5, 36, 82, tzinfo=datetime.timezone.utc), acquired_day=25, acquired_from_id=None, acquired_month=9, acquired_year=2002, acquisition_type='FA', esb_id='CAM488032', gsis_id='00-0020971', height='6-1', jersey_number='53', nfl_experience=2, position='LB', position_group='LB', season_value=2003, status=None, weight=230), Player(created_date=datetime.datetime(2018, 11, 7, 0, 10, 7, 13, tzinfo=datetime.timezone.utc), id='32134341-5267-5577-2003-5877db1b410b', last_modified_date=datetime.datetime(2018, 11, 7, 0, 10, 7, 13, tzinfo=datetime.timezone.utc), acquired_day=9, acquired_from_id='3410', acquired_month=10, acquired_year=2002, acquisition_type='WAI', esb_id='CAR675577', gsis_id='00-0020343', height='6-0', jersey_number='84', nfl_experience=2, position='WR', position_group='WR', season_value=2003, status=None, weight=180), Player(created_date=datetime.datetime(2018, 11, 7, 0, 14, 9, 656, tzinfo=datetime.timezone.utc), id='32134341-5274-9177-2003-6e0a972b4232', last_modified_date=datetime.datetime(2018, 11, 7, 0, 14, 9, 656, tzinfo=datetime.timezone.utc), acquired_day=14, acquired_from_id=None, acquired_month=4, acquired_year=2003, acquisition_type='FA', esb_id='CAR749177', gsis_id='00-0019537', height='5-8', jersey_number='22', nfl_experience=4, position='FS', position_group='DB', season_value=2003, status=None, weight=190), Player(created_date=datetime.datetime(2018, 11, 7, 19, 46, 8, 363, tzinfo=datetime.timezone.utc), id='32134348-5206-2293-2003-67bc3f39e354', last_modified_date=datetime.datetime(2018, 11, 7, 19, 46, 8, 363, tzinfo=datetime.timezone.utc), acquired_day=25, acquired_from_id=None, acquired_month=4, acquired_year=1995, acquisition_type='FA', esb_id='CHR062293', gsis_id='00-0002962', height='5-10', jersey_number='80', nfl_experience=9, position='WR', position_group='WR', season_value=2003, status=None, weight=188), Player(created_date=datetime.datetime(2018, 11, 7, 19, 51, 39, 166, tzinfo=datetime.timezone.utc), id='3213434f-4e75-7886-2003-b2afc5657f9a', last_modified_date=datetime.datetime(2018, 11, 7, 19, 51, 39, 166, tzinfo=datetime.timezone.utc), acquired_day=20, acquired_from_id=None, acquired_month=3, acquired_year=2003, acquisition_type='FA', esb_id='CON757886', gsis_id='00-0003396', height='6-1', jersey_number='81', nfl_experience=11, position='WR', position_group='WR', season_value=2003, status=None, weight=196), Player(created_date=datetime.datetime(2018, 11, 7, 19, 30, 34, 753, tzinfo=datetime.timezone.utc), id='3213434f-5733-6216-2003-9529adbbfc83', last_modified_date=datetime.datetime(2018, 11, 7, 19, 30, 34, 753, tzinfo=datetime.timezone.utc), acquired_day=6, acquired_from_id=None, acquired_month=3, acquired_year=2002, acquisition_type='FA', esb_id='COW336216', gsis_id='00-0003563', height='6-2', jersey_number='56', nfl_experience=6, position='OLB', position_group='LB', season_value=2003, status=None, weight=245), Player(created_date=datetime.datetime(2018, 11, 7, 0, 16, 56, 439, tzinfo=datetime.timezone.utc), id='32134445-4174-1611-2003-50a45c41b9b3', last_modified_date=datetime.datetime(2018, 11, 7, 0, 16, 56, 439, tzinfo=datetime.timezone.utc), acquired_day=24, acquired_from_id=None, acquired_month=1, acquired_year=2001, acquisition_type='FA', esb_id='DEA741611', gsis_id='00-0004112', height='6-4', jersey_number='85', nfl_experience=3, position='TE', position_group='TE', season_value=2003, status=None, weight=270), Player(created_date=datetime.datetime(2018, 11, 7, 0, 14, 47, 901, tzinfo=datetime.timezone.utc), id='3213454c-4c62-1162-2003-3076db82b559', last_modified_date=datetime.datetime(2018, 11, 7, 0, 14, 47, 901, tzinfo=datetime.timezone.utc), acquired_day=3, acquired_from_id=None, acquired_month=9, acquired_year=2000, acquisition_type='DRA', esb_id='ELL621162', gsis_id='00-0019545', height='6-5', jersey_number='92', nfl_experience=4, position='DE', position_group='DL', season_value=2003, status=None, weight=294), Player(created_date=datetime.datetime(2018, 11, 7, 19, 44, 30, 273, tzinfo=datetime.timezone.utc), id='32134556-4154-4434-2003-47405d67e44f', last_modified_date=datetime.datetime(2021, 2, 6, 1, 46, 47, 443, tzinfo=datetime.timezone.utc), acquired_day=19, acquired_from_id=None, acquired_month=7, acquired_year=2002, acquisition_type='FA', esb_id='EVA544434', gsis_id='00-0004989', height='6-3', jersey_number='91', nfl_experience=8, position='DT', position_group='DL', season_value=2003, status=None, weight=280), Player(created_date=datetime.datetime(2018, 11, 7, 19, 33, 10, 455, tzinfo=datetime.timezone.utc), id='32134641-4229-6636-2003-83aa495e2995', last_modified_date=datetime.datetime(2018, 11, 7, 19, 33, 10, 455, tzinfo=datetime.timezone.utc), acquired_day=3, acquired_from_id=None, acquired_month=9, acquired_year=2000, acquisition_type='DRA', esb_id='FAB296636', gsis_id='00-0005031', height='6-7', jersey_number='69', nfl_experience=6, position='T', position_group='OL', season_value=2003, status=None, weight=304), Player(created_date=datetime.datetime(2018, 11, 7, 19, 37, 24, 930, tzinfo=datetime.timezone.utc), id='32134645-5216-2060-2003-7a998e2dee41', last_modified_date=datetime.datetime(2018, 11, 7, 19, 37, 24, 930, tzinfo=datetime.timezone.utc), acquired_day=3, acquired_from_id=None, acquired_month=9, acquired_year=2000, acquisition_type='DRA', esb_id='FER162060', gsis_id='00-0005150', height='6-3', jersey_number='72', nfl_experience=7, position='NT', position_group='DL', season_value=2003, status=None, weight=305), Player(created_date=datetime.datetime(2018, 11, 7, 19, 37, 16, 737, tzinfo=datetime.timezone.utc), id='32134741-5233-3008-2003-3b1f32bfbfc0', last_modified_date=datetime.datetime(2018, 11, 7, 19, 37, 16, 737, tzinfo=datetime.timezone.utc), acquired_day=5, acquired_from_id=None, acquired_month=3, acquired_year=2002, acquisition_type='FA', esb_id='GAR333008', gsis_id='00-0005785', height='6-3', jersey_number='42', nfl_experience=7, position='SS', position_group='DB', season_value=2003, status=None, weight=225), Player(created_date=datetime.datetime(2018, 11, 7, 0, 10, 17, 95, tzinfo=datetime.timezone.utc), id='3213474c-4523-0716-2003-4ccffea1c90c', last_modified_date=datetime.datetime(2018, 11, 7, 0, 10, 17, 95, tzinfo=datetime.timezone.utc), acquired_day=3, acquired_from_id='1540', acquired_month=9, acquired_year=2001, acquisition_type='WAI', esb_id='GLE230716', gsis_id='00-0020401', height='6-0', jersey_number='58', nfl_experience=3, position='LB', position_group='LB', season_value=2003, status=None, weight=231), Player(created_date=datetime.datetime(2018, 11, 7, 0, 5, 38, 525, tzinfo=datetime.timezone.utc), id='3213474f-4f67-7384-2003-69ab4968c908', last_modified_date=datetime.datetime(2018, 11, 7, 0, 5, 38, 525, tzinfo=datetime.timezone.utc), acquired_day=0, acquired_from_id=None, acquired_month=0, acquired_year=0, acquisition_type='DRA', esb_id='GOO677384', gsis_id='00-0021267', height='6-3', jersey_number='78', nfl_experience=2, position='G', position_group='OL', season_value=2003, status=None, weight=318), Player(created_date=datetime.datetime(2018, 11, 7, 0, 0, 48, 733, tzinfo=datetime.timezone.utc), id='32134841-4d25-9940-2003-a70d277429c4', last_modified_date=datetime.datetime(2018, 11, 7, 0, 0, 48, 733, tzinfo=datetime.timezone.utc), acquired_day=8, acquired_from_id=None, acquired_month=12, acquired_year=2003, acquisition_type='FA', esb_id='HAM259940', gsis_id='00-0021556', height='6-2', jersey_number='87', nfl_experience=0, position='WR', position_group='WR', season_value=2003, status=None, weight=204), Player(created_date=datetime.datetime(2018, 11, 7, 0, 5, 38, 879, tzinfo=datetime.timezone.utc), id='32134841-5223-8278-2003-9ef2ff6b4acc', last_modified_date=datetime.datetime(2018, 11, 7, 0, 5, 38, 879, tzinfo=datetime.timezone.utc), acquired_day=0, acquired_from_id=None, acquired_month=0, acquired_year=0, acquisition_type='DRA', esb_id='HAR238278', gsis_id='00-0021240', height='6-1', jersey_number='98', nfl_experience=2, position='DT', position_group='DL', season_value=2003, status=None, weight=285), Player(created_date=datetime.datetime(2018, 11, 7, 0, 10, 18, 14, tzinfo=datetime.timezone.utc), id='32134845-4e06-6601-2003-bf4fc84c10fa', last_modified_date=datetime.datetime(2018, 11, 7, 0, 10, 18, 14, tzinfo=datetime.timezone.utc), acquired_day=0, acquired_from_id=None, acquired_month=0, acquired_year=0, acquisition_type='DRA', esb_id='HEN066601', gsis_id='00-0020352', height='6-2', jersey_number='23', nfl_experience=3, position='CB', position_group='DB', season_value=2003, status=None, weight=202), Player(created_date=datetime.datetime(2018, 11, 7, 0, 0, 49, 255, tzinfo=datetime.timezone.utc), id='3213484f-4275-8772-2003-33810c7ab238', last_modified_date=datetime.datetime(2018, 11, 7, 0, 0, 49, 255, tzinfo=datetime.timezone.utc), acquired_day=26, acquired_from_id=None, acquired_month=4, acquired_year=2003, acquisition_type='DRA', esb_id='HOB758772', gsis_id='00-0021996', height='6-0', jersey_number='54', nfl_experience=0, position='LB', position_group='LB', season_value=2003, status=None, weight=252), Player(created_date=datetime.datetime(2018, 11, 7, 0, 9, 30, 536, tzinfo=datetime.timezone.utc), id='32134a4f-4803-3999-2003-adb2486eecec', last_modified_date=datetime.datetime(2018, 11, 7, 0, 9, 30, 536, tzinfo=datetime.timezone.utc), acquired_day=14, acquired_from_id=None, acquired_month=4, acquired_year=2003, acquisition_type='FA', esb_id='JOH033999', gsis_id='00-0019745', height='5-9', jersey_number='89', nfl_experience=3, position='WR', position_group='WR', season_value=2003, status=None, weight=190), Player(created_date=datetime.datetime(2018, 11, 7, 19, 54, 13, 499, tzinfo=datetime.timezone.utc), id='32134a4f-4e60-2943-2003-d42206ea9040', last_modified_date=datetime.datetime(2018, 11, 7, 19, 54, 13, 499, tzinfo=datetime.timezone.utc), acquired_day=3, acquired_from_id=None, acquired_month=9, acquired_year=2000, acquisition_type='DRA', esb_id='JON602943', gsis_id='00-0008819', height='6-2', jersey_number='55', nfl_experience=11, position='MLB', position_group='LB', season_value=2003, status=None, weight=244), Player(created_date=datetime.datetime(2018, 11, 7, 0, 10, 18, 615, tzinfo=datetime.timezone.utc), id='32134a4f-5242-3594-2003-295fe6e2c733', last_modified_date=datetime.datetime(2018, 11, 7, 0, 10, 18, 615, tzinfo=datetime.timezone.utc), acquired_day=0, acquired_from_id=None, acquired_month=0, acquired_year=0, acquisition_type='DRA', esb_id='JOR423594', gsis_id='00-0020462', height='5-10', jersey_number='34', nfl_experience=3, position='RB', position_group='RB', season_value=2003, status=None, weight=230), Player(created_date=datetime.datetime(2018, 11, 7, 20, 2, 21, 390, tzinfo=datetime.timezone.utc), id='32134c45-5754-5044-2003-77179e8bd05e', last_modified_date=datetime.datetime(2018, 11, 7, 20, 2, 21, 390, tzinfo=datetime.timezone.utc), acquired_day=3, acquired_from_id=None, acquired_month=9, acquired_year=2000, acquisition_type='DRA', esb_id='LEW545044', gsis_id='00-0009886', height='6-3', jersey_number='57', nfl_experience=13, position='OLB', position_group='LB', season_value=2003, status=None, weight=258), Player(created_date=datetime.datetime(2018, 11, 7, 19, 36, 17, 510, tzinfo=datetime.timezone.utc), id='32134c4f-4335-9918-2003-c715e555729d', last_modified_date=datetime.datetime(2018, 11, 7, 19, 36, 17, 510, tzinfo=datetime.timezone.utc), acquired_day=14, acquired_from_id=None, acquired_month=11, acquired_year=2003, acquisition_type='FA', esb_id='LOC359918', gsis_id='00-0010007', height='6-0', jersey_number='89', nfl_experience=7, position='WR', position_group='WR', season_value=2003, status=None, weight=182), Player(created_date=datetime.datetime(2018, 11, 7, 0, 4, 55, 79, tzinfo=datetime.timezone.utc), id='32134c4f-5732-8771-2003-ec142424295b', last_modified_date=datetime.datetime(2018, 11, 7, 0, 4, 55, 79, tzinfo=datetime.timezone.utc), acquired_day=12, acquired_from_id=None, acquired_month=11, acquired_year=2003, acquisition_type='FA', esb_id='LOW328771', gsis_id='00-0021274', height='6-1', jersey_number='26', nfl_experience=2, position='DB', position_group='DB', season_value=2003, status=None, weight=196), Player(created_date=datetime.datetime(2018, 11, 7, 0, 19, 26, 544, tzinfo=datetime.timezone.utc), id='32134d41-4322-9498-2003-4028ebaa8ef2', last_modified_date=datetime.datetime(2018, 11, 7, 0, 19, 26, 544, tzinfo=datetime.timezone.utc), acquired_day=0, acquired_from_id=None, acquired_month=0, acquired_year=0, acquisition_type='DRA', esb_id='MAC229498', gsis_id='00-0010222', height='6-4', jersey_number='77', nfl_experience=5, position='G', position_group='OL', season_value=2003, status=None, weight=300), Player(created_date=datetime.datetime(2018, 11, 7, 19, 45, 46, 419, tzinfo=datetime.timezone.utc), id='32134d41-5254-3073-2003-bb34f619dfdb', last_modified_date=datetime.datetime(2018, 11, 7, 19, 45, 46, 419, tzinfo=datetime.timezone.utc), acquired_day=25, acquired_from_id=None, acquired_month=3, acquired_year=1998, acquisition_type='FA', esb_id='MAR543073', gsis_id='00-0010442', height='5-11', jersey_number='28', nfl_experience=9, position='RB', position_group='RB', season_value=2003, status=None, weight=205), Player(created_date=datetime.datetime(2018, 11, 7, 19, 53, 10, 579, tzinfo=datetime.timezone.utc), id='32134d41-5264-2459-2003-7377eb9a3c0e', last_modified_date=datetime.datetime(2018, 11, 7, 19, 53, 10, 579, tzinfo=datetime.timezone.utc), acquired_day=8, acquired_from_id=None, acquired_month=9, acquired_year=2003, acquisition_type='FA', esb_id='MAR642459', gsis_id='00-0010455', height='6-2', jersey_number='11', nfl_experience=9, position='QB', position_group='QB', season_value=2003, status=None, weight=205), Player(created_date=datetime.datetime(2018, 11, 7, 19, 50, 58, 507, tzinfo=datetime.timezone.utc), id='32134d41-5705-9326-2003-1fda2788511b', last_modified_date=datetime.datetime(2018, 11, 7, 19, 50, 58, 507, tzinfo=datetime.timezone.utc), acquired_day=3, acquired_from_id=None, acquired_month=9, acquired_year=2000, acquisition_type='FA', esb_id='MAW059326', gsis_id='00-0010577', height='6-4', jersey_number='68', nfl_experience=10, position='C', position_group='OL', season_value=2003, status=None, weight=289), Player(created_date=datetime.datetime(2018, 11, 7, 19, 57, 21, 642, tzinfo=datetime.timezone.utc), id='32134d43-4748-7146-2003-d8c231fa60c2', last_modified_date=datetime.datetime(2018, 11, 7, 19, 57, 21, 642, tzinfo=datetime.timezone.utc), acquired_day=16, acquired_from_id=None, acquired_month=7, acquired_year=2003, acquisition_type='FA', esb_id='MCG487146', gsis_id='00-0010874', height='6-3', jersey_number='75', nfl_experience=12, position='DT', position_group='DL', season_value=2003, status=None, weight=334), Player(created_date=datetime.datetime(2018, 11, 7, 0, 5, 39, 710, tzinfo=datetime.timezone.utc), id='32134d43-4763-4887-2003-af76eeb7e8bf', last_modified_date=datetime.datetime(2018, 11, 7, 0, 5, 39, 710, tzinfo=datetime.timezone.utc), acquired_day=0, acquired_from_id=None, acquired_month=0, acquired_year=0, acquisition_type='DRA', esb_id='MCG634887', gsis_id='00-0021187', height='6-3', jersey_number='38', nfl_experience=2, position='FS', position_group='DB', season_value=2003, status=None, weight=206), Player(created_date=datetime.datetime(2018, 11, 7, 0, 10, 19, 651, tzinfo=datetime.timezone.utc), id='32134d43-4b25-2342-2003-9e5a1fe30c48', last_modified_date=datetime.datetime(2018, 11, 7, 0, 10, 19, 651, tzinfo=datetime.timezone.utc), acquired_day=0, acquired_from_id=None, acquired_month=0, acquired_year=0, acquisition_type='DRA', esb_id='MCK252342', gsis_id='00-0020463', height='6-6', jersey_number='67', nfl_experience=3, position='T', position_group='OL', season_value=2003, status=None, weight=327), Player(created_date=datetime.datetime(2018, 11, 7, 19, 41, 50, 292, tzinfo=datetime.timezone.utc), id='32134d49-4375-2210-2003-84fd3243823f', last_modified_date=datetime.datetime(2018, 11, 7, 19, 41, 50, 292, tzinfo=datetime.timezone.utc), acquired_day=3, acquired_from_id=None, acquired_month=9, acquired_year=2000, acquisition_type='DRA', esb_id='MIC752210', gsis_id='00-0011186', height='5-8', jersey_number='24', nfl_experience=8, position='CB', position_group='DB', season_value=2003, status=None, weight=180), Player(created_date=datetime.datetime(2018, 11, 7, 0, 0, 51, 705, tzinfo=datetime.timezone.utc), id='32134d4f-4f19-7536-2003-30ce5105f783', last_modified_date=datetime.datetime(2018, 11, 7, 0, 0, 51, 706, tzinfo=datetime.timezone.utc), acquired_day=22, acquired_from_id=None, acquired_month=10, acquired_year=2003, acquisition_type='FA', esb_id='MOO197536', gsis_id='00-0020969', height='6-3', jersey_number='65', nfl_experience=0, position='G', position_group='OL', season_value=2003, status=None, weight=295), Player(created_date=datetime.datetime(2018, 11, 7, 0, 10, 20, 450, tzinfo=datetime.timezone.utc), id='32134d4f-5371-7844-2003-cacfa0b9afc6', last_modified_date=datetime.datetime(2018, 11, 7, 0, 10, 20, 450, tzinfo=datetime.timezone.utc), acquired_day=0, acquired_from_id=None, acquired_month=0, acquired_year=0, acquisition_type='DRA', esb_id='MOS717844', gsis_id='00-0020494', height='5-10', jersey_number='83', nfl_experience=3, position='WR', position_group='WR', season_value=2003, status=None, weight=185), Player(created_date=datetime.datetime(2018, 11, 7, 0, 0, 51, 987, tzinfo=datetime.timezone.utc), id='32134e49-4d41-5291-2003-c5043c8aa22b', last_modified_date=datetime.datetime(2018, 11, 7, 0, 0, 51, 987, tzinfo=datetime.timezone.utc), acquired_day=3, acquired_from_id='4900', acquired_month=9, acquired_year=2003, acquisition_type='WAI', esb_id='NIM415291', gsis_id='00-0022013', height='6-5', jersey_number='73', nfl_experience=0, position='T', position_group='OL', season_value=2003, status=None, weight=303), Player(created_date=datetime.datetime(2018, 11, 7, 0, 19, 27, 525, tzinfo=datetime.timezone.utc), id='32134f53-5538-5627-2003-fa6b8394dbd0', last_modified_date=datetime.datetime(2018, 11, 7, 0, 19, 27, 525, tzinfo=datetime.timezone.utc), acquired_day=0, acquired_from_id=None, acquired_month=0, acquired_year=0, acquisition_type='FA', esb_id='OSU385627', gsis_id='00-0012287', height='6-3', jersey_number='60', nfl_experience=3, position='DT', position_group='DL', season_value=2003, status=None, weight=300), Player(created_date=datetime.datetime(2018, 11, 7, 0, 0, 52, 78, tzinfo=datetime.timezone.utc), id='32135041-4748-6348-2003-d9ac691daadf', last_modified_date=datetime.datetime(2018, 11, 7, 0, 0, 52, 78, tzinfo=datetime.timezone.utc), acquired_day=27, acquired_from_id=None, acquired_month=4, acquired_year=2003, acquisition_type='DRA', esb_id='PAG486348', gsis_id='00-0021954', height='6-1', jersey_number='25', nfl_experience=0, position='DB', position_group='DB', season_value=2003, status=None, weight=208), Player(created_date=datetime.datetime(2018, 11, 7, 0, 14, 53, 391, tzinfo=datetime.timezone.utc), id='32135045-4e37-5096-2003-d3f2ad17d5d0', last_modified_date=datetime.datetime(2018, 11, 7, 0, 14, 53, 391, tzinfo=datetime.timezone.utc), acquired_day=3, acquired_from_id=None, acquired_month=9, acquired_year=2000, acquisition_type='DRA', esb_id='PEN375096', gsis_id='00-0019559', height='6-3', jersey_number='10', nfl_experience=4, position='QB', position_group='QB', season_value=2003, status=None, weight=225), Player(created_date=datetime.datetime(2018, 11, 7, 0, 8, 2, 919, tzinfo=datetime.timezone.utc), id='32135241-4d02-5955-2003-19b64853b0cb', last_modified_date=datetime.datetime(2018, 11, 7, 0, 8, 2, 919, tzinfo=datetime.timezone.utc), acquired_day=9, acquired_from_id=None, acquired_month=12, acquired_year=2003, acquisition_type='FA', esb_id='RAM025955', gsis_id='00-0020425', height='6-1', jersey_number='18', nfl_experience=3, position='WR', position_group='WR', season_value=2003, status=None, weight=195), Player(created_date=datetime.datetime(2018, 11, 7, 0, 10, 20, 989, tzinfo=datetime.timezone.utc), id='32135245-4525-5104-2003-f38d8c0b08e1', last_modified_date=datetime.datetime(2018, 11, 7, 0, 10, 20, 989, tzinfo=datetime.timezone.utc), acquired_day=0, acquired_from_id=None, acquired_month=0, acquired_year=0, acquisition_type='DRA', esb_id='REE255104', gsis_id='00-0020355', height='6-0', jersey_number='93', nfl_experience=3, position='DT', position_group='DL', season_value=2003, status=None, weight=286), Player(created_date=datetime.datetime(2018, 11, 7, 0, 0, 52, 371, tzinfo=datetime.timezone.utc), id='32135245-4564-1877-2003-8b9dd5005990', last_modified_date=datetime.datetime(2018, 11, 7, 0, 0, 52, 371, tzinfo=datetime.timezone.utc), acquired_day=5, acquired_from_id=None, acquired_month=12, acquired_year=2003, acquisition_type='FA', esb_id='REE641877', gsis_id='00-0020893', height='6-1', jersey_number='36', nfl_experience=0, position='RB', position_group='RB', season_value=2003, status=None, weight=220), Player(created_date=datetime.datetime(2018, 11, 7, 0, 0, 52, 409, tzinfo=datetime.timezone.utc), id='3213524f-4230-5071-2003-58140dca8c17', last_modified_date=datetime.datetime(2018, 11, 7, 0, 0, 52, 409, tzinfo=datetime.timezone.utc), acquired_day=26, acquired_from_id=None, acquired_month=4, acquired_year=2003, acquisition_type='DRA', esb_id='ROB305071', gsis_id='00-0021988', height='6-1', jersey_number='63', nfl_experience=0, position='DT', position_group='DL', season_value=2003, status=None, weight=317), Player(created_date=datetime.datetime(2018, 11, 7, 19, 36, 47, 622, tzinfo=datetime.timezone.utc), id='3213534d-4928-1880-2003-a7f0587fe041', last_modified_date=datetime.datetime(2018, 11, 7, 19, 36, 47, 622, tzinfo=datetime.timezone.utc), acquired_day=6, acquired_from_id=None, acquired_month=5, acquired_year=2003, acquisition_type='FA', esb_id='SMI281880', gsis_id='00-0015107', height='6-5', jersey_number='74', nfl_experience=7, position='G', position_group='OL', season_value=2003, status=None, weight=305), Player(created_date=datetime.datetime(2018, 11, 7, 19, 37, 29, 754, tzinfo=datetime.timezone.utc), id='3213534f-5726-5611-2003-442e24d6df34', last_modified_date=datetime.datetime(2018, 11, 7, 19, 37, 29, 754, tzinfo=datetime.timezone.utc), acquired_day=25, acquired_from_id='1800', acquired_month=8, acquired_year=1997, acquisition_type='WAI', esb_id='SOW265611', gsis_id='00-0015420', height='6-0', jersey_number='33', nfl_experience=7, position='FB', position_group='RB', season_value=2003, status=None, weight=237), Player(created_date=datetime.datetime(2018, 11, 7, 0, 10, 59, 442, tzinfo=datetime.timezone.utc), id='32135354-4579-4364-2003-67bd1eb022e0', last_modified_date=datetime.datetime(2018, 11, 7, 0, 10, 59, 442, tzinfo=datetime.timezone.utc), acquired_day=30, acquired_from_id=None, acquired_month=9, acquired_year=2003, acquisition_type='FA', esb_id='STE794364', gsis_id='00-0019789', height='6-1', jersey_number='51', nfl_experience=3, position='LB', position_group='LB', season_value=2003, status=None, weight=234), Player(created_date=datetime.datetime(2018, 11, 7, 20, 6, 38, 561, tzinfo=datetime.timezone.utc), id='32135354-5278-8312-2003-9c5cdeca5c39', last_modified_date=datetime.datetime(2018, 11, 7, 20, 6, 38, 561, tzinfo=datetime.timezone.utc), acquired_day=24, acquired_from_id=None, acquired_month=3, acquired_year=2003, acquisition_type='FA', esb_id='STR788312', gsis_id='00-0015842', height='6-0', jersey_number='04', nfl_experience=14, position='P', position_group='SPEC', season_value=2003, status=None, weight=205), Player(created_date=datetime.datetime(2018, 11, 7, 0, 10, 22, 246, tzinfo=datetime.timezone.utc), id='32135357-4178-6458-2003-2d3da99f3a2e', last_modified_date=datetime.datetime(2018, 11, 7, 0, 10, 22, 246, tzinfo=datetime.timezone.utc), acquired_day=30, acquired_from_id=None, acquired_month=7, acquired_year=2001, acquisition_type='FA', esb_id='SWA786458', gsis_id='00-0015959', height='6-1', jersey_number='82', nfl_experience=3, position='WR', position_group='WR', season_value=2003, status=None, weight=191), Player(created_date=datetime.datetime(2018, 11, 7, 20, 5, 9, 504, tzinfo=datetime.timezone.utc), id='3213535a-4f55-3722-2003-4779039d2088', last_modified_date=datetime.datetime(2018, 11, 7, 20, 5, 9, 504, tzinfo=datetime.timezone.utc), acquired_day=20, acquired_from_id=None, acquired_month=3, acquired_year=2002, acquisition_type='FA', esb_id='SZO553722', gsis_id='00-0016002', height='6-4', jersey_number='79', nfl_experience=14, position='G', position_group='OL', season_value=2003, status=None, weight=289), Player(created_date=datetime.datetime(2018, 11, 7, 20, 20, 3, 798, tzinfo=datetime.timezone.utc), id='32135445-5341-5290-2003-e49227dcd873', last_modified_date=datetime.datetime(2018, 11, 7, 20, 20, 3, 798, tzinfo=datetime.timezone.utc), acquired_day=24, acquired_from_id=None, acquired_month=6, acquired_year=1998, acquisition_type='FA', esb_id='TES415290', gsis_id='00-0016193', height='6-5', jersey_number='16', nfl_experience=17, position='QB', position_group='QB', season_value=2003, status=None, weight=235), Player(created_date=datetime.datetime(2018, 11, 7, 0, 5, 41, 835, tzinfo=datetime.timezone.utc), id='32135448-4f05-4183-2003-2fed3ea9aaa6', last_modified_date=datetime.datetime(2018, 11, 7, 0, 5, 41, 835, tzinfo=datetime.timezone.utc), acquired_day=0, acquired_from_id=None, acquired_month=0, acquired_year=0, acquisition_type='DRA', esb_id='THO054183', gsis_id='00-0021081', height='6-4', jersey_number='99', nfl_experience=2, position='DE', position_group='DL', season_value=2003, status=None, weight=266), Player(created_date=datetime.datetime(2018, 11, 7, 0, 0, 53, 547, tzinfo=datetime.timezone.utc), id='32135741-4c69-6778-2003-6167a622d8a1', last_modified_date=datetime.datetime(2018, 11, 7, 0, 0, 53, 548, tzinfo=datetime.timezone.utc), acquired_day=27, acquired_from_id=None, acquired_month=4, acquired_year=2003, acquisition_type='DRA', esb_id='WAL696778', gsis_id='00-0022016', height='6-5', jersey_number='95', nfl_experience=0, position='DE', position_group='DL', season_value=2003, status=None, weight=272), Player(created_date=datetime.datetime(2018, 11, 7, 0, 11, 54, 649, tzinfo=datetime.timezone.utc), id='32135752-4949-7087-2003-d4c5a87dc7ed', last_modified_date=datetime.datetime(2018, 11, 7, 0, 11, 54, 649, tzinfo=datetime.timezone.utc), acquired_day=17, acquired_from_id=None, acquired_month=4, acquired_year=2003, acquisition_type='FA', esb_id='WRI497087', gsis_id='00-0019362', height='6-0', jersey_number='52', nfl_experience=3, position='LB', position_group='LB', season_value=2003, status=None, weight=240), Player(created_date=datetime.datetime(2018, 11, 7, 0, 0, 53, 652, tzinfo=datetime.timezone.utc), id='3213594f-5517-1209-2003-f7a94f090f51', last_modified_date=datetime.datetime(2018, 11, 7, 0, 0, 53, 652, tzinfo=datetime.timezone.utc), acquired_day=15, acquired_from_id=None, acquired_month=10, acquired_year=2003, acquisition_type='FA', esb_id='YOU171209', gsis_id='00-0022063', height='6-1', jersey_number='37', nfl_experience=0, position='DB', position_group='DB', season_value=2003, status=None, weight=209), Player(created_date=datetime.datetime(2018, 11, 7, 0, 0, 53, 686, tzinfo=datetime.timezone.utc), id='3213594f-5608-3057-2003-73a12748b245', last_modified_date=datetime.datetime(2018, 11, 7, 0, 0, 53, 686, tzinfo=datetime.timezone.utc), acquired_day=27, acquired_from_id=None, acquired_month=4, acquired_year=2003, acquisition_type='DRA', esb_id='YOV083057', gsis_id='00-0021975', height='6-3', jersey_number='64', nfl_experience=0, position='T', position_group='OL', season_value=2003, status=None, weight=295)], season=Season(created_date=datetime.datetime(2017, 5, 11, 22, 26, 9, 882, tzinfo=datetime.timezone.utc), id='00012003-697b-0f53-d671-2e991ea30559', last_modified_date=datetime.datetime(2017, 5, 11, 22, 26, 9, 882, tzinfo=datetime.timezone.utc), season=2003), season_value=2003, team_type='TEAM', venues=None), home_points_overtime_total=0, home_points_q1=3, home_points_q2=10, home_points_q3=0, home_points_q4=3, visitor_points_overtime_total=0, visitor_points_q1=7, visitor_points_q2=0, visitor_points_q3=3, visitor_points_q4=3, scoring_summaries=[ScoringSummary(created_date=datetime.datetime(2018, 10, 10, 18, 48, 55, 643, tzinfo=datetime.timezone.utc), last_modified_date=datetime.datetime(2018, 10, 10, 18, 48, 55, 643, tzinfo=datetime.timezone.utc), clock_time='856', game_detail_id='10160000-0264-94ab-68f5-9ff371a986a3', home_score=3, pat_play_id=0, play_description='J.Hall 50 yd. Field Goal (12-39, 6:04)', play_id=331, quarter=1, score_type='F', scoring_play_id=331, scoring_team=Team(created_date=datetime.datetime(2017, 5, 11, 22, 29, 58, 997, tzinfo=datetime.timezone.utc), id='10045110-2003-e52d-80c1-9cd5cb1825f0', last_modified_date=datetime.datetime(2019, 9, 3, 21, 35, 39, 708, tzinfo=datetime.timezone.utc), abbreviation='WAS', city_state_region='Washington', conference='NATIONAL_FOOTBALL_CONFERENCE', division='NFC_EASTERN', full_name='Washington Redskins', league='NFL', market_zip_code=None, nick_name='Redskins', season_value=2003, team_type='TEAM'), sequence=1, visitor_score=0), ScoringSummary(created_date=datetime.datetime(2018, 10, 10, 18, 48, 55, 646, tzinfo=datetime.timezone.utc), last_modified_date=datetime.datetime(2018, 10, 10, 18, 48, 55, 646, tzinfo=datetime.timezone.utc), clock_time='159', game_detail_id='10160000-0264-94ab-68f5-9ff371a986a3', home_score=3, pat_play_id=692, play_description='L.Jordan 1 yd. run (D.Brien kick) (14-72, 6:57)', play_id=675, quarter=1, score_type='T', scoring_play_id=675, scoring_team=Team(created_date=datetime.datetime(2017, 5, 11, 22, 29, 59, 346, tzinfo=datetime.timezone.utc), id='10043430-2003-db19-5242-45507dacb399', last_modified_date=datetime.datetime(2019, 9, 3, 21, 35, 39, 708, tzinfo=datetime.timezone.utc), abbreviation='NYJ', city_state_region='New York Jets', conference='AMERICAN_FOOTBALL_CONFERENCE', division='AFC_EASTERN', full_name='New York Jets', league='NFL', market_zip_code=None, nick_name='Jets', season_value=2003, team_type='TEAM'), sequence=2, visitor_score=7), ScoringSummary(created_date=datetime.datetime(2018, 10, 10, 18, 48, 55, 648, tzinfo=datetime.timezone.utc), last_modified_date=datetime.datetime(2018, 10, 10, 18, 48, 55, 648, tzinfo=datetime.timezone.utc), clock_time='821', game_detail_id='10160000-0264-94ab-68f5-9ff371a986a3', home_score=10, pat_play_id=1040, play_description='D.McCants 4 yd. pass from P.Ramsey (J.Hall kick) (14-74, 8:38)', play_id=1023, quarter=2, score_type='T', scoring_play_id=1023, scoring_team=Team(created_date=datetime.datetime(2017, 5, 11, 22, 29, 58, 997, tzinfo=datetime.timezone.utc), id='10045110-2003-e52d-80c1-9cd5cb1825f0', last_modified_date=datetime.datetime(2019, 9, 3, 21, 35, 39, 708, tzinfo=datetime.timezone.utc), abbreviation='WAS', city_state_region='Washington', conference='NATIONAL_FOOTBALL_CONFERENCE', division='NFC_EASTERN', full_name='Washington Redskins', league='NFL', market_zip_code=None, nick_name='Redskins', season_value=2003, team_type='TEAM'), sequence=3, visitor_score=7), ScoringSummary(created_date=datetime.datetime(2018, 10, 10, 18, 48, 55, 650, tzinfo=datetime.timezone.utc), last_modified_date=datetime.datetime(2018, 10, 10, 18, 48, 55, 650, tzinfo=datetime.timezone.utc), clock_time='241', game_detail_id='10160000-0264-94ab-68f5-9ff371a986a3', home_score=13, pat_play_id=0, play_description='J.Hall 22 yd. Field Goal (8-84, 4:02)', play_id=1365, quarter=2, score_type='F', scoring_play_id=1365, scoring_team=Team(created_date=datetime.datetime(2017, 5, 11, 22, 29, 58, 997, tzinfo=datetime.timezone.utc), id='10045110-2003-e52d-80c1-9cd5cb1825f0', last_modified_date=datetime.datetime(2019, 9, 3, 21, 35, 39, 708, tzinfo=datetime.timezone.utc), abbreviation='WAS', city_state_region='Washington', conference='NATIONAL_FOOTBALL_CONFERENCE', division='NFC_EASTERN', full_name='Washington Redskins', league='NFL', market_zip_code=None, nick_name='Redskins', season_value=2003, team_type='TEAM'), sequence=4, visitor_score=7), ScoringSummary(created_date=datetime.datetime(2018, 10, 10, 18, 48, 55, 651, tzinfo=datetime.timezone.utc), last_modified_date=datetime.datetime(2018, 10, 10, 18, 48, 55, 651, tzinfo=datetime.timezone.utc), clock_time='735', game_detail_id='10160000-0264-94ab-68f5-9ff371a986a3', home_score=13, pat_play_id=0, play_description='D.Brien 30 yd. Field Goal (7-13, 3:04)', play_id=1989, quarter=3, score_type='F', scoring_play_id=1989, scoring_team=Team(created_date=datetime.datetime(2017, 5, 11, 22, 29, 59, 346, tzinfo=datetime.timezone.utc), id='10043430-2003-db19-5242-45507dacb399', last_modified_date=datetime.datetime(2019, 9, 3, 21, 35, 39, 708, tzinfo=datetime.timezone.utc), abbreviation='NYJ', city_state_region='New York Jets', conference='AMERICAN_FOOTBALL_CONFERENCE', division='AFC_EASTERN', full_name='New York Jets', league='NFL', market_zip_code=None, nick_name='Jets', season_value=2003, team_type='TEAM'), sequence=5, visitor_score=10), ScoringSummary(created_date=datetime.datetime(2018, 10, 10, 18, 48, 55, 653, tzinfo=datetime.timezone.utc), last_modified_date=datetime.datetime(2018, 10, 10, 18, 48, 55, 653, tzinfo=datetime.timezone.utc), clock_time='813', game_detail_id='10160000-0264-94ab-68f5-9ff371a986a3', home_score=13, pat_play_id=0, play_description='D.Brien 41 yd. Field Goal (5-19, 2:33)', play_id=2728, quarter=4, score_type='F', scoring_play_id=2728, scoring_team=Team(created_date=datetime.datetime(2017, 5, 11, 22, 29, 59, 346, tzinfo=datetime.timezone.utc), id='10043430-2003-db19-5242-45507dacb399', last_modified_date=datetime.datetime(2019, 9, 3, 21, 35, 39, 708, tzinfo=datetime.timezone.utc), abbreviation='NYJ', city_state_region='New York Jets', conference='AMERICAN_FOOTBALL_CONFERENCE', division='AFC_EASTERN', full_name='New York Jets', league='NFL', market_zip_code=None, nick_name='Jets', season_value=2003, team_type='TEAM'), sequence=6, visitor_score=13), ScoringSummary(created_date=datetime.datetime(2018, 10, 10, 18, 48, 55, 655, tzinfo=datetime.timezone.utc), last_modified_date=datetime.datetime(2018, 10, 10, 18, 48, 55, 655, tzinfo=datetime.timezone.utc), clock_time='005', game_detail_id='10160000-0264-94ab-68f5-9ff371a986a3', home_score=16, pat_play_id=0, play_description='J.Hall 33 yd. Field Goal (6-47, 2:11)', play_id=3209, quarter=4, score_type='F', scoring_play_id=3209, scoring_team=Team(created_date=datetime.datetime(2017, 5, 11, 22, 29, 58, 997, tzinfo=datetime.timezone.utc), id='10045110-2003-e52d-80c1-9cd5cb1825f0', last_modified_date=datetime.datetime(2019, 9, 3, 21, 35, 39, 708, tzinfo=datetime.timezone.utc), abbreviation='WAS', city_state_region='Washington', conference='NATIONAL_FOOTBALL_CONFERENCE', division='NFC_EASTERN', full_name='Washington Redskins', league='NFL', market_zip_code=None, nick_name='Redskins', season_value=2003, team_type='TEAM'), sequence=7, visitor_score=13)], live_home_team_game_stats=LiveTeamGameStats(created_date=datetime.datetime(2018, 10, 10, 18, 48, 55, 274, tzinfo=datetime.timezone.utc), last_modified_date=datetime.datetime(2018, 10, 10, 18, 48, 55, 274, tzinfo=datetime.timezone.utc), game_detail=GameDetail(created_date=datetime.datetime(2018, 10, 10, 18, 48, 55, 271, tzinfo=datetime.timezone.utc), id='10160000-0264-94ab-68f5-9ff371a986a3', last_modified_date=datetime.datetime(2018, 10, 10, 18, 48, 55, 271, tzinfo=datetime.timezone.utc), attendance='85420', back_judge='Greg Steed (12)', current_event_id=None, distance=10, down=0, field_judge='Scott Steenson (88)', file_number=243, game_clock='00:05', game_key='26494', game_refresh='N', game_time=datetime.datetime(2003, 9, 4, 9, 0, tzinfo=datetime.timezone.utc), goal_to_go=True, head_linesman='Paul Weidner (87)', home_head_coach='Steve Spurrier', home_points_overtime=None, home_points_overtime_total=0, home_points_q1=3, home_points_q2=10, home_points_q3=0, home_points_q4=3, home_points_total=16, home_timeouts_remaining=2, home_timeouts_used=1, line_judge='Ron Phares (10)', period=None, phase='FINAL', play_review=False, play_review_play_id=None, redzone=False, referee='Walt Coleman (65)', replay_official='Lawrence Hill', side_judge='Dave Wyant (16)', stadium='FedExField', start_time='21:00:00', umpire='Butch Hannah (40)', visitor_head_coach='Herman Edwards', visitor_points_overtime=None, visitor_points_overtime_total=0, visitor_points_q1=7, visitor_points_q2=0, visitor_points_q3=3, visitor_points_q4=3, visitor_points_total=13, visitor_timeouts_remaining=0, visitor_timeouts_used=3, yard_line=None, yards_to_go=0), team=Team(created_date=datetime.datetime(2017, 5, 11, 22, 29, 58, 997, tzinfo=datetime.timezone.utc), id='10045110-2003-e52d-80c1-9cd5cb1825f0', last_modified_date=datetime.datetime(2019, 9, 3, 21, 35, 39, 708, tzinfo=datetime.timezone.utc), abbreviation='WAS', city_state_region='Washington', conference='NATIONAL_FOOTBALL_CONFERENCE', division='NFC_EASTERN', full_name='Washington Redskins', league='NFL', market_zip_code=None, nick_name='Redskins', season_value=2003, team_type='TEAM'), team_game_stats=TeamGameStatsDetail(defensive_all_kick_blocked=None, defensive_assists=None, defensive_combine_tackles=None, defensive_fg_blocked=0, defensive_forced_fumble=None, defensive_interceptions=0, defensive_interceptions_avgyds=0.0, defensive_interceptions_fumble=None, defensive_interceptions_lgtd=None, defensive_interceptions_long=None, defensive_interceptions_tds=0, defensive_interceptions_yards=0, defensive_passes_defensed=None, defensive_punt_blocked=0, defensive_qb_hurries=None, defensive_sacks=None, defensive_safeties=0, defensive_solo_tackles=None, defensive_total_tackles=None, defensive_xp_blocked=0, down1st_attempted=None, down1st_fd_made=None, down2nd_attempted=None, down2nd_fd_made=None, down3rd_attempted=10, down3rd_fd_made=3, down4th_attempted=1, down4th_fd_made=1, extra_point_att1pt_nonkick_hist=None, extra_point_att2pt_nonkick=0, extra_point_good1pt_nonkick_hist=None, extra_point_good2pt_nonkick=0, firstdowns_pass=8, firstdowns_penalty=0, firstdowns_rush=9, firstdowns_total=17, fumbles_aborted_yds=None, fumbles_lost=1, fumbles_outbounds=None, fumbles_safety=None, fumbles_total=1, fumbles_touchback=None, games_dnp=None, games_inactive=None, games_played=None, games_started=None, games_sub=None, kick_returns=None, kick_returns20plus_yards_each=None, kick_returns40plus_yards_each=None, kick_returns_average_yards=None, kick_returns_fair_catches=None, kick_returns_fumbles=None, kick_returns_lgtd=None, kick_returns_long=None, kick_returns_touchdowns=None, kick_returns_yards=None, kicking_fg_att=3, kicking_fg_att_made1_to19=None, kicking_fg_att_made20_to29=None, kicking_fg_att_made30_to39=None, kicking_fg_att_made40_to49=None, kicking_fg_att_made50plus=None, kicking_fg_blk=0, kicking_fg_long=None, kicking_fg_made=3, kicking_fg_pct=100.0, kicking_xk_att=1, kicking_xk_blk=0, kicking_xk_made=1, kicking_xk_pct=100.0, kickoff_average_yards=None, kickoff_fair_caught=None, kickoff_onside=None, kickoff_onside_recovered=None, kickoff_outbounds=None, kickoff_returns=4, kickoff_returns_average_yards=22.25, kickoff_returns_touchdowns=0, kickoff_returns_yards=89, kickoff_total=5, kickoff_touchbacks=1, kickoff_touchbacks_percentage=20.0, kickoff_yards=None, opponent_fumble_lgtd=None, opponent_fumble_long=None, opponent_fumble_recovery=None, opponent_fumble_td=None, opponent_fumble_yds=None, passing20plus_yards_each=None, passing40plus_yards_each=None, passing_attempts=23, passing_average_yards=7.26, passing_completion_percentage=73.91, passing_completions=17, passing_first_down_percentage=34.78, passing_first_downs=8, passing_fumbles=None, passing_interception_percent=4.35, passing_interceptions=1, passing_lgtd=None, passing_long=None, passing_net_yards=167, passing_passer_rating=None, passing_sacked=None, passing_sacked_yards_lost=None, passing_touchdown_percentage=4.35, passing_touchdowns=1, passing_yards=167, penalties_total=6, penalties_yards_penalized=55, punt_returns=1, punt_returns20plus_yards_each=None, punt_returns40plus_yards_each=None, punt_returns_average_yards=10.0, punt_returns_fair_catches=None, punt_returns_fumbles=None, punt_returns_lgtd=None, punt_returns_long=None, punt_returns_touchdowns=0, punt_returns_yards=10, punting_average_yards=30.67, punting_blocked=0, punting_downed=None, punting_long=None, punting_net_average=22.0, punting_net_yardage=66, punting_number_returned=None, punting_out_of_bounds=None, punting_punts=3, punting_punts_fair_caught=None, punting_punts_inside20=None, punting_return_touchdowns=None, punting_return_yards=None, punting_total_punts_incl_blks=None, punting_touchbacks=0, punting_yards=92, receiving20plus_yards_each=None, receiving40plus_yards_each=None, receiving_average_yards=None, receiving_first_down_percent=None, receiving_first_downs=None, receiving_fumbles=None, receiving_lgtd=None, receiving_long=None, receiving_receptions=None, receiving_target=None, receiving_touchdowns=None, receiving_yards=None, receiving_yards_after_catch=None, record_losses=None, record_ties=None, record_win_pct=None, record_wins=None, redzone_attempts=None, redzone_success=None, rushing20plus_yards_each=None, rushing40plus_yards_each=None, rushing_attempts=34, rushing_average_yards=4.7, rushing_first_down_percentage=26.47, rushing_first_downs=9, rushing_fumbles=None, rushing_lgtd=None, rushing_long=None, rushing_touchdowns=0, rushing_yards=160, scrimmage_plays=61, scrimmage_yds=327, teammate_fumble_lgtd=None, teammate_fumble_long=None, teammate_fumble_recovery=None, teammate_fumble_td=None, teammate_fumble_yds=None, time_of_poss_seconds=2086, total_points_scored=16, touchdowns_blocked_fg_returns=None, touchdowns_blocked_punt_rtrns=None, touchdowns_defense=None, touchdowns_fumble_returns=None, touchdowns_interception_rtrns=0, touchdowns_kick_returns=None, touchdowns_ko_rec_in_endzone=None, touchdowns_missed_fg_returns=None, touchdowns_off_lateral_hist=None, touchdowns_offense=None, touchdowns_passing=1, touchdowns_punt_returns=0, touchdowns_receiving=None, touchdowns_rushing=0, touchdowns_special_teams=None, touchdowns_total=1)), live_visitor_team_game_stats=LiveTeamGameStats(created_date=datetime.datetime(2018, 10, 10, 18, 48, 55, 276, tzinfo=datetime.timezone.utc), last_modified_date=datetime.datetime(2018, 10, 10, 18, 48, 55, 276, tzinfo=datetime.timezone.utc), game_detail=GameDetail(created_date=datetime.datetime(2018, 10, 10, 18, 48, 55, 271, tzinfo=datetime.timezone.utc), id='10160000-0264-94ab-68f5-9ff371a986a3', last_modified_date=datetime.datetime(2018, 10, 10, 18, 48, 55, 271, tzinfo=datetime.timezone.utc), attendance='85420', back_judge='Greg Steed (12)', current_event_id=None, distance=10, down=0, field_judge='Scott Steenson (88)', file_number=243, game_clock='00:05', game_key='26494', game_refresh='N', game_time=datetime.datetime(2003, 9, 4, 9, 0, tzinfo=datetime.timezone.utc), goal_to_go=True, head_linesman='Paul Weidner (87)', home_head_coach='Steve Spurrier', home_points_overtime=None, home_points_overtime_total=0, home_points_q1=3, home_points_q2=10, home_points_q3=0, home_points_q4=3, home_points_total=16, home_timeouts_remaining=2, home_timeouts_used=1, line_judge='Ron Phares (10)', period=None, phase='FINAL', play_review=False, play_review_play_id=None, redzone=False, referee='Walt Coleman (65)', replay_official='Lawrence Hill', side_judge='Dave Wyant (16)', stadium='FedExField', start_time='21:00:00', umpire='Butch Hannah (40)', visitor_head_coach='Herman Edwards', visitor_points_overtime=None, visitor_points_overtime_total=0, visitor_points_q1=7, visitor_points_q2=0, visitor_points_q3=3, visitor_points_q4=3, visitor_points_total=13, visitor_timeouts_remaining=0, visitor_timeouts_used=3, yard_line=None, yards_to_go=0), team=Team(created_date=datetime.datetime(2017, 5, 11, 22, 29, 59, 346, tzinfo=datetime.timezone.utc), id='10043430-2003-db19-5242-45507dacb399', last_modified_date=datetime.datetime(2019, 9, 3, 21, 35, 39, 708, tzinfo=datetime.timezone.utc), abbreviation='NYJ', city_state_region='New York Jets', conference='AMERICAN_FOOTBALL_CONFERENCE', division='AFC_EASTERN', full_name='New York Jets', league='NFL', market_zip_code=None, nick_name='Jets', season_value=2003, team_type='TEAM'), team_game_stats=TeamGameStatsDetail(defensive_all_kick_blocked=None, defensive_assists=None, defensive_combine_tackles=None, defensive_fg_blocked=0, defensive_forced_fumble=None, defensive_interceptions=1, defensive_interceptions_avgyds=12.0, defensive_interceptions_fumble=None, defensive_interceptions_lgtd=None, defensive_interceptions_long=None, defensive_interceptions_tds=0, defensive_interceptions_yards=12, defensive_passes_defensed=None, defensive_punt_blocked=0, defensive_qb_hurries=None, defensive_sacks=None, defensive_safeties=0, defensive_solo_tackles=None, defensive_total_tackles=None, defensive_xp_blocked=0, down1st_attempted=None, down1st_fd_made=None, down2nd_attempted=None, down2nd_fd_made=None, down3rd_attempted=12, down3rd_fd_made=3, down4th_attempted=1, down4th_fd_made=1, extra_point_att1pt_nonkick_hist=None, extra_point_att2pt_nonkick=0, extra_point_good1pt_nonkick_hist=None, extra_point_good2pt_nonkick=0, firstdowns_pass=6, firstdowns_penalty=1, firstdowns_rush=4, firstdowns_total=11, fumbles_aborted_yds=None, fumbles_lost=0, fumbles_outbounds=None, fumbles_safety=None, fumbles_total=0, fumbles_touchback=None, games_dnp=None, games_inactive=None, games_played=None, games_started=None, games_sub=None, kick_returns=None, kick_returns20plus_yards_each=None, kick_returns40plus_yards_each=None, kick_returns_average_yards=None, kick_returns_fair_catches=None, kick_returns_fumbles=None, kick_returns_lgtd=None, kick_returns_long=None, kick_returns_touchdowns=None, kick_returns_yards=None, kicking_fg_att=2, kicking_fg_att_made1_to19=None, kicking_fg_att_made20_to29=None, kicking_fg_att_made30_to39=None, kicking_fg_att_made40_to49=None, kicking_fg_att_made50plus=None, kicking_fg_blk=0, kicking_fg_long=None, kicking_fg_made=2, kicking_fg_pct=100.0, kicking_xk_att=1, kicking_xk_blk=0, kicking_xk_made=1, kicking_xk_pct=100.0, kickoff_average_yards=None, kickoff_fair_caught=None, kickoff_onside=None, kickoff_onside_recovered=None, kickoff_outbounds=None, kickoff_returns=4, kickoff_returns_average_yards=22.5, kickoff_returns_touchdowns=0, kickoff_returns_yards=90, kickoff_total=4, kickoff_touchbacks=0, kickoff_touchbacks_percentage=0.0, kickoff_yards=None, opponent_fumble_lgtd=None, opponent_fumble_long=None, opponent_fumble_recovery=None, opponent_fumble_td=None, opponent_fumble_yds=None, passing20plus_yards_each=None, passing40plus_yards_each=None, passing_attempts=24, passing_average_yards=4.21, passing_completion_percentage=62.5, passing_completions=15, passing_first_down_percentage=25.0, passing_first_downs=6, passing_fumbles=None, passing_interception_percent=0.0, passing_interceptions=0, passing_lgtd=None, passing_long=None, passing_net_yards=101, passing_passer_rating=None, passing_sacked=None, passing_sacked_yards_lost=None, passing_touchdown_percentage=0.0, passing_touchdowns=0, passing_yards=101, penalties_total=1, penalties_yards_penalized=5, punt_returns=1, punt_returns20plus_yards_each=None, punt_returns40plus_yards_each=None, punt_returns_average_yards=26.0, punt_returns_fair_catches=None, punt_returns_fumbles=None, punt_returns_lgtd=None, punt_returns_long=None, punt_returns_touchdowns=0, punt_returns_yards=26, punting_average_yards=31.17, punting_blocked=0, punting_downed=None, punting_long=None, punting_net_average=29.5, punting_net_yardage=174, punting_number_returned=None, punting_out_of_bounds=None, punting_punts=6, punting_punts_fair_caught=None, punting_punts_inside20=None, punting_return_touchdowns=None, punting_return_yards=None, punting_total_punts_incl_blks=None, punting_touchbacks=0, punting_yards=187, receiving20plus_yards_each=None, receiving40plus_yards_each=None, receiving_average_yards=None, receiving_first_down_percent=None, receiving_first_downs=None, receiving_fumbles=None, receiving_lgtd=None, receiving_long=None, receiving_receptions=None, receiving_target=None, receiving_touchdowns=None, receiving_yards=None, receiving_yards_after_catch=None, record_losses=None, record_ties=None, record_win_pct=None, record_wins=None, redzone_attempts=None, redzone_success=None, rushing20plus_yards_each=None, rushing40plus_yards_each=None, rushing_attempts=22, rushing_average_yards=2.6, rushing_first_down_percentage=18.18, rushing_first_downs=4, rushing_fumbles=None, rushing_lgtd=None, rushing_long=None, rushing_touchdowns=1, rushing_yards=57, scrimmage_plays=47, scrimmage_yds=158, teammate_fumble_lgtd=None, teammate_fumble_long=None, teammate_fumble_recovery=None, teammate_fumble_td=None, teammate_fumble_yds=None, time_of_poss_seconds=1514, total_points_scored=13, touchdowns_blocked_fg_returns=None, touchdowns_blocked_punt_rtrns=None, touchdowns_defense=None, touchdowns_fumble_returns=None, touchdowns_interception_rtrns=0, touchdowns_kick_returns=None, touchdowns_ko_rec_in_endzone=None, touchdowns_missed_fg_returns=None, touchdowns_off_lateral_hist=None, touchdowns_offense=None, touchdowns_passing=0, touchdowns_punt_returns=0, touchdowns_receiving=None, touchdowns_rushing=1, touchdowns_special_teams=None, touchdowns_total=1)))"
      ]
     },
     "execution_count": 14,
     "metadata": {},
     "output_type": "execute_result"
    }
   ],
   "source": [
    "res"
   ]
  },
  {
   "cell_type": "code",
   "execution_count": null,
   "metadata": {},
   "outputs": [],
   "source": []
  }
 ],
 "metadata": {
  "kernelspec": {
   "display_name": "Python 3.9.13 ('venv': venv)",
   "language": "python",
   "name": "python3"
  },
  "language_info": {
   "codemirror_mode": {
    "name": "ipython",
    "version": 3
   },
   "file_extension": ".py",
   "mimetype": "text/x-python",
   "name": "python",
   "nbconvert_exporter": "python",
   "pygments_lexer": "ipython3",
   "version": "3.8.8"
  },
  "vscode": {
   "interpreter": {
    "hash": "5152e42275411dbc3e462fa879a369e4fe94d83bb9fc4a10bfcc3bbe9c4bbce5"
   }
  }
 },
 "nbformat": 4,
 "nbformat_minor": 2
}
